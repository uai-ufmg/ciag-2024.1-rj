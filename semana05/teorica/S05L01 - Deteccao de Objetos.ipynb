{
 "cells": [
  {
   "cell_type": "markdown",
   "metadata": {},
   "source": [
    "# Lista Teórica 01 - Detecção de objetos "
   ]
  },
  {
   "cell_type": "markdown",
   "metadata": {},
   "source": []
  },
  {
   "cell_type": "markdown",
   "metadata": {},
   "source": [
    "## 1 - Algoritmos de Detecção de Objetos"
   ]
  },
  {
   "cell_type": "markdown",
   "metadata": {},
   "source": [
    "**1)** Você está construindo um algoritmo de classificação e localização de objetos de 3 classes. As classes são: pedestre (c = 1), carro (c = 2), motocicleta (c = 3). Qual seria o rótulo aproximado da imagem a seguir? Considere a imagem como sendo um quadrado de lado igual a 1. \n",
    "\n",
    "![l1q1](./assets/l1q1.png)\n",
    "\n",
    "<details>\n",
    "<summary>Dica:</summary>\n",
    "Lembre que $ y = [p_c, b_x, b_y, b_h, b_w, c_1, c_2, c_3] $\n",
    "</details>"
   ]
  },
  {
   "cell_type": "markdown",
   "metadata": {},
   "source": []
  },
  {
   "cell_type": "markdown",
   "metadata": {},
   "source": [
    "---"
   ]
  },
  {
   "cell_type": "markdown",
   "metadata": {},
   "source": [
    "**2)** Continuando com o problema anterior, qual deve ser o rotulo y da imagem abaixo?\n",
    "\n",
    "![l1q2](./assets/l1q2.png)\n",
    "\n",
    "<details>\n",
    "<summary>Dica 1:</summary>\n",
    "Lembre que $y = [p_c, b_x, b_y, b_h, b_w, c_1, c_2, c_3]$\n",
    "</details>\n",
    "\n",
    "<details>\n",
    "<summary>Dica 2:</summary>\n",
    "Lembre-se de que `?` Significa `não se importa`, o que significa que a função de perda da rede neural não se importa com o que a rede neural fornece para esse componente da saída.\n",
    "</details>\n"
   ]
  },
  {
   "cell_type": "markdown",
   "metadata": {},
   "source": []
  },
  {
   "cell_type": "markdown",
   "metadata": {},
   "source": [
    "---"
   ]
  },
  {
   "cell_type": "markdown",
   "metadata": {},
   "source": [
    "**3)** O somatório dos erros quadráticos é uma possível função de perda que pode ser aplicada ao trabalhar com detecção de objetos. Escreva a fórmula de perda considerando os dois casos mostrados nos Exercícios 1 e 2, ou seja, quando na imagem existe um objeto que pertence a uma das classes e quando não há nenhum."
   ]
  },
  {
   "cell_type": "markdown",
   "metadata": {},
   "source": []
  },
  {
   "cell_type": "markdown",
   "metadata": {},
   "source": [
    "---"
   ]
  },
  {
   "cell_type": "markdown",
   "metadata": {},
   "source": [
    "**4)** Você está trabalhando em uma tarefa de automação de fábrica. Seu sistema verá uma lata de refrigerante descendo por uma correia transportadora, e você quer que ela tire uma foto e decida se (i) há uma lata de refrigerante na imagem e, em caso afirmativo, (ii) sua bounding box. Como a lata de refrigerante é redonda, a bounding box é sempre quadrada e o refrigerante sempre aparece com o mesmo tamanho na imagem. Há no máximo uma lata de refrigerante em cada imagem. Aqui estão algumas imagens típicas no seu conjunto de treinamento:\n",
    "\n",
    "![l1q4](./assets/l1q4.png)\n",
    "\n",
    "Qual é o conjunto mais apropriado de unidades de saída para sua rede neural? Considere a função de ativação que poderá ser utilizada nessa tarefa de classificação (i) e a dimensão do vetor de saída bem como o que cada posição representa."
   ]
  },
  {
   "cell_type": "markdown",
   "metadata": {},
   "source": []
  },
  {
   "cell_type": "markdown",
   "metadata": {},
   "source": [
    "---"
   ]
  },
  {
   "cell_type": "markdown",
   "metadata": {},
   "source": [
    "**5)** Ao treinar um dos sistemas de detecção de objetos, você precisa de um conjunto de treinamento que contenha muitas imagens do(s) objeto(s) que você deseja detectar. Além das imagens e o rótulo dos objetos, explique quais outras informações precisam ser fornecidas para o treinamento supervisionado da rede de detecção de objetos."
   ]
  },
  {
   "cell_type": "markdown",
   "metadata": {},
   "source": []
  },
  {
   "cell_type": "markdown",
   "metadata": {},
   "source": [
    "---"
   ]
  },
  {
   "cell_type": "markdown",
   "metadata": {},
   "source": [
    "## 2 - Janelas Deslizantes"
   ]
  },
  {
   "cell_type": "markdown",
   "metadata": {},
   "source": [
    "**6)** Considere um volume $2 \\times 2 \\times 2$, onde $w_{ijc}$ é a célula $(i,j)$ do canal $c$, 2 filtros $2 \\times 2$, onde $F_{ijck}$ é o valor de cada célula (com $k$ como identificador do filtro), e uma função de ativação $g(x)$. Encontre a forma fechada da saída dessa camada após a aplicação dos filtros. Explique como essa camada convolucional é equivalente à uma camada Fully Connected (indique o que seriam os nós, os pesos e suas dimensões)."
   ]
  },
  {
   "cell_type": "markdown",
   "metadata": {},
   "source": []
  },
  {
   "cell_type": "markdown",
   "metadata": {},
   "source": [
    "---"
   ]
  },
  {
   "cell_type": "markdown",
   "metadata": {},
   "source": [
    "## 3 - Non-Max Suppression"
   ]
  },
  {
   "cell_type": "markdown",
   "metadata": {},
   "source": [
    "**7)** Qual é o valor da Interseção sobre a União (IoU) entre estas duas caixas? A caixa superior esquerda é 2x2 e a caixa inferior direita é 2x3. A região sobreposta é 1x1.\n",
    "\n",
    "![l1q7](./assets/l1q7.png)"
   ]
  },
  {
   "cell_type": "markdown",
   "metadata": {},
   "source": []
  },
  {
   "cell_type": "markdown",
   "metadata": {},
   "source": [
    "---"
   ]
  },
  {
   "cell_type": "markdown",
   "metadata": {},
   "source": [
    "**8)** Suponha que você execute a non-max suppresion nas caixas previstas na imagem abaixo. Os parâmetros usados são: caixas com probabilidade $ \\leq $ 0.4 são descartadas, e o limiar de IoU para decidir se duas caixas se sobrepõem é 0.5. Indique quantas e quais caixas permanecerão. \n",
    "\n",
    "![l1q8](./assets/l1q8.png)"
   ]
  },
  {
   "cell_type": "markdown",
   "metadata": {},
   "source": []
  },
  {
   "cell_type": "markdown",
   "metadata": {},
   "source": [
    "---"
   ]
  },
  {
   "cell_type": "markdown",
   "metadata": {},
   "source": [
    "**9)** Repita o exercício anterior com probabilidade de descarte igual a 0.6."
   ]
  },
  {
   "cell_type": "markdown",
   "metadata": {},
   "source": []
  },
  {
   "cell_type": "markdown",
   "metadata": {},
   "source": [
    "---"
   ]
  },
  {
   "cell_type": "markdown",
   "metadata": {},
   "source": [
    "**10)** Cite 2 situações nas quais o  algoritmo de non-max suppression é falho."
   ]
  },
  {
   "cell_type": "markdown",
   "metadata": {},
   "source": []
  }
 ],
 "metadata": {
  "language_info": {
   "name": "python"
  }
 },
 "nbformat": 4,
 "nbformat_minor": 2
}
