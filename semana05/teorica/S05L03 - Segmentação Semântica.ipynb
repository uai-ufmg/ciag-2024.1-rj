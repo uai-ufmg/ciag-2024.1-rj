{
 "cells": [
  {
   "cell_type": "markdown",
   "metadata": {},
   "source": [
    "# Lista Teórica 03 - Segmentação Semântica"
   ]
  },
  {
   "cell_type": "markdown",
   "metadata": {},
   "source": []
  },
  {
   "cell_type": "markdown",
   "metadata": {},
   "source": [
    "## 1. Segmentação semântica"
   ]
  },
  {
   "cell_type": "markdown",
   "metadata": {},
   "source": [
    "**1)** O que é segmentação semântica?"
   ]
  },
  {
   "cell_type": "markdown",
   "metadata": {},
   "source": []
  },
  {
   "cell_type": "markdown",
   "metadata": {},
   "source": [
    "---"
   ]
  },
  {
   "cell_type": "markdown",
   "metadata": {},
   "source": [
    "**2)** Por que é dito que a tarefa de segmentação semântica é uma tarefa de predição densa enquanto a detecção de objetos é uma tarefa de predição esparsa?"
   ]
  },
  {
   "cell_type": "markdown",
   "metadata": {},
   "source": []
  },
  {
   "cell_type": "markdown",
   "metadata": {},
   "source": [
    "---"
   ]
  },
  {
   "cell_type": "markdown",
   "metadata": {},
   "source": [
    "**3)** Quais são as diferenças entre as tarefas de: classificação de imagens, detecção de objetos, segmentação semântica e segmentação de instâncias?"
   ]
  },
  {
   "cell_type": "markdown",
   "metadata": {},
   "source": []
  },
  {
   "cell_type": "markdown",
   "metadata": {},
   "source": [
    "---"
   ]
  },
  {
   "cell_type": "markdown",
   "metadata": {},
   "source": [
    "**4)** Quais são algumas aplicações da segmentação semântica?"
   ]
  },
  {
   "cell_type": "markdown",
   "metadata": {},
   "source": []
  },
  {
   "cell_type": "markdown",
   "metadata": {},
   "source": [
    "---"
   ]
  },
  {
   "cell_type": "markdown",
   "metadata": {},
   "source": [
    "## 2. Arquiteturas"
   ]
  },
  {
   "cell_type": "markdown",
   "metadata": {},
   "source": [
    "**5)** Considere uma arquitetura treinada para fazer segmentação semântica em 2 classes. Explique como é possível criar um mapa de probabilidades onde cada pixel na sua imagem de saída é uma representação da probabilidade do pixel pertencer a uma determinada classe."
   ]
  },
  {
   "cell_type": "markdown",
   "metadata": {},
   "source": []
  },
  {
   "cell_type": "markdown",
   "metadata": {},
   "source": [
    "---"
   ]
  },
  {
   "cell_type": "markdown",
   "metadata": {},
   "source": [
    "**6)** Descreva como é possível transformar uma arquitetura de classificação de imagens para resolver um problema de de segmentação semântica. \n",
    "Qual é uma possível desvantagem dessa abordagem?"
   ]
  },
  {
   "cell_type": "markdown",
   "metadata": {},
   "source": []
  },
  {
   "cell_type": "markdown",
   "metadata": {},
   "source": [
    "---"
   ]
  },
  {
   "cell_type": "markdown",
   "metadata": {},
   "source": [
    "**7)** Por que uma rede neural *Fully Connected* não funciona em tarefas de segmentação semântica/de instância?"
   ]
  },
  {
   "cell_type": "markdown",
   "metadata": {},
   "source": []
  },
  {
   "cell_type": "markdown",
   "metadata": {},
   "source": [
    "---"
   ]
  },
  {
   "cell_type": "markdown",
   "metadata": {},
   "source": [
    "**8)** Quais são algumas arquiteturas comuns usadas em modelos de segmentação semântica?"
   ]
  },
  {
   "cell_type": "markdown",
   "metadata": {},
   "source": []
  },
  {
   "cell_type": "markdown",
   "metadata": {},
   "source": [
    "---"
   ]
  },
  {
   "cell_type": "markdown",
   "metadata": {},
   "source": [
    "**9)** Em uma *Fully Convolutional Network*, qual é o objetivo do *downsampling* e *upsampling*?"
   ]
  },
  {
   "cell_type": "markdown",
   "metadata": {},
   "source": []
  },
  {
   "cell_type": "markdown",
   "metadata": {},
   "source": [
    "----"
   ]
  },
  {
   "cell_type": "markdown",
   "metadata": {},
   "source": [
    "**10)** Considere o seguinte volume de entrada:\n",
    "$$\n",
    "\\begin{bmatrix}\n",
    "    5 & 6 \\\\\n",
    "    3 & 2\n",
    "\\end{bmatrix}{}\n",
    "$$\n",
    "\n",
    "Faça o *upsampling* do volume para uma saída $4 \\times 4$ de acordo com cada um dos métodos:"
   ]
  },
  {
   "cell_type": "markdown",
   "metadata": {},
   "source": [
    "**a.** Nearest Neighbor"
   ]
  },
  {
   "cell_type": "markdown",
   "metadata": {},
   "source": [
    "$$\n",
    "\\begin{bmatrix}\n",
    "    ? & ? & ? & ? \\\\\n",
    "    ? & ? & ? & ? \\\\\n",
    "    ? & ? & ? & ? \\\\\n",
    "    ? & ? & ? & ? \n",
    "\\end{bmatrix}{}\n",
    "$$"
   ]
  },
  {
   "cell_type": "markdown",
   "metadata": {},
   "source": [
    "**b.** *Bed of Nails* (\"Cama de Pregos\")"
   ]
  },
  {
   "cell_type": "markdown",
   "metadata": {},
   "source": [
    "$$\n",
    "\\begin{bmatrix}\n",
    "    ? & ? & ? & ? \\\\\n",
    "    ? & ? & ? & ? \\\\\n",
    "    ? & ? & ? & ? \\\\\n",
    "    ? & ? & ? & ? \n",
    "\\end{bmatrix}{}\n",
    "$$"
   ]
  },
  {
   "cell_type": "markdown",
   "metadata": {},
   "source": [
    "**c.** *Max unpooling*, considere que o max pooling correspondente foi feito na seguinte matriz: \n",
    "    \n",
    "$$\n",
    "\\begin{bmatrix}\n",
    "3 & 1 & 1 & 4\\\\\n",
    "2 & 1 & 3 & 2\\\\\n",
    "3 & 7 & 1 & 7\\\\\n",
    "3 & 2 & 2 & 4\\\\\n",
    "\\end{bmatrix}{}\n",
    "$$"
   ]
  },
  {
   "cell_type": "markdown",
   "metadata": {},
   "source": [
    "$$\n",
    "\\begin{bmatrix}\n",
    "    ? & ? & ? & ? \\\\\n",
    "    ? & ? & ? & ? \\\\\n",
    "    ? & ? & ? & ? \\\\\n",
    "    ? & ? & ? & ? \n",
    "\\end{bmatrix}{}\n",
    "$$"
   ]
  },
  {
   "cell_type": "markdown",
   "metadata": {},
   "source": [
    "**d.** Faça o upsampling para uma saída $3 \\times 3$ através da convolução transposta com *padding*=0 e *stride*=1, considerando o seguinte filtro: \n",
    "$$\n",
    "\\begin{bmatrix}\n",
    "0 & 1 \\\\\n",
    "2 & 3\n",
    "\\end{bmatrix}{}\n",
    "$$"
   ]
  },
  {
   "cell_type": "markdown",
   "metadata": {},
   "source": [
    "$$\n",
    "\\begin{bmatrix}\n",
    "    ? & ? & ? \\\\\n",
    "    ? & ? & ? \\\\\n",
    "    ? & ? & ?  \n",
    "\\end{bmatrix}{}\n",
    "$$"
   ]
  }
 ],
 "metadata": {
  "language_info": {
   "name": "python"
  }
 },
 "nbformat": 4,
 "nbformat_minor": 2
}
