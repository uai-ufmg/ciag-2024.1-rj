{
 "cells": [
  {
   "cell_type": "markdown",
   "metadata": {},
   "source": [
    "# Lista Teórica 04 - Pipeline de Visão"
   ]
  },
  {
   "cell_type": "markdown",
   "metadata": {},
   "source": []
  },
  {
   "cell_type": "markdown",
   "metadata": {},
   "source": [
    "## 1. Pré-processamento"
   ]
  },
  {
   "cell_type": "markdown",
   "metadata": {},
   "source": [
    "**1)** Por que é importante identificar e tratar outliers antes de treinar um modelo?"
   ]
  },
  {
   "cell_type": "markdown",
   "metadata": {},
   "source": []
  },
  {
   "cell_type": "markdown",
   "metadata": {},
   "source": [
    "---"
   ]
  },
  {
   "cell_type": "markdown",
   "metadata": {},
   "source": [
    "**2)** Em que situações faz sentido converter imagens coloridas para escala de cinza?"
   ]
  },
  {
   "cell_type": "markdown",
   "metadata": {},
   "source": []
  },
  {
   "cell_type": "markdown",
   "metadata": {},
   "source": [
    "---"
   ]
  },
  {
   "cell_type": "markdown",
   "metadata": {},
   "source": [
    "**3)** Quais técnicas podem ser utilizadas para remover ruídos de imagens?"
   ]
  },
  {
   "cell_type": "markdown",
   "metadata": {},
   "source": []
  },
  {
   "cell_type": "markdown",
   "metadata": {},
   "source": [
    "---"
   ]
  },
  {
   "cell_type": "markdown",
   "metadata": {},
   "source": [
    "**4)** Quando a remoção de fundo de uma imagem é necessária? Como ela pode ser feita?"
   ]
  },
  {
   "cell_type": "markdown",
   "metadata": {},
   "source": []
  },
  {
   "cell_type": "markdown",
   "metadata": {},
   "source": [
    "---"
   ]
  },
  {
   "cell_type": "markdown",
   "metadata": {},
   "source": [
    "## 2. Preparação do Dataset"
   ]
  },
  {
   "cell_type": "markdown",
   "metadata": {},
   "source": [
    "**5)** Qual o propósito e benefícios de realizar aumento de dados?"
   ]
  },
  {
   "cell_type": "markdown",
   "metadata": {},
   "source": []
  },
  {
   "cell_type": "markdown",
   "metadata": {},
   "source": [
    "---"
   ]
  },
  {
   "cell_type": "markdown",
   "metadata": {},
   "source": [
    "**6)**  Liste e explique pelo menos três técnicas de data augmentation para imagens."
   ]
  },
  {
   "cell_type": "markdown",
   "metadata": {},
   "source": []
  },
  {
   "cell_type": "markdown",
   "metadata": {},
   "source": [
    "---"
   ]
  },
  {
   "cell_type": "markdown",
   "metadata": {},
   "source": [
    "**7)** Como identificar e corrigir problemas de classes desbalanceadas em um dataset?"
   ]
  },
  {
   "cell_type": "markdown",
   "metadata": {},
   "source": []
  },
  {
   "cell_type": "markdown",
   "metadata": {},
   "source": [
    "---"
   ]
  },
  {
   "cell_type": "markdown",
   "metadata": {},
   "source": [
    "**8)** Explique as diferenças entre os conjuntos de treino, validação e teste. Qual a proporção ideal para esses conjuntos?"
   ]
  },
  {
   "cell_type": "markdown",
   "metadata": {},
   "source": []
  },
  {
   "cell_type": "markdown",
   "metadata": {},
   "source": [
    "----"
   ]
  },
  {
   "cell_type": "markdown",
   "metadata": {},
   "source": [
    "## 3. Modelagem e Treinamento"
   ]
  },
  {
   "cell_type": "markdown",
   "metadata": {},
   "source": [
    "**9)** Qual a vantagem das CNNs em comparação com técnicas tradicionais de extração de features?"
   ]
  },
  {
   "cell_type": "markdown",
   "metadata": {},
   "source": []
  },
  {
   "cell_type": "markdown",
   "metadata": {},
   "source": [
    "---"
   ]
  },
  {
   "cell_type": "markdown",
   "metadata": {},
   "source": [
    "**10)** Explique a importância de escolher a learning rate corretamente."
   ]
  },
  {
   "cell_type": "markdown",
   "metadata": {},
   "source": []
  },
  {
   "cell_type": "markdown",
   "metadata": {},
   "source": [
    "--- "
   ]
  },
  {
   "cell_type": "markdown",
   "metadata": {},
   "source": [
    "## 4. Avaliação"
   ]
  },
  {
   "cell_type": "markdown",
   "metadata": {},
   "source": [
    "**11)** Considere o seguinte cenário: Você treinou um  modelo para classificar três tipos de rochas (arenito, calcário, e shale). Os resultados para um conjunto de teste são os seguintes:\n",
    "\n",
    "- Arenito: 80 amostras corretas, 10 incorretas.\n",
    "- Calcário: 70 amostras corretas, 20 incorretas.\n",
    "- Shale: 60 amostras corretas, 30 incorretas.\n",
    "\n",
    "Amostras incorretas são atribuídas igualmente às outras classes.\n",
    "\n",
    "Calcule a acurácia do modelo, e precisão, recall e F1-score para cada classe.\n",
    "\n",
    "<details>\n",
    "<summary>Dica:</summary>\n",
    "\n",
    "- **Acurácia**: $ \\dfrac{Acertos}{Total} $\n",
    "- **Precisão**: $ \\dfrac{TP}{TP+FP} $\n",
    "- **Recall**: $ \\dfrac{TP}{TP+FN} $\n",
    "- **F1-score**: $ 2\\times\\dfrac{Precisão \\times Recall}{Precisão + Recall} $\n",
    "\n",
    "<details>\n",
    "<summary>Onde para cada classe:</summary>\n",
    "\n",
    "- **TP**: Acertos da classe.\n",
    "- **FP**: Erros atribuídos à classe.\n",
    "- **FN**: Erros de outras classes que deveriam ser atribuídos à classe.\n",
    "\n",
    "</details>\n",
    "</details>"
   ]
  },
  {
   "cell_type": "markdown",
   "metadata": {},
   "source": []
  },
  {
   "cell_type": "markdown",
   "metadata": {},
   "source": [
    "---"
   ]
  },
  {
   "cell_type": "markdown",
   "metadata": {},
   "source": [
    "**12)** Explique por que o F1-score é uma métrica mais informativa do que a acurácia em cenários onde há desbalanceamento de classes."
   ]
  },
  {
   "cell_type": "markdown",
   "metadata": {},
   "source": []
  },
  {
   "cell_type": "markdown",
   "metadata": {},
   "source": [
    "---"
   ]
  },
  {
   "cell_type": "markdown",
   "metadata": {},
   "source": [
    "**13)** Dado o seguinte conjunto de predições e rótulos reais para três classes (Arenito, Calcário, Shale):\n",
    "\n",
    "- Predições: [Arenito, Arenito, Calcário, Shale, Calcário, Shale, Shale, Arenito, Calcário]\n",
    "- Rótulos reais: [Arenito, Calcário, Calcário, Shale, Arenito, Shale, Calcário, Arenito, Shale]\n",
    "\n",
    "Construa a matriz de confusão e identifique os padrões de erro."
   ]
  },
  {
   "cell_type": "markdown",
   "metadata": {},
   "source": [
    "| Real \\ Pred  | Arenito | Calcário | Shale |\n",
    "|---           |---      |---       |---    |\n",
    "| **Arenito**  |         |          |       |\n",
    "| **Calcário** |         |          |       |\n",
    "| **Shale**    |         |          |       |"
   ]
  },
  {
   "cell_type": "markdown",
   "metadata": {},
   "source": [
    "---"
   ]
  },
  {
   "cell_type": "markdown",
   "metadata": {},
   "source": [
    "**14)** A partir da matriz de confusão construída no exercício anterior:\n",
    "\n",
    "- Qual classe é mais confundida?\n",
    "- O que isso pode indicar sobre o modelo ou os dados?"
   ]
  },
  {
   "cell_type": "markdown",
   "metadata": {},
   "source": []
  },
  {
   "cell_type": "markdown",
   "metadata": {},
   "source": [
    "---"
   ]
  },
  {
   "cell_type": "markdown",
   "metadata": {},
   "source": [
    "**15)** Explique o conceito de validação cruzada k-fold e como ela ajuda a avaliar a robustez do modelo."
   ]
  },
  {
   "cell_type": "markdown",
   "metadata": {},
   "source": []
  },
  {
   "cell_type": "markdown",
   "metadata": {},
   "source": [
    "---"
   ]
  },
  {
   "cell_type": "markdown",
   "metadata": {},
   "source": [
    "## Tarefa: Classificação de Minerais em Imagens Geológicas"
   ]
  },
  {
   "cell_type": "markdown",
   "metadata": {},
   "source": [
    "Você recebeu um conjunto de dados geológicos contendo imagens de amostras de rochas. Sua tarefa é propor um pipeline completo de solução para classificar minerais específicos presentes nas amostras, ou seja, atribuir um único rótulo a cada imagem. O pipeline deve considerar **pré-processamento**, **preparação do dataset**, **treinamento de um modelo**, e **avaliação**."
   ]
  },
  {
   "cell_type": "markdown",
   "metadata": {},
   "source": []
  }
 ],
 "metadata": {
  "language_info": {
   "name": "python"
  }
 },
 "nbformat": 4,
 "nbformat_minor": 2
}
