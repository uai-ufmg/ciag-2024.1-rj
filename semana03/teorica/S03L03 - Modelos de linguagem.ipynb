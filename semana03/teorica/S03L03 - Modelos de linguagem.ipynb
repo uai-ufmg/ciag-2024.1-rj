{
 "cells": [
  {
   "cell_type": "markdown",
   "metadata": {
    "id": "uL024U_Co35T"
   },
   "source": [
    "# Lista Teórica 03 - Modelos de Linguagem"
   ]
  },
  {
   "cell_type": "markdown",
   "metadata": {
    "id": "m_0rf1URpiqZ"
   },
   "source": [
    "### Exercício 1"
   ]
  },
  {
   "cell_type": "markdown",
   "metadata": {
    "id": "6TdO0j3HpQBN"
   },
   "source": [
    "Considere o seguinte exemplo:\n",
    "\n",
    "Dados de treino:\n",
    "\n",
    "```\n",
    "<s> I am Sam </s>\n",
    "<s> Sam I am </s>\n",
    "<s> Sam I like </s>\n",
    "<s> Sam I do like </s>\n",
    "<s> do I like Sam </s>\n",
    "```\n",
    "\n",
    "Imagine que estamos treinando um modelo de linguagem bi-grama com os\n",
    "dados de treino mostrados acima."
   ]
  },
  {
   "cell_type": "markdown",
   "metadata": {
    "id": "wUmvloxKqz84"
   },
   "source": [
    "Qual seria a próxima palavra mais provável de ser predita pelo modelo\n",
    "para cada uma das sequências de palavras abaixo?\n",
    "\n",
    "a)   `<s> Sam ...`\n",
    "\n",
    "b)   `<s> Sam I do ...`\n",
    "\n",
    "c)   `<s> Sam I am Sam ...`\n",
    "\n",
    "d)   `<s> do I like ...`\n",
    "\n"
   ]
  },
  {
   "cell_type": "markdown",
   "metadata": {
    "id": "fWHCtMIkrb9V"
   },
   "source": [
    "Observe essas três sentenças:\n",
    "\n",
    "a) `<s> Sam I do I like </s>`\n",
    "\n",
    "b) `<s> Sam I am </s>`\n",
    "\n",
    "c) `<s> I do like Sam I am </s>.`\n",
    "\n",
    "Qual delas é mais provável de acordo com esse modelo?"
   ]
  },
  {
   "cell_type": "markdown",
   "metadata": {
    "id": "QBkTZA7Brr07"
   },
   "source": [
    "### Exercício 2"
   ]
  },
  {
   "cell_type": "markdown",
   "metadata": {
    "id": "aW60qYKOruuG"
   },
   "source": [
    "Cite as principais desvantagens dos modelos n-grama e possíveis soluções\n",
    "para esses problemas."
   ]
  },
  {
   "cell_type": "markdown",
   "metadata": {
    "id": "b1HsG0Garywc"
   },
   "source": [
    "### Exercício 3"
   ]
  },
  {
   "cell_type": "markdown",
   "metadata": {
    "id": "oIkqJN9Jr1bz"
   },
   "source": [
    "Descreve brevemente como funcionam os modelos neurais de linguagem e\n",
    "o que são representações *one-hot* e os *embeddings*."
   ]
  }
 ],
 "metadata": {
  "colab": {
   "authorship_tag": "ABX9TyNCVeQzSzz+Iyszj3FGMntU",
   "provenance": []
  },
  "kernelspec": {
   "display_name": "Python 3 (ipykernel)",
   "language": "python",
   "name": "python3"
  },
  "language_info": {
   "codemirror_mode": {
    "name": "ipython",
    "version": 3
   },
   "file_extension": ".py",
   "mimetype": "text/x-python",
   "name": "python",
   "nbconvert_exporter": "python",
   "pygments_lexer": "ipython3",
   "version": "3.10.12"
  }
 },
 "nbformat": 4,
 "nbformat_minor": 4
}
