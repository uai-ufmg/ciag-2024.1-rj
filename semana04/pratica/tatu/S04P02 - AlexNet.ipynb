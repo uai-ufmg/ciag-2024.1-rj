{
 "cells": [
  {
   "cell_type": "markdown",
   "metadata": {
    "id": "QRV_7PdLIXhh"
   },
   "source": [
    "# Redes Neurais Convolucionais\n",
    "\n",
    "Vamos agora implementar a rede [AlexNet](https://papers.nips.cc/paper/4824-imagenet-classification-with-deep-convolutional-neural-networks.pdf), uma das redes que trouxeram todo esse interesse para a área de *deep learning*.\n",
    "\n",
    "\n",
    "\n"
   ]
  },
  {
   "cell_type": "markdown",
   "metadata": {
    "id": "Rq0pQphFpHAp"
   },
   "source": [
    "## Configuração do ambiente"
   ]
  },
  {
   "cell_type": "code",
   "execution_count": null,
   "metadata": {
    "id": "EAgvY5eBIc1s"
   },
   "outputs": [],
   "source": [
    "import time, os, sys, numpy as np\n",
    "import torch\n",
    "import torchvision\n",
    "import torch.nn as nn\n",
    "import torch.nn.functional as F\n",
    "\n",
    "from torch import optim\n",
    "from torchinfo import summary\n",
    "\n",
    "import time, os, sys, numpy as np"
   ]
  },
  {
   "cell_type": "code",
   "execution_count": null,
   "metadata": {
    "id": "0IpemRJFpC_6"
   },
   "outputs": [],
   "source": [
    "device = torch.device('cuda' if torch.cuda.is_available() else 'cpu')\n",
    "n = torch.cuda.device_count()\n",
    "devices_ids= list(range(n))"
   ]
  },
  {
   "cell_type": "markdown",
   "metadata": {
    "id": "JqnTt5hppRSs"
   },
   "source": [
    "## Carregamento da base da dados\n",
    "\n",
    "A função `load_data_cifar10` carrega e prepara o dataset CIFAR-10 para treinamento e teste.\n",
    "\n",
    "CIFAR-10 é um conjunto de dados amplamente utilizado em tarefas de visão computacional e aprendizado de máquina, especialmente em problemas de classificação de imagens. Ele consiste em imagens coloridas de dimensão 32 x 32, separadas em 10 classes."
   ]
  },
  {
   "cell_type": "code",
   "execution_count": null,
   "metadata": {
    "id": "Xru0TyJXIjGp"
   },
   "outputs": [],
   "source": [
    "def load_data_cifar10(batch_size, resize=None, root='/pgeoprj2/ciag2024/dados/'):\n",
    "    root = os.path.expanduser(root)\n",
    "\n",
    "    transformer = []\n",
    "    if resize:\n",
    "        transformer += [torchvision.transforms.Resize(resize)]\n",
    "    transformer += [torchvision.transforms.ToTensor()]\n",
    "    transformer = torchvision.transforms.Compose(transformer)\n",
    "\n",
    "    cifar10_train = torchvision.datasets.CIFAR10(root=root, train=True, transform=transformer)\n",
    "    cifar10_test = torchvision.datasets.CIFAR10(root=root, train=False, transform=transformer)\n",
    "\n",
    "    num_workers = 0 if sys.platform.startswith('win32') else 4\n",
    "\n",
    "    train_iter = torch.utils.data.DataLoader(cifar10_train,\n",
    "                                            batch_size, shuffle=True,\n",
    "                                            num_workers=num_workers)\n",
    "\n",
    "    test_iter = torch.utils.data.DataLoader(cifar10_test,\n",
    "                                            batch_size, shuffle=False,\n",
    "                                            num_workers=num_workers)\n",
    "    return train_iter, test_iter"
   ]
  },
  {
   "cell_type": "markdown",
   "metadata": {
    "id": "kLZGDbtqrYMB"
   },
   "source": [
    "## Funções auxiliares\n",
    "\n",
    "* `evaluate_accuracy` calcula a acurácia de um modelo em um dataset.\n",
    "\n",
    "* `train_validate` implemneta o treinamento e validação de uma rede."
   ]
  },
  {
   "cell_type": "code",
   "execution_count": null,
   "metadata": {
    "id": "89bfFmmOrz31"
   },
   "outputs": [],
   "source": [
    "def evaluate_accuracy(data_iter, net, loss):\n",
    "    acc_sum, n, l = torch.Tensor([0]), 0, 0\n",
    "    net.eval()\n",
    "    with torch.no_grad():\n",
    "\n",
    "      for X, y in data_iter:\n",
    "          X, y = X.to(device), y.to(device)\n",
    "          y_hat = net(X)\n",
    "          l += loss(y_hat, y).sum()\n",
    "          acc_sum += (y_hat.argmax(axis=1) == y).sum().item()\n",
    "          n += y.size()[0]\n",
    "\n",
    "    return acc_sum.item() / n, l.item() / len(data_iter)\n",
    "\n",
    "def train_validate(net, train_iter, test_iter, batch_size, trainer, loss, num_epochs):\n",
    "    print('training on', device)\n",
    "\n",
    "    for epoch in range(num_epochs):\n",
    "        net.train()\n",
    "        train_l_sum, train_acc_sum, n, start = 0.0, 0.0, 0, time.time()\n",
    "\n",
    "        for X, y in train_iter:\n",
    "            X, y = X.to(device), y.to(device)\n",
    "            y_hat = net(X)\n",
    "\n",
    "            trainer.zero_grad()\n",
    "            l = loss(y_hat, y).sum()\n",
    "\n",
    "            l.backward()\n",
    "            trainer.step()\n",
    "\n",
    "            train_l_sum += l.item()\n",
    "            train_acc_sum += (y_hat.argmax(axis=1) == y).sum().item()\n",
    "            n += y.size()[0]\n",
    "\n",
    "        test_acc, test_loss = evaluate_accuracy(test_iter, net, loss)\n",
    "\n",
    "        print('epoch %d, train loss %.4f, train acc %.3f, test loss %.4f, '\n",
    "              'test acc %.3f, time %.1f sec'\n",
    "              % (epoch + 1, train_l_sum / len(train_iter), train_acc_sum / n, test_loss,\n",
    "                 test_acc, time.time() - start))"
   ]
  },
  {
   "cell_type": "markdown",
   "metadata": {
    "id": "TO6YizcSIpiH"
   },
   "source": [
    "## AlexNet\n",
    "\n",
    "Agora já temos todo o conhecimento necessário para implementar nossa primeira arquitetura moderna.\n",
    "\n",
    "Vamos implementar a [AlexNet](https://papers.nips.cc/paper/4824-imagenet-classification-with-deep-convolutional-neural-networks.pdf), uma das arquiteturas mais famosas dessa nova onda de rede neurais.\n",
    "\n",
    "<p align=\"center\">\n",
    "  <img width=700 src=\"https://www.researchgate.net/profile/Jaime_Gallego2/publication/318168077/figure/fig1/AS:578190894927872@1514862859810/AlexNet-CNN-architecture-layers.png\">\n",
    "</p>\n",
    "\n",
    "<p align=\"center\">\n",
    "  <img width=700 src=\"https://miro.medium.com/max/700/1*vXBvV_Unz3JAxytc5iSeoQ.png\">\n",
    "</p>"
   ]
  },
  {
   "cell_type": "markdown",
   "metadata": {
    "id": "YZ6hQULmtmLw"
   },
   "source": [
    "### Atividade\n",
    "\n",
    "Implementa sua rede neural baseada na AlexNet.\n",
    "\n",
    "Lembre-se que, após cada camada de convolução e linear, há uma ativação não linear ReLU.\n",
    "\n",
    "**Dica:** utilize blocos *sequential* para diminuir a complexidade da função de forward."
   ]
  },
  {
   "cell_type": "code",
   "execution_count": null,
   "metadata": {
    "id": "LMWfNHpvIoRR"
   },
   "outputs": [],
   "source": [
    "class AlexNet(nn.Module):\n",
    "    def __init__(self, input_channels, classes=10, **kwargs):\n",
    "        super(AlexNet, self).__init__(**kwargs)\n",
    "        # Implemente aqui a arquitetura da rede\n",
    "\n",
    "    def forward(self, x):\n",
    "        # Implemente aqui a função de forward\n",
    "        return out"
   ]
  },
  {
   "cell_type": "code",
   "execution_count": null,
   "metadata": {
    "id": "sLoicZCCuSMc"
   },
   "outputs": [],
   "source": [
    "num_epochs, lr, batch_size, weight_decay = 20, 0.001, 100, 0.0001\n",
    "\n",
    "net = # Instancie a rede (lembre-se de passar os parâmetros input_channels e classes)\n",
    "net.to(device)\n",
    "print(summary(net,(batch_size, 3, 227, 227)))\n",
    "\n",
    "loss = # Defina a função de custo\n",
    "\n",
    "train_iter, test_iter = load_data_cifar10(batch_size, resize=227)\n",
    "\n",
    "trainer = optim.Adam(net.parameters(), lr=lr, weight_decay=weight_decay)\n",
    "\n",
    "train_validate(net, train_iter, test_iter, batch_size, trainer, loss, num_epochs)"
   ]
  }
 ],
 "metadata": {
  "accelerator": "GPU",
  "colab": {
   "provenance": [
    {
     "file_id": "1JK3F5trSfWooTCggbNi3KTQI9rTbSh_u",
     "timestamp": 1736428226980
    }
   ]
  },
  "kernelspec": {
   "display_name": "Python 3 (ipykernel)",
   "language": "python",
   "name": "python3"
  },
  "language_info": {
   "codemirror_mode": {
    "name": "ipython",
    "version": 3
   },
   "file_extension": ".py",
   "mimetype": "text/x-python",
   "name": "python",
   "nbconvert_exporter": "python",
   "pygments_lexer": "ipython3",
   "version": "3.10.12"
  }
 },
 "nbformat": 4,
 "nbformat_minor": 4
}
