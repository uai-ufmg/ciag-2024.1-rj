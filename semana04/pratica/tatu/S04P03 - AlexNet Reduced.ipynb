{
 "cells": [
  {
   "cell_type": "markdown",
   "metadata": {
    "id": "nIolQ6y6Tjmr"
   },
   "source": [
    "# AlexNet com recursos limitados\n",
    "\n",
    "Antes implementamos a [AlexNet](https://papers.nips.cc/paper/4824-imagenet-classification-with-deep-convolutional-neural-networks.pdf) sem considerar a questão de quantidade de parâmetros. Nesta prática, vamos focar nesse quesito.\n",
    "\n",
    "\n",
    "\n",
    "\n"
   ]
  },
  {
   "cell_type": "markdown",
   "metadata": {
    "id": "lagex56X1jZo"
   },
   "source": [
    "## Configuração do ambiente"
   ]
  },
  {
   "cell_type": "code",
   "execution_count": null,
   "metadata": {
    "id": "eUe7ps69Tmib"
   },
   "outputs": [],
   "source": [
    "import time, os, sys, numpy as np\n",
    "import torch\n",
    "import torchvision\n",
    "import torch.nn as nn\n",
    "import torch.nn.functional as F\n",
    "\n",
    "from torch import optim\n",
    "from torchsummary import summary\n",
    "\n",
    "import time, os, sys, numpy as np"
   ]
  },
  {
   "cell_type": "code",
   "execution_count": null,
   "metadata": {
    "id": "QKY_MvJZvnq7"
   },
   "outputs": [],
   "source": [
    "device = torch.device('cuda' if torch.cuda.is_available() else 'cpu')\n",
    "n = torch.cuda.device_count()\n",
    "devices_ids= list(range(n))"
   ]
  },
  {
   "cell_type": "markdown",
   "metadata": {
    "id": "pGjZa_X4vsZh"
   },
   "source": [
    "## Carregamento das bases de dados\n",
    "\n",
    "A função `load_data_cifar10` carrega e prepara o dataset CIFAR-10 para treinamento e teste.\n",
    "\n",
    "A função `load_data_fashion_mnist` faz o mesmo para o dataset Fashion MNIST. Esse conjunto de dados apresenta imagens em tons de cinza com dimensão de 28 x 28, e também é dividido em 10 classes."
   ]
  },
  {
   "cell_type": "code",
   "execution_count": null,
   "metadata": {
    "id": "ZE0X3AQzTsvK"
   },
   "outputs": [],
   "source": [
    "def load_data_cifar10(batch_size, resize=None, root=os.path.join('~', '.pytorch', 'datasets', 'cifar10')):\n",
    "    root = os.path.expanduser(root)\n",
    "\n",
    "    transformer = []\n",
    "    if resize:\n",
    "        transformer += [torchvision.transforms.Resize(resize)]\n",
    "    transformer += [torchvision.transforms.ToTensor()]\n",
    "    transformer = torchvision.transforms.Compose(transformer)\n",
    "\n",
    "    cifar10_train = torchvision.datasets.CIFAR10(root=root, train=True, download=True, transform=transformer)\n",
    "    cifar10_test = torchvision.datasets.CIFAR10(root=root, train=False, download=True, transform=transformer)\n",
    "    num_workers = 0 if sys.platform.startswith('win32') else 1\n",
    "\n",
    "    train_iter = torch.utils.data.DataLoader(cifar10_train,\n",
    "                                            batch_size, shuffle=True,\n",
    "                                            num_workers=num_workers)\n",
    "\n",
    "    test_iter = torch.utils.data.DataLoader(cifar10_test,\n",
    "                                            batch_size, shuffle=False,\n",
    "                                            num_workers=num_workers)\n",
    "    return train_iter, test_iter\n",
    "\n",
    "def load_data_fashion_mnist(batch_size, resize=None, root=os.path.join('~', '.pytorch', 'datasets', 'fashion-mnist')):\n",
    "    root = os.path.expanduser(root)\n",
    "\n",
    "    transformer = []\n",
    "    if resize:\n",
    "        transformer += [torchvision.transforms.Resize(resize)]\n",
    "    transformer += [torchvision.transforms.ToTensor()]\n",
    "    transformer = torchvision.transforms.Compose(transformer)\n",
    "\n",
    "    mnist_train = torchvision.datasets.FashionMNIST(root=root, train=True,download=True,transform=transformer)\n",
    "    mnist_test = torchvision.datasets.FashionMNIST(root=root, train=False,download=True,transform=transformer)\n",
    "    num_workers = 0 if sys.platform.startswith('win32') else 1\n",
    "\n",
    "    train_iter = torch.utils.data.DataLoader(mnist_train,\n",
    "                                            batch_size, shuffle=True,\n",
    "                                            num_workers=num_workers)\n",
    "\n",
    "    test_iter = torch.utils.data.DataLoader(mnist_test,\n",
    "                                            batch_size, shuffle=False,\n",
    "                                            num_workers=num_workers)\n",
    "    return train_iter, test_iter"
   ]
  },
  {
   "cell_type": "markdown",
   "metadata": {
    "id": "6RTJqZLctAA6"
   },
   "source": [
    "## Funções auxiliares\n",
    "\n",
    "* `_get_batch` retorna as features e os labels de um batch\n",
    "\n",
    "* `evaluate_accuracy` calcula a acurácia de um modelo em um dataset.\n",
    "\n",
    "* `train_validate` implemneta o treinamento e validação de uma rede."
   ]
  },
  {
   "cell_type": "code",
   "execution_count": null,
   "metadata": {
    "id": "A775X0dGtCAh"
   },
   "outputs": [],
   "source": [
    "def _get_batch(batch):\n",
    "    features, labels = batch\n",
    "\n",
    "    if labels.type() != features.type():\n",
    "        labels = labels.type(features.type())\n",
    "\n",
    "    return (torch.nn.DataParallel(features, device_ids=devices_ids),\n",
    "            torch.nn.DataParallel(labels, device_ids=devices_ids), features.shape[0])\n",
    "\n",
    "def evaluate_accuracy(data_iter, net, loss):\n",
    "    acc_sum, n, l = torch.Tensor([0]), 0, 0\n",
    "    net.eval()\n",
    "\n",
    "    with torch.no_grad():\n",
    "      for X, y in data_iter:\n",
    "          X, y = X.to(device), y.to(device)\n",
    "          y_hat = net(X)\n",
    "          l += loss(y_hat, y).sum()\n",
    "          acc_sum += (y_hat.argmax(axis=1) == y).sum().item()\n",
    "          n += y.size()[0]\n",
    "\n",
    "    return acc_sum.item() / n, l.item() / len(data_iter)\n",
    "\n",
    "def train_validate(net, train_iter, test_iter, batch_size, trainer, loss, num_epochs):\n",
    "    print('training on', device)\n",
    "\n",
    "    for epoch in range(num_epochs):\n",
    "        net.train()\n",
    "        train_l_sum, train_acc_sum, n, start = 0.0, 0.0, 0, time.time()\n",
    "\n",
    "        for X, y in train_iter:\n",
    "            X,  y = X.to(device), y.to(device)\n",
    "            y_hat = net(X)\n",
    "\n",
    "            trainer.zero_grad()\n",
    "            l = loss(y_hat, y).sum()\n",
    "\n",
    "            l.backward()\n",
    "            trainer.step()\n",
    "\n",
    "            train_l_sum += l.item()\n",
    "            train_acc_sum += (y_hat.argmax(axis=1) == y).sum().item()\n",
    "            n += y.size()[0]\n",
    "\n",
    "        test_acc, test_loss = evaluate_accuracy(test_iter, net, loss)\n",
    "\n",
    "        print('epoch %d, train loss %.4f, train acc %.3f, test loss %.4f, '\n",
    "              'test acc %.3f, time %.1f sec'\n",
    "              % (epoch + 1, train_l_sum / len(train_iter), train_acc_sum / n, test_loss,\n",
    "                 test_acc, time.time() - start))"
   ]
  },
  {
   "cell_type": "markdown",
   "metadata": {
    "id": "QYVw56ASTyHk"
   },
   "source": [
    "## AlexNet\n",
    "\n",
    "<p align=\"center\">\n",
    "  <img width=700 src=\"https://miro.medium.com/max/700/1*vXBvV_Unz3JAxytc5iSeoQ.png\">\n",
    "</p>\n",
    "\n",
    "A AlexNet foi uma arquitetura muito famosa. Entretanto, ela possui muitos parâmetros.\n",
    "Essa arquitetura, para classificar 10 classes, tem um total de **58.312.736** parâmetros, como mostrado na tabela abaixo.\n",
    "\n",
    "**Camada** | **Calc Parâmetros** | **Total Parâmetros**\n",
    "--- | ---: | ---:\n",
    "Convolução 1 | 11\\*11\\*3\\*96 | 34.848\n",
    "Convolução 2 | 5\\*5\\*96\\*256 | 614.400\n",
    "Convolução 3 | 3\\*3\\*256\\*384 | 884.736\n",
    "Convolução 4 | 3\\*3\\*384\\*384 | 1.327.104\n",
    "Convolução 5 | 3\\*3\\*384\\*256 | 884.736\n",
    "FC 6 | 9216*4096 | 37.748.736\n",
    "FC 7 | 4096*4096 | 16.777.216\n",
    "FC 8 | 4096*10 | 40.960\n",
    "**Total** | | **58.312.736**\n"
   ]
  },
  {
   "cell_type": "markdown",
   "metadata": {
    "id": "TeM01oG9uYQC"
   },
   "source": [
    "### Rede original (para efeito de comparação)"
   ]
  },
  {
   "cell_type": "code",
   "execution_count": null,
   "metadata": {
    "id": "X2vZ5m01scbJ"
   },
   "outputs": [],
   "source": [
    "class AlexNet(nn.Module):\n",
    "    def __init__(self, input_channels, classes=10, **kwargs):\n",
    "        super(AlexNet, self).__init__(**kwargs)\n",
    "        self.features = nn.Sequential(\n",
    "            nn.Conv2d(in_channels=input_channels, out_channels=96, kernel_size=11, stride=4, padding=0),\n",
    "            nn.ReLU(),\n",
    "            nn.MaxPool2d(kernel_size=3, stride=2, padding=0),\n",
    "\n",
    "            nn.Conv2d(in_channels=96, out_channels=256, kernel_size=5, stride=1, padding=2),\n",
    "            nn.ReLU(),\n",
    "            nn.MaxPool2d(kernel_size=3, stride=2, padding=0),\n",
    "\n",
    "            nn.Conv2d(in_channels=256, out_channels=384, kernel_size=3, stride=1, padding=1),\n",
    "            nn.ReLU(),\n",
    "\n",
    "            nn.Conv2d(in_channels=384, out_channels=384, kernel_size=3, stride=1, padding=1),\n",
    "            nn.ReLU(),\n",
    "\n",
    "            nn.Conv2d(in_channels=384, out_channels=256, kernel_size=3, stride=1, padding=1),\n",
    "            nn.ReLU(),\n",
    "            nn.MaxPool2d(kernel_size=3, stride=2, padding=0)\n",
    "        )\n",
    "\n",
    "        self.classifier = nn.Sequential(\n",
    "            nn.Flatten(),\n",
    "\n",
    "            nn.Linear(9216, 4096),\n",
    "            nn.ReLU(),\n",
    "            nn.Dropout(0.5),\n",
    "\n",
    "            nn.Linear(4096, 4096),\n",
    "            nn.ReLU(),\n",
    "            nn.Dropout(0.5),\n",
    "\n",
    "            nn.Linear(4096, classes)\n",
    "        )\n",
    "\n",
    "    def forward(self, x):\n",
    "        x = self.features(x)\n",
    "        x = self.classifier(x)\n",
    "        return x"
   ]
  },
  {
   "cell_type": "code",
   "execution_count": null,
   "metadata": {
    "colab": {
     "base_uri": "https://localhost:8080/"
    },
    "id": "rOPKGrvwtEL3",
    "outputId": "74fd766c-81de-4e52-8790-063af58c2c5f"
   },
   "outputs": [
    {
     "name": "stdout",
     "output_type": "stream",
     "text": [
      "----------------------------------------------------------------\n",
      "        Layer (type)               Output Shape         Param #\n",
      "================================================================\n",
      "            Conv2d-1           [-1, 96, 55, 55]          34,944\n",
      "              ReLU-2           [-1, 96, 55, 55]               0\n",
      "         MaxPool2d-3           [-1, 96, 27, 27]               0\n",
      "            Conv2d-4          [-1, 256, 27, 27]         614,656\n",
      "              ReLU-5          [-1, 256, 27, 27]               0\n",
      "         MaxPool2d-6          [-1, 256, 13, 13]               0\n",
      "            Conv2d-7          [-1, 384, 13, 13]         885,120\n",
      "              ReLU-8          [-1, 384, 13, 13]               0\n",
      "            Conv2d-9          [-1, 384, 13, 13]       1,327,488\n",
      "             ReLU-10          [-1, 384, 13, 13]               0\n",
      "           Conv2d-11          [-1, 256, 13, 13]         884,992\n",
      "             ReLU-12          [-1, 256, 13, 13]               0\n",
      "        MaxPool2d-13            [-1, 256, 6, 6]               0\n",
      "          Flatten-14                 [-1, 9216]               0\n",
      "           Linear-15                 [-1, 4096]      37,752,832\n",
      "             ReLU-16                 [-1, 4096]               0\n",
      "          Dropout-17                 [-1, 4096]               0\n",
      "           Linear-18                 [-1, 4096]      16,781,312\n",
      "             ReLU-19                 [-1, 4096]               0\n",
      "          Dropout-20                 [-1, 4096]               0\n",
      "           Linear-21                   [-1, 10]          40,970\n",
      "================================================================\n",
      "Total params: 58,322,314\n",
      "Trainable params: 58,322,314\n",
      "Non-trainable params: 0\n",
      "----------------------------------------------------------------\n",
      "Input size (MB): 0.59\n",
      "Forward/backward pass size (MB): 11.11\n",
      "Params size (MB): 222.48\n",
      "Estimated Total Size (MB): 234.18\n",
      "----------------------------------------------------------------\n",
      "None\n",
      "Files already downloaded and verified\n",
      "Files already downloaded and verified\n"
     ]
    },
    {
     "name": "stderr",
     "output_type": "stream",
     "text": [
      "/usr/local/lib/python3.7/dist-packages/torch/utils/data/dataloader.py:481: UserWarning: This DataLoader will create 4 worker processes in total. Our suggested max number of worker in current system is 2, which is smaller than what this DataLoader is going to create. Please be aware that excessive worker creation might get DataLoader running slow or even freeze, lower the worker number to avoid potential slowness/freeze if necessary.\n",
      "  cpuset_checked))\n"
     ]
    }
   ],
   "source": [
    "num_epochs, lr, batch_size, weight_decay = 20, 0.001, 100, 0.0001\n",
    "\n",
    "net = AlexNet(input_channels=3, classes=10)\n",
    "net.to(device)\n",
    "print(summary(net,(3,227,227)))\n",
    "\n",
    "loss = nn.CrossEntropyLoss()\n",
    "\n",
    "train_iter, test_iter = load_data_cifar10(batch_size, resize=227)\n",
    "\n",
    "trainer = optim.Adam(net.parameters(), lr=lr, weight_decay=weight_decay)\n",
    "\n",
    "train_validate(net, train_iter, test_iter, batch_size, trainer, loss, num_epochs)"
   ]
  },
  {
   "cell_type": "markdown",
   "metadata": {
    "id": "e7fP5bn2ts-b"
   },
   "source": [
    "### Atividade - Arquitetura usando batch normalization e convolução dilatada\n",
    "\n",
    "O objetivo nessa prática é adaptar a rede neural proposta, baseada na [AlexNet](https://papers.nips.cc/paper/4824-imagenet-classification-with-deep-convolutional-neural-networks.pdf), e incluir [*batch normalization*](https://pytorch.org/docs/stable/generated/torch.nn.BatchNorm2d.html) e camadas de [convolução dilatada](https://pytorch.org/docs/stable/generated/torch.nn.Conv2d.htmll).\n",
    "\n",
    "> Inclua uma operação de batch normalization em cada uma das camadas convolucionais e nas duas primeiras transformações lineares.\n",
    "\n",
    "- Atente-se para especificar se o batch normalization é 1D ([nn.BatchNorm1d](https://pytorch.org/docs/stable/generated/torch.nn.BatchNorm1d.html)) ou 2D ([nn.BatchNorm2d](https://pytorch.org/docs/stable/generated/torch.nn.BatchNorm2d.html)).\n",
    "- Normalmente, aplicamos a camada de [*batch normalization*](https://arxiv.org/abs/1502.03167) entre a transformação e a função de ativação em uma camada densa.\n",
    "- Para camadas convolucionais, o [*batch normalization*](https://arxiv.org/abs/1502.03167) ocorre após o cálculo da convolução e antes da aplicação da função de ativação.\n",
    "- Nas funções de batch normalization, o parâmetro num_features será a quantidade de canais de saída da convolução, se a normalização estiver sendo aplicada em uma camada convolucional ou será a quantidade de features de saída da camada linear, se linear.\n",
    "\n",
    "> Inclua a convolução dilatada na camada conv2 e conv5 por meio do parâmetro dilation da função Conv2d.\n",
    "\n",
    "- Para a camada conv2, use uma taxa de dilatação de 2\n",
    "- Para a camada conv5, use uma taxa de dilatação de 4\n",
    "- Neste caso, como usamos filtros dilatados em duas camadas (com dilatação aumentante, ou seja, dilatação 2 seguida da dilatação 4), remova (ou comente com #) duas camadas convolucionais (conv3 e conv4), já que o *receptive field* se mantem similar dessa forma.\n",
    "\n",
    "> Ao final, observe que mesmo com uma quantidade menor de parâmetros, a nova rede alcança uma acurácia similar ou melhor que a rede original vista na prática passada."
   ]
  },
  {
   "cell_type": "code",
   "execution_count": null,
   "metadata": {
    "id": "DFGfNGRPttP3"
   },
   "outputs": [],
   "source": [
    "class AlexNet(nn.Module):\n",
    "    def __init__(self, input_channels, classes=10, **kwargs):\n",
    "        super(AlexNet, self).__init__(**kwargs)\n",
    "\n",
    "        self.features = nn.Sequential(\n",
    "            # conv1\n",
    "            nn.Conv2d(in_channels=input_channels, out_channels=96, kernel_size=11, stride=4, padding=0),\n",
    "            nn.ReLU(),\n",
    "            nn.MaxPool2d(kernel_size=3, stride=2, padding=0),\n",
    "\n",
    "            # conv2\n",
    "            nn.Conv2d(in_channels=96, out_channels=256, kernel_size=5, stride=1, padding=2),\n",
    "            nn.ReLU(),\n",
    "            nn.MaxPool2d(kernel_size=3, stride=2, padding=0),\n",
    "\n",
    "            # conv3\n",
    "            nn.Conv2d(in_channels=256, out_channels=384, kernel_size=3, stride=1, padding=1),\n",
    "            nn.ReLU(),\n",
    "\n",
    "            # conv4\n",
    "            nn.Conv2d(in_channels=384, out_channels=384, kernel_size=3, stride=1, padding=1),\n",
    "            nn.ReLU(),\n",
    "\n",
    "            # conv5\n",
    "            nn.Conv2d(in_channels=384, out_channels=256, kernel_size=3, stride=1, padding=1),\n",
    "            nn.ReLU(),\n",
    "            nn.MaxPool2d(kernel_size=3, stride=2, padding=0)\n",
    "        )\n",
    "\n",
    "        self.classifier = nn.Sequential(\n",
    "            nn.Flatten(),\n",
    "\n",
    "            nn.Linear(9216, 4096),\n",
    "            nn.ReLU(),\n",
    "            nn.Dropout(0.5),\n",
    "\n",
    "            nn.Linear(4096, 4096),\n",
    "            nn.ReLU(),\n",
    "            nn.Dropout(0.5),\n",
    "\n",
    "            nn.Linear(4096, classes)\n",
    "        )\n",
    "\n",
    "    def forward(self, x):\n",
    "        x = self.features(x)\n",
    "        x = self.classifier(x)\n",
    "        return x"
   ]
  },
  {
   "cell_type": "code",
   "execution_count": null,
   "metadata": {
    "id": "HvmmttCCt3Uq"
   },
   "outputs": [],
   "source": [
    "num_epochs, lr, batch_size, weight_decay = 20, 0.001, 100, 0.0001\n",
    "\n",
    "net = AlexNet(input_channels=3, classes=10)\n",
    "net.to(device)\n",
    "print(summary(net,(3,227,227)))\n",
    "\n",
    "loss = nn.CrossEntropyLoss()\n",
    "\n",
    "# Faça um teste com o datatset Fashion MNIST, para ver os resultados\n",
    "train_iter, test_iter = load_data_cifar10(batch_size, resize=227)\n",
    "\n",
    "trainer = optim.Adam(net.parameters(), lr=lr, weight_decay=weight_decay)\n",
    "\n",
    "train_validate(net, train_iter, test_iter, batch_size, trainer, loss, num_epochs)"
   ]
  }
 ],
 "metadata": {
  "accelerator": "GPU",
  "colab": {
   "provenance": [
    {
     "file_id": "1L19Uov6Zs6Dyboqhm8yk8Ue-CBF1FwI2",
     "timestamp": 1736428465578
    }
   ],
   "toc_visible": true
  },
  "kernelspec": {
   "display_name": "Python 3 (ipykernel)",
   "language": "python",
   "name": "python3"
  },
  "language_info": {
   "codemirror_mode": {
    "name": "ipython",
    "version": 3
   },
   "file_extension": ".py",
   "mimetype": "text/x-python",
   "name": "python",
   "nbconvert_exporter": "python",
   "pygments_lexer": "ipython3",
   "version": "3.10.12"
  }
 },
 "nbformat": 4,
 "nbformat_minor": 4
}
