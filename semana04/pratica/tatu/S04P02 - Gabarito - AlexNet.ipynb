{
 "cells": [
  {
   "cell_type": "markdown",
   "metadata": {
    "id": "QRV_7PdLIXhh"
   },
   "source": [
    "# Redes Neurais Convolucionais\n",
    "\n",
    "Vamos agora implementar a rede [AlexNet](https://papers.nips.cc/paper/4824-imagenet-classification-with-deep-convolutional-neural-networks.pdf), uma das redes que trouxeram todo esse interesse para a área de *deep learning*.\n",
    "\n",
    "\n",
    "\n"
   ]
  },
  {
   "cell_type": "markdown",
   "metadata": {
    "id": "--WTZYnbpWwD"
   },
   "source": [
    "## Configuração do ambiente"
   ]
  },
  {
   "cell_type": "code",
   "execution_count": 1,
   "metadata": {
    "id": "EAgvY5eBIc1s"
   },
   "outputs": [],
   "source": [
    "import time, os, sys, numpy as np\n",
    "import torch\n",
    "import torchvision\n",
    "import torch.nn as nn\n",
    "import torch.nn.functional as F\n",
    "\n",
    "from torch import optim\n",
    "from torchsummary import summary\n",
    "\n",
    "import time, os, sys, numpy as np"
   ]
  },
  {
   "cell_type": "code",
   "execution_count": 2,
   "metadata": {
    "id": "aJm-oZ3jo_0h"
   },
   "outputs": [],
   "source": [
    "device = torch.device('cuda' if torch.cuda.is_available() else 'cpu')\n",
    "n = torch.cuda.device_count()\n",
    "devices_ids= list(range(n))"
   ]
  },
  {
   "cell_type": "markdown",
   "metadata": {
    "id": "QOQeMbN-piBi"
   },
   "source": [
    "## Carregamento da base da dados\n",
    "\n",
    "A função `load_data_cifar10` carrega e prepara o dataset CIFAR-10 para treinamento e teste.\n",
    "\n",
    "CIFAR-10 é um conjunto de dados amplamente utilizado em tarefas de visão computacional e aprendizado de máquina, especialmente em problemas de classificação de imagens. Ele consiste em imagens coloridas de dimensão 32 x 32, separadas em 10 classes."
   ]
  },
  {
   "cell_type": "code",
   "execution_count": 3,
   "metadata": {
    "id": "Xru0TyJXIjGp"
   },
   "outputs": [],
   "source": [
    "def load_data_cifar10(batch_size, resize=None):\n",
    "    root = '/pgeoprj2/ciag2024/dados/cifar/'\n",
    "    transformer = []\n",
    "    if resize:\n",
    "        transformer += [torchvision.transforms.Resize(resize)]\n",
    "    transformer += [torchvision.transforms.ToTensor()]\n",
    "    transformer = torchvision.transforms.Compose(transformer)\n",
    "\n",
    "    cifar10_train = torchvision.datasets.CIFAR10(root=root, train=True, download=False, transform=transformer)\n",
    "    cifar10_test = torchvision.datasets.CIFAR10(root=root, train=False, download=False, transform=transformer)\n",
    "    num_workers = 0 if sys.platform.startswith('win32') else 4\n",
    "\n",
    "    train_iter = torch.utils.data.DataLoader(cifar10_train,\n",
    "                                            batch_size, shuffle=True,\n",
    "                                            num_workers=num_workers)\n",
    "\n",
    "    test_iter = torch.utils.data.DataLoader(cifar10_test,\n",
    "                                            batch_size, shuffle=False,\n",
    "                                            num_workers=num_workers)\n",
    "    return train_iter, test_iter"
   ]
  },
  {
   "cell_type": "markdown",
   "metadata": {
    "id": "y437uL7Vs7oJ"
   },
   "source": [
    "## Funções auxiliares\n",
    "\n",
    "* `evaluate_accuracy` calcula a acurácia de um modelo em um dataset.\n",
    "\n",
    "* `train_validate` implementa o treinamento e validação de uma rede."
   ]
  },
  {
   "cell_type": "code",
   "execution_count": 4,
   "metadata": {
    "id": "Nr17G9Xfs9F3"
   },
   "outputs": [],
   "source": [
    "def evaluate_accuracy(data_iter, net, loss):\n",
    "    acc_sum, n, l = torch.Tensor([0]), 0, 0\n",
    "    net.eval()\n",
    "\n",
    "    with torch.no_grad():\n",
    "      for X, y in data_iter:\n",
    "          X, y = X.to(device), y.to(device)\n",
    "          y_hat = net(X)\n",
    "          l += loss(y_hat, y).sum()\n",
    "          acc_sum += (y_hat.argmax(axis=1) == y).sum().item()\n",
    "          n += y.size()[0]\n",
    "\n",
    "    return acc_sum.item() / n, l.item() / len(data_iter)\n",
    "\n",
    "def train_validate(net, train_iter, test_iter, batch_size, trainer, loss, num_epochs):\n",
    "    print('training on', device)\n",
    "\n",
    "    for epoch in range(num_epochs):\n",
    "        net.train()\n",
    "        train_l_sum, train_acc_sum, n, start = 0.0, 0.0, 0, time.time()\n",
    "\n",
    "        for X, y in train_iter:\n",
    "            X, y = X.to(device), y.to(device)\n",
    "            y_hat = net(X)\n",
    "\n",
    "            trainer.zero_grad()\n",
    "            l = loss(y_hat, y).sum()\n",
    "\n",
    "            l.backward()\n",
    "            trainer.step()\n",
    "\n",
    "            train_l_sum += l.item()\n",
    "            train_acc_sum += (y_hat.argmax(axis=1) == y).sum().item()\n",
    "            n += y.size()[0]\n",
    "\n",
    "        test_acc, test_loss = evaluate_accuracy(test_iter, net, loss)\n",
    "\n",
    "        print('epoch %d, train loss %.4f, train acc %.3f, test loss %.4f, '\n",
    "              'test acc %.3f, time %.1f sec'\n",
    "              % (epoch + 1, train_l_sum / len(train_iter), train_acc_sum / n, test_loss,\n",
    "                 test_acc, time.time() - start))"
   ]
  },
  {
   "cell_type": "markdown",
   "metadata": {
    "id": "TO6YizcSIpiH"
   },
   "source": [
    "## AlexNet\n",
    "\n",
    "Agora já temos todo o conhecimento necessário para implementar nossa primeira arquitetura moderna.\n",
    "\n",
    "Vamos implementar a [AlexNet](https://papers.nips.cc/paper/4824-imagenet-classification-with-deep-convolutional-neural-networks.pdf), uma das arquiteturas mais famosas dessa nova onda de rede neurais.\n",
    "\n",
    "<p align=\"center\">\n",
    "  <img width=700 src=\"https://www.researchgate.net/profile/Jaime_Gallego2/publication/318168077/figure/fig1/AS:578190894927872@1514862859810/AlexNet-CNN-architecture-layers.png\">\n",
    "</p>\n",
    "\n",
    "<p align=\"center\">\n",
    "  <img width=700 src=\"https://miro.medium.com/max/700/1*vXBvV_Unz3JAxytc5iSeoQ.png\">\n",
    "</p>"
   ]
  },
  {
   "cell_type": "markdown",
   "metadata": {
    "id": "22r6pQe1tNS0"
   },
   "source": [
    "### Atividade\n",
    "\n",
    "Implementa sua rede neural baseada na AlexNet.\n",
    "\n",
    "Lembre-se que, após cada camada de convolução e linear, há uma ativação não linear ReLU.\n",
    "\n",
    "**Dica:** utilize blocos *sequential* para diminuir a complexidade da função de forward."
   ]
  },
  {
   "cell_type": "code",
   "execution_count": 5,
   "metadata": {
    "id": "4fZfulS9u_iT"
   },
   "outputs": [],
   "source": [
    "class AlexNet(nn.Module):\n",
    "    def __init__(self, input_channels, classes=10, **kwargs):\n",
    "        super(AlexNet, self).__init__(**kwargs)\n",
    "\n",
    "        self.conv1 = nn.Sequential(\n",
    "            nn.Conv2d(input_channels, 96, kernel_size=11, stride=4, padding=0),\n",
    "            nn.ReLU(),\n",
    "        )\n",
    "\n",
    "        self.maxpool1 = nn.MaxPool2d(kernel_size = 3, stride = 2)\n",
    "\n",
    "        self.conv2 = nn.Sequential(\n",
    "            nn.Conv2d(96, 256, kernel_size=5, stride=1, padding=2),\n",
    "            nn.ReLU(),\n",
    "        )\n",
    "\n",
    "        self.maxpool2 = nn.MaxPool2d(kernel_size = 3, stride = 2)\n",
    "\n",
    "        self.conv3 = nn.Sequential(\n",
    "            nn.Conv2d(256, 384, kernel_size=3, stride=1, padding=1),\n",
    "            nn.ReLU(),\n",
    "        )\n",
    "\n",
    "        self.conv4 = nn.Sequential(\n",
    "            nn.Conv2d(384, 384, kernel_size=3, stride=1, padding=1),\n",
    "            nn.ReLU(),\n",
    "        )\n",
    "\n",
    "        self.conv5 = nn.Sequential(\n",
    "            nn.Conv2d(384, 256, kernel_size=3, stride=1, padding=1),\n",
    "            nn.ReLU(),\n",
    "        )\n",
    "\n",
    "        self.maxpool5 = nn.MaxPool2d(kernel_size = 3, stride = 2)\n",
    "\n",
    "        self.flat = nn.Flatten()\n",
    "\n",
    "        self.fc6 = nn.Sequential(\n",
    "            nn.Linear(9216, 4096),\n",
    "            nn.ReLU()\n",
    "        )\n",
    "\n",
    "        self.fc7 = nn.Sequential(\n",
    "            nn.Linear(4096, 4096),\n",
    "            nn.ReLU()\n",
    "        )\n",
    "\n",
    "        self.fc8 = nn.Linear(4096, classes)\n",
    "\n",
    "    def forward(self, x):\n",
    "        x = self.conv1(x)\n",
    "        x = self.maxpool1(x)\n",
    "\n",
    "        x = self.conv2(x)\n",
    "        x = self.maxpool2(x)\n",
    "\n",
    "        x = self.conv3(x)\n",
    "        x = self.conv4(x)\n",
    "        x = self.conv5(x)\n",
    "        x = self.maxpool5(x)\n",
    "        x = self.flat(x)\n",
    "        x = self.fc6(x)\n",
    "        x = self.fc7(x)\n",
    "        out = self.fc8(x)\n",
    "\n",
    "        return out"
   ]
  },
  {
   "cell_type": "code",
   "execution_count": 6,
   "metadata": {
    "colab": {
     "base_uri": "https://localhost:8080/",
     "height": 1000,
     "referenced_widgets": [
      "7d8a6f1c93fa47b18d53c22d29e96bc9",
      "bec471fe1cd0420fa46a158ff1b2ae06",
      "ced95bf3a6ca4de7b23876c29600e9ec",
      "5dc5a7d6b21f4fae8fd16d1400555726",
      "aaa3c39a981a460d898903a402a60a7c",
      "3a18e291a5c44a5986323e7710254ee1",
      "032a1fd15d9e4f079b618c9967fcaa8e",
      "35b548f417374b5fb98204be2a49a9c8",
      "8e5c237801df4ab38f2a5feb59d3c00f",
      "bd9064db10804a1a963babc4904bb301",
      "7220aa0a65eb47d08dfbb8c501b03a00"
     ]
    },
    "id": "LMWfNHpvIoRR",
    "outputId": "a9082d99-b9d9-45d1-f69c-153c587db645",
    "scrolled": true
   },
   "outputs": [
    {
     "name": "stdout",
     "output_type": "stream",
     "text": [
      "----------------------------------------------------------------\n",
      "        Layer (type)               Output Shape         Param #\n",
      "================================================================\n",
      "            Conv2d-1           [-1, 96, 55, 55]          34,944\n",
      "              ReLU-2           [-1, 96, 55, 55]               0\n",
      "         MaxPool2d-3           [-1, 96, 27, 27]               0\n",
      "            Conv2d-4          [-1, 256, 27, 27]         614,656\n",
      "              ReLU-5          [-1, 256, 27, 27]               0\n",
      "         MaxPool2d-6          [-1, 256, 13, 13]               0\n",
      "            Conv2d-7          [-1, 384, 13, 13]         885,120\n",
      "              ReLU-8          [-1, 384, 13, 13]               0\n",
      "            Conv2d-9          [-1, 384, 13, 13]       1,327,488\n",
      "             ReLU-10          [-1, 384, 13, 13]               0\n",
      "           Conv2d-11          [-1, 256, 13, 13]         884,992\n",
      "             ReLU-12          [-1, 256, 13, 13]               0\n",
      "        MaxPool2d-13            [-1, 256, 6, 6]               0\n",
      "          Flatten-14                 [-1, 9216]               0\n",
      "           Linear-15                 [-1, 4096]      37,752,832\n",
      "             ReLU-16                 [-1, 4096]               0\n",
      "           Linear-17                 [-1, 4096]      16,781,312\n",
      "             ReLU-18                 [-1, 4096]               0\n",
      "           Linear-19                   [-1, 10]          40,970\n",
      "================================================================\n",
      "Total params: 58,322,314\n",
      "Trainable params: 58,322,314\n",
      "Non-trainable params: 0\n",
      "----------------------------------------------------------------\n",
      "Input size (MB): 0.59\n",
      "Forward/backward pass size (MB): 11.05\n",
      "Params size (MB): 222.48\n",
      "Estimated Total Size (MB): 234.12\n",
      "----------------------------------------------------------------\n",
      "None\n",
      "training on cuda\n",
      "epoch 1, train loss 2.1183, train acc 0.197, test loss 1.7403, test acc 0.358, time 26.0 sec\n",
      "epoch 2, train loss 1.5887, train acc 0.413, test loss 1.4044, test acc 0.490, time 25.5 sec\n",
      "epoch 3, train loss 1.3379, train acc 0.513, test loss 1.3332, test acc 0.511, time 25.6 sec\n",
      "epoch 4, train loss 1.1613, train acc 0.583, test loss 1.1173, test acc 0.606, time 25.6 sec\n",
      "epoch 5, train loss 1.0249, train acc 0.635, test loss 1.0432, test acc 0.631, time 25.9 sec\n"
     ]
    }
   ],
   "source": [
    "num_epochs, lr, batch_size, weight_decay = 5, 0.001, 100, 0.0001\n",
    "\n",
    "net = AlexNet(input_channels=3, classes=10)\n",
    "net.to(device)\n",
    "print(summary(net,(3,227,227)))\n",
    "\n",
    "loss = nn.CrossEntropyLoss()\n",
    "\n",
    "train_iter, test_iter = load_data_cifar10(batch_size, resize=227)\n",
    "\n",
    "trainer = optim.Adam(net.parameters(), lr=lr, weight_decay=weight_decay)\n",
    "\n",
    "train_validate(net, train_iter, test_iter, batch_size, trainer, loss, num_epochs)"
   ]
  }
 ],
 "metadata": {
  "accelerator": "GPU",
  "colab": {
   "provenance": [
    {
     "file_id": "1wVZ_qST7u2FftTEd_5Qg6h_O_lxIHmJg",
     "timestamp": 1736428264489
    }
   ]
  },
  "kernelspec": {
   "display_name": "Python 3 (ipykernel)",
   "language": "python",
   "name": "python3"
  },
  "language_info": {
   "codemirror_mode": {
    "name": "ipython",
    "version": 3
   },
   "file_extension": ".py",
   "mimetype": "text/x-python",
   "name": "python",
   "nbconvert_exporter": "python",
   "pygments_lexer": "ipython3",
   "version": "3.10.12"
  },
  "widgets": {
   "application/vnd.jupyter.widget-state+json": {
    "032a1fd15d9e4f079b618c9967fcaa8e": {
     "model_module": "@jupyter-widgets/controls",
     "model_module_version": "1.5.0",
     "model_name": "DescriptionStyleModel",
     "state": {
      "_model_module": "@jupyter-widgets/controls",
      "_model_module_version": "1.5.0",
      "_model_name": "DescriptionStyleModel",
      "_view_count": null,
      "_view_module": "@jupyter-widgets/base",
      "_view_module_version": "1.2.0",
      "_view_name": "StyleView",
      "description_width": ""
     }
    },
    "35b548f417374b5fb98204be2a49a9c8": {
     "model_module": "@jupyter-widgets/base",
     "model_module_version": "1.2.0",
     "model_name": "LayoutModel",
     "state": {
      "_model_module": "@jupyter-widgets/base",
      "_model_module_version": "1.2.0",
      "_model_name": "LayoutModel",
      "_view_count": null,
      "_view_module": "@jupyter-widgets/base",
      "_view_module_version": "1.2.0",
      "_view_name": "LayoutView",
      "align_content": null,
      "align_items": null,
      "align_self": null,
      "border": null,
      "bottom": null,
      "display": null,
      "flex": null,
      "flex_flow": null,
      "grid_area": null,
      "grid_auto_columns": null,
      "grid_auto_flow": null,
      "grid_auto_rows": null,
      "grid_column": null,
      "grid_gap": null,
      "grid_row": null,
      "grid_template_areas": null,
      "grid_template_columns": null,
      "grid_template_rows": null,
      "height": null,
      "justify_content": null,
      "justify_items": null,
      "left": null,
      "margin": null,
      "max_height": null,
      "max_width": null,
      "min_height": null,
      "min_width": null,
      "object_fit": null,
      "object_position": null,
      "order": null,
      "overflow": null,
      "overflow_x": null,
      "overflow_y": null,
      "padding": null,
      "right": null,
      "top": null,
      "visibility": null,
      "width": null
     }
    },
    "3a18e291a5c44a5986323e7710254ee1": {
     "model_module": "@jupyter-widgets/base",
     "model_module_version": "1.2.0",
     "model_name": "LayoutModel",
     "state": {
      "_model_module": "@jupyter-widgets/base",
      "_model_module_version": "1.2.0",
      "_model_name": "LayoutModel",
      "_view_count": null,
      "_view_module": "@jupyter-widgets/base",
      "_view_module_version": "1.2.0",
      "_view_name": "LayoutView",
      "align_content": null,
      "align_items": null,
      "align_self": null,
      "border": null,
      "bottom": null,
      "display": null,
      "flex": null,
      "flex_flow": null,
      "grid_area": null,
      "grid_auto_columns": null,
      "grid_auto_flow": null,
      "grid_auto_rows": null,
      "grid_column": null,
      "grid_gap": null,
      "grid_row": null,
      "grid_template_areas": null,
      "grid_template_columns": null,
      "grid_template_rows": null,
      "height": null,
      "justify_content": null,
      "justify_items": null,
      "left": null,
      "margin": null,
      "max_height": null,
      "max_width": null,
      "min_height": null,
      "min_width": null,
      "object_fit": null,
      "object_position": null,
      "order": null,
      "overflow": null,
      "overflow_x": null,
      "overflow_y": null,
      "padding": null,
      "right": null,
      "top": null,
      "visibility": null,
      "width": null
     }
    },
    "5dc5a7d6b21f4fae8fd16d1400555726": {
     "model_module": "@jupyter-widgets/controls",
     "model_module_version": "1.5.0",
     "model_name": "HTMLModel",
     "state": {
      "_dom_classes": [],
      "_model_module": "@jupyter-widgets/controls",
      "_model_module_version": "1.5.0",
      "_model_name": "HTMLModel",
      "_view_count": null,
      "_view_module": "@jupyter-widgets/controls",
      "_view_module_version": "1.5.0",
      "_view_name": "HTMLView",
      "description": "",
      "description_tooltip": null,
      "layout": "IPY_MODEL_bd9064db10804a1a963babc4904bb301",
      "placeholder": "​",
      "style": "IPY_MODEL_7220aa0a65eb47d08dfbb8c501b03a00",
      "value": " 170498071/170498071 [00:01&lt;00:00, 98940756.35it/s]"
     }
    },
    "7220aa0a65eb47d08dfbb8c501b03a00": {
     "model_module": "@jupyter-widgets/controls",
     "model_module_version": "1.5.0",
     "model_name": "DescriptionStyleModel",
     "state": {
      "_model_module": "@jupyter-widgets/controls",
      "_model_module_version": "1.5.0",
      "_model_name": "DescriptionStyleModel",
      "_view_count": null,
      "_view_module": "@jupyter-widgets/base",
      "_view_module_version": "1.2.0",
      "_view_name": "StyleView",
      "description_width": ""
     }
    },
    "7d8a6f1c93fa47b18d53c22d29e96bc9": {
     "model_module": "@jupyter-widgets/controls",
     "model_module_version": "1.5.0",
     "model_name": "HBoxModel",
     "state": {
      "_dom_classes": [],
      "_model_module": "@jupyter-widgets/controls",
      "_model_module_version": "1.5.0",
      "_model_name": "HBoxModel",
      "_view_count": null,
      "_view_module": "@jupyter-widgets/controls",
      "_view_module_version": "1.5.0",
      "_view_name": "HBoxView",
      "box_style": "",
      "children": [
       "IPY_MODEL_bec471fe1cd0420fa46a158ff1b2ae06",
       "IPY_MODEL_ced95bf3a6ca4de7b23876c29600e9ec",
       "IPY_MODEL_5dc5a7d6b21f4fae8fd16d1400555726"
      ],
      "layout": "IPY_MODEL_aaa3c39a981a460d898903a402a60a7c"
     }
    },
    "8e5c237801df4ab38f2a5feb59d3c00f": {
     "model_module": "@jupyter-widgets/controls",
     "model_module_version": "1.5.0",
     "model_name": "ProgressStyleModel",
     "state": {
      "_model_module": "@jupyter-widgets/controls",
      "_model_module_version": "1.5.0",
      "_model_name": "ProgressStyleModel",
      "_view_count": null,
      "_view_module": "@jupyter-widgets/base",
      "_view_module_version": "1.2.0",
      "_view_name": "StyleView",
      "bar_color": null,
      "description_width": ""
     }
    },
    "aaa3c39a981a460d898903a402a60a7c": {
     "model_module": "@jupyter-widgets/base",
     "model_module_version": "1.2.0",
     "model_name": "LayoutModel",
     "state": {
      "_model_module": "@jupyter-widgets/base",
      "_model_module_version": "1.2.0",
      "_model_name": "LayoutModel",
      "_view_count": null,
      "_view_module": "@jupyter-widgets/base",
      "_view_module_version": "1.2.0",
      "_view_name": "LayoutView",
      "align_content": null,
      "align_items": null,
      "align_self": null,
      "border": null,
      "bottom": null,
      "display": null,
      "flex": null,
      "flex_flow": null,
      "grid_area": null,
      "grid_auto_columns": null,
      "grid_auto_flow": null,
      "grid_auto_rows": null,
      "grid_column": null,
      "grid_gap": null,
      "grid_row": null,
      "grid_template_areas": null,
      "grid_template_columns": null,
      "grid_template_rows": null,
      "height": null,
      "justify_content": null,
      "justify_items": null,
      "left": null,
      "margin": null,
      "max_height": null,
      "max_width": null,
      "min_height": null,
      "min_width": null,
      "object_fit": null,
      "object_position": null,
      "order": null,
      "overflow": null,
      "overflow_x": null,
      "overflow_y": null,
      "padding": null,
      "right": null,
      "top": null,
      "visibility": null,
      "width": null
     }
    },
    "bd9064db10804a1a963babc4904bb301": {
     "model_module": "@jupyter-widgets/base",
     "model_module_version": "1.2.0",
     "model_name": "LayoutModel",
     "state": {
      "_model_module": "@jupyter-widgets/base",
      "_model_module_version": "1.2.0",
      "_model_name": "LayoutModel",
      "_view_count": null,
      "_view_module": "@jupyter-widgets/base",
      "_view_module_version": "1.2.0",
      "_view_name": "LayoutView",
      "align_content": null,
      "align_items": null,
      "align_self": null,
      "border": null,
      "bottom": null,
      "display": null,
      "flex": null,
      "flex_flow": null,
      "grid_area": null,
      "grid_auto_columns": null,
      "grid_auto_flow": null,
      "grid_auto_rows": null,
      "grid_column": null,
      "grid_gap": null,
      "grid_row": null,
      "grid_template_areas": null,
      "grid_template_columns": null,
      "grid_template_rows": null,
      "height": null,
      "justify_content": null,
      "justify_items": null,
      "left": null,
      "margin": null,
      "max_height": null,
      "max_width": null,
      "min_height": null,
      "min_width": null,
      "object_fit": null,
      "object_position": null,
      "order": null,
      "overflow": null,
      "overflow_x": null,
      "overflow_y": null,
      "padding": null,
      "right": null,
      "top": null,
      "visibility": null,
      "width": null
     }
    },
    "bec471fe1cd0420fa46a158ff1b2ae06": {
     "model_module": "@jupyter-widgets/controls",
     "model_module_version": "1.5.0",
     "model_name": "HTMLModel",
     "state": {
      "_dom_classes": [],
      "_model_module": "@jupyter-widgets/controls",
      "_model_module_version": "1.5.0",
      "_model_name": "HTMLModel",
      "_view_count": null,
      "_view_module": "@jupyter-widgets/controls",
      "_view_module_version": "1.5.0",
      "_view_name": "HTMLView",
      "description": "",
      "description_tooltip": null,
      "layout": "IPY_MODEL_3a18e291a5c44a5986323e7710254ee1",
      "placeholder": "​",
      "style": "IPY_MODEL_032a1fd15d9e4f079b618c9967fcaa8e",
      "value": "100%"
     }
    },
    "ced95bf3a6ca4de7b23876c29600e9ec": {
     "model_module": "@jupyter-widgets/controls",
     "model_module_version": "1.5.0",
     "model_name": "FloatProgressModel",
     "state": {
      "_dom_classes": [],
      "_model_module": "@jupyter-widgets/controls",
      "_model_module_version": "1.5.0",
      "_model_name": "FloatProgressModel",
      "_view_count": null,
      "_view_module": "@jupyter-widgets/controls",
      "_view_module_version": "1.5.0",
      "_view_name": "ProgressView",
      "bar_style": "success",
      "description": "",
      "description_tooltip": null,
      "layout": "IPY_MODEL_35b548f417374b5fb98204be2a49a9c8",
      "max": 170498071,
      "min": 0,
      "orientation": "horizontal",
      "style": "IPY_MODEL_8e5c237801df4ab38f2a5feb59d3c00f",
      "value": 170498071
     }
    }
   }
  }
 },
 "nbformat": 4,
 "nbformat_minor": 4
}
