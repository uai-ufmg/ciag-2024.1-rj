{
  "nbformat": 4,
  "nbformat_minor": 0,
  "metadata": {
    "colab": {
      "provenance": []
    },
    "kernelspec": {
      "name": "python3",
      "display_name": "Python 3"
    },
    "accelerator": "GPU",
    "gpuClass": "standard"
  },
  "cells": [
    {
      "cell_type": "markdown",
      "metadata": {
        "id": "NG-mVsVuE0if"
      },
      "source": [
        "# Preâmbulo\n",
        "\n",
        "Imports, funções, downloads e instalação do Pytorch."
      ]
    },
    {
      "cell_type": "code",
      "metadata": {
        "id": "fEHmMCjR4PJw"
      },
      "source": [
        "import os\n",
        "import time\n",
        "import torch\n",
        "\n",
        "import numpy as np\n",
        "import torch.nn.functional as F\n",
        "import matplotlib.pyplot as plt\n",
        "\n",
        "from torch import nn\n",
        "from torch import optim\n",
        "from torch.utils import data\n",
        "from torch.backends import cudnn\n",
        "from torch.autograd import Variable\n",
        "from torch.utils.data import DataLoader\n",
        "\n",
        "from torchvision import models\n",
        "from torchvision import datasets\n",
        "from torchvision import transforms\n",
        "\n",
        "from skimage import io\n",
        "from sklearn import metrics\n",
        "\n",
        "%matplotlib inline\n",
        "cudnn.benchmark = True"
      ],
      "execution_count": null,
      "outputs": []
    },
    {
      "cell_type": "markdown",
      "metadata": {
        "id": "oQa4-lUw7Rmp"
      },
      "source": [
        "## Casting para o dispositivo correto\n",
        "\n",
        "Como usaremos processamento vetorial principalmente em GPUs para aprendizado profundo, primeiramente é possível verificar se há uma GPU disponível com o trecho de código abaixo, armazenando os tensores nos dispositivos apropriados."
      ]
    },
    {
      "cell_type": "code",
      "metadata": {
        "id": "yX0bBEM863sY",
        "colab": {
          "base_uri": "https://localhost:8080/"
        },
        "outputId": "c463867a-014d-4f7f-d116-02cb3c53ec3e"
      },
      "source": [
        "# Verificando se temos GPU/CUDA\n",
        "has_cuda = torch.cuda.is_available()\n",
        "device = torch.device('cuda' if has_cuda else 'cpu')\n",
        "\n",
        "print(device)"
      ],
      "execution_count": null,
      "outputs": [
        {
          "output_type": "stream",
          "name": "stdout",
          "text": [
            "cuda\n"
          ]
        }
      ]
    },
    {
      "cell_type": "markdown",
      "metadata": {
        "id": "1x5UK0uib2tk"
      },
      "source": [
        "# Intro MLP\n",
        "\n",
        "## Neurônios e a camada `nn.Linear`\n",
        "\n",
        "A camada Linear do Pytorch ([nn.Linear](https://pytorch.org/docs/stable/nn.html#torch.nn.Linear)) é responsável por aplicar uma transformação linear no dado de entrada. Esta camada recebe como parâmetro a dimensão (número de *features*) da entrada e da saída (que na verdade, representa o número de neurônios dessa camada). Por padrão o bias já é incluído. **Um** perceptron pode ser facilmente representado como a seguir, desconsiderando a função de ativação:\n",
        "\n",
        "```\n",
        "linear = nn.Linear(in_dimension, 1)\n",
        "```\n",
        "Mas de uma forma geral, uma camada Linear com diversas *features* de entrada e diversas *features* de saída pode ser representada como:\n",
        "```\n",
        "nn.Linear(in_features, out_features)\n",
        "```\n",
        "![](./figs/nn_linear.png)"
      ]
    },
    {
      "cell_type": "code",
      "metadata": {
        "id": "OlQA_vtGg8bf",
        "colab": {
          "base_uri": "https://localhost:8080/"
        },
        "outputId": "ce384aac-625c-415a-8d51-b37f78300d58"
      },
      "source": [
        "linear = nn.Linear(2, 1)\n",
        "print(linear)"
      ],
      "execution_count": null,
      "outputs": [
        {
          "output_type": "stream",
          "name": "stdout",
          "text": [
            "Linear(in_features=2, out_features=1, bias=True)\n"
          ]
        }
      ]
    },
    {
      "cell_type": "markdown",
      "metadata": {
        "id": "6AhNyLrLmFcT"
      },
      "source": [
        "Como é possível ver no código abaixo, o Pytorch já inicia os pesos da camada aleatoriamente."
      ]
    },
    {
      "cell_type": "code",
      "metadata": {
        "id": "fLOlOhQVmPuj",
        "colab": {
          "base_uri": "https://localhost:8080/"
        },
        "outputId": "04d7d285-96bb-484a-8d8c-a687f32d8f4f"
      },
      "source": [
        "for name, param in linear.named_parameters():\n",
        "    print(f'Parameter {name}:')\n",
        "    print(f'  - {param.data}\\n')"
      ],
      "execution_count": null,
      "outputs": [
        {
          "output_type": "stream",
          "name": "stdout",
          "text": [
            "Parameter weight:\n",
            "  - tensor([[0.3667, 0.3165]])\n",
            "\n",
            "Parameter bias:\n",
            "  - tensor([-0.2155])\n",
            "\n"
          ]
        }
      ]
    },
    {
      "cell_type": "markdown",
      "metadata": {
        "id": "aAEaJGtDoZD7"
      },
      "source": [
        "O **forward** consiste em passar seu dado de entrada pela rede, gerando um resultado ao final. Considerando a camada linear instanciada anteriormente, o resultado do forward é o mesmo do somatório da multiplicação de seus pesos pelas respectivas entradas juntamente com o bias, ou seja:\n",
        "\n",
        "$$f_w(x) = w_0 + w_1x_1 + w_2x_2 + \\ldots + w_nx_n$$\n",
        "\n",
        "No Pytorch, realizamos o **forward** chamando o objeto onde nossa rede/modelo está instanciada, conforme exemplo abaixo."
      ]
    },
    {
      "cell_type": "code",
      "metadata": {
        "id": "Ibb8t7zpmpUI",
        "colab": {
          "base_uri": "https://localhost:8080/"
        },
        "outputId": "a1bfdba2-2a32-42d4-83d1-40a967e8a5f5"
      },
      "source": [
        "linear = nn.Linear(2, 1)\n",
        "X = torch.tensor([2.0, 3.0])\n",
        "\n",
        "print('Using Linear:', linear(X))\n",
        "print('Manual:', torch.sum(X * linear.weight) + linear.bias)  # .weight e .bias permite acessarmos os pesos e bias deste modelo"
      ],
      "execution_count": null,
      "outputs": [
        {
          "output_type": "stream",
          "name": "stdout",
          "text": [
            "Using Linear: tensor([-0.8796], grad_fn=<ViewBackward0>)\n",
            "Manual: tensor([-0.8796], grad_fn=<AddBackward0>)\n"
          ]
        }
      ]
    },
    {
      "cell_type": "code",
      "source": [
        "# Ao fazermos linear(X), estamos fazendo implicitamente uma chamada na função forward da Linear\n",
        "print('Forward com chamada implícita:', linear(X))\n",
        "print('Forward com chamada explícita:', linear.forward(X))"
      ],
      "metadata": {
        "id": "zwjZ4t_MIz58",
        "colab": {
          "base_uri": "https://localhost:8080/"
        },
        "outputId": "dd7ac5a7-747b-44b2-ec9d-ec8beeff5f87"
      },
      "execution_count": null,
      "outputs": [
        {
          "output_type": "stream",
          "name": "stdout",
          "text": [
            "Forward com chamada implícita: tensor([-0.8796], grad_fn=<ViewBackward0>)\n",
            "Forward com chamada explícita: tensor([-0.8796], grad_fn=<ViewBackward0>)\n"
          ]
        }
      ]
    },
    {
      "cell_type": "markdown",
      "metadata": {
        "id": "x8LMX6OMrEbw"
      },
      "source": [
        "## Exemplo de uma rede neural simples (1 camada)\n",
        "\n",
        "O código abaixo cria uma rede neural simples usando `nn.Linear` e implementa o fluxo de treinamento para essa rede, ou seja, faz o forward, calcula a loss, e otimiza seus pesos. Invista um pouco de tempo para entender a célula abaixo pois usaremos essa ideia para implementar a função de treino mais a frente."
      ]
    },
    {
      "cell_type": "code",
      "source": [
        "# Iremos criar dados que seguem a função y = 2x + 3\n",
        "dataset = []\n",
        "for x in range(10):\n",
        "    dataset.append((x, 2*x + 3))  # tupla com (x, y)"
      ],
      "metadata": {
        "id": "_uGksRlgJYNb"
      },
      "execution_count": null,
      "outputs": []
    },
    {
      "cell_type": "code",
      "source": [
        "dataset"
      ],
      "metadata": {
        "id": "Q2MwrrGAmFMZ",
        "colab": {
          "base_uri": "https://localhost:8080/"
        },
        "outputId": "17c1cb33-a465-411d-8e8e-a805d8e6576e"
      },
      "execution_count": null,
      "outputs": [
        {
          "output_type": "execute_result",
          "data": {
            "text/plain": [
              "[(0, 3),\n",
              " (1, 5),\n",
              " (2, 7),\n",
              " (3, 9),\n",
              " (4, 11),\n",
              " (5, 13),\n",
              " (6, 15),\n",
              " (7, 17),\n",
              " (8, 19),\n",
              " (9, 21)]"
            ]
          },
          "metadata": {},
          "execution_count": 8
        }
      ]
    },
    {
      "cell_type": "code",
      "source": [
        "# Definiremos uma loss (erro quadrático -> (y - y_hat)^2)\n",
        "def loss_fn(predict, label):\n",
        "    return torch.pow(label - predict, 2)"
      ],
      "metadata": {
        "id": "UHRwAuyFJvUa"
      },
      "execution_count": null,
      "outputs": []
    },
    {
      "cell_type": "code",
      "metadata": {
        "id": "YPJ9s5ckoA5T",
        "colab": {
          "base_uri": "https://localhost:8080/"
        },
        "outputId": "f6619fca-ac8f-47a2-f687-c6038ff8fa70"
      },
      "source": [
        "linear = nn.Linear(1, 1)  # camada linear com 1 feature de entrada (mais o bias) e uma de saída\n",
        "linear.to(device)  # casting do linear para GPU\n",
        "\n",
        "learning_rate = 0.01\n",
        "print(f'Parâmetros iniciais: {list(linear.parameters())}\\n')\n",
        "\n",
        "for epoch in range(100):\n",
        "    epoch_loss = 0\n",
        "\n",
        "    for X, y in dataset:\n",
        "        # Fazendo o casting dos dados para tensores na GPU\n",
        "        X = torch.FloatTensor([X]).to(device)\n",
        "        y = torch.FloatTensor([y]).to(device)\n",
        "\n",
        "        y_pred = linear(X)  # etapa de forward\n",
        "        loss = loss_fn(y_pred, y)  # calcula a loss\n",
        "        epoch_loss += loss.item()\n",
        "\n",
        "        # Etapa de backprop\n",
        "        loss.backward()\n",
        "        with torch.no_grad(): # não queremos fazer com que o pytorch anote as operações do backprop e acumule o gradiente\n",
        "            for param in linear.parameters():\n",
        "                param -= learning_rate * param.grad  # atualização dos parametros (pesos e bias) com base no gradiente\n",
        "                param.grad.zero_()  # resetando o gradiente\n",
        "\n",
        "    if (epoch + 1) % 10 == 0:\n",
        "        print(\"Epoch {} - loss: {}\".format(epoch + 1, epoch_loss))\n",
        "\n",
        "print('\\nParâmetros finais: ', list(linear.parameters()))"
      ],
      "execution_count": null,
      "outputs": [
        {
          "output_type": "stream",
          "name": "stdout",
          "text": [
            "Parâmetros iniciais: [Parameter containing:\n",
            "tensor([[0.3856]], device='cuda:0', requires_grad=True), Parameter containing:\n",
            "tensor([0.4026], device='cuda:0', requires_grad=True)]\n",
            "\n",
            "Epoch 10 - loss: 4.50460103712976\n",
            "Epoch 20 - loss: 1.556748233619146\n",
            "Epoch 30 - loss: 0.5379995520925149\n",
            "Epoch 40 - loss: 0.18592704602633603\n",
            "Epoch 50 - loss: 0.06425447968649678\n",
            "Epoch 60 - loss: 0.022205637258593924\n",
            "Epoch 70 - loss: 0.007674068577216531\n",
            "Epoch 80 - loss: 0.002651898903422989\n",
            "Epoch 90 - loss: 0.0009164031071122736\n",
            "Epoch 100 - loss: 0.00031670121279603336\n",
            "\n",
            "Parâmetros finais:  [Parameter containing:\n",
            "tensor([[2.0011]], device='cuda:0', requires_grad=True), Parameter containing:\n",
            "tensor([2.9897], device='cuda:0', requires_grad=True)]\n"
          ]
        }
      ]
    },
    {
      "cell_type": "code",
      "metadata": {
        "id": "e9uRk8mAwGIB",
        "colab": {
          "base_uri": "https://localhost:8080/"
        },
        "outputId": "eca66d35-6d2d-40b4-f62b-e2cad64ac6d4"
      },
      "source": [
        "X = torch.FloatTensor([20]).to(device)\n",
        "print(linear(X))  # forward do valor 20 para conferir resultado, saida deve ser aproximadamente = 2x+3 = 2*20+3 = 43"
      ],
      "execution_count": null,
      "outputs": [
        {
          "output_type": "stream",
          "name": "stdout",
          "text": [
            "tensor([43.0114], device='cuda:0', grad_fn=<ViewBackward0>)\n"
          ]
        }
      ]
    },
    {
      "cell_type": "markdown",
      "metadata": {
        "id": "3f-q6bCNzEmx"
      },
      "source": [
        "## O módulo `nn.Sequential`\n",
        "\n",
        "Na prática, criaremos redes com diversas camadas. O bloco `nn.Sequential` permite agrupar as camadas de forma sequencial para que o forward seja realizado na ordem desejada. Veja um exemplo para um *Multilayer Perceptron (MLP)* abaixo."
      ]
    },
    {
      "cell_type": "code",
      "metadata": {
        "id": "LCK_OkqCzdUW",
        "colab": {
          "base_uri": "https://localhost:8080/"
        },
        "outputId": "4f382c77-08ce-44c0-a9d4-0423fbd66873"
      },
      "source": [
        "in_features = 28\n",
        "out_features = 8\n",
        "\n",
        "first_hidden_size = 64\n",
        "second_hidden_size = 32\n",
        "\n",
        "MLP = nn.Sequential(\n",
        "    nn.Linear(in_features, first_hidden_size), nn.ReLU(),\n",
        "    nn.Linear(first_hidden_size, second_hidden_size), nn.ReLU(),\n",
        "    nn.Linear(second_hidden_size, out_features)\n",
        ")\n",
        "\n",
        "MLP = MLP.to(device)\n",
        "print(MLP)"
      ],
      "execution_count": null,
      "outputs": [
        {
          "output_type": "stream",
          "name": "stdout",
          "text": [
            "----------------------------------------------------------------\n",
            "        Layer (type)               Output Shape         Param #\n",
            "================================================================\n",
            "            Linear-1                   [-1, 64]           1,856\n",
            "              ReLU-2                   [-1, 64]               0\n",
            "            Linear-3                   [-1, 32]           2,080\n",
            "              ReLU-4                   [-1, 32]               0\n",
            "            Linear-5                    [-1, 8]             264\n",
            "================================================================\n",
            "Total params: 4,200\n",
            "Trainable params: 4,200\n",
            "Non-trainable params: 0\n",
            "----------------------------------------------------------------\n",
            "Input size (MB): 0.00\n",
            "Forward/backward pass size (MB): 0.00\n",
            "Params size (MB): 0.02\n",
            "Estimated Total Size (MB): 0.02\n",
            "----------------------------------------------------------------\n"
          ]
        }
      ]
    },
    {
      "cell_type": "code",
      "metadata": {
        "id": "mkhjCepK0kjJ",
        "colab": {
          "base_uri": "https://localhost:8080/"
        },
        "outputId": "7b1ac3c4-7db4-4a62-9f22-f81efadb0c43"
      },
      "source": [
        "test_data = torch.randn((10, 28)).to(device)  # 10 dados de input aleatórios com 28 features\n",
        "\n",
        "output = MLP(test_data)  # forward da rede\n",
        "print(output.size())"
      ],
      "execution_count": null,
      "outputs": [
        {
          "output_type": "stream",
          "name": "stdout",
          "text": [
            "torch.Size([10, 8])\n"
          ]
        }
      ]
    },
    {
      "cell_type": "markdown",
      "metadata": {
        "id": "dfb4zBjO0Lua"
      },
      "source": [
        "Informação sobre outras camadas lineares, como nn.Bilinear e nn.Identity, podem ser vistas na documentação: https://pytorch.org/docs/stable/nn.html#linear-layers"
      ]
    },
    {
      "cell_type": "markdown",
      "metadata": {
        "id": "E9LoXL0cUYMT"
      },
      "source": [
        "## Conjunto de Exercícios 1 - Implementação de uma MLP\n",
        "\n",
        "Vamos agora treinar um MLP simples no dataset de [Breast Cancer da UCI](https://archive.ics.uci.edu/ml/datasets/Breast+Cancer+Wisconsin+(Diagnostic)). A célula abaixo irá carregar os dados utilizando a biblioteca scikit-learn, que já possui o dataset pronto para utilizarmos.\n",
        "\n",
        "- Neste exercício, não estamos interessados em trabalhar com dados de treino/teste, mas sim apenas estudar como definir uma rede neural de múltiplas camadas em PyTorch e realizar o treinamento dos seus pesos e viéses."
      ]
    },
    {
      "cell_type": "code",
      "metadata": {
        "id": "Vi3Zh8fQ4X_3",
        "colab": {
          "base_uri": "https://localhost:8080/"
        },
        "outputId": "c7b59e0b-7a70-4225-b3d1-a348371f0bb8"
      },
      "source": [
        "from sklearn.datasets import load_breast_cancer\n",
        "\n",
        "X, y = load_breast_cancer(return_X_y=True)\n",
        "\n",
        "print('Tamanho de X:', X.shape)\n",
        "print('Dataype de X:', type(X), X.dtype)\n",
        "\n",
        "print('\\nTamanho de y:', y.shape)\n",
        "print('Dataype de y:', type(y), y.dtype)"
      ],
      "execution_count": null,
      "outputs": [
        {
          "output_type": "stream",
          "name": "stdout",
          "text": [
            "Tamanho de X: (569, 30)\n",
            "Dataype de X: <class 'numpy.ndarray'> float64\n",
            "\n",
            "Tamanho de y: (569,)\n",
            "Dataype de y: <class 'numpy.ndarray'> int64\n"
          ]
        }
      ]
    },
    {
      "cell_type": "code",
      "source": [
        "# Convertendo os dados para tensores PyTorch e fazendo o casting para o dispositivo apropriado\n",
        "X = torch.FloatTensor(X).to(device)\n",
        "y = torch.FloatTensor(y).to(device)\n",
        "\n",
        "# Modificando o shape das anotações para ser um vetor (n, 1) para não gerar erros no cálculo da função de perda\n",
        "# Isso é necessário pois os produtos internos feitos no PyTorch irá resultar em uma matriz (n, 1), ou seja, n-linhas\n",
        "# onde cada linha terá um valor binário (classe daquela observação)\n",
        "y = y.unsqueeze(dim=-1)  # dim=-1 representa a última dimensão do nosso vetor\n",
        "\n",
        "# Exibindo o tamanho dos tensores\n",
        "print('Tamanho de X:', X.shape)\n",
        "print('Dataype de X:', type(X), X.dtype)\n",
        "\n",
        "print('\\nTamanho de y:', y.shape)\n",
        "print('Dataype de y:', type(y), y.dtype)"
      ],
      "metadata": {
        "id": "msF6TmtsnXr8",
        "colab": {
          "base_uri": "https://localhost:8080/"
        },
        "outputId": "a00b9b41-82dc-4255-f87f-547285ec3cd1"
      },
      "execution_count": null,
      "outputs": [
        {
          "output_type": "stream",
          "name": "stdout",
          "text": [
            "Tamanho de X: torch.Size([569, 30])\n",
            "Dataype de X: <class 'torch.Tensor'> torch.float32\n",
            "\n",
            "Tamanho de y: torch.Size([569, 1])\n",
            "Dataype de y: <class 'torch.Tensor'> torch.float32\n"
          ]
        }
      ]
    },
    {
      "cell_type": "code",
      "source": [
        "print('Labels dos dados:', torch.unique(y))"
      ],
      "metadata": {
        "id": "EjahTNqATUvu",
        "colab": {
          "base_uri": "https://localhost:8080/"
        },
        "outputId": "863b79b6-838c-468c-8a77-7dee47de8481"
      },
      "execution_count": null,
      "outputs": [
        {
          "output_type": "stream",
          "name": "stdout",
          "text": [
            "Labels dos dados: tensor([0., 1.], device='cuda:0')\n"
          ]
        }
      ]
    },
    {
      "cell_type": "markdown",
      "metadata": {
        "id": "ZMDN1viW-0Eg"
      },
      "source": [
        "1. Implemente na célula abaixo uma MLP, de nome **model**, utilizando o módulo `nn.Sequential`. A sua rede MLP deve possuir, pelo menos, uma camada oculta, usando uma ReLU como função de ativação entre as camadas.\n",
        "\n",
        "    - Note que o nosso problema é um problema de classificação binária. Iremos utilizar uma função de perda do PyTorch que recebe como entrada a saída \"crua\" (*logits*) da sua rede neural. Sendo assim, não se preocupe em aplicar alguma transformação na saída (como uma sigmóide) para converter os valores para uma probabilidade, por exemplo."
      ]
    },
    {
      "cell_type": "code",
      "metadata": {
        "id": "zYO7HWC29Ahy",
        "colab": {
          "base_uri": "https://localhost:8080/"
        },
        "outputId": "2bec28f2-490c-49f5-9338-8d432dc14bb8"
      },
      "source": [
        "in_features = 30\n",
        "out_features = 1\n",
        "\n",
        "model = nn.Sequential(\n",
        "    nn.Linear(in_features, 64), nn.ReLU(),\n",
        "    nn.Linear(64, 64), nn.ReLU(),\n",
        "    nn.Linear(64, out_features),\n",
        ")\n",
        "\n",
        "model.to(device)  # sempre é necessario fazer o casting da rede para jogá-la para GPU\n",
        "print(MLP)"
      ],
      "execution_count": null,
      "outputs": [
        {
          "output_type": "stream",
          "name": "stdout",
          "text": [
            "----------------------------------------------------------------\n",
            "        Layer (type)               Output Shape         Param #\n",
            "================================================================\n",
            "            Linear-1                   [-1, 64]           1,984\n",
            "              ReLU-2                   [-1, 64]               0\n",
            "            Linear-3                   [-1, 64]           4,160\n",
            "              ReLU-4                   [-1, 64]               0\n",
            "            Linear-5                    [-1, 1]              65\n",
            "================================================================\n",
            "Total params: 6,209\n",
            "Trainable params: 6,209\n",
            "Non-trainable params: 0\n",
            "----------------------------------------------------------------\n",
            "Input size (MB): 0.00\n",
            "Forward/backward pass size (MB): 0.00\n",
            "Params size (MB): 0.02\n",
            "Estimated Total Size (MB): 0.03\n",
            "----------------------------------------------------------------\n"
          ]
        }
      ]
    },
    {
      "cell_type": "markdown",
      "metadata": {
        "id": "BWrn_MUHBz7o"
      },
      "source": [
        "Abaixo, definimos uma loss e um otimizador usando o PyTorch. Não se preocupem como isso funciona agora, pois iremos ver em detalhes como definir e usar diferentes losses e otimizadores com o PyTorch."
      ]
    },
    {
      "cell_type": "code",
      "source": [
        "# Iremos utilizar a entropia cruzada binária como função de perda para o nosso problema\n",
        "# Essa versão da BCE aceita como entrada a saída \"crua\" (logits) da sua rede neural.\n",
        "# Outras versões, como a BCELoss aceita como entrada uma saída probabilística da sua rede neural (sigmoid ou softmax),\n",
        "# sendo assim você deve colocar uma função de ativação depois do último nn.Linear do seu modelo.\n",
        "# A versão BCEWithLogitsLoss implementa uma versão mais numericamente estável da loss, podemos observar isso na própria\n",
        "# documentação do PyTorch: https://pytorch.org/docs/stable/generated/torch.nn.BCEWithLogitsLoss.html?highlight=bcewithlogitsloss#torch.nn.BCEWithLogitsLoss\n",
        "criterion = nn.BCEWithLogitsLoss()"
      ],
      "metadata": {
        "id": "IgEeodMiSmuO"
      },
      "execution_count": null,
      "outputs": []
    },
    {
      "cell_type": "code",
      "metadata": {
        "id": "Oa5DcYBf82iD"
      },
      "source": [
        "# Iremos utilizar o pacote optim para definir um otimizador que irá atualizar os pesos do modelo para nós.\n",
        "# Aqui, utilizaremos SGD - Gradiente Descendente Estocástico.\n",
        "# O pacote optim contém muitos outros algoritmos de otimização, porém, em todos o primeiro parâmetro irá dizer para os\n",
        "# otimizadores quais tensores (com requires_grad=True) do nosso modelo ele deverá otimizar.\n",
        "import torch.optim as optim\n",
        "\n",
        "learning_rate = 1e-4\n",
        "optimizer = optim.SGD(model.parameters(), lr=learning_rate)"
      ],
      "execution_count": null,
      "outputs": []
    },
    {
      "cell_type": "markdown",
      "metadata": {
        "id": "JPQtOnNr-kAG"
      },
      "source": [
        "Abaixo teremos um loop de treinamento típico de PyTorch. Não precisa modificar em nada essa funçao, porém estude ela mesmo assim, já que usaremos esse fluxo como template para treinamento de outros modelos mais a frente no curso."
      ]
    },
    {
      "cell_type": "code",
      "metadata": {
        "id": "dsMFRIDv80I3",
        "colab": {
          "base_uri": "https://localhost:8080/"
        },
        "outputId": "be21845b-e6f0-4c89-827d-8b7141a133f4"
      },
      "source": [
        "# Aqui iremos criar uma lista de loss para cada época\n",
        "loss_list = []\n",
        "\n",
        "# Iterando sobre as épocas\n",
        "n_epochs = 500\n",
        "for epoch in range(n_epochs):\n",
        "    preds = model(X)\n",
        "    loss = criterion(preds, y)\n",
        "\n",
        "    # Salvando a loss da iteração atual (para plots futuros)\n",
        "    loss_list.append(loss.item())\n",
        "\n",
        "    # Antes de fazermos o backward pass, iremos zerar o gradiente de todos os tensores\n",
        "    # atrelados ao otimizador utilizando a chamada de função .zero_grad() do nosso otimizador.\n",
        "    # Faremos isso pois os gradientes são acumulados, sempre que chamamos .backward(), em buffers nos\n",
        "    # tensores que representam os pesos dos nossos modelos, ou seja, não são sobrescritos.\n",
        "    # Para mais detalhes, você pode dar uma olhada na documentação do torch.autograd.backward\n",
        "    optimizer.zero_grad()\n",
        "\n",
        "    # Realizando o backward pass, ou seja, computando os gradientes da nossa função de perda\n",
        "    # com respeito aos parâmetros (pesos) do nosso modelo\n",
        "    loss.backward()\n",
        "\n",
        "    # Chamando a função .step() do nosso otimizador para realizar um \"passo\" na otimização.\n",
        "    # Nesse caso, o \"passo\" será realizar o cálculo que vimos do gradiente descendente\n",
        "    optimizer.step()\n",
        "\n",
        "    if (epoch + 1) % 10 == 0:\n",
        "        print(f'Epoch {epoch + 1}: loss = {loss.item():.5f}')"
      ],
      "execution_count": null,
      "outputs": [
        {
          "output_type": "stream",
          "name": "stdout",
          "text": [
            "Epoch 10: loss = 0.78376\n",
            "Epoch 20: loss = 0.68751\n",
            "Epoch 30: loss = 0.56526\n",
            "Epoch 40: loss = 0.49223\n",
            "Epoch 50: loss = 0.46643\n",
            "Epoch 60: loss = 0.44964\n",
            "Epoch 70: loss = 0.43471\n",
            "Epoch 80: loss = 0.42174\n",
            "Epoch 90: loss = 0.41075\n",
            "Epoch 100: loss = 0.40026\n",
            "Epoch 110: loss = 0.39029\n",
            "Epoch 120: loss = 0.38113\n",
            "Epoch 130: loss = 0.37315\n",
            "Epoch 140: loss = 0.36614\n",
            "Epoch 150: loss = 0.35966\n",
            "Epoch 160: loss = 0.35368\n",
            "Epoch 170: loss = 0.34808\n",
            "Epoch 180: loss = 0.34284\n",
            "Epoch 190: loss = 0.33793\n",
            "Epoch 200: loss = 0.33332\n",
            "Epoch 210: loss = 0.32899\n",
            "Epoch 220: loss = 0.32490\n",
            "Epoch 230: loss = 0.32105\n",
            "Epoch 240: loss = 0.31740\n",
            "Epoch 250: loss = 0.31394\n",
            "Epoch 260: loss = 0.31065\n",
            "Epoch 270: loss = 0.30752\n",
            "Epoch 280: loss = 0.30454\n",
            "Epoch 290: loss = 0.30169\n",
            "Epoch 300: loss = 0.29896\n",
            "Epoch 310: loss = 0.29635\n",
            "Epoch 320: loss = 0.29385\n",
            "Epoch 330: loss = 0.29145\n",
            "Epoch 340: loss = 0.28913\n",
            "Epoch 350: loss = 0.28689\n",
            "Epoch 360: loss = 0.28474\n",
            "Epoch 370: loss = 0.28265\n",
            "Epoch 380: loss = 0.28066\n",
            "Epoch 390: loss = 0.27873\n",
            "Epoch 400: loss = 0.27688\n",
            "Epoch 410: loss = 0.27509\n",
            "Epoch 420: loss = 0.27336\n",
            "Epoch 430: loss = 0.27170\n",
            "Epoch 440: loss = 0.27008\n",
            "Epoch 450: loss = 0.26852\n",
            "Epoch 460: loss = 0.26700\n",
            "Epoch 470: loss = 0.26552\n",
            "Epoch 480: loss = 0.26409\n",
            "Epoch 490: loss = 0.26270\n",
            "Epoch 500: loss = 0.26137\n"
          ]
        }
      ]
    },
    {
      "cell_type": "code",
      "metadata": {
        "id": "toQyqq98-68X",
        "colab": {
          "base_uri": "https://localhost:8080/",
          "height": 721
        },
        "outputId": "087f7dd1-bff9-4bc1-d7ee-09471a75c1d1"
      },
      "source": [
        "fig, ax = plt.subplots(1, 1, figsize=(10, 8))\n",
        "\n",
        "ax.set_title('Evolução da função de perda ao longo das épocas')\n",
        "ax.set_ylabel('Valor da função de perda')\n",
        "ax.set_xlabel('Épocas')\n",
        "ax.plot(np.asarray(loss_list))\n",
        "\n",
        "plt.show()"
      ],
      "execution_count": null,
      "outputs": [
        {
          "output_type": "display_data",
          "data": {
            "text/plain": [
              "<Figure size 1000x800 with 1 Axes>"
            ],
            "image/png": "[encoded data removed]"
          },
          "metadata": {}
        }
      ]
    },
    {
      "cell_type": "markdown",
      "source": [
        "## Conjunto de Exercícios 2 - Implementação de uma MLP utilizando objetos\n",
        "\n",
        "- Aqui, iremos repetir o mesmo procedimento feito anteriormente. Porém, iremos adotar uma implementação baseada no paradigma de orientação à objetos, que será muito importante em módulos futuros para definir modelos mais complexos e manter o código organizado.\n",
        "\n",
        "    - Abaixo teremos um código onde a classe MLP receberá quantas `features` teremos de entrada e saída, qual o tamanho das camadas ocultas, e quantas camadas ocultas iremos ter. Uma assinatura diferente para o `__init__` que você pode optar é `__init__(self, in_features, out_features, hidden_sizes)`, onde `hidden_sizes` representa uma lista com o tamanho de cada camada oculta, definindo assim em uma só variável o número de camadas ocultas e suas dimensões. Sinta-se livre para modificar o código e experimentar com ambas opções."
      ],
      "metadata": {
        "id": "Bp5MeuJml3l1"
      }
    },
    {
      "cell_type": "code",
      "source": [
        "class MLP(nn.Module):\n",
        "    def __init__(self, in_features, out_features, hidden_size, num_layers):\n",
        "        # Essa linha é obrigatória quando formos definir qualquer modelo em PyTorch dessa forma.\n",
        "        # Uma chamada equivalente é: super(self, MLP).__init__(), mas podemos omitir \"self\" e o nome da classe.\n",
        "        super().__init__()\n",
        "\n",
        "        # Implemente aqui o seu modelo (pode utilizar Sequential ou definir cada camada de forma separada)\n",
        "\n",
        "        hidden_layers = []\n",
        "        for _ in range(num_layers - 1):  # lembre-se que a primeira Linear já cria uma camada oculta\n",
        "            layer = nn.Linear(hidden_size, hidden_size)\n",
        "            hidden_layers.append(layer)\n",
        "            hidden_layers.append(nn.ReLU())\n",
        "\n",
        "        self.model = nn.Sequential(\n",
        "            nn.Linear(in_features, hidden_size), nn.ReLU(),\n",
        "            *hidden_layers,\n",
        "            nn.Linear(hidden_size, out_features)\n",
        "        )\n",
        "\n",
        "    # Devemos implementar a passagem do dado ao longo da nossa rede.\n",
        "    # Para isso, sobreescrevemos o método forward, definido pela classe herdada: nn.Module.\n",
        "    def forward(self, x):\n",
        "        output = self.model(x)\n",
        "        return output"
      ],
      "metadata": {
        "id": "4aU4-sp5abBh"
      },
      "execution_count": null,
      "outputs": []
    },
    {
      "cell_type": "code",
      "source": [
        "class AlternativeMLP(nn.Module):\n",
        "    def __init__(self, in_features, out_features, hidden_sizes):\n",
        "        super().__init__()\n",
        "\n",
        "        self.relu = nn.ReLU()\n",
        "        self.input_layer = nn.Linear(in_features, hidden_sizes[0])\n",
        "        self.output_layer = nn.Linear(hidden_sizes[-1], out_features)\n",
        "\n",
        "        hidden_layers = []\n",
        "        for i in range(len(hidden_sizes) - 1):\n",
        "            layer = nn.Linear(hidden_sizes[i], hidden_sizes[i+1])\n",
        "            hidden_layers.append(layer)\n",
        "            hidden_layers.append(nn.ReLU())\n",
        "\n",
        "        self.hidden_layers = nn.Sequential(*hidden_layers)\n",
        "\n",
        "    def forward(self, x):\n",
        "        output = self.relu(self.input_layer(x))\n",
        "        output = self.hidden_layers(output)\n",
        "        output = self.output_layer(output)\n",
        "        return output"
      ],
      "metadata": {
        "id": "19lv3SRICSlk"
      },
      "execution_count": null,
      "outputs": []
    },
    {
      "cell_type": "code",
      "source": [
        "in_features = 30\n",
        "out_features = 1\n",
        "\n",
        "# Instancie o seu modelo aqui\n",
        "model = MLP(in_features, out_features, hidden_size=64, num_layers=2)\n",
        "\n",
        "model = model.to(device)\n",
        "print(MLP)"
      ],
      "metadata": {
        "id": "yDJvdazdsgrk",
        "colab": {
          "base_uri": "https://localhost:8080/"
        },
        "outputId": "5f7df7e2-a26a-4d73-a10b-32938bfc836e"
      },
      "execution_count": null,
      "outputs": [
        {
          "output_type": "stream",
          "name": "stdout",
          "text": [
            "----------------------------------------------------------------\n",
            "        Layer (type)               Output Shape         Param #\n",
            "================================================================\n",
            "            Linear-1                   [-1, 64]           1,984\n",
            "              ReLU-2                   [-1, 64]               0\n",
            "            Linear-3                   [-1, 64]           4,160\n",
            "              ReLU-4                   [-1, 64]               0\n",
            "            Linear-5                    [-1, 1]              65\n",
            "================================================================\n",
            "Total params: 6,209\n",
            "Trainable params: 6,209\n",
            "Non-trainable params: 0\n",
            "----------------------------------------------------------------\n",
            "Input size (MB): 0.00\n",
            "Forward/backward pass size (MB): 0.00\n",
            "Params size (MB): 0.02\n",
            "Estimated Total Size (MB): 0.03\n",
            "----------------------------------------------------------------\n"
          ]
        }
      ]
    },
    {
      "cell_type": "markdown",
      "source": [
        "- Agora iremos treinar o modelo normalmente."
      ],
      "metadata": {
        "id": "jSiflErnuKfD"
      }
    },
    {
      "cell_type": "code",
      "source": [
        "learning_rate = 1e-4\n",
        "criterion = nn.BCEWithLogitsLoss()\n",
        "optimizer = optim.SGD(model.parameters(), lr=learning_rate)\n",
        "\n",
        "# Aqui iremos criar uma lista de loss para cada época\n",
        "loss_list = []\n",
        "\n",
        "# Iterando sobre as épocas\n",
        "n_epochs = 500\n",
        "for epoch in range(n_epochs):\n",
        "    preds = model(X)\n",
        "    loss = criterion(preds, y)\n",
        "\n",
        "    # Salvando a loss da iteração atual (para plots futuros)\n",
        "    loss_list.append(loss.item())\n",
        "\n",
        "    # Antes de fazermos o backward pass, iremos zerar o gradiente de todos os tensores\n",
        "    # atrelados ao otimizador utilizando a chamada de função .zero_grad() do nosso otimizador.\n",
        "    # Faremos isso pois os gradientes são acumulados, sempre que chamamos .backward(), em buffers nos\n",
        "    # tensores que representam os pesos dos nossos modelos, ou seja, não são sobrescritos.\n",
        "    # Para mais detalhes, você pode dar uma olhada na documentação do torch.autograd.backward\n",
        "    optimizer.zero_grad()\n",
        "\n",
        "    # Realizando o backward pass, ou seja, computando os gradientes da nossa função de perda\n",
        "    # com respeito aos parâmetros (pesos) do nosso modelo\n",
        "    loss.backward()\n",
        "\n",
        "    # Chamando a função .step() do nosso otimizador para realizar um \"passo\" na otimização.\n",
        "    # Nesse caso, o \"passo\" será realizar o cálculo que vimos do gradiente descendente\n",
        "    optimizer.step()\n",
        "\n",
        "    if (epoch + 1) % 10 == 0:\n",
        "        print(f'Epoch {epoch + 1}: loss = {loss.item():.5f}')"
      ],
      "metadata": {
        "id": "Yr5ykcPwuH2D",
        "colab": {
          "base_uri": "https://localhost:8080/"
        },
        "outputId": "b168e947-9741-4dfd-aad4-b781346224e4"
      },
      "execution_count": null,
      "outputs": [
        {
          "output_type": "stream",
          "name": "stdout",
          "text": [
            "Epoch 10: loss = 0.69283\n",
            "Epoch 20: loss = 0.51928\n",
            "Epoch 30: loss = 0.39598\n",
            "Epoch 40: loss = 0.36977\n",
            "Epoch 50: loss = 0.36173\n",
            "Epoch 60: loss = 0.35554\n",
            "Epoch 70: loss = 0.35035\n",
            "Epoch 80: loss = 0.34590\n",
            "Epoch 90: loss = 0.34181\n",
            "Epoch 100: loss = 0.33808\n",
            "Epoch 110: loss = 0.33465\n",
            "Epoch 120: loss = 0.33147\n",
            "Epoch 130: loss = 0.32855\n",
            "Epoch 140: loss = 0.32581\n",
            "Epoch 150: loss = 0.32321\n",
            "Epoch 160: loss = 0.32074\n",
            "Epoch 170: loss = 0.31840\n",
            "Epoch 180: loss = 0.31616\n",
            "Epoch 190: loss = 0.31400\n",
            "Epoch 200: loss = 0.31192\n",
            "Epoch 210: loss = 0.30991\n",
            "Epoch 220: loss = 0.30797\n",
            "Epoch 230: loss = 0.30613\n",
            "Epoch 240: loss = 0.30434\n",
            "Epoch 250: loss = 0.30262\n",
            "Epoch 260: loss = 0.30095\n",
            "Epoch 270: loss = 0.29932\n",
            "Epoch 280: loss = 0.29772\n",
            "Epoch 290: loss = 0.29617\n",
            "Epoch 300: loss = 0.29465\n",
            "Epoch 310: loss = 0.29315\n",
            "Epoch 320: loss = 0.29170\n",
            "Epoch 330: loss = 0.29029\n",
            "Epoch 340: loss = 0.28891\n",
            "Epoch 350: loss = 0.28757\n",
            "Epoch 360: loss = 0.28625\n",
            "Epoch 370: loss = 0.28496\n",
            "Epoch 380: loss = 0.28370\n",
            "Epoch 390: loss = 0.28246\n",
            "Epoch 400: loss = 0.28124\n",
            "Epoch 410: loss = 0.28005\n",
            "Epoch 420: loss = 0.27888\n",
            "Epoch 430: loss = 0.27773\n",
            "Epoch 440: loss = 0.27660\n",
            "Epoch 450: loss = 0.27549\n",
            "Epoch 460: loss = 0.27440\n",
            "Epoch 470: loss = 0.27333\n",
            "Epoch 480: loss = 0.27228\n",
            "Epoch 490: loss = 0.27124\n",
            "Epoch 500: loss = 0.27022\n"
          ]
        }
      ]
    },
    {
      "cell_type": "code",
      "source": [
        "fig, ax = plt.subplots(1, 1, figsize=(10, 8))\n",
        "\n",
        "ax.set_title('Evolução da função de perda ao longo das épocas')\n",
        "ax.set_ylabel('Valor da função de perda')\n",
        "ax.set_xlabel('Épocas')\n",
        "ax.plot(np.asarray(loss_list))\n",
        "\n",
        "plt.show()"
      ],
      "metadata": {
        "colab": {
          "base_uri": "https://localhost:8080/",
          "height": 721
        },
        "id": "K6mVhcYRHpIN",
        "outputId": "f163a4e9-07ea-4e32-e91b-6ca02628ad96"
      },
      "execution_count": null,
      "outputs": [
        {
          "output_type": "display_data",
          "data": {
            "text/plain": [
              "<Figure size 1000x800 with 1 Axes>"
            ],
            "image/png": "[encoded data removed]"
          },
          "metadata": {}
        }
      ]
    }
  ]
}