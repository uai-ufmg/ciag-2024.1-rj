{
  "nbformat": 4,
  "nbformat_minor": 0,
  "metadata": {
    "colab": {
      "provenance": []
    },
    "kernelspec": {
      "display_name": "Python 3",
      "language": "python",
      "name": "python3"
    },
    "language_info": {
      "codemirror_mode": {
        "name": "ipython",
        "version": 3
      },
      "file_extension": ".py",
      "mimetype": "text/x-python",
      "name": "python",
      "nbconvert_exporter": "python",
      "pygments_lexer": "ipython3",
      "version": "3.6.8"
    },
    "gpuClass": "standard",
    "widgets": {
      "application/vnd.jupyter.widget-state+json": {
        "0d3d011136a74e91bed8e4d4e2363a01": {
          "model_module": "@jupyter-widgets/controls",
          "model_name": "HBoxModel",
          "model_module_version": "1.5.0",
          "state": {
            "_dom_classes": [],
            "_model_module": "@jupyter-widgets/controls",
            "_model_module_version": "1.5.0",
            "_model_name": "HBoxModel",
            "_view_count": null,
            "_view_module": "@jupyter-widgets/controls",
            "_view_module_version": "1.5.0",
            "_view_name": "HBoxView",
            "box_style": "",
            "children": [
              "IPY_MODEL_cfea0277a17d48728c1b7f1a793410d4",
              "IPY_MODEL_fc2f3072ebd74beab3c8a82452310b26",
              "IPY_MODEL_31e123880ae14a73a9282d5c80270978"
            ],
            "layout": "IPY_MODEL_ed268b6a76774cc2ac7e75bb82361189"
          }
        },
        "cfea0277a17d48728c1b7f1a793410d4": {
          "model_module": "@jupyter-widgets/controls",
          "model_name": "HTMLModel",
          "model_module_version": "1.5.0",
          "state": {
            "_dom_classes": [],
            "_model_module": "@jupyter-widgets/controls",
            "_model_module_version": "1.5.0",
            "_model_name": "HTMLModel",
            "_view_count": null,
            "_view_module": "@jupyter-widgets/controls",
            "_view_module_version": "1.5.0",
            "_view_name": "HTMLView",
            "description": "",
            "description_tooltip": null,
            "layout": "IPY_MODEL_c0f6966752714226bf51a24524177f40",
            "placeholder": "​",
            "style": "IPY_MODEL_267eacf78d3747098b32160514297539",
            "value": "100%"
          }
        },
        "fc2f3072ebd74beab3c8a82452310b26": {
          "model_module": "@jupyter-widgets/controls",
          "model_name": "FloatProgressModel",
          "model_module_version": "1.5.0",
          "state": {
            "_dom_classes": [],
            "_model_module": "@jupyter-widgets/controls",
            "_model_module_version": "1.5.0",
            "_model_name": "FloatProgressModel",
            "_view_count": null,
            "_view_module": "@jupyter-widgets/controls",
            "_view_module_version": "1.5.0",
            "_view_name": "ProgressView",
            "bar_style": "success",
            "description": "",
            "description_tooltip": null,
            "layout": "IPY_MODEL_efd4a3a49e43416f8a8617da223ded61",
            "max": 9912422,
            "min": 0,
            "orientation": "horizontal",
            "style": "IPY_MODEL_41bf2756335a4cd8bcd44eca0b1fe4cc",
            "value": 9912422
          }
        },
        "31e123880ae14a73a9282d5c80270978": {
          "model_module": "@jupyter-widgets/controls",
          "model_name": "HTMLModel",
          "model_module_version": "1.5.0",
          "state": {
            "_dom_classes": [],
            "_model_module": "@jupyter-widgets/controls",
            "_model_module_version": "1.5.0",
            "_model_name": "HTMLModel",
            "_view_count": null,
            "_view_module": "@jupyter-widgets/controls",
            "_view_module_version": "1.5.0",
            "_view_name": "HTMLView",
            "description": "",
            "description_tooltip": null,
            "layout": "IPY_MODEL_6760ff36d7d34f7e9f87adc19b2d8f37",
            "placeholder": "​",
            "style": "IPY_MODEL_ba7a003b7f4d40f88bb5009ff8ba4b1d",
            "value": " 9912422/9912422 [00:00&lt;00:00, 200129540.42it/s]"
          }
        },
        "ed268b6a76774cc2ac7e75bb82361189": {
          "model_module": "@jupyter-widgets/base",
          "model_name": "LayoutModel",
          "model_module_version": "1.2.0",
          "state": {
            "_model_module": "@jupyter-widgets/base",
            "_model_module_version": "1.2.0",
            "_model_name": "LayoutModel",
            "_view_count": null,
            "_view_module": "@jupyter-widgets/base",
            "_view_module_version": "1.2.0",
            "_view_name": "LayoutView",
            "align_content": null,
            "align_items": null,
            "align_self": null,
            "border": null,
            "bottom": null,
            "display": null,
            "flex": null,
            "flex_flow": null,
            "grid_area": null,
            "grid_auto_columns": null,
            "grid_auto_flow": null,
            "grid_auto_rows": null,
            "grid_column": null,
            "grid_gap": null,
            "grid_row": null,
            "grid_template_areas": null,
            "grid_template_columns": null,
            "grid_template_rows": null,
            "height": null,
            "justify_content": null,
            "justify_items": null,
            "left": null,
            "margin": null,
            "max_height": null,
            "max_width": null,
            "min_height": null,
            "min_width": null,
            "object_fit": null,
            "object_position": null,
            "order": null,
            "overflow": null,
            "overflow_x": null,
            "overflow_y": null,
            "padding": null,
            "right": null,
            "top": null,
            "visibility": null,
            "width": null
          }
        },
        "c0f6966752714226bf51a24524177f40": {
          "model_module": "@jupyter-widgets/base",
          "model_name": "LayoutModel",
          "model_module_version": "1.2.0",
          "state": {
            "_model_module": "@jupyter-widgets/base",
            "_model_module_version": "1.2.0",
            "_model_name": "LayoutModel",
            "_view_count": null,
            "_view_module": "@jupyter-widgets/base",
            "_view_module_version": "1.2.0",
            "_view_name": "LayoutView",
            "align_content": null,
            "align_items": null,
            "align_self": null,
            "border": null,
            "bottom": null,
            "display": null,
            "flex": null,
            "flex_flow": null,
            "grid_area": null,
            "grid_auto_columns": null,
            "grid_auto_flow": null,
            "grid_auto_rows": null,
            "grid_column": null,
            "grid_gap": null,
            "grid_row": null,
            "grid_template_areas": null,
            "grid_template_columns": null,
            "grid_template_rows": null,
            "height": null,
            "justify_content": null,
            "justify_items": null,
            "left": null,
            "margin": null,
            "max_height": null,
            "max_width": null,
            "min_height": null,
            "min_width": null,
            "object_fit": null,
            "object_position": null,
            "order": null,
            "overflow": null,
            "overflow_x": null,
            "overflow_y": null,
            "padding": null,
            "right": null,
            "top": null,
            "visibility": null,
            "width": null
          }
        },
        "267eacf78d3747098b32160514297539": {
          "model_module": "@jupyter-widgets/controls",
          "model_name": "DescriptionStyleModel",
          "model_module_version": "1.5.0",
          "state": {
            "_model_module": "@jupyter-widgets/controls",
            "_model_module_version": "1.5.0",
            "_model_name": "DescriptionStyleModel",
            "_view_count": null,
            "_view_module": "@jupyter-widgets/base",
            "_view_module_version": "1.2.0",
            "_view_name": "StyleView",
            "description_width": ""
          }
        },
        "efd4a3a49e43416f8a8617da223ded61": {
          "model_module": "@jupyter-widgets/base",
          "model_name": "LayoutModel",
          "model_module_version": "1.2.0",
          "state": {
            "_model_module": "@jupyter-widgets/base",
            "_model_module_version": "1.2.0",
            "_model_name": "LayoutModel",
            "_view_count": null,
            "_view_module": "@jupyter-widgets/base",
            "_view_module_version": "1.2.0",
            "_view_name": "LayoutView",
            "align_content": null,
            "align_items": null,
            "align_self": null,
            "border": null,
            "bottom": null,
            "display": null,
            "flex": null,
            "flex_flow": null,
            "grid_area": null,
            "grid_auto_columns": null,
            "grid_auto_flow": null,
            "grid_auto_rows": null,
            "grid_column": null,
            "grid_gap": null,
            "grid_row": null,
            "grid_template_areas": null,
            "grid_template_columns": null,
            "grid_template_rows": null,
            "height": null,
            "justify_content": null,
            "justify_items": null,
            "left": null,
            "margin": null,
            "max_height": null,
            "max_width": null,
            "min_height": null,
            "min_width": null,
            "object_fit": null,
            "object_position": null,
            "order": null,
            "overflow": null,
            "overflow_x": null,
            "overflow_y": null,
            "padding": null,
            "right": null,
            "top": null,
            "visibility": null,
            "width": null
          }
        },
        "41bf2756335a4cd8bcd44eca0b1fe4cc": {
          "model_module": "@jupyter-widgets/controls",
          "model_name": "ProgressStyleModel",
          "model_module_version": "1.5.0",
          "state": {
            "_model_module": "@jupyter-widgets/controls",
            "_model_module_version": "1.5.0",
            "_model_name": "ProgressStyleModel",
            "_view_count": null,
            "_view_module": "@jupyter-widgets/base",
            "_view_module_version": "1.2.0",
            "_view_name": "StyleView",
            "bar_color": null,
            "description_width": ""
          }
        },
        "6760ff36d7d34f7e9f87adc19b2d8f37": {
          "model_module": "@jupyter-widgets/base",
          "model_name": "LayoutModel",
          "model_module_version": "1.2.0",
          "state": {
            "_model_module": "@jupyter-widgets/base",
            "_model_module_version": "1.2.0",
            "_model_name": "LayoutModel",
            "_view_count": null,
            "_view_module": "@jupyter-widgets/base",
            "_view_module_version": "1.2.0",
            "_view_name": "LayoutView",
            "align_content": null,
            "align_items": null,
            "align_self": null,
            "border": null,
            "bottom": null,
            "display": null,
            "flex": null,
            "flex_flow": null,
            "grid_area": null,
            "grid_auto_columns": null,
            "grid_auto_flow": null,
            "grid_auto_rows": null,
            "grid_column": null,
            "grid_gap": null,
            "grid_row": null,
            "grid_template_areas": null,
            "grid_template_columns": null,
            "grid_template_rows": null,
            "height": null,
            "justify_content": null,
            "justify_items": null,
            "left": null,
            "margin": null,
            "max_height": null,
            "max_width": null,
            "min_height": null,
            "min_width": null,
            "object_fit": null,
            "object_position": null,
            "order": null,
            "overflow": null,
            "overflow_x": null,
            "overflow_y": null,
            "padding": null,
            "right": null,
            "top": null,
            "visibility": null,
            "width": null
          }
        },
        "ba7a003b7f4d40f88bb5009ff8ba4b1d": {
          "model_module": "@jupyter-widgets/controls",
          "model_name": "DescriptionStyleModel",
          "model_module_version": "1.5.0",
          "state": {
            "_model_module": "@jupyter-widgets/controls",
            "_model_module_version": "1.5.0",
            "_model_name": "DescriptionStyleModel",
            "_view_count": null,
            "_view_module": "@jupyter-widgets/base",
            "_view_module_version": "1.2.0",
            "_view_name": "StyleView",
            "description_width": ""
          }
        },
        "ea7eb850ddda476ebbe029f01ec5061b": {
          "model_module": "@jupyter-widgets/controls",
          "model_name": "HBoxModel",
          "model_module_version": "1.5.0",
          "state": {
            "_dom_classes": [],
            "_model_module": "@jupyter-widgets/controls",
            "_model_module_version": "1.5.0",
            "_model_name": "HBoxModel",
            "_view_count": null,
            "_view_module": "@jupyter-widgets/controls",
            "_view_module_version": "1.5.0",
            "_view_name": "HBoxView",
            "box_style": "",
            "children": [
              "IPY_MODEL_46eb4bb94586407c818db7d9d1a36203",
              "IPY_MODEL_a8c65fb65a17400289993e10280eab69",
              "IPY_MODEL_85f0cf61309c4cba95c23ac340bd707f"
            ],
            "layout": "IPY_MODEL_fef545bf488d426296bb1c1f15105d17"
          }
        },
        "46eb4bb94586407c818db7d9d1a36203": {
          "model_module": "@jupyter-widgets/controls",
          "model_name": "HTMLModel",
          "model_module_version": "1.5.0",
          "state": {
            "_dom_classes": [],
            "_model_module": "@jupyter-widgets/controls",
            "_model_module_version": "1.5.0",
            "_model_name": "HTMLModel",
            "_view_count": null,
            "_view_module": "@jupyter-widgets/controls",
            "_view_module_version": "1.5.0",
            "_view_name": "HTMLView",
            "description": "",
            "description_tooltip": null,
            "layout": "IPY_MODEL_81a3047f6b2d42a595b1e1879d3b3cb6",
            "placeholder": "​",
            "style": "IPY_MODEL_103d6c42a09f487ba28108b465ca921b",
            "value": "100%"
          }
        },
        "a8c65fb65a17400289993e10280eab69": {
          "model_module": "@jupyter-widgets/controls",
          "model_name": "FloatProgressModel",
          "model_module_version": "1.5.0",
          "state": {
            "_dom_classes": [],
            "_model_module": "@jupyter-widgets/controls",
            "_model_module_version": "1.5.0",
            "_model_name": "FloatProgressModel",
            "_view_count": null,
            "_view_module": "@jupyter-widgets/controls",
            "_view_module_version": "1.5.0",
            "_view_name": "ProgressView",
            "bar_style": "success",
            "description": "",
            "description_tooltip": null,
            "layout": "IPY_MODEL_ef757d7ce3ca40a78c6410ee810abad8",
            "max": 28881,
            "min": 0,
            "orientation": "horizontal",
            "style": "IPY_MODEL_3373f494fdd041a288b3e4620ae1c6f6",
            "value": 28881
          }
        },
        "85f0cf61309c4cba95c23ac340bd707f": {
          "model_module": "@jupyter-widgets/controls",
          "model_name": "HTMLModel",
          "model_module_version": "1.5.0",
          "state": {
            "_dom_classes": [],
            "_model_module": "@jupyter-widgets/controls",
            "_model_module_version": "1.5.0",
            "_model_name": "HTMLModel",
            "_view_count": null,
            "_view_module": "@jupyter-widgets/controls",
            "_view_module_version": "1.5.0",
            "_view_name": "HTMLView",
            "description": "",
            "description_tooltip": null,
            "layout": "IPY_MODEL_bfe1e043e9e144f3a3da8e8dfc0b5480",
            "placeholder": "​",
            "style": "IPY_MODEL_ebde3470f639453cabef1f9a035e86f4",
            "value": " 28881/28881 [00:00&lt;00:00, 1501843.51it/s]"
          }
        },
        "fef545bf488d426296bb1c1f15105d17": {
          "model_module": "@jupyter-widgets/base",
          "model_name": "LayoutModel",
          "model_module_version": "1.2.0",
          "state": {
            "_model_module": "@jupyter-widgets/base",
            "_model_module_version": "1.2.0",
            "_model_name": "LayoutModel",
            "_view_count": null,
            "_view_module": "@jupyter-widgets/base",
            "_view_module_version": "1.2.0",
            "_view_name": "LayoutView",
            "align_content": null,
            "align_items": null,
            "align_self": null,
            "border": null,
            "bottom": null,
            "display": null,
            "flex": null,
            "flex_flow": null,
            "grid_area": null,
            "grid_auto_columns": null,
            "grid_auto_flow": null,
            "grid_auto_rows": null,
            "grid_column": null,
            "grid_gap": null,
            "grid_row": null,
            "grid_template_areas": null,
            "grid_template_columns": null,
            "grid_template_rows": null,
            "height": null,
            "justify_content": null,
            "justify_items": null,
            "left": null,
            "margin": null,
            "max_height": null,
            "max_width": null,
            "min_height": null,
            "min_width": null,
            "object_fit": null,
            "object_position": null,
            "order": null,
            "overflow": null,
            "overflow_x": null,
            "overflow_y": null,
            "padding": null,
            "right": null,
            "top": null,
            "visibility": null,
            "width": null
          }
        },
        "81a3047f6b2d42a595b1e1879d3b3cb6": {
          "model_module": "@jupyter-widgets/base",
          "model_name": "LayoutModel",
          "model_module_version": "1.2.0",
          "state": {
            "_model_module": "@jupyter-widgets/base",
            "_model_module_version": "1.2.0",
            "_model_name": "LayoutModel",
            "_view_count": null,
            "_view_module": "@jupyter-widgets/base",
            "_view_module_version": "1.2.0",
            "_view_name": "LayoutView",
            "align_content": null,
            "align_items": null,
            "align_self": null,
            "border": null,
            "bottom": null,
            "display": null,
            "flex": null,
            "flex_flow": null,
            "grid_area": null,
            "grid_auto_columns": null,
            "grid_auto_flow": null,
            "grid_auto_rows": null,
            "grid_column": null,
            "grid_gap": null,
            "grid_row": null,
            "grid_template_areas": null,
            "grid_template_columns": null,
            "grid_template_rows": null,
            "height": null,
            "justify_content": null,
            "justify_items": null,
            "left": null,
            "margin": null,
            "max_height": null,
            "max_width": null,
            "min_height": null,
            "min_width": null,
            "object_fit": null,
            "object_position": null,
            "order": null,
            "overflow": null,
            "overflow_x": null,
            "overflow_y": null,
            "padding": null,
            "right": null,
            "top": null,
            "visibility": null,
            "width": null
          }
        },
        "103d6c42a09f487ba28108b465ca921b": {
          "model_module": "@jupyter-widgets/controls",
          "model_name": "DescriptionStyleModel",
          "model_module_version": "1.5.0",
          "state": {
            "_model_module": "@jupyter-widgets/controls",
            "_model_module_version": "1.5.0",
            "_model_name": "DescriptionStyleModel",
            "_view_count": null,
            "_view_module": "@jupyter-widgets/base",
            "_view_module_version": "1.2.0",
            "_view_name": "StyleView",
            "description_width": ""
          }
        },
        "ef757d7ce3ca40a78c6410ee810abad8": {
          "model_module": "@jupyter-widgets/base",
          "model_name": "LayoutModel",
          "model_module_version": "1.2.0",
          "state": {
            "_model_module": "@jupyter-widgets/base",
            "_model_module_version": "1.2.0",
            "_model_name": "LayoutModel",
            "_view_count": null,
            "_view_module": "@jupyter-widgets/base",
            "_view_module_version": "1.2.0",
            "_view_name": "LayoutView",
            "align_content": null,
            "align_items": null,
            "align_self": null,
            "border": null,
            "bottom": null,
            "display": null,
            "flex": null,
            "flex_flow": null,
            "grid_area": null,
            "grid_auto_columns": null,
            "grid_auto_flow": null,
            "grid_auto_rows": null,
            "grid_column": null,
            "grid_gap": null,
            "grid_row": null,
            "grid_template_areas": null,
            "grid_template_columns": null,
            "grid_template_rows": null,
            "height": null,
            "justify_content": null,
            "justify_items": null,
            "left": null,
            "margin": null,
            "max_height": null,
            "max_width": null,
            "min_height": null,
            "min_width": null,
            "object_fit": null,
            "object_position": null,
            "order": null,
            "overflow": null,
            "overflow_x": null,
            "overflow_y": null,
            "padding": null,
            "right": null,
            "top": null,
            "visibility": null,
            "width": null
          }
        },
        "3373f494fdd041a288b3e4620ae1c6f6": {
          "model_module": "@jupyter-widgets/controls",
          "model_name": "ProgressStyleModel",
          "model_module_version": "1.5.0",
          "state": {
            "_model_module": "@jupyter-widgets/controls",
            "_model_module_version": "1.5.0",
            "_model_name": "ProgressStyleModel",
            "_view_count": null,
            "_view_module": "@jupyter-widgets/base",
            "_view_module_version": "1.2.0",
            "_view_name": "StyleView",
            "bar_color": null,
            "description_width": ""
          }
        },
        "bfe1e043e9e144f3a3da8e8dfc0b5480": {
          "model_module": "@jupyter-widgets/base",
          "model_name": "LayoutModel",
          "model_module_version": "1.2.0",
          "state": {
            "_model_module": "@jupyter-widgets/base",
            "_model_module_version": "1.2.0",
            "_model_name": "LayoutModel",
            "_view_count": null,
            "_view_module": "@jupyter-widgets/base",
            "_view_module_version": "1.2.0",
            "_view_name": "LayoutView",
            "align_content": null,
            "align_items": null,
            "align_self": null,
            "border": null,
            "bottom": null,
            "display": null,
            "flex": null,
            "flex_flow": null,
            "grid_area": null,
            "grid_auto_columns": null,
            "grid_auto_flow": null,
            "grid_auto_rows": null,
            "grid_column": null,
            "grid_gap": null,
            "grid_row": null,
            "grid_template_areas": null,
            "grid_template_columns": null,
            "grid_template_rows": null,
            "height": null,
            "justify_content": null,
            "justify_items": null,
            "left": null,
            "margin": null,
            "max_height": null,
            "max_width": null,
            "min_height": null,
            "min_width": null,
            "object_fit": null,
            "object_position": null,
            "order": null,
            "overflow": null,
            "overflow_x": null,
            "overflow_y": null,
            "padding": null,
            "right": null,
            "top": null,
            "visibility": null,
            "width": null
          }
        },
        "ebde3470f639453cabef1f9a035e86f4": {
          "model_module": "@jupyter-widgets/controls",
          "model_name": "DescriptionStyleModel",
          "model_module_version": "1.5.0",
          "state": {
            "_model_module": "@jupyter-widgets/controls",
            "_model_module_version": "1.5.0",
            "_model_name": "DescriptionStyleModel",
            "_view_count": null,
            "_view_module": "@jupyter-widgets/base",
            "_view_module_version": "1.2.0",
            "_view_name": "StyleView",
            "description_width": ""
          }
        },
        "00fd27bafaec4e02ad201f556d2037dc": {
          "model_module": "@jupyter-widgets/controls",
          "model_name": "HBoxModel",
          "model_module_version": "1.5.0",
          "state": {
            "_dom_classes": [],
            "_model_module": "@jupyter-widgets/controls",
            "_model_module_version": "1.5.0",
            "_model_name": "HBoxModel",
            "_view_count": null,
            "_view_module": "@jupyter-widgets/controls",
            "_view_module_version": "1.5.0",
            "_view_name": "HBoxView",
            "box_style": "",
            "children": [
              "IPY_MODEL_eea956bbff564d3a9c9cfc10784d1198",
              "IPY_MODEL_bd2c873ddd874030a21468493fefb874",
              "IPY_MODEL_d29484edcc75432689b0b22f2bc950c2"
            ],
            "layout": "IPY_MODEL_4730a2e7c147434aac3351144a048139"
          }
        },
        "eea956bbff564d3a9c9cfc10784d1198": {
          "model_module": "@jupyter-widgets/controls",
          "model_name": "HTMLModel",
          "model_module_version": "1.5.0",
          "state": {
            "_dom_classes": [],
            "_model_module": "@jupyter-widgets/controls",
            "_model_module_version": "1.5.0",
            "_model_name": "HTMLModel",
            "_view_count": null,
            "_view_module": "@jupyter-widgets/controls",
            "_view_module_version": "1.5.0",
            "_view_name": "HTMLView",
            "description": "",
            "description_tooltip": null,
            "layout": "IPY_MODEL_7b108f8c33a846fc867f62200481c78d",
            "placeholder": "​",
            "style": "IPY_MODEL_169cf93a0410457186a9ac151ab316f0",
            "value": "100%"
          }
        },
        "bd2c873ddd874030a21468493fefb874": {
          "model_module": "@jupyter-widgets/controls",
          "model_name": "FloatProgressModel",
          "model_module_version": "1.5.0",
          "state": {
            "_dom_classes": [],
            "_model_module": "@jupyter-widgets/controls",
            "_model_module_version": "1.5.0",
            "_model_name": "FloatProgressModel",
            "_view_count": null,
            "_view_module": "@jupyter-widgets/controls",
            "_view_module_version": "1.5.0",
            "_view_name": "ProgressView",
            "bar_style": "success",
            "description": "",
            "description_tooltip": null,
            "layout": "IPY_MODEL_828725c9356348ddb3a4f0dc0eebcf0b",
            "max": 1648877,
            "min": 0,
            "orientation": "horizontal",
            "style": "IPY_MODEL_95d8a1250d3848b488cb5fc8971c6de6",
            "value": 1648877
          }
        },
        "d29484edcc75432689b0b22f2bc950c2": {
          "model_module": "@jupyter-widgets/controls",
          "model_name": "HTMLModel",
          "model_module_version": "1.5.0",
          "state": {
            "_dom_classes": [],
            "_model_module": "@jupyter-widgets/controls",
            "_model_module_version": "1.5.0",
            "_model_name": "HTMLModel",
            "_view_count": null,
            "_view_module": "@jupyter-widgets/controls",
            "_view_module_version": "1.5.0",
            "_view_name": "HTMLView",
            "description": "",
            "description_tooltip": null,
            "layout": "IPY_MODEL_a11181da1f0544efb51f03a86ac27c16",
            "placeholder": "​",
            "style": "IPY_MODEL_c2ceb08eab4f4d01b4ad629c7048df35",
            "value": " 1648877/1648877 [00:00&lt;00:00, 29614573.70it/s]"
          }
        },
        "4730a2e7c147434aac3351144a048139": {
          "model_module": "@jupyter-widgets/base",
          "model_name": "LayoutModel",
          "model_module_version": "1.2.0",
          "state": {
            "_model_module": "@jupyter-widgets/base",
            "_model_module_version": "1.2.0",
            "_model_name": "LayoutModel",
            "_view_count": null,
            "_view_module": "@jupyter-widgets/base",
            "_view_module_version": "1.2.0",
            "_view_name": "LayoutView",
            "align_content": null,
            "align_items": null,
            "align_self": null,
            "border": null,
            "bottom": null,
            "display": null,
            "flex": null,
            "flex_flow": null,
            "grid_area": null,
            "grid_auto_columns": null,
            "grid_auto_flow": null,
            "grid_auto_rows": null,
            "grid_column": null,
            "grid_gap": null,
            "grid_row": null,
            "grid_template_areas": null,
            "grid_template_columns": null,
            "grid_template_rows": null,
            "height": null,
            "justify_content": null,
            "justify_items": null,
            "left": null,
            "margin": null,
            "max_height": null,
            "max_width": null,
            "min_height": null,
            "min_width": null,
            "object_fit": null,
            "object_position": null,
            "order": null,
            "overflow": null,
            "overflow_x": null,
            "overflow_y": null,
            "padding": null,
            "right": null,
            "top": null,
            "visibility": null,
            "width": null
          }
        },
        "7b108f8c33a846fc867f62200481c78d": {
          "model_module": "@jupyter-widgets/base",
          "model_name": "LayoutModel",
          "model_module_version": "1.2.0",
          "state": {
            "_model_module": "@jupyter-widgets/base",
            "_model_module_version": "1.2.0",
            "_model_name": "LayoutModel",
            "_view_count": null,
            "_view_module": "@jupyter-widgets/base",
            "_view_module_version": "1.2.0",
            "_view_name": "LayoutView",
            "align_content": null,
            "align_items": null,
            "align_self": null,
            "border": null,
            "bottom": null,
            "display": null,
            "flex": null,
            "flex_flow": null,
            "grid_area": null,
            "grid_auto_columns": null,
            "grid_auto_flow": null,
            "grid_auto_rows": null,
            "grid_column": null,
            "grid_gap": null,
            "grid_row": null,
            "grid_template_areas": null,
            "grid_template_columns": null,
            "grid_template_rows": null,
            "height": null,
            "justify_content": null,
            "justify_items": null,
            "left": null,
            "margin": null,
            "max_height": null,
            "max_width": null,
            "min_height": null,
            "min_width": null,
            "object_fit": null,
            "object_position": null,
            "order": null,
            "overflow": null,
            "overflow_x": null,
            "overflow_y": null,
            "padding": null,
            "right": null,
            "top": null,
            "visibility": null,
            "width": null
          }
        },
        "169cf93a0410457186a9ac151ab316f0": {
          "model_module": "@jupyter-widgets/controls",
          "model_name": "DescriptionStyleModel",
          "model_module_version": "1.5.0",
          "state": {
            "_model_module": "@jupyter-widgets/controls",
            "_model_module_version": "1.5.0",
            "_model_name": "DescriptionStyleModel",
            "_view_count": null,
            "_view_module": "@jupyter-widgets/base",
            "_view_module_version": "1.2.0",
            "_view_name": "StyleView",
            "description_width": ""
          }
        },
        "828725c9356348ddb3a4f0dc0eebcf0b": {
          "model_module": "@jupyter-widgets/base",
          "model_name": "LayoutModel",
          "model_module_version": "1.2.0",
          "state": {
            "_model_module": "@jupyter-widgets/base",
            "_model_module_version": "1.2.0",
            "_model_name": "LayoutModel",
            "_view_count": null,
            "_view_module": "@jupyter-widgets/base",
            "_view_module_version": "1.2.0",
            "_view_name": "LayoutView",
            "align_content": null,
            "align_items": null,
            "align_self": null,
            "border": null,
            "bottom": null,
            "display": null,
            "flex": null,
            "flex_flow": null,
            "grid_area": null,
            "grid_auto_columns": null,
            "grid_auto_flow": null,
            "grid_auto_rows": null,
            "grid_column": null,
            "grid_gap": null,
            "grid_row": null,
            "grid_template_areas": null,
            "grid_template_columns": null,
            "grid_template_rows": null,
            "height": null,
            "justify_content": null,
            "justify_items": null,
            "left": null,
            "margin": null,
            "max_height": null,
            "max_width": null,
            "min_height": null,
            "min_width": null,
            "object_fit": null,
            "object_position": null,
            "order": null,
            "overflow": null,
            "overflow_x": null,
            "overflow_y": null,
            "padding": null,
            "right": null,
            "top": null,
            "visibility": null,
            "width": null
          }
        },
        "95d8a1250d3848b488cb5fc8971c6de6": {
          "model_module": "@jupyter-widgets/controls",
          "model_name": "ProgressStyleModel",
          "model_module_version": "1.5.0",
          "state": {
            "_model_module": "@jupyter-widgets/controls",
            "_model_module_version": "1.5.0",
            "_model_name": "ProgressStyleModel",
            "_view_count": null,
            "_view_module": "@jupyter-widgets/base",
            "_view_module_version": "1.2.0",
            "_view_name": "StyleView",
            "bar_color": null,
            "description_width": ""
          }
        },
        "a11181da1f0544efb51f03a86ac27c16": {
          "model_module": "@jupyter-widgets/base",
          "model_name": "LayoutModel",
          "model_module_version": "1.2.0",
          "state": {
            "_model_module": "@jupyter-widgets/base",
            "_model_module_version": "1.2.0",
            "_model_name": "LayoutModel",
            "_view_count": null,
            "_view_module": "@jupyter-widgets/base",
            "_view_module_version": "1.2.0",
            "_view_name": "LayoutView",
            "align_content": null,
            "align_items": null,
            "align_self": null,
            "border": null,
            "bottom": null,
            "display": null,
            "flex": null,
            "flex_flow": null,
            "grid_area": null,
            "grid_auto_columns": null,
            "grid_auto_flow": null,
            "grid_auto_rows": null,
            "grid_column": null,
            "grid_gap": null,
            "grid_row": null,
            "grid_template_areas": null,
            "grid_template_columns": null,
            "grid_template_rows": null,
            "height": null,
            "justify_content": null,
            "justify_items": null,
            "left": null,
            "margin": null,
            "max_height": null,
            "max_width": null,
            "min_height": null,
            "min_width": null,
            "object_fit": null,
            "object_position": null,
            "order": null,
            "overflow": null,
            "overflow_x": null,
            "overflow_y": null,
            "padding": null,
            "right": null,
            "top": null,
            "visibility": null,
            "width": null
          }
        },
        "c2ceb08eab4f4d01b4ad629c7048df35": {
          "model_module": "@jupyter-widgets/controls",
          "model_name": "DescriptionStyleModel",
          "model_module_version": "1.5.0",
          "state": {
            "_model_module": "@jupyter-widgets/controls",
            "_model_module_version": "1.5.0",
            "_model_name": "DescriptionStyleModel",
            "_view_count": null,
            "_view_module": "@jupyter-widgets/base",
            "_view_module_version": "1.2.0",
            "_view_name": "StyleView",
            "description_width": ""
          }
        },
        "c7240a3fa7cc4fedb906dd155c49c8e5": {
          "model_module": "@jupyter-widgets/controls",
          "model_name": "HBoxModel",
          "model_module_version": "1.5.0",
          "state": {
            "_dom_classes": [],
            "_model_module": "@jupyter-widgets/controls",
            "_model_module_version": "1.5.0",
            "_model_name": "HBoxModel",
            "_view_count": null,
            "_view_module": "@jupyter-widgets/controls",
            "_view_module_version": "1.5.0",
            "_view_name": "HBoxView",
            "box_style": "",
            "children": [
              "IPY_MODEL_0606baab8d054046b0879ef5bc25ce2b",
              "IPY_MODEL_c0e757cba384406c8d4d0e59f41d76e7",
              "IPY_MODEL_50bc1748f5d043368c96d7541458aab9"
            ],
            "layout": "IPY_MODEL_c353f35d2ebd435eb97648982c62a12b"
          }
        },
        "0606baab8d054046b0879ef5bc25ce2b": {
          "model_module": "@jupyter-widgets/controls",
          "model_name": "HTMLModel",
          "model_module_version": "1.5.0",
          "state": {
            "_dom_classes": [],
            "_model_module": "@jupyter-widgets/controls",
            "_model_module_version": "1.5.0",
            "_model_name": "HTMLModel",
            "_view_count": null,
            "_view_module": "@jupyter-widgets/controls",
            "_view_module_version": "1.5.0",
            "_view_name": "HTMLView",
            "description": "",
            "description_tooltip": null,
            "layout": "IPY_MODEL_07300642245e43538fa2ae1f517791db",
            "placeholder": "​",
            "style": "IPY_MODEL_9e4bd469873c4123aadabd63a1fe91a0",
            "value": "100%"
          }
        },
        "c0e757cba384406c8d4d0e59f41d76e7": {
          "model_module": "@jupyter-widgets/controls",
          "model_name": "FloatProgressModel",
          "model_module_version": "1.5.0",
          "state": {
            "_dom_classes": [],
            "_model_module": "@jupyter-widgets/controls",
            "_model_module_version": "1.5.0",
            "_model_name": "FloatProgressModel",
            "_view_count": null,
            "_view_module": "@jupyter-widgets/controls",
            "_view_module_version": "1.5.0",
            "_view_name": "ProgressView",
            "bar_style": "success",
            "description": "",
            "description_tooltip": null,
            "layout": "IPY_MODEL_25384f3fdb854d258e88987f7eb4407a",
            "max": 4542,
            "min": 0,
            "orientation": "horizontal",
            "style": "IPY_MODEL_29b84dac7343457eb1c7792b9e0b1223",
            "value": 4542
          }
        },
        "50bc1748f5d043368c96d7541458aab9": {
          "model_module": "@jupyter-widgets/controls",
          "model_name": "HTMLModel",
          "model_module_version": "1.5.0",
          "state": {
            "_dom_classes": [],
            "_model_module": "@jupyter-widgets/controls",
            "_model_module_version": "1.5.0",
            "_model_name": "HTMLModel",
            "_view_count": null,
            "_view_module": "@jupyter-widgets/controls",
            "_view_module_version": "1.5.0",
            "_view_name": "HTMLView",
            "description": "",
            "description_tooltip": null,
            "layout": "IPY_MODEL_2d4ac53cd4e6447eb143a15ce029c8e3",
            "placeholder": "​",
            "style": "IPY_MODEL_83c505e23d1548f08a3e12053585b442",
            "value": " 4542/4542 [00:00&lt;00:00, 223821.05it/s]"
          }
        },
        "c353f35d2ebd435eb97648982c62a12b": {
          "model_module": "@jupyter-widgets/base",
          "model_name": "LayoutModel",
          "model_module_version": "1.2.0",
          "state": {
            "_model_module": "@jupyter-widgets/base",
            "_model_module_version": "1.2.0",
            "_model_name": "LayoutModel",
            "_view_count": null,
            "_view_module": "@jupyter-widgets/base",
            "_view_module_version": "1.2.0",
            "_view_name": "LayoutView",
            "align_content": null,
            "align_items": null,
            "align_self": null,
            "border": null,
            "bottom": null,
            "display": null,
            "flex": null,
            "flex_flow": null,
            "grid_area": null,
            "grid_auto_columns": null,
            "grid_auto_flow": null,
            "grid_auto_rows": null,
            "grid_column": null,
            "grid_gap": null,
            "grid_row": null,
            "grid_template_areas": null,
            "grid_template_columns": null,
            "grid_template_rows": null,
            "height": null,
            "justify_content": null,
            "justify_items": null,
            "left": null,
            "margin": null,
            "max_height": null,
            "max_width": null,
            "min_height": null,
            "min_width": null,
            "object_fit": null,
            "object_position": null,
            "order": null,
            "overflow": null,
            "overflow_x": null,
            "overflow_y": null,
            "padding": null,
            "right": null,
            "top": null,
            "visibility": null,
            "width": null
          }
        },
        "07300642245e43538fa2ae1f517791db": {
          "model_module": "@jupyter-widgets/base",
          "model_name": "LayoutModel",
          "model_module_version": "1.2.0",
          "state": {
            "_model_module": "@jupyter-widgets/base",
            "_model_module_version": "1.2.0",
            "_model_name": "LayoutModel",
            "_view_count": null,
            "_view_module": "@jupyter-widgets/base",
            "_view_module_version": "1.2.0",
            "_view_name": "LayoutView",
            "align_content": null,
            "align_items": null,
            "align_self": null,
            "border": null,
            "bottom": null,
            "display": null,
            "flex": null,
            "flex_flow": null,
            "grid_area": null,
            "grid_auto_columns": null,
            "grid_auto_flow": null,
            "grid_auto_rows": null,
            "grid_column": null,
            "grid_gap": null,
            "grid_row": null,
            "grid_template_areas": null,
            "grid_template_columns": null,
            "grid_template_rows": null,
            "height": null,
            "justify_content": null,
            "justify_items": null,
            "left": null,
            "margin": null,
            "max_height": null,
            "max_width": null,
            "min_height": null,
            "min_width": null,
            "object_fit": null,
            "object_position": null,
            "order": null,
            "overflow": null,
            "overflow_x": null,
            "overflow_y": null,
            "padding": null,
            "right": null,
            "top": null,
            "visibility": null,
            "width": null
          }
        },
        "9e4bd469873c4123aadabd63a1fe91a0": {
          "model_module": "@jupyter-widgets/controls",
          "model_name": "DescriptionStyleModel",
          "model_module_version": "1.5.0",
          "state": {
            "_model_module": "@jupyter-widgets/controls",
            "_model_module_version": "1.5.0",
            "_model_name": "DescriptionStyleModel",
            "_view_count": null,
            "_view_module": "@jupyter-widgets/base",
            "_view_module_version": "1.2.0",
            "_view_name": "StyleView",
            "description_width": ""
          }
        },
        "25384f3fdb854d258e88987f7eb4407a": {
          "model_module": "@jupyter-widgets/base",
          "model_name": "LayoutModel",
          "model_module_version": "1.2.0",
          "state": {
            "_model_module": "@jupyter-widgets/base",
            "_model_module_version": "1.2.0",
            "_model_name": "LayoutModel",
            "_view_count": null,
            "_view_module": "@jupyter-widgets/base",
            "_view_module_version": "1.2.0",
            "_view_name": "LayoutView",
            "align_content": null,
            "align_items": null,
            "align_self": null,
            "border": null,
            "bottom": null,
            "display": null,
            "flex": null,
            "flex_flow": null,
            "grid_area": null,
            "grid_auto_columns": null,
            "grid_auto_flow": null,
            "grid_auto_rows": null,
            "grid_column": null,
            "grid_gap": null,
            "grid_row": null,
            "grid_template_areas": null,
            "grid_template_columns": null,
            "grid_template_rows": null,
            "height": null,
            "justify_content": null,
            "justify_items": null,
            "left": null,
            "margin": null,
            "max_height": null,
            "max_width": null,
            "min_height": null,
            "min_width": null,
            "object_fit": null,
            "object_position": null,
            "order": null,
            "overflow": null,
            "overflow_x": null,
            "overflow_y": null,
            "padding": null,
            "right": null,
            "top": null,
            "visibility": null,
            "width": null
          }
        },
        "29b84dac7343457eb1c7792b9e0b1223": {
          "model_module": "@jupyter-widgets/controls",
          "model_name": "ProgressStyleModel",
          "model_module_version": "1.5.0",
          "state": {
            "_model_module": "@jupyter-widgets/controls",
            "_model_module_version": "1.5.0",
            "_model_name": "ProgressStyleModel",
            "_view_count": null,
            "_view_module": "@jupyter-widgets/base",
            "_view_module_version": "1.2.0",
            "_view_name": "StyleView",
            "bar_color": null,
            "description_width": ""
          }
        },
        "2d4ac53cd4e6447eb143a15ce029c8e3": {
          "model_module": "@jupyter-widgets/base",
          "model_name": "LayoutModel",
          "model_module_version": "1.2.0",
          "state": {
            "_model_module": "@jupyter-widgets/base",
            "_model_module_version": "1.2.0",
            "_model_name": "LayoutModel",
            "_view_count": null,
            "_view_module": "@jupyter-widgets/base",
            "_view_module_version": "1.2.0",
            "_view_name": "LayoutView",
            "align_content": null,
            "align_items": null,
            "align_self": null,
            "border": null,
            "bottom": null,
            "display": null,
            "flex": null,
            "flex_flow": null,
            "grid_area": null,
            "grid_auto_columns": null,
            "grid_auto_flow": null,
            "grid_auto_rows": null,
            "grid_column": null,
            "grid_gap": null,
            "grid_row": null,
            "grid_template_areas": null,
            "grid_template_columns": null,
            "grid_template_rows": null,
            "height": null,
            "justify_content": null,
            "justify_items": null,
            "left": null,
            "margin": null,
            "max_height": null,
            "max_width": null,
            "min_height": null,
            "min_width": null,
            "object_fit": null,
            "object_position": null,
            "order": null,
            "overflow": null,
            "overflow_x": null,
            "overflow_y": null,
            "padding": null,
            "right": null,
            "top": null,
            "visibility": null,
            "width": null
          }
        },
        "83c505e23d1548f08a3e12053585b442": {
          "model_module": "@jupyter-widgets/controls",
          "model_name": "DescriptionStyleModel",
          "model_module_version": "1.5.0",
          "state": {
            "_model_module": "@jupyter-widgets/controls",
            "_model_module_version": "1.5.0",
            "_model_name": "DescriptionStyleModel",
            "_view_count": null,
            "_view_module": "@jupyter-widgets/base",
            "_view_module_version": "1.2.0",
            "_view_name": "StyleView",
            "description_width": ""
          }
        }
      }
    }
  },
  "cells": [
    {
      "cell_type": "markdown",
      "metadata": {
        "id": "Ed03SC1Jm9Yy"
      },
      "source": [
        "# Regularizadores\n",
        "\n",
        "- Neste código iremos analisar como funcionam os regularizadores e como eles são usados para evitar *overfitting*, fenônemo que faz com o modelo não generalize bem em outros dataset além do usando durante o treino.\n",
        "\n",
        "# *Overfitting*\n",
        "\n",
        "- Redes neurais são muito flexíveis porque não se limitam a ver cada atributo a ser aprendido individualmente. Em vez disso, elas podem aprender interações entre os atributos. Por causa disso, mesmo quando temos apenas um pequeno número de atributos, as redes neurais profundas são capazes de chegar ao *overfitting*, um cenário onde o modelo aprende a classificar muito bem (as vezes, perfeitamente) as instâncias de treino, porém não generaliza para outras instâncias não vista (como são os casos de amostras do conjunto de validação ou teste).\n",
        "\n",
        "- Para evitar esse cenário, algumas técnicas foram propostas para evitar o *overfitting*.\n",
        "\n",
        "**Como introduzido, nesta aula prática, implementaremos e testaremos duas técnicas para evitar o *overfitting*: *Dropout* e *Weight Decay***"
      ]
    },
    {
      "cell_type": "markdown",
      "metadata": {
        "id": "Gp6CwWnFnTwb"
      },
      "source": [
        "**ATENÇÃO: a alteração deste bloco pode implicar em problemas na execução dos blocos restantes!**"
      ]
    },
    {
      "cell_type": "code",
      "metadata": {
        "id": "XW-VATPAldgt"
      },
      "source": [
        "import torch\n",
        "import torch.nn.functional as F\n",
        "import torchvision\n",
        "\n",
        "import matplotlib.pyplot as plt\n",
        "from torchvision import datasets, transforms\n",
        "from torch import optim, nn\n",
        "\n",
        "import numpy as np\n",
        "\n",
        "import os\n",
        "import sys\n",
        "import time"
      ],
      "execution_count": null,
      "outputs": []
    },
    {
      "cell_type": "code",
      "source": [
        "use_cuda = torch.cuda.is_available()\n",
        "device = torch.device('cuda' if use_cuda else 'cpu')\n",
        "\n",
        "print(device)"
      ],
      "metadata": {
        "colab": {
          "base_uri": "https://localhost:8080/"
        },
        "id": "tSwZxRacKVYl",
        "outputId": "0f498022-3092-4f83-8e21-5bc9bed28435"
      },
      "execution_count": null,
      "outputs": [
        {
          "output_type": "stream",
          "name": "stdout",
          "text": [
            "cpu\n"
          ]
        }
      ]
    },
    {
      "cell_type": "markdown",
      "source": [
        "- Na célula abaixo, iremos definir funções auxiliares para o carregamento dos dados. Neste notebook, utilizaremos os dados do MNIST, visto em um notebook passado, e do Fashion-MNIST, uma base de dados com as mesmas características do MNIST original, porém as imagens são imagens de roupas, sapatos, etc.\n",
        "    - **Apenas para relembrar:** os dados dos datasets possuem dimensão `1 x 28 x 28`, o conjunto de treino possui 60000 amostras, o conjunto de teste possui 10000 amostras e temos um problema de classificação com 10 classes."
      ],
      "metadata": {
        "id": "NcqG4AOFLGgx"
      }
    },
    {
      "cell_type": "code",
      "metadata": {
        "id": "g9u0pCOtlWLu"
      },
      "source": [
        "# código para carregar o dataset do MNIST\n",
        "# http://yann.lecun.com/exdb/mnist/\n",
        "def load_data_mnist(batch_size, num_workers=2):\n",
        "    root = os.path.join('~', '.pytorch', 'datasets', 'mnist')\n",
        "    root = os.path.expanduser(root)\n",
        "\n",
        "    train_set = datasets.MNIST(root=root, train=True, download=True, transform=transforms.ToTensor())\n",
        "    test_set = datasets.MNIST(root=root, train=False, download=False, transform=transforms.ToTensor())\n",
        "\n",
        "    train_loader = torch.utils.data.DataLoader(\n",
        "        dataset=train_set,\n",
        "        batch_size=batch_size,\n",
        "        shuffle=True,\n",
        "        num_workers=num_workers\n",
        "    )\n",
        "\n",
        "    test_loader = torch.utils.data.DataLoader(\n",
        "        dataset=test_set,\n",
        "        batch_size=batch_size,\n",
        "        shuffle=False,\n",
        "        num_workers=num_workers\n",
        "    )\n",
        "\n",
        "    return train_loader, test_loader\n",
        "\n",
        "# código para carregar o dataset do Fashion-MNIST\n",
        "# https://github.com/zalandoresearch/fashion-mnist\n",
        "def load_data_fashion_mnist(batch_size, num_workers=2):\n",
        "    root=os.path.join('~', '.pytorch', 'datasets', 'fashion-mnist')\n",
        "    root = os.path.expanduser(root)\n",
        "\n",
        "    train_set = datasets.FashionMNIST(root=root, train=True, download=True, transform=transforms.ToTensor())\n",
        "    test_set = datasets.FashionMNIST(root=root, train=False, download=False, transform=transforms.ToTensor())\n",
        "\n",
        "    train_loader = torch.utils.data.DataLoader(\n",
        "        dataset=train_set,\n",
        "        batch_size=batch_size,\n",
        "        shuffle=True,\n",
        "        num_workers=num_workers\n",
        "    )\n",
        "\n",
        "    test_loader = torch.utils.data.DataLoader(\n",
        "        test_set,\n",
        "        batch_size=batch_size,\n",
        "        shuffle=False,\n",
        "        num_workers=num_workers\n",
        "    )\n",
        "\n",
        "    return train_loader, test_loader"
      ],
      "execution_count": null,
      "outputs": []
    },
    {
      "cell_type": "markdown",
      "source": [
        "- Na célula debaixo iremos definir algumas funções auxiliares para avaliar o nosso modelo (computar a acurácia) e realizar um processo de treino/validação dele."
      ],
      "metadata": {
        "id": "lzZPTnbQOyF5"
      }
    },
    {
      "cell_type": "code",
      "metadata": {
        "id": "8oSVf8u1Oi1m"
      },
      "source": [
        "# Função usada para calcular acurácia\n",
        "def evaluate_accuracy(dataloader, model, criterion):\n",
        "    \"\"\"Evaluate accuracy of a model on the given dataloader.\"\"\"\n",
        "\n",
        "    acc_sum = 0\n",
        "    loss_sum = 0\n",
        "    num_samples = 0\n",
        "\n",
        "    with torch.no_grad(): # usaremos no_grad() para não acumular o gradiente nos pesos\n",
        "        for X, y in dataloader:\n",
        "            # Fazendo o casting para o dispositivo apropriado\n",
        "            X = X.to(device)\n",
        "            y = y.to(device)\n",
        "\n",
        "            # Realizando o forward e computando a loss\n",
        "            logits = model(X)\n",
        "            loss_sum += criterion(logits, y).item()\n",
        "\n",
        "            # Computando as predições propriamente ditas (qual classe que predizemos)\n",
        "            probabilities = F.softmax(logits, dim=1)\n",
        "            preds = torch.max(probabilities, dim=1)[1]\n",
        "\n",
        "            # Atualizando a acurácia acumulada e o número total de samples\n",
        "            acc_sum += (preds == y).sum().item()\n",
        "            num_samples += y.size()[0]\n",
        "\n",
        "    # Computando a média da acurácia e da loss\n",
        "    average_acc = acc_sum / num_samples\n",
        "    average_loss = loss_sum / len(dataloader)\n",
        "\n",
        "    return average_acc, average_loss\n",
        "\n",
        "\n",
        "# Função usada no treinamento e validação da rede\n",
        "def train_validate(model, train_loader, test_loader, optimizer, criterion, num_epochs):\n",
        "    print('[info] training on', device)\n",
        "\n",
        "    # Definindo listas para salvarmos as funções de perda (para plots futuros)\n",
        "    train_loss_list = []\n",
        "    test_loss_list = []\n",
        "\n",
        "    for epoch in range(num_epochs):\n",
        "        num_samples = 0\n",
        "        train_acc_sum = 0.0\n",
        "        train_loss_sum = 0.0\n",
        "        start = time.time()\n",
        "\n",
        "        model.train()\n",
        "        for X, y in train_loader:\n",
        "            # Zerando os gradientes para que as derivadas não sejam acumuladas\n",
        "            optimizer.zero_grad()\n",
        "\n",
        "            # Fazendo o casting para o dispositivo apropriado\n",
        "            X = X.to(device)\n",
        "            y = y.to(device)\n",
        "\n",
        "            # Realizando o forward e computando a loss\n",
        "            logits = model(X)\n",
        "            loss = criterion(logits, y)\n",
        "\n",
        "            # Realizando o backpropagation pela rede (.backward() da loss + .step() do otimizador)\n",
        "            loss.backward()\n",
        "            optimizer.step()\n",
        "\n",
        "            # Computando as predições propriamente ditas (qual classe que predizemos)\n",
        "            probabilities = F.softmax(logits, dim=1)\n",
        "            preds = torch.max(probabilities, dim=1)[1]\n",
        "\n",
        "            # Atualizando os acumuladores para printar o desempenho da rede na época\n",
        "            train_loss_sum += loss.item()\n",
        "            train_acc_sum += (preds == y).sum().item()\n",
        "            num_samples += y.size()[0]\n",
        "\n",
        "        # Computando a média dos acumuladores\n",
        "        train_acc = train_acc_sum / num_samples\n",
        "        train_loss = train_loss_sum / len(train_loader)\n",
        "\n",
        "        # Computando acurácia e loss para os dados de teste e exibindo o desempenho do modelo\n",
        "        model.eval()\n",
        "        test_acc, test_loss = evaluate_accuracy(test_loader, model, criterion)\n",
        "        print(f'Epoch {epoch+1} => train loss: {train_loss:.4f}, train acc: {train_acc:.4f}, ' + \\\n",
        "              f'test loss: {test_loss:.4f}, test acc: {test_acc:.4f} , time: {(time.time() - start):.1f} sec')\n",
        "\n",
        "        # Salvando as loss de treino e teste\n",
        "        train_loss_list.append(train_loss)\n",
        "        test_loss_list.append(test_loss)\n",
        "\n",
        "    return train_loss_list, test_loss_list\n",
        "\n",
        "\n",
        "# Função para inicializar pesos da rede\n",
        "def weights_init(m):\n",
        "    if type(m) == nn.Linear:\n",
        "        m.weight.data.normal_(0.0, 0.01) # valores iniciais são uma normal\n",
        "        m.bias.data.fill_(0)"
      ],
      "execution_count": null,
      "outputs": []
    },
    {
      "cell_type": "markdown",
      "metadata": {
        "id": "Azv2ajIYkIjH"
      },
      "source": [
        "## Conjunto de Exercícios 1. Dropout\n",
        "\n",
        "- Dropout é uma das formas mais interessantes de regularizar sua rede neural. A ideia do Droupout é simples: durante o passo de `forward`, alguns neurônios são aleatoriamente \"desligados\", ou seja, são zerados, e não são utilizados em nenhum processamento. Em cada passo do `forward`, neurônios diferentes são \"desligados\" aleatoriamente, de acordo com uma probabilide pré-definida.\n",
        "    - **Observação:** Lembre-se que esse processo só acontece durante o treino. Durante o teste, Droupout não tem nenhuma ação e todos os neurônios são usados para gerar o resultado final. Em PyTorch, conseguimos garantir esse efeito utilizando `model.train()` antes do treinamento (uma das coisas que ele faz é ativar o Droupout, se estiver presente na arquitetura), e `model.eval()` antes da avaliação (analogamente ao caso anterior, ele irá desativar o Droupout, se estiver presente na arquitetura).\n",
        "\n",
        "- Formalmente, suponha um neurônio com ativação $h$ e um Droupout com probabilide $p$ (de zerar ou \"desligar\" o neurônio). Logo, essa técnica irá \"desligar\" a ativação desse neurônio com probabilidade $p$ ou reescala-la baseado na probabilidade dessa unidade de processamento permanecer ativa (isto é, $1-p$):\n",
        "\n",
        "$$\n",
        "\\begin{aligned}\n",
        "h_\\text{novo} =\n",
        "\\begin{cases}\n",
        "    0 & \\text{ com probabilidade } p \\\\\n",
        "    \\frac{h}{1-p} & \\text{ caso contrário}\n",
        "\\end{cases}\n",
        "\\end{aligned}\n",
        "$$\n",
        "\n",
        "- Tal método é interessante e chamou a atenção do mundo acadêmico por ser muito simples de implementar e poder impulsar significativamente o desempenho do modelo.\n",
        "\n",
        "### Implementação\n",
        "\n",
        "- Em frameworks atuais (como no MxNet, TensorFlow, e PyTorch), para utilizar os benefícios do Dropout basta adicionar a camada homônima (passando como argumento a probabilidade de desligamento dos neurônios) durante a construção da arquitetura.\n",
        "\n",
        "- Durante o treino, a camada Droupout irá \"desligar\" aleatoriamente algumas saídas da camada anterior (ou equivalentemente, as entradas para a camada subsequente) de acordo com a probabilidade especificada."
      ]
    },
    {
      "cell_type": "code",
      "source": [
        "# Usaremos essa função para\n",
        "def check_model_performance(model, train_loader, test_loader, lr, num_epochs, batch_size, weight_decay):\n",
        "    # Definido a nossa função de custo (entropia cruzada)\n",
        "    # Lembre-se que na implementação do PyTorch não precisamos colocar uma SoftMax no final da nossa rede\n",
        "    criterion = nn.CrossEntropyLoss()\n",
        "\n",
        "    # Definido um otimizador (Gradiente Descendente Estocástico)\n",
        "    # Aqui nós adicionamos um parâmetro de weight decay para implementar regularização L2\n",
        "    optimizer = optim.SGD(model.parameters(), lr=lr, weight_decay=weight_decay)\n",
        "\n",
        "    # Realizando o treinamento e validação do modelo\n",
        "    train_losses, test_losses = train_validate(model, train_loader, test_loader, optimizer, criterion, num_epochs)\n",
        "\n",
        "    # Plotando curva da loss de treino e teste\n",
        "    plt.figure(figsize=(10, 8))\n",
        "    plt.title('Curva da Loss de treino e teste')\n",
        "    plt.plot(train_losses, label='Train Loss')\n",
        "    plt.plot(test_losses, label='Test Loss')\n",
        "    plt.legend()\n",
        "    plt.show()"
      ],
      "metadata": {
        "id": "WtphytWZejSK"
      },
      "execution_count": null,
      "outputs": []
    },
    {
      "cell_type": "code",
      "source": [
        "# parâmetros: learning rate (ou taxa de aprendizado), número de epochs e valor de weight decay\n",
        "lr = 0.03\n",
        "num_epochs = 20\n",
        "weight_decay = 0 # por enquanto nós não trabalharemos com regularização L2, apenas Dropout\n",
        "\n",
        "# Realizando o carregamento dos dados (Fashion-MNIST)\n",
        "batch_size = 32\n",
        "train_loader, test_loader = load_data_fashion_mnist(batch_size)"
      ],
      "metadata": {
        "id": "IkOLeLrBflzJ"
      },
      "execution_count": null,
      "outputs": []
    },
    {
      "cell_type": "code",
      "source": [
        "# Rede simples somente com camadas densamente conectadas e função de ativação ReLU entre elas\n",
        "# Execute essa célula para ver o desempenho do modelo sem nenhuma regularização\n",
        "model = nn.Sequential(\n",
        "    nn.Flatten(),                      # camada para realizar um flatten da imagem de entrada\n",
        "    nn.Linear(784, 128),               # camada densamente conectada\n",
        "    nn.ReLU(),\n",
        "    nn.Linear(128, 128),               # camada densamente conectada\n",
        "    nn.ReLU(),\n",
        "    nn.Linear(128, 10)                 # camada densamente conectada para classificação\n",
        ")\n",
        "\n",
        "model.apply(weights_init) # inicializando os pesos da nossa rede através da função auxiliar\n",
        "model.to(device) # diz para a rede que ela deve ser treinada na GPU\n",
        "\n",
        "check_model_performance(model, train_loader, test_loader, lr, num_epochs, batch_size, weight_decay)"
      ],
      "metadata": {
        "colab": {
          "base_uri": "https://localhost:8080/",
          "height": 863
        },
        "id": "MacTTc-yfq8-",
        "outputId": "c64187e9-e447-4275-c851-1c8601c37d74"
      },
      "execution_count": null,
      "outputs": [
        {
          "output_type": "stream",
          "name": "stdout",
          "text": [
            "[info] training on cpu\n",
            "Epoch 1 => train loss: 1.3311, train acc: 0.4934, test loss: 0.7258, test acc: 0.7440 , time: 21.3 sec\n",
            "Epoch 2 => train loss: 0.6185, train acc: 0.7792, test loss: 0.5774, test acc: 0.7971 , time: 14.1 sec\n",
            "Epoch 3 => train loss: 0.5075, train acc: 0.8181, test loss: 0.4885, test acc: 0.8260 , time: 14.3 sec\n",
            "Epoch 4 => train loss: 0.4446, train acc: 0.8407, test loss: 0.4493, test acc: 0.8378 , time: 15.2 sec\n",
            "Epoch 5 => train loss: 0.4060, train acc: 0.8524, test loss: 0.4470, test acc: 0.8372 , time: 14.5 sec\n",
            "Epoch 6 => train loss: 0.3795, train acc: 0.8624, test loss: 0.3989, test acc: 0.8546 , time: 14.6 sec\n",
            "Epoch 7 => train loss: 0.3599, train acc: 0.8686, test loss: 0.3846, test acc: 0.8605 , time: 15.6 sec\n",
            "Epoch 8 => train loss: 0.3437, train acc: 0.8748, test loss: 0.3770, test acc: 0.8623 , time: 15.0 sec\n",
            "Epoch 9 => train loss: 0.3303, train acc: 0.8794, test loss: 0.3768, test acc: 0.8630 , time: 14.4 sec\n",
            "Epoch 10 => train loss: 0.3193, train acc: 0.8832, test loss: 0.3749, test acc: 0.8664 , time: 14.4 sec\n",
            "Epoch 11 => train loss: 0.3080, train acc: 0.8878, test loss: 0.3591, test acc: 0.8705 , time: 14.6 sec\n",
            "Epoch 12 => train loss: 0.2994, train acc: 0.8904, test loss: 0.3542, test acc: 0.8718 , time: 15.2 sec\n",
            "Epoch 13 => train loss: 0.2917, train acc: 0.8920, test loss: 0.3795, test acc: 0.8623 , time: 14.2 sec\n",
            "Epoch 14 => train loss: 0.2843, train acc: 0.8952, test loss: 0.3572, test acc: 0.8732 , time: 14.2 sec\n",
            "Epoch 15 => train loss: 0.2766, train acc: 0.8978, test loss: 0.3737, test acc: 0.8679 , time: 14.7 sec\n",
            "Epoch 16 => train loss: 0.2698, train acc: 0.9010, test loss: 0.3462, test acc: 0.8782 , time: 15.2 sec\n",
            "Epoch 17 => train loss: 0.2645, train acc: 0.9018, test loss: 0.3484, test acc: 0.8752 , time: 14.2 sec\n",
            "Epoch 18 => train loss: 0.2589, train acc: 0.9048, test loss: 0.3302, test acc: 0.8830 , time: 14.1 sec\n",
            "Epoch 19 => train loss: 0.2529, train acc: 0.9069, test loss: 0.3471, test acc: 0.8766 , time: 14.5 sec\n",
            "Epoch 20 => train loss: 0.2484, train acc: 0.9086, test loss: 0.3351, test acc: 0.8804 , time: 15.5 sec\n"
          ]
        },
        {
          "output_type": "display_data",
          "data": {
            "text/plain": [
              "<Figure size 720x576 with 1 Axes>"
            ],
            "image/png": "[encoded data removed]"
          },
          "metadata": {
            "needs_background": "light"
          }
        }
      ]
    },
    {
      "cell_type": "code",
      "metadata": {
        "id": "tlBGUroCFfyh",
        "colab": {
          "base_uri": "https://localhost:8080/",
          "height": 863
        },
        "outputId": "efa0b9c4-3340-468f-c695-0860c3425472"
      },
      "source": [
        "# Rede simples somente com camadas densamente conectadas e função de ativação ReLU entre elas\n",
        "# Agora, modifique a rede anterior adicionando camadas de dropout entre camadas Linear e ReLU\n",
        "model = nn.Sequential(\n",
        "    nn.Flatten(),                      # camada para realizar um flatten da imagem de entrada\n",
        "    nn.Linear(784, 128),\n",
        "    nn.Dropout(0.2),                   # dropout com 20% de probabilidade de desligar os neurônios\n",
        "    nn.ReLU(),\n",
        "    nn.Linear(128, 128),\n",
        "    nn.Dropout(0.5),                   # dropout com 50% de probabilidade de desligar os neurônios\n",
        "    nn.ReLU(),\n",
        "    nn.Linear(128, 10)                 # camada densamente conectada para classificação\n",
        ")\n",
        "\n",
        "model.apply(weights_init) # inicializando os pesos da nossa rede através da função auxiliar\n",
        "model.to(device) # diz para a rede que ela deve ser treinada na GPU\n",
        "\n",
        "check_model_performance(model, train_loader, test_loader, lr, num_epochs, batch_size, weight_decay)"
      ],
      "execution_count": null,
      "outputs": [
        {
          "output_type": "stream",
          "name": "stdout",
          "text": [
            "[info] training on cpu\n",
            "Epoch 1 => train loss: 1.4743, train acc: 0.4364, test loss: 0.8141, test acc: 0.6868 , time: 15.4 sec\n",
            "Epoch 2 => train loss: 0.7289, train acc: 0.7388, test loss: 0.5822, test acc: 0.7940 , time: 15.1 sec\n",
            "Epoch 3 => train loss: 0.5703, train acc: 0.8003, test loss: 0.4885, test acc: 0.8254 , time: 15.2 sec\n",
            "Epoch 4 => train loss: 0.5005, train acc: 0.8264, test loss: 0.4574, test acc: 0.8359 , time: 14.9 sec\n",
            "Epoch 5 => train loss: 0.4648, train acc: 0.8374, test loss: 0.4254, test acc: 0.8482 , time: 15.0 sec\n",
            "Epoch 6 => train loss: 0.4365, train acc: 0.8462, test loss: 0.4284, test acc: 0.8468 , time: 15.1 sec\n",
            "Epoch 7 => train loss: 0.4180, train acc: 0.8525, test loss: 0.4049, test acc: 0.8543 , time: 15.5 sec\n",
            "Epoch 8 => train loss: 0.4008, train acc: 0.8586, test loss: 0.3943, test acc: 0.8569 , time: 14.7 sec\n",
            "Epoch 9 => train loss: 0.3889, train acc: 0.8627, test loss: 0.3710, test acc: 0.8647 , time: 14.8 sec\n",
            "Epoch 10 => train loss: 0.3804, train acc: 0.8653, test loss: 0.3794, test acc: 0.8636 , time: 15.0 sec\n",
            "Epoch 11 => train loss: 0.3687, train acc: 0.8700, test loss: 0.3590, test acc: 0.8716 , time: 15.4 sec\n",
            "Epoch 12 => train loss: 0.3614, train acc: 0.8709, test loss: 0.3619, test acc: 0.8682 , time: 14.5 sec\n",
            "Epoch 13 => train loss: 0.3538, train acc: 0.8740, test loss: 0.3548, test acc: 0.8729 , time: 14.6 sec\n",
            "Epoch 14 => train loss: 0.3463, train acc: 0.8767, test loss: 0.3504, test acc: 0.8743 , time: 15.2 sec\n",
            "Epoch 15 => train loss: 0.3387, train acc: 0.8795, test loss: 0.3546, test acc: 0.8691 , time: 15.0 sec\n",
            "Epoch 16 => train loss: 0.3308, train acc: 0.8813, test loss: 0.3475, test acc: 0.8727 , time: 15.1 sec\n",
            "Epoch 17 => train loss: 0.3309, train acc: 0.8813, test loss: 0.3471, test acc: 0.8726 , time: 15.0 sec\n",
            "Epoch 18 => train loss: 0.3231, train acc: 0.8839, test loss: 0.3461, test acc: 0.8784 , time: 15.6 sec\n",
            "Epoch 19 => train loss: 0.3180, train acc: 0.8855, test loss: 0.3479, test acc: 0.8769 , time: 14.8 sec\n",
            "Epoch 20 => train loss: 0.3137, train acc: 0.8869, test loss: 0.3374, test acc: 0.8793 , time: 15.1 sec\n"
          ]
        },
        {
          "output_type": "display_data",
          "data": {
            "text/plain": [
              "<Figure size 720x576 with 1 Axes>"
            ],
            "image/png": "[encoded data removed]"
          },
          "metadata": {
            "needs_background": "light"
          }
        }
      ]
    },
    {
      "cell_type": "markdown",
      "metadata": {
        "id": "JJTUwjd4QSkF"
      },
      "source": [
        "## Conjunto de Exercícios 2. Weight Decay\n",
        "\n",
        "- Weight Decay (comumente chamado regularização L2), é uma das técnicas mais utilizadas para regularizar modelos paramétricos de aprendizado de máquina. A intuição básica por trás do Weight Decay é a noção de que entre todas as funções $f$, a função $f=0$ é a mais simples. Intuitivamente, podemos medir funções pela sua proximidade a zero. Mas quão devemos medir a distância entre uma função e zero? Não há uma resposta correta. De fato, ramos inteiros da matemática são dedicados a responder a esta questão.\n",
        "\n",
        "- Para nossos propósitos atuais, uma interpretação muito simples será suficiente: vamos considerar uma função linear $f(\\mathbf{x}) = \\mathbf{w}^\\top \\mathbf{x}$ é simples se o seu vetor de peso $\\mathbf{w}$ for pequeno. Podemos medir isso via norma $||\\mathbf{w}||^2$. Uma maneira de manter o vetor de peso pequeno é adicionar sua norma como um termo de penalidade ao problema de minimizar a função de perda (ou *loss*). Assim, nós substituímos nosso objetivo original, *minimizar o erro de previsão nos rótulos de treinamento*, com novo objetivo, *minimizar o erro de previsão e o termo de penalidade*. Agora, se o vetor de peso se tornar muito grande, nosso algoritmo de aprendizagem vai encontrar mais lucro minimizando a norma $||\\mathbf{w}||^2$ do que minimizando o erro de treinamento.\n",
        "\n",
        "- Tecnicamente, para uma função de custo qualquer $\\mathcal{L}$, a adição do novo termo de penalidade (ou *weight decay*) acontece da seguinte forma:\n",
        "\n",
        "$$\\mathcal{L}(\\mathbf{w}, b) + \\frac{\\lambda}{2} \\|\\mathbf{w}\\|^2$$\n",
        "\n",
        "- Esse parâmetro não negativo $\\lambda \\geq 0$ dita a quantidade de regularização. Para $\\lambda = 0$, recuperamos nossa função de perda original, enquanto para $\\lambda > 0 $ garantimos que os pesos $\\mathbf{w}$ não crescerão demais.\n",
        "\n",
        "### Implementação\n",
        "\n",
        "- Em frameworks atuais (como no MxNet, TensorFlow, e PyTorch), Weight Decay pode ser facilmente agregado à função de custo durante a construção do modelo ou na definição do otimizador, como no caso de PyTorch."
      ]
    },
    {
      "cell_type": "code",
      "source": [
        "# parâmetros: learning rate (ou taxa de aprendizado), número de epochs e valor de weight decay\n",
        "lr = 0.03\n",
        "num_epochs = 20\n",
        "weight_decay = 0 # não modifique esse parâmetro ainda, queremos rodar a rede primeiro sem nenhuma regularização\n",
        "\n",
        "# Realizando o carregamento dos dados (Fashion-MNIST)\n",
        "batch_size = 32\n",
        "train_loader, test_loader = load_data_fashion_mnist(batch_size)"
      ],
      "metadata": {
        "id": "LxWsm3bSX4tg"
      },
      "execution_count": null,
      "outputs": []
    },
    {
      "cell_type": "code",
      "metadata": {
        "id": "bB-koQ_vd9ef",
        "colab": {
          "base_uri": "https://localhost:8080/",
          "height": 863
        },
        "outputId": "1590cc3f-94cb-4753-d0f8-b532d48ff256"
      },
      "source": [
        "# Rede simples somente com camadas densamente conectadas e função de ativação ReLU entre elas\n",
        "# Execute essa célula para ver o desempenho do modelo sem nenhuma regularização\n",
        "model = nn.Sequential(\n",
        "    nn.Flatten(),                      # camada para realizar um flatten da imagem de entrada\n",
        "    nn.Linear(784, 128),               # camada densamente conectada\n",
        "    nn.ReLU(),\n",
        "    nn.Linear(128, 128),               # camada densamente conectada\n",
        "    nn.ReLU(),\n",
        "    nn.Linear(128, 10)                 # camada densamente conectada para classificação\n",
        ")\n",
        "\n",
        "model.apply(weights_init) # inicializando os pesos da nossa rede através da função auxiliar\n",
        "model.to(device) # diz para a rede que ela deve ser treinada na GPU\n",
        "\n",
        "check_model_performance(model, train_loader, test_loader, lr, num_epochs, batch_size, weight_decay)"
      ],
      "execution_count": null,
      "outputs": [
        {
          "output_type": "stream",
          "name": "stdout",
          "text": [
            "[info] training on cpu\n",
            "Epoch 1 => train loss: 1.3226, train acc: 0.5011, test loss: 0.8045, test acc: 0.7139 , time: 15.1 sec\n",
            "Epoch 2 => train loss: 0.6406, train acc: 0.7694, test loss: 0.5603, test acc: 0.8034 , time: 15.1 sec\n",
            "Epoch 3 => train loss: 0.5172, train acc: 0.8172, test loss: 0.5484, test acc: 0.8049 , time: 14.9 sec\n",
            "Epoch 4 => train loss: 0.4497, train acc: 0.8391, test loss: 0.4656, test acc: 0.8299 , time: 14.7 sec\n",
            "Epoch 5 => train loss: 0.4104, train acc: 0.8515, test loss: 0.4725, test acc: 0.8233 , time: 15.5 sec\n",
            "Epoch 6 => train loss: 0.3821, train acc: 0.8621, test loss: 0.4091, test acc: 0.8518 , time: 14.6 sec\n",
            "Epoch 7 => train loss: 0.3613, train acc: 0.8690, test loss: 0.3912, test acc: 0.8592 , time: 14.7 sec\n",
            "Epoch 8 => train loss: 0.3450, train acc: 0.8741, test loss: 0.3750, test acc: 0.8654 , time: 14.8 sec\n",
            "Epoch 9 => train loss: 0.3319, train acc: 0.8797, test loss: 0.3888, test acc: 0.8589 , time: 15.3 sec\n",
            "Epoch 10 => train loss: 0.3203, train acc: 0.8822, test loss: 0.3602, test acc: 0.8696 , time: 14.3 sec\n",
            "Epoch 11 => train loss: 0.3094, train acc: 0.8871, test loss: 0.3777, test acc: 0.8650 , time: 14.4 sec\n",
            "Epoch 12 => train loss: 0.3016, train acc: 0.8884, test loss: 0.3706, test acc: 0.8651 , time: 14.3 sec\n",
            "Epoch 13 => train loss: 0.2933, train acc: 0.8933, test loss: 0.3641, test acc: 0.8684 , time: 14.8 sec\n",
            "Epoch 14 => train loss: 0.2850, train acc: 0.8947, test loss: 0.3510, test acc: 0.8753 , time: 14.4 sec\n",
            "Epoch 15 => train loss: 0.2796, train acc: 0.8962, test loss: 0.3390, test acc: 0.8761 , time: 14.7 sec\n",
            "Epoch 16 => train loss: 0.2710, train acc: 0.8992, test loss: 0.3409, test acc: 0.8778 , time: 13.9 sec\n",
            "Epoch 17 => train loss: 0.2657, train acc: 0.9020, test loss: 0.3496, test acc: 0.8693 , time: 14.6 sec\n",
            "Epoch 18 => train loss: 0.2599, train acc: 0.9036, test loss: 0.3472, test acc: 0.8749 , time: 15.1 sec\n",
            "Epoch 19 => train loss: 0.2540, train acc: 0.9061, test loss: 0.3440, test acc: 0.8771 , time: 14.6 sec\n",
            "Epoch 20 => train loss: 0.2492, train acc: 0.9076, test loss: 0.3302, test acc: 0.8807 , time: 14.4 sec\n"
          ]
        },
        {
          "output_type": "display_data",
          "data": {
            "text/plain": [
              "<Figure size 720x576 with 1 Axes>"
            ],
            "image/png": "[encoded data removed]"
          },
          "metadata": {
            "needs_background": "light"
          }
        }
      ]
    },
    {
      "cell_type": "code",
      "source": [
        "weight_decay = 0.005 # agora modifique esse valor. Qual o impacto dele durante o treinamento?\n",
        "\n",
        "# Rede simples somente com camadas densamente conectadas e função de ativação ReLU entre\n",
        "model = nn.Sequential(\n",
        "    nn.Flatten(),                      # camada para realizar um flatten da imagem de entrada\n",
        "    nn.Linear(784, 128),\n",
        "    nn.ReLU(),\n",
        "    nn.Linear(128, 128),\n",
        "    nn.ReLU(),\n",
        "    nn.Linear(128, 10)                 # camada densamente conectada para classificação\n",
        ")\n",
        "\n",
        "model.apply(weights_init) # inicializando os pesos da nossa rede através da função auxiliar\n",
        "model.to(device) # diz para a rede que ela deve ser treinada na GPU\n",
        "\n",
        "check_model_performance(model, train_loader, test_loader, lr, num_epochs, batch_size, weight_decay)"
      ],
      "metadata": {
        "colab": {
          "base_uri": "https://localhost:8080/",
          "height": 863
        },
        "id": "8f9on3L5hhdF",
        "outputId": "efa0ac50-5f79-4ad7-ee68-ed244f995b35"
      },
      "execution_count": null,
      "outputs": [
        {
          "output_type": "stream",
          "name": "stdout",
          "text": [
            "[info] training on cpu\n",
            "Epoch 1 => train loss: 1.3627, train acc: 0.4774, test loss: 0.8128, test acc: 0.7127 , time: 15.1 sec\n",
            "Epoch 2 => train loss: 0.6718, train acc: 0.7620, test loss: 0.5861, test acc: 0.7970 , time: 15.0 sec\n",
            "Epoch 3 => train loss: 0.5572, train acc: 0.8058, test loss: 0.6766, test acc: 0.7732 , time: 14.7 sec\n",
            "Epoch 4 => train loss: 0.5052, train acc: 0.8223, test loss: 0.4918, test acc: 0.8282 , time: 14.5 sec\n",
            "Epoch 5 => train loss: 0.4765, train acc: 0.8329, test loss: 0.4869, test acc: 0.8267 , time: 15.1 sec\n",
            "Epoch 6 => train loss: 0.4575, train acc: 0.8395, test loss: 0.4730, test acc: 0.8320 , time: 14.3 sec\n",
            "Epoch 7 => train loss: 0.4419, train acc: 0.8448, test loss: 0.4571, test acc: 0.8377 , time: 14.4 sec\n",
            "Epoch 8 => train loss: 0.4319, train acc: 0.8472, test loss: 0.4378, test acc: 0.8471 , time: 14.3 sec\n",
            "Epoch 9 => train loss: 0.4239, train acc: 0.8511, test loss: 0.4369, test acc: 0.8491 , time: 14.2 sec\n",
            "Epoch 10 => train loss: 0.4179, train acc: 0.8536, test loss: 0.4560, test acc: 0.8426 , time: 15.1 sec\n",
            "Epoch 11 => train loss: 0.4120, train acc: 0.8563, test loss: 0.4208, test acc: 0.8538 , time: 14.1 sec\n",
            "Epoch 12 => train loss: 0.4075, train acc: 0.8567, test loss: 0.4217, test acc: 0.8536 , time: 14.7 sec\n",
            "Epoch 13 => train loss: 0.4052, train acc: 0.8584, test loss: 0.4370, test acc: 0.8429 , time: 14.1 sec\n",
            "Epoch 14 => train loss: 0.4004, train acc: 0.8590, test loss: 0.4408, test acc: 0.8422 , time: 14.9 sec\n",
            "Epoch 15 => train loss: 0.3976, train acc: 0.8603, test loss: 0.4491, test acc: 0.8329 , time: 14.4 sec\n",
            "Epoch 16 => train loss: 0.3960, train acc: 0.8610, test loss: 0.4296, test acc: 0.8486 , time: 14.5 sec\n",
            "Epoch 17 => train loss: 0.3947, train acc: 0.8618, test loss: 0.4271, test acc: 0.8476 , time: 14.3 sec\n",
            "Epoch 18 => train loss: 0.3925, train acc: 0.8622, test loss: 0.4280, test acc: 0.8491 , time: 14.5 sec\n",
            "Epoch 19 => train loss: 0.3913, train acc: 0.8627, test loss: 0.4143, test acc: 0.8564 , time: 15.1 sec\n",
            "Epoch 20 => train loss: 0.3894, train acc: 0.8638, test loss: 0.4304, test acc: 0.8451 , time: 14.7 sec\n"
          ]
        },
        {
          "output_type": "display_data",
          "data": {
            "text/plain": [
              "<Figure size 720x576 with 1 Axes>"
            ],
            "image/png": "[encoded data removed]"
          },
          "metadata": {
            "needs_background": "light"
          }
        }
      ]
    },
    {
      "cell_type": "markdown",
      "metadata": {
        "id": "1eXXJN5MoAca"
      },
      "source": [
        "## Conjunto de Exercícios 3. MNIST - Overfitting e Regularizadores\n",
        "\n",
        "- Agora usaremos um dataset específico juntamente com um rede mais profunda para tentar mostrar o efeito de *overfitting* e entender como as técnicas de regularização aprendidas podem ser usadas para resolver esse problema.\n",
        "\n",
        "- O modelo implementado abaixo usa o dataset MNIST treinando uma rede com quatro camadas que não usa nenhum método de regularização. Note a diferença entre o *loss* e a acurácia de treino e teste. Um resultado onde o *loss* do teste é relativamente maior que o treino (caso do exemplo abaixo) indica que um (neste caso, princípio de) *overfitting* está acontecendo. Use as técnicas vistas nesta aula prática para tratar esse problema.\n",
        "\n",
        "- Especificamente, implemente:\n",
        "    1. Uma versão dessa arquitetura com Dropout. Teste diferentes valores de probabilidade de forma a diminuir o *overfitting*;\n",
        "    2. Uma versão desse modelo com Weight Decay. Teste diferentes valores de $\\lambda$ de forma a diminuir o *overfitting*;\n",
        "    3. Uma versão que combina os dois métodos de regularização aprendidos. Talvez seja necessário testar diferentes valores para a probabilidade do Dropout e do $\\lambda$."
      ]
    },
    {
      "cell_type": "code",
      "source": [
        "# parâmetros: learning rate (ou taxa de aprendizado), número de epochs e valor de weight decay\n",
        "lr = 0.03\n",
        "num_epochs = 20\n",
        "weight_decay = 0 # não modifique esse parâmetro ainda, queremos rodar a rede primeiro sem nenhuma regularização\n",
        "\n",
        "# Realizando o carregamento dos dados (MNIST)\n",
        "batch_size = 32\n",
        "train_loader, test_loader = load_data_mnist(batch_size)"
      ],
      "metadata": {
        "id": "rNCq2hSeXvDD",
        "colab": {
          "base_uri": "https://localhost:8080/",
          "height": 423,
          "referenced_widgets": [
            "0d3d011136a74e91bed8e4d4e2363a01",
            "cfea0277a17d48728c1b7f1a793410d4",
            "fc2f3072ebd74beab3c8a82452310b26",
            "31e123880ae14a73a9282d5c80270978",
            "ed268b6a76774cc2ac7e75bb82361189",
            "c0f6966752714226bf51a24524177f40",
            "267eacf78d3747098b32160514297539",
            "efd4a3a49e43416f8a8617da223ded61",
            "41bf2756335a4cd8bcd44eca0b1fe4cc",
            "6760ff36d7d34f7e9f87adc19b2d8f37",
            "ba7a003b7f4d40f88bb5009ff8ba4b1d",
            "ea7eb850ddda476ebbe029f01ec5061b",
            "46eb4bb94586407c818db7d9d1a36203",
            "a8c65fb65a17400289993e10280eab69",
            "85f0cf61309c4cba95c23ac340bd707f",
            "fef545bf488d426296bb1c1f15105d17",
            "81a3047f6b2d42a595b1e1879d3b3cb6",
            "103d6c42a09f487ba28108b465ca921b",
            "ef757d7ce3ca40a78c6410ee810abad8",
            "3373f494fdd041a288b3e4620ae1c6f6",
            "bfe1e043e9e144f3a3da8e8dfc0b5480",
            "ebde3470f639453cabef1f9a035e86f4",
            "00fd27bafaec4e02ad201f556d2037dc",
            "eea956bbff564d3a9c9cfc10784d1198",
            "bd2c873ddd874030a21468493fefb874",
            "d29484edcc75432689b0b22f2bc950c2",
            "4730a2e7c147434aac3351144a048139",
            "7b108f8c33a846fc867f62200481c78d",
            "169cf93a0410457186a9ac151ab316f0",
            "828725c9356348ddb3a4f0dc0eebcf0b",
            "95d8a1250d3848b488cb5fc8971c6de6",
            "a11181da1f0544efb51f03a86ac27c16",
            "c2ceb08eab4f4d01b4ad629c7048df35",
            "c7240a3fa7cc4fedb906dd155c49c8e5",
            "0606baab8d054046b0879ef5bc25ce2b",
            "c0e757cba384406c8d4d0e59f41d76e7",
            "50bc1748f5d043368c96d7541458aab9",
            "c353f35d2ebd435eb97648982c62a12b",
            "07300642245e43538fa2ae1f517791db",
            "9e4bd469873c4123aadabd63a1fe91a0",
            "25384f3fdb854d258e88987f7eb4407a",
            "29b84dac7343457eb1c7792b9e0b1223",
            "2d4ac53cd4e6447eb143a15ce029c8e3",
            "83c505e23d1548f08a3e12053585b442"
          ]
        },
        "outputId": "5d0aa7a1-8896-49c3-c24b-c21f76f75f2d"
      },
      "execution_count": null,
      "outputs": [
        {
          "output_type": "stream",
          "name": "stdout",
          "text": [
            "Downloading http://yann.lecun.com/exdb/mnist/train-images-idx3-ubyte.gz\n",
            "Downloading http://yann.lecun.com/exdb/mnist/train-images-idx3-ubyte.gz to /root/.pytorch/datasets/mnist/MNIST/raw/train-images-idx3-ubyte.gz\n"
          ]
        },
        {
          "output_type": "display_data",
          "data": {
            "text/plain": [
              "  0%|          | 0/9912422 [00:00<?, ?it/s]"
            ],
            "application/vnd.jupyter.widget-view+json": {
              "version_major": 2,
              "version_minor": 0,
              "model_id": "0d3d011136a74e91bed8e4d4e2363a01"
            }
          },
          "metadata": {}
        },
        {
          "output_type": "stream",
          "name": "stdout",
          "text": [
            "Extracting /root/.pytorch/datasets/mnist/MNIST/raw/train-images-idx3-ubyte.gz to /root/.pytorch/datasets/mnist/MNIST/raw\n",
            "\n",
            "Downloading http://yann.lecun.com/exdb/mnist/train-labels-idx1-ubyte.gz\n",
            "Downloading http://yann.lecun.com/exdb/mnist/train-labels-idx1-ubyte.gz to /root/.pytorch/datasets/mnist/MNIST/raw/train-labels-idx1-ubyte.gz\n"
          ]
        },
        {
          "output_type": "display_data",
          "data": {
            "text/plain": [
              "  0%|          | 0/28881 [00:00<?, ?it/s]"
            ],
            "application/vnd.jupyter.widget-view+json": {
              "version_major": 2,
              "version_minor": 0,
              "model_id": "ea7eb850ddda476ebbe029f01ec5061b"
            }
          },
          "metadata": {}
        },
        {
          "output_type": "stream",
          "name": "stdout",
          "text": [
            "Extracting /root/.pytorch/datasets/mnist/MNIST/raw/train-labels-idx1-ubyte.gz to /root/.pytorch/datasets/mnist/MNIST/raw\n",
            "\n",
            "Downloading http://yann.lecun.com/exdb/mnist/t10k-images-idx3-ubyte.gz\n",
            "Downloading http://yann.lecun.com/exdb/mnist/t10k-images-idx3-ubyte.gz to /root/.pytorch/datasets/mnist/MNIST/raw/t10k-images-idx3-ubyte.gz\n"
          ]
        },
        {
          "output_type": "display_data",
          "data": {
            "text/plain": [
              "  0%|          | 0/1648877 [00:00<?, ?it/s]"
            ],
            "application/vnd.jupyter.widget-view+json": {
              "version_major": 2,
              "version_minor": 0,
              "model_id": "00fd27bafaec4e02ad201f556d2037dc"
            }
          },
          "metadata": {}
        },
        {
          "output_type": "stream",
          "name": "stdout",
          "text": [
            "Extracting /root/.pytorch/datasets/mnist/MNIST/raw/t10k-images-idx3-ubyte.gz to /root/.pytorch/datasets/mnist/MNIST/raw\n",
            "\n",
            "Downloading http://yann.lecun.com/exdb/mnist/t10k-labels-idx1-ubyte.gz\n",
            "Downloading http://yann.lecun.com/exdb/mnist/t10k-labels-idx1-ubyte.gz to /root/.pytorch/datasets/mnist/MNIST/raw/t10k-labels-idx1-ubyte.gz\n"
          ]
        },
        {
          "output_type": "display_data",
          "data": {
            "text/plain": [
              "  0%|          | 0/4542 [00:00<?, ?it/s]"
            ],
            "application/vnd.jupyter.widget-view+json": {
              "version_major": 2,
              "version_minor": 0,
              "model_id": "c7240a3fa7cc4fedb906dd155c49c8e5"
            }
          },
          "metadata": {}
        },
        {
          "output_type": "stream",
          "name": "stdout",
          "text": [
            "Extracting /root/.pytorch/datasets/mnist/MNIST/raw/t10k-labels-idx1-ubyte.gz to /root/.pytorch/datasets/mnist/MNIST/raw\n",
            "\n"
          ]
        }
      ]
    },
    {
      "cell_type": "code",
      "metadata": {
        "id": "BblIVW2CoV-P",
        "colab": {
          "base_uri": "https://localhost:8080/",
          "height": 863
        },
        "outputId": "45923452-2284-4ff6-e978-9eb54aa4bbfe"
      },
      "source": [
        "# Rede simples somente com camadas densamente conectadas e função de ativação ReLU entre elas\n",
        "# Execute essa célula para ver o desempenho do modelo sem nenhuma regularização\n",
        "model = nn.Sequential(\n",
        "    nn.Flatten(),                      # camada para realizar um flatten da imagem de entrada\n",
        "    nn.Linear(784, 128),               # camada densamente conectada\n",
        "    nn.ReLU(),\n",
        "    nn.Linear(128, 128),               # camada densamente conectada\n",
        "    nn.ReLU(),\n",
        "    nn.Linear(128, 10)                 # camada densamente conectada para classificação\n",
        ")\n",
        "\n",
        "model.apply(weights_init) # inicializando os pesos da nossa rede através da função auxiliar\n",
        "model.to(device) # diz para a rede que ela deve ser treinada na GPU\n",
        "\n",
        "check_model_performance(model, train_loader, test_loader, lr, num_epochs, batch_size, weight_decay)"
      ],
      "execution_count": null,
      "outputs": [
        {
          "output_type": "stream",
          "name": "stdout",
          "text": [
            "[info] training on cpu\n",
            "Epoch 1 => train loss: 1.5062, train acc: 0.4697, test loss: 0.5202, test acc: 0.8457 , time: 14.0 sec\n",
            "Epoch 2 => train loss: 0.3959, train acc: 0.8840, test loss: 0.2994, test acc: 0.9131 , time: 14.4 sec\n",
            "Epoch 3 => train loss: 0.2616, train acc: 0.9245, test loss: 0.2192, test acc: 0.9340 , time: 14.4 sec\n",
            "Epoch 4 => train loss: 0.1956, train acc: 0.9429, test loss: 0.1689, test acc: 0.9513 , time: 14.2 sec\n",
            "Epoch 5 => train loss: 0.1537, train acc: 0.9554, test loss: 0.1391, test acc: 0.9594 , time: 14.2 sec\n",
            "Epoch 6 => train loss: 0.1256, train acc: 0.9633, test loss: 0.1252, test acc: 0.9633 , time: 14.1 sec\n",
            "Epoch 7 => train loss: 0.1064, train acc: 0.9695, test loss: 0.1146, test acc: 0.9650 , time: 15.4 sec\n",
            "Epoch 8 => train loss: 0.0918, train acc: 0.9733, test loss: 0.1035, test acc: 0.9691 , time: 14.3 sec\n",
            "Epoch 9 => train loss: 0.0801, train acc: 0.9768, test loss: 0.1015, test acc: 0.9687 , time: 14.2 sec\n",
            "Epoch 10 => train loss: 0.0706, train acc: 0.9793, test loss: 0.0885, test acc: 0.9733 , time: 13.9 sec\n",
            "Epoch 11 => train loss: 0.0623, train acc: 0.9815, test loss: 0.0882, test acc: 0.9736 , time: 14.3 sec\n",
            "Epoch 12 => train loss: 0.0560, train acc: 0.9833, test loss: 0.0858, test acc: 0.9729 , time: 15.4 sec\n",
            "Epoch 13 => train loss: 0.0506, train acc: 0.9853, test loss: 0.0814, test acc: 0.9752 , time: 14.6 sec\n",
            "Epoch 14 => train loss: 0.0453, train acc: 0.9870, test loss: 0.0912, test acc: 0.9709 , time: 14.7 sec\n",
            "Epoch 15 => train loss: 0.0401, train acc: 0.9887, test loss: 0.0862, test acc: 0.9744 , time: 14.2 sec\n",
            "Epoch 16 => train loss: 0.0362, train acc: 0.9897, test loss: 0.0817, test acc: 0.9767 , time: 15.5 sec\n",
            "Epoch 17 => train loss: 0.0327, train acc: 0.9904, test loss: 0.0799, test acc: 0.9764 , time: 14.4 sec\n",
            "Epoch 18 => train loss: 0.0285, train acc: 0.9924, test loss: 0.0820, test acc: 0.9753 , time: 14.3 sec\n",
            "Epoch 19 => train loss: 0.0263, train acc: 0.9926, test loss: 0.0820, test acc: 0.9766 , time: 14.4 sec\n",
            "Epoch 20 => train loss: 0.0231, train acc: 0.9938, test loss: 0.0775, test acc: 0.9779 , time: 15.5 sec\n"
          ]
        },
        {
          "output_type": "display_data",
          "data": {
            "text/plain": [
              "<Figure size 720x576 with 1 Axes>"
            ],
            "image/png": "[encoded data removed]"
          },
          "metadata": {
            "needs_background": "light"
          }
        }
      ]
    },
    {
      "cell_type": "code",
      "source": [
        "weight_decay = 0.005 # agora modifique esse valor.\n",
        "\n",
        "# Rede simples somente com camadas densamente conectadas e função de ativação ReLU entre elas\n",
        "# Além de weight decay, modifique a rede anterior adicionando camadas de dropout entre camadas Linear e ReLU\n",
        "model = nn.Sequential(\n",
        "    nn.Flatten(),                      # camada para realizar um flatten da imagem de entrada\n",
        "    nn.Linear(784, 128),\n",
        "    nn.Dropout(0.2),                   # dropout com 20% de probabilidade de desligar os neurônios\n",
        "    nn.ReLU(),\n",
        "    nn.Linear(128, 128),\n",
        "    nn.Dropout(0.5),                   # dropout com 50% de probabilidade de desligar os neurônios\n",
        "    nn.ReLU(),\n",
        "    nn.Linear(128, 10)                 # camada densamente conectada para classificação\n",
        ")\n",
        "\n",
        "model.apply(weights_init) # inicializando os pesos da nossa rede através da função auxiliar\n",
        "model.to(device) # diz para a rede que ela deve ser treinada na GPU\n",
        "\n",
        "check_model_performance(model, train_loader, test_loader, lr, num_epochs, batch_size, weight_decay)"
      ],
      "metadata": {
        "colab": {
          "base_uri": "https://localhost:8080/",
          "height": 863
        },
        "id": "2H-NYiajiDUL",
        "outputId": "5c57c363-f900-42e5-d5ac-1977a36e9548"
      },
      "execution_count": null,
      "outputs": [
        {
          "output_type": "stream",
          "name": "stdout",
          "text": [
            "[info] training on cpu\n",
            "Epoch 1 => train loss: 1.8478, train acc: 0.3196, test loss: 0.7259, test acc: 0.7861 , time: 15.0 sec\n",
            "Epoch 2 => train loss: 0.6328, train acc: 0.8086, test loss: 0.3741, test acc: 0.8966 , time: 14.5 sec\n",
            "Epoch 3 => train loss: 0.4181, train acc: 0.8833, test loss: 0.2697, test acc: 0.9226 , time: 15.3 sec\n",
            "Epoch 4 => train loss: 0.3384, train acc: 0.9056, test loss: 0.2309, test acc: 0.9355 , time: 15.3 sec\n",
            "Epoch 5 => train loss: 0.2950, train acc: 0.9200, test loss: 0.1986, test acc: 0.9439 , time: 15.1 sec\n",
            "Epoch 6 => train loss: 0.2646, train acc: 0.9292, test loss: 0.1822, test acc: 0.9495 , time: 15.1 sec\n",
            "Epoch 7 => train loss: 0.2519, train acc: 0.9312, test loss: 0.1698, test acc: 0.9513 , time: 15.2 sec\n",
            "Epoch 8 => train loss: 0.2419, train acc: 0.9349, test loss: 0.1677, test acc: 0.9542 , time: 14.9 sec\n",
            "Epoch 9 => train loss: 0.2353, train acc: 0.9378, test loss: 0.1607, test acc: 0.9544 , time: 15.2 sec\n",
            "Epoch 10 => train loss: 0.2286, train acc: 0.9385, test loss: 0.1524, test acc: 0.9582 , time: 14.7 sec\n",
            "Epoch 11 => train loss: 0.2234, train acc: 0.9408, test loss: 0.1522, test acc: 0.9592 , time: 15.4 sec\n",
            "Epoch 12 => train loss: 0.2178, train acc: 0.9429, test loss: 0.1503, test acc: 0.9565 , time: 14.9 sec\n",
            "Epoch 13 => train loss: 0.2154, train acc: 0.9433, test loss: 0.1487, test acc: 0.9601 , time: 15.0 sec\n",
            "Epoch 14 => train loss: 0.2108, train acc: 0.9444, test loss: 0.1445, test acc: 0.9588 , time: 16.0 sec\n",
            "Epoch 15 => train loss: 0.2110, train acc: 0.9443, test loss: 0.1410, test acc: 0.9625 , time: 14.9 sec\n",
            "Epoch 16 => train loss: 0.2076, train acc: 0.9450, test loss: 0.1396, test acc: 0.9622 , time: 15.0 sec\n",
            "Epoch 17 => train loss: 0.2044, train acc: 0.9463, test loss: 0.1393, test acc: 0.9617 , time: 14.6 sec\n",
            "Epoch 18 => train loss: 0.2029, train acc: 0.9467, test loss: 0.1398, test acc: 0.9621 , time: 15.5 sec\n",
            "Epoch 19 => train loss: 0.2032, train acc: 0.9467, test loss: 0.1379, test acc: 0.9616 , time: 14.8 sec\n",
            "Epoch 20 => train loss: 0.2018, train acc: 0.9474, test loss: 0.1348, test acc: 0.9631 , time: 14.8 sec\n"
          ]
        },
        {
          "output_type": "display_data",
          "data": {
            "text/plain": [
              "<Figure size 720x576 with 1 Axes>"
            ],
            "image/png": "[encoded data removed]"
          },
          "metadata": {
            "needs_background": "light"
          }
        }
      ]
    },
    {
      "cell_type": "markdown",
      "metadata": {
        "id": "lEu01dDokIlS"
      },
      "source": [
        "## Exercícios\n",
        "\n",
        "1. Qual impacto de alterar a probabilidade da camada de *Dropout*?  Como fica uma rede com probabilidade de 50% de \"desligar\" os neurônios?\n",
        "1. E em relação ao valor de $\\lambda$ para o *Weight Decay*, qual impacto? Teste valores como 0.0005 e 0.0001.\n",
        "1. Qual efeito da quantidade de *epochs* na acurácia final do modelo?\n",
        "\n",
        "\n"
      ]
    },
    {
      "cell_type": "markdown",
      "source": [
        "1. Com valores maiores de dropout, uma grande parte da rede será 'desligada' aleatóriamente ao longo do treino. Isso tem várias implicações no processo de treinamento e inferência de nosso modelo:\n",
        "   - O modelo demorará mais para convergir;\n",
        "   - O erro de treino será mais alto;\n",
        "   - O modelo será forçado a ser mais robusto, tendo que dedicar múltiplos neurônios para codificações similares;\n",
        "   - O overfitting será mitigado;\n",
        "\n",
        "2. Ao aumentar o valor de $λ$ do weight decay, a rede foca mais na normalização L2 de seus pesos. Com isso, O aprendizado da rede pode ser afetado, uma vez que a representação encontrada com pesos baixos pode não modelar bem o problema. Para valores muito baixos, a função de custo do modelo irá dominar o aprendizado, de forma que a regularização pode não ter o efeito desejado.\n",
        "\n",
        "3. Aumentar a quantidade de epochs vai aumentar a acurácia do modelo nos dados de treino. Esse mesmo aumento no entanto pode não ser replicado nos dados de teste. Effe efeito, chamado de overfitting, ocorre quando a rede aprende a focar detalhes que são únicos aos dados de treino e que não generalizam bem aos dados de teste. Com isso, após um certo ponto do treinamento, podemos observar a acurácia de teste estagnando ou até diminuindo, mesmo com a de treino aumentando."
      ],
      "metadata": {
        "id": "2yoViRR2uSip"
      }
    }
  ]
}