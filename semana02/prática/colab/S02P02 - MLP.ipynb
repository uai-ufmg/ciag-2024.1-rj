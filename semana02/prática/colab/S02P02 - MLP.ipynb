{
  "nbformat": 4,
  "nbformat_minor": 0,
  "metadata": {
    "colab": {
      "provenance": []
    },
    "kernelspec": {
      "name": "python3",
      "display_name": "Python 3"
    },
    "accelerator": "GPU",
    "gpuClass": "standard"
  },
  "cells": [
    {
      "cell_type": "markdown",
      "metadata": {
        "id": "NG-mVsVuE0if"
      },
      "source": [
        "# Preâmbulo\n",
        "\n",
        "Imports, funções, downloads e instalação do Pytorch."
      ]
    },
    {
      "cell_type": "code",
      "metadata": {
        "id": "fEHmMCjR4PJw"
      },
      "source": [
        "import os\n",
        "import time\n",
        "import torch\n",
        "\n",
        "import numpy as np\n",
        "import matplotlib.pyplot as plt\n",
        "import torch.nn.functional as F\n",
        "\n",
        "from torch import nn\n",
        "from torch import optim\n",
        "from torch.utils import data\n",
        "from torch.backends import cudnn\n",
        "from torch.autograd import Variable\n",
        "from torch.utils.data import DataLoader\n",
        "\n",
        "from torchvision import models\n",
        "from torchvision import datasets\n",
        "from torchvision import transforms\n",
        "\n",
        "from skimage import io\n",
        "from sklearn import metrics\n",
        "\n",
        "%matplotlib inline\n",
        "cudnn.benchmark = True"
      ],
      "execution_count": null,
      "outputs": []
    },
    {
      "cell_type": "markdown",
      "metadata": {
        "id": "oQa4-lUw7Rmp"
      },
      "source": [
        "## Casting para o dispositivo correto\n",
        "\n",
        "Como usaremos processamento vetorial principalmente em GPUs para aprendizado profundo, primeiramente é possível verificar se há uma GPU disponível com o trecho de código abaixo, armazenando os tensores nos dispositivos apropriados."
      ]
    },
    {
      "cell_type": "code",
      "metadata": {
        "id": "yX0bBEM863sY",
        "colab": {
          "base_uri": "https://localhost:8080/"
        },
        "outputId": "c412711f-d872-46a3-cc1e-4c287cdd608e"
      },
      "source": [
        "# Verificando se temos GPU/CUDA\n",
        "has_cuda = torch.cuda.is_available()\n",
        "device = torch.device('cuda' if has_cuda else 'cpu')\n",
        "\n",
        "print(device)"
      ],
      "execution_count": null,
      "outputs": [
        {
          "output_type": "stream",
          "name": "stdout",
          "text": [
            "cpu\n"
          ]
        }
      ]
    },
    {
      "cell_type": "markdown",
      "metadata": {
        "id": "1x5UK0uib2tk"
      },
      "source": [
        "# Intro MLP\n",
        "\n",
        "## Neurônios e a camada `nn.Linear`\n",
        "\n",
        "A camada Linear do Pytorch ([nn.Linear](https://pytorch.org/docs/stable/nn.html#torch.nn.Linear)) é responsável por aplicar uma transformação linear no dado de entrada. Esta camada recebe como parâmetro a dimensão (número de *features*) da entrada e da saída (que na verdade, representa o número de neurônios dessa camada). Por padrão o bias já é incluído. **Um** perceptron pode ser facilmente representado como a seguir, desconsiderando a função de ativação:\n",
        "\n",
        "```\n",
        "linear = nn.Linear(in_dimension, 1)\n",
        "```\n",
        "Mas de uma forma geral, uma camada Linear com diversas *features* de entrada e diversas *features* de saída pode ser representada como:\n",
        "```\n",
        "nn.Linear(in_features, out_features)\n",
        "```\n",
        "![](./figs/nn_linear.png)"
      ]
    },
    {
      "cell_type": "code",
      "metadata": {
        "id": "OlQA_vtGg8bf",
        "colab": {
          "base_uri": "https://localhost:8080/"
        },
        "outputId": "017bb413-f43e-4bb2-987b-5c52a7897f7d"
      },
      "source": [
        "linear = nn.Linear(2, 1)\n",
        "print(linear)"
      ],
      "execution_count": null,
      "outputs": [
        {
          "output_type": "stream",
          "name": "stdout",
          "text": [
            "Linear(in_features=2, out_features=1, bias=True)\n"
          ]
        }
      ]
    },
    {
      "cell_type": "markdown",
      "metadata": {
        "id": "6AhNyLrLmFcT"
      },
      "source": [
        "Como é possível ver no código abaixo, o Pytorch já inicia os pesos da camada aleatoriamente."
      ]
    },
    {
      "cell_type": "code",
      "metadata": {
        "id": "fLOlOhQVmPuj",
        "colab": {
          "base_uri": "https://localhost:8080/"
        },
        "outputId": "3c7a022a-40ba-41f5-c997-ae53c13f834d"
      },
      "source": [
        "for name, param in linear.named_parameters():\n",
        "    print(f'Parameter {name}:')\n",
        "    print(f'  - {param.data}\\n')"
      ],
      "execution_count": null,
      "outputs": [
        {
          "output_type": "stream",
          "name": "stdout",
          "text": [
            "Parameter weight:\n",
            "  - tensor([[0.1760, 0.6900]])\n",
            "\n",
            "Parameter bias:\n",
            "  - tensor([0.2902])\n",
            "\n"
          ]
        }
      ]
    },
    {
      "cell_type": "markdown",
      "metadata": {
        "id": "aAEaJGtDoZD7"
      },
      "source": [
        "O **forward** consiste em passar seu dado de entrada pela rede, gerando um resultado ao final. Considerando a camada linear instanciada anteriormente, o resultado do forward é o mesmo do somatório da multiplicação de seus pesos pelas respectivas entradas juntamente com o bias, ou seja:\n",
        "\n",
        "$$f_w(x) = w_0 + w_1x_1 + w_2x_2 + \\ldots + w_nx_n$$\n",
        "\n",
        "No Pytorch, realizamos o **forward** chamando o objeto onde nossa rede/modelo está instanciada, conforme exemplo abaixo."
      ]
    },
    {
      "cell_type": "code",
      "metadata": {
        "id": "Ibb8t7zpmpUI",
        "colab": {
          "base_uri": "https://localhost:8080/"
        },
        "outputId": "628d3658-699d-464a-f0f6-7f7f9fd79300"
      },
      "source": [
        "linear = nn.Linear(2, 1)\n",
        "X = torch.tensor([2.0, 3.0])\n",
        "\n",
        "print('Using Linear:', linear(X))\n",
        "print('Manual:', torch.sum(X * linear.weight) + linear.bias)  # .weight e .bias permite acessarmos os pesos e bias deste modelo"
      ],
      "execution_count": null,
      "outputs": [
        {
          "output_type": "stream",
          "name": "stdout",
          "text": [
            "Using Linear: tensor([0.9591], grad_fn=<ViewBackward0>)\n",
            "Manual: tensor([0.9591], grad_fn=<AddBackward0>)\n"
          ]
        }
      ]
    },
    {
      "cell_type": "code",
      "source": [
        "ativacao = nn.ReLU()\n",
        "softmax = nn.Softmax()\n",
        "camada1 = nn.Linear(2, 4)\n",
        "camada2 = nn.Linear(4, 5)\n",
        "\n",
        "output = softmax(camada2(ativacao(camada1(X))))\n",
        "output"
      ],
      "metadata": {
        "colab": {
          "base_uri": "https://localhost:8080/"
        },
        "id": "95aU8dRH5Ncx",
        "outputId": "43cef5d2-c97f-4b93-d9b4-d0fe6aa8b790"
      },
      "execution_count": null,
      "outputs": [
        {
          "output_type": "execute_result",
          "data": {
            "text/plain": [
              "tensor([0.1807, 0.2433, 0.1888, 0.1602, 0.2269], grad_fn=<SoftmaxBackward0>)"
            ]
          },
          "metadata": {},
          "execution_count": 30
        }
      ]
    },
    {
      "cell_type": "code",
      "source": [
        "# Ao fazermos linear(X), estamos fazendo implicitamente uma chamada na função forward da Linear\n",
        "print('Forward com chamada implícita:', linear(X))\n",
        "print('Forward com chamada explícita:', linear.forward(X))"
      ],
      "metadata": {
        "id": "zwjZ4t_MIz58",
        "colab": {
          "base_uri": "https://localhost:8080/"
        },
        "outputId": "a953d2ef-7d99-4014-ffb0-1593a17b2b2d"
      },
      "execution_count": null,
      "outputs": [
        {
          "output_type": "stream",
          "name": "stdout",
          "text": [
            "Forward com chamada implícita: tensor([1.3874], grad_fn=<ViewBackward0>)\n",
            "Forward com chamada explícita: tensor([1.3874], grad_fn=<ViewBackward0>)\n"
          ]
        }
      ]
    },
    {
      "cell_type": "markdown",
      "metadata": {
        "id": "x8LMX6OMrEbw"
      },
      "source": [
        "## Exemplo de uma rede neural simples (1 camada)\n",
        "\n",
        "O código abaixo cria uma rede neural simples usando `nn.Linear` e implementa o fluxo de treinamento para essa rede, ou seja, faz o forward, calcula a loss, e otimiza seus pesos. Invista um pouco de tempo para entender a célula abaixo pois usaremos essa ideia para implementar a função de treino mais a frente."
      ]
    },
    {
      "cell_type": "code",
      "source": [
        "# Iremos criar dados que seguem a função y = 2x + 3\n",
        "dataset = []\n",
        "for x in range(10):\n",
        "    dataset.append((x, 2*x + 3))  # tupla com (x, y)"
      ],
      "metadata": {
        "id": "_uGksRlgJYNb"
      },
      "execution_count": null,
      "outputs": []
    },
    {
      "cell_type": "code",
      "source": [
        "dataset"
      ],
      "metadata": {
        "id": "Q2MwrrGAmFMZ",
        "colab": {
          "base_uri": "https://localhost:8080/"
        },
        "outputId": "4fd5fc45-1855-441e-bcc0-c718bed05e05"
      },
      "execution_count": null,
      "outputs": [
        {
          "output_type": "execute_result",
          "data": {
            "text/plain": [
              "[(0, 3),\n",
              " (1, 5),\n",
              " (2, 7),\n",
              " (3, 9),\n",
              " (4, 11),\n",
              " (5, 13),\n",
              " (6, 15),\n",
              " (7, 17),\n",
              " (8, 19),\n",
              " (9, 21)]"
            ]
          },
          "metadata": {},
          "execution_count": 8
        }
      ]
    },
    {
      "cell_type": "code",
      "source": [
        "# Definiremos uma loss (erro quadrático -> (y - y_hat)^2)\n",
        "def loss_fn(predict, label):\n",
        "    return torch.pow(label - predict, 2)"
      ],
      "metadata": {
        "id": "UHRwAuyFJvUa"
      },
      "execution_count": null,
      "outputs": []
    },
    {
      "cell_type": "code",
      "metadata": {
        "id": "YPJ9s5ckoA5T",
        "colab": {
          "base_uri": "https://localhost:8080/"
        },
        "outputId": "88282976-b627-405d-d2e1-be9a9015edfe"
      },
      "source": [
        "linear = nn.Linear(1, 1)  # camada linear com 1 feature de entrada (mais o bias) e uma de saída\n",
        "linear.to(device)  # casting do linear para GPU\n",
        "\n",
        "learning_rate = 0.01\n",
        "print(f'Parâmetros iniciais: {list(linear.parameters())}\\n')\n",
        "\n",
        "for epoch in range(100):\n",
        "    epoch_loss = 0\n",
        "\n",
        "    for X, y in dataset:\n",
        "        # Fazendo o casting dos dados para tensores na GPU\n",
        "        X = torch.FloatTensor([X]).to(device)\n",
        "        y = torch.FloatTensor([y]).to(device)\n",
        "\n",
        "        y_pred = linear(X)  # etapa de forward\n",
        "        loss = loss_fn(y_pred, y)  # calcula a loss\n",
        "        epoch_loss += loss.item()\n",
        "\n",
        "        # Etapa de backprop\n",
        "        loss.backward()\n",
        "        with torch.no_grad(): # não queremos fazer com que o pytorch anote as operações do backprop\n",
        "            for param in linear.parameters():\n",
        "                param -= learning_rate * param.grad  # atualização dos parametros (pesos e bias) com base no gradiente\n",
        "\n",
        "        for param in linear.parameters():\n",
        "            param.grad.zero_()  # resetando o gradiente\n",
        "\n",
        "    if (epoch + 1) % 10 == 0:\n",
        "        print(\"Epoch {} - loss: {}\".format(epoch + 1, epoch_loss))\n",
        "\n",
        "print('\\nParâmetros finais: ', list(linear.parameters()))"
      ],
      "execution_count": null,
      "outputs": [
        {
          "output_type": "stream",
          "name": "stdout",
          "text": [
            "Parâmetros iniciais: [Parameter containing:\n",
            "tensor([[-0.7914]], requires_grad=True), Parameter containing:\n",
            "tensor([0.2735], requires_grad=True)]\n",
            "\n",
            "Epoch 10 - loss: 3.7114275442436337\n",
            "Epoch 20 - loss: 1.2826352751580998\n",
            "Epoch 30 - loss: 0.44326957751763985\n",
            "Epoch 40 - loss: 0.15318967687198892\n",
            "Epoch 50 - loss: 0.052940971800126135\n",
            "Epoch 60 - loss: 0.018295912032044725\n",
            "Epoch 70 - loss: 0.006322939228994073\n",
            "Epoch 80 - loss: 0.0021852371537534054\n",
            "Epoch 90 - loss: 0.0007552007464255439\n",
            "Epoch 100 - loss: 0.0002610057017591316\n",
            "\n",
            "Parâmetros finais:  [Parameter containing:\n",
            "tensor([[2.0010]], requires_grad=True), Parameter containing:\n",
            "tensor([2.9907], requires_grad=True)]\n"
          ]
        }
      ]
    },
    {
      "cell_type": "code",
      "metadata": {
        "id": "e9uRk8mAwGIB",
        "colab": {
          "base_uri": "https://localhost:8080/"
        },
        "outputId": "bd746c84-98d5-435f-f410-0b03bb68e6ca"
      },
      "source": [
        "X = torch.FloatTensor([20]).to(device)\n",
        "print(linear(X))  # forward do valor 20 para conferir resultado, saida deve ser aproximadamente = 2x+3 = 2*20+3 = 43"
      ],
      "execution_count": null,
      "outputs": [
        {
          "output_type": "stream",
          "name": "stdout",
          "text": [
            "tensor([43.0090], grad_fn=<ViewBackward0>)\n"
          ]
        }
      ]
    },
    {
      "cell_type": "markdown",
      "metadata": {
        "id": "3f-q6bCNzEmx"
      },
      "source": [
        "## O módulo `nn.Sequential`\n",
        "\n",
        "Na prática, criaremos redes com diversas camadas. O bloco `nn.Sequential` permite agrupar as camadas de forma sequencial para que o forward seja realizado na ordem desejada. Veja um exemplo para um *Multilayer Perceptron (MLP)* abaixo."
      ]
    },
    {
      "cell_type": "code",
      "metadata": {
        "id": "LCK_OkqCzdUW",
        "colab": {
          "base_uri": "https://localhost:8080/"
        },
        "outputId": "bb2d6f30-944e-474a-9684-910328842199"
      },
      "source": [
        "MLP = nn.Sequential(\n",
        "    nn.Linear(10, 12),\n",
        "    nn.ReLU(),\n",
        "    nn.Linear(12, 24),\n",
        "    nn.ReLU(),\n",
        "    nn.Linear(24, 2)\n",
        ")\n",
        "\n",
        "MLP = MLP.to(device)\n",
        "print(MLP)"
      ],
      "execution_count": null,
      "outputs": [
        {
          "output_type": "stream",
          "name": "stdout",
          "text": [
            "Sequential(\n",
            "  (0): Linear(in_features=10, out_features=12, bias=True)\n",
            "  (1): ReLU()\n",
            "  (2): Linear(in_features=12, out_features=24, bias=True)\n",
            "  (3): ReLU()\n",
            "  (4): Linear(in_features=24, out_features=2, bias=True)\n",
            ")\n"
          ]
        }
      ]
    },
    {
      "cell_type": "code",
      "metadata": {
        "id": "mkhjCepK0kjJ",
        "colab": {
          "base_uri": "https://localhost:8080/"
        },
        "outputId": "3d31c600-be4d-4e81-fdfb-4579ad6f9720"
      },
      "source": [
        "test_data = torch.randn((10, 10)).to(device)  # 10 dados de input aleatórios com 10 features\n",
        "\n",
        "output = MLP(test_data)  # forward da rede\n",
        "print(output.size())"
      ],
      "execution_count": null,
      "outputs": [
        {
          "output_type": "stream",
          "name": "stdout",
          "text": [
            "torch.Size([10, 2])\n"
          ]
        }
      ]
    },
    {
      "cell_type": "markdown",
      "metadata": {
        "id": "dfb4zBjO0Lua"
      },
      "source": [
        "Informação sobre outras camadas lineares, como nn.Bilinear e nn.Identity, podem ser vistas na documentação: https://pytorch.org/docs/stable/nn.html#linear-layers"
      ]
    },
    {
      "cell_type": "markdown",
      "metadata": {
        "id": "E9LoXL0cUYMT"
      },
      "source": [
        "## Conjunto de Exercícios 1 - Implementação de uma MLP\n",
        "\n",
        "Vamos agora treinar um MLP simples no dataset de [Breast Cancer da UCI](https://archive.ics.uci.edu/ml/datasets/Breast+Cancer+Wisconsin+(Diagnostic)). A célula abaixo irá carregar os dados utilizando a biblioteca scikit-learn, que já possui o dataset pronto para utilizarmos.\n",
        "\n",
        "- Neste exercício, não estamos interessados em trabalhar com dados de treino/teste, mas sim apenas estudar como definir uma rede neural de múltiplas camadas em PyTorch e realizar o treinamento dos seus pesos e viéses."
      ]
    },
    {
      "cell_type": "code",
      "metadata": {
        "id": "Vi3Zh8fQ4X_3",
        "colab": {
          "base_uri": "https://localhost:8080/"
        },
        "outputId": "b7dd00b1-37ba-45b8-95ac-fe5f098e5c86"
      },
      "source": [
        "from sklearn.datasets import load_breast_cancer\n",
        "\n",
        "X, y = load_breast_cancer(return_X_y=True)\n",
        "\n",
        "print('Tamanho de X:', X.shape)\n",
        "print('Dataype de X:', type(X), X.dtype)\n",
        "\n",
        "print('\\nTamanho de y:', y.shape)\n",
        "print('Dataype de y:', type(y), y.dtype)"
      ],
      "execution_count": null,
      "outputs": [
        {
          "output_type": "stream",
          "name": "stdout",
          "text": [
            "Tamanho de X: (569, 30)\n",
            "Dataype de X: <class 'numpy.ndarray'> float64\n",
            "\n",
            "Tamanho de y: (569,)\n",
            "Dataype de y: <class 'numpy.ndarray'> int64\n"
          ]
        }
      ]
    },
    {
      "cell_type": "code",
      "source": [
        "# Convertendo os dados para tensores PyTorch e fazendo o casting para o dispositivo apropriado\n",
        "X = torch.FloatTensor(X).to(device)\n",
        "y = torch.FloatTensor(y).to(device)\n",
        "\n",
        "# Modificando o shape das anotações para ser um vetor (n, 1) para não gerar erros no cálculo da função de perda\n",
        "# Isso é necessário pois os produtos internos feitos no PyTorch irá resultar em uma matriz (n, 1), ou seja, n-linhas\n",
        "# onde cada linha terá um valor binário (classe daquela observação)\n",
        "y = y.unsqueeze(dim=-1)  # dim=-1 representa a última dimensão do nosso vetor\n",
        "\n",
        "# Exibindo o tamanho dos tensores\n",
        "print('Tamanho de X:', X.shape)\n",
        "print('Dataype de X:', type(X), X.dtype)\n",
        "\n",
        "print('\\nTamanho de y:', y.shape)\n",
        "print('Dataype de y:', type(y), y.dtype)"
      ],
      "metadata": {
        "id": "msF6TmtsnXr8",
        "colab": {
          "base_uri": "https://localhost:8080/"
        },
        "outputId": "dc59f1d7-c434-46e9-b028-294af1ab9925"
      },
      "execution_count": null,
      "outputs": [
        {
          "output_type": "stream",
          "name": "stdout",
          "text": [
            "Tamanho de X: torch.Size([569, 30])\n",
            "Dataype de X: <class 'torch.Tensor'> torch.float32\n",
            "\n",
            "Tamanho de y: torch.Size([569, 1])\n",
            "Dataype de y: <class 'torch.Tensor'> torch.float32\n"
          ]
        }
      ]
    },
    {
      "cell_type": "code",
      "source": [
        "print('Labels dos dados:', torch.unique(y))"
      ],
      "metadata": {
        "id": "EjahTNqATUvu",
        "colab": {
          "base_uri": "https://localhost:8080/"
        },
        "outputId": "db8b78af-65c6-4938-8420-b0a2efc08683"
      },
      "execution_count": null,
      "outputs": [
        {
          "output_type": "stream",
          "name": "stdout",
          "text": [
            "Labels dos dados: tensor([0., 1.])\n"
          ]
        }
      ]
    },
    {
      "cell_type": "code",
      "source": [
        "t = torch.Tensor([1,2,3])\n",
        "t = t.reshape((1,3))\n",
        "t.shape"
      ],
      "metadata": {
        "colab": {
          "base_uri": "https://localhost:8080/"
        },
        "id": "Eewb-I6MfudR",
        "outputId": "ec18344e-0446-44d7-cfcf-a8ce7c12879e"
      },
      "execution_count": null,
      "outputs": [
        {
          "output_type": "execute_result",
          "data": {
            "text/plain": [
              "torch.Size([1, 3])"
            ]
          },
          "metadata": {},
          "execution_count": 36
        }
      ]
    },
    {
      "cell_type": "code",
      "source": [
        "t"
      ],
      "metadata": {
        "colab": {
          "base_uri": "https://localhost:8080/"
        },
        "id": "1MOWmBPef233",
        "outputId": "cfa30b3d-4408-4479-c384-ccdffd8c869a"
      },
      "execution_count": null,
      "outputs": [
        {
          "output_type": "execute_result",
          "data": {
            "text/plain": [
              "tensor([[1., 2., 3.]])"
            ]
          },
          "metadata": {},
          "execution_count": 37
        }
      ]
    },
    {
      "cell_type": "markdown",
      "metadata": {
        "id": "ZMDN1viW-0Eg"
      },
      "source": [
        "1. Implemente na célula abaixo uma MLP, de nome **model**, utilizando o módulo `nn.Sequential`. A sua rede MLP deve possuir, pelo menos, uma camada oculta, usando uma ReLU como função de ativação entre as camadas.\n",
        "\n",
        "    - Note que o nosso problema é um problema de classificação binária. Iremos utilizar uma função de perda do PyTorch que recebe como entrada a saída \"crua\" (*logits*) da sua rede neural. Sendo assim, não se preocupe em aplicar alguma transformação na saída (como uma sigmóide) para converter os valores para uma probabilidade, por exemplo."
      ]
    },
    {
      "cell_type": "code",
      "metadata": {
        "id": "zYO7HWC29Ahy",
        "colab": {
          "base_uri": "https://localhost:8080/"
        },
        "outputId": "5c97b82e-cd2c-4771-c023-13965e8d9807"
      },
      "source": [
        "in_features = 30\n",
        "out_features = 1\n",
        "\n",
        "model = nn.Sequential(\n",
        "    nn.Linear(in_features, 64), nn.ELU(),\n",
        "    nn.Linear(64, 32), nn.ELU(),\n",
        "    nn.Linear(32, 16), nn.ELU(),\n",
        "    nn.Linear(16, out_features)\n",
        ")\n",
        "\n",
        "model.to(device)  # sempre é necessario fazer o casting da rede para jogá-la para GPU\n",
        "print(model)"
      ],
      "execution_count": null,
      "outputs": [
        {
          "output_type": "stream",
          "name": "stdout",
          "text": [
            "Sequential(\n",
            "  (0): Linear(in_features=30, out_features=64, bias=True)\n",
            "  (1): ELU(alpha=1.0)\n",
            "  (2): Linear(in_features=64, out_features=32, bias=True)\n",
            "  (3): ELU(alpha=1.0)\n",
            "  (4): Linear(in_features=32, out_features=16, bias=True)\n",
            "  (5): ELU(alpha=1.0)\n",
            "  (6): Linear(in_features=16, out_features=1, bias=True)\n",
            ")\n"
          ]
        }
      ]
    },
    {
      "cell_type": "code",
      "source": [
        "x_random = torch.randn(569, 30)\n",
        "model(x_random).shape"
      ],
      "metadata": {
        "colab": {
          "base_uri": "https://localhost:8080/"
        },
        "id": "006xHwaBnAbx",
        "outputId": "2f36c5ae-1298-4433-ee6d-b8186e558f7c"
      },
      "execution_count": null,
      "outputs": [
        {
          "output_type": "execute_result",
          "data": {
            "text/plain": [
              "torch.Size([569, 1])"
            ]
          },
          "metadata": {},
          "execution_count": 84
        }
      ]
    },
    {
      "cell_type": "markdown",
      "metadata": {
        "id": "BWrn_MUHBz7o"
      },
      "source": [
        "Abaixo, definimos uma loss e um otimizador usando o PyTorch. Não se preocupem como isso funciona agora, pois iremos ver em detalhes como definir e usar diferentes losses e otimizadores com o PyTorch."
      ]
    },
    {
      "cell_type": "code",
      "source": [
        "# Iremos utilizar a entropia cruzada binária como função de perda para o nosso problema\n",
        "# Essa versão da BCE aceita como entrada a saída \"crua\" (logits) da sua rede neural.\n",
        "# Outras versões, como a BCELoss aceita como entrada uma saída probabilística da sua rede neural (sigmoid ou softmax),\n",
        "# sendo assim você deve colocar uma função de ativação depois do último nn.Linear do seu modelo.\n",
        "# A versão BCEWithLogitsLoss implementa uma versão mais numericamente estável da loss, podemos observar isso na própria\n",
        "# documentação do PyTorch: https://pytorch.org/docs/stable/generated/torch.nn.BCEWithLogitsLoss.html?highlight=bcewithlogitsloss#torch.nn.BCEWithLogitsLoss\n",
        "\n",
        "criterion = nn.BCEWithLogitsLoss()\n",
        "# criterion = nn.BCELoss()\n",
        "\n",
        "# Se quiser usar sigmoid no final da rede, troque por criterion = nn.BCELoss()"
      ],
      "metadata": {
        "id": "IgEeodMiSmuO"
      },
      "execution_count": null,
      "outputs": []
    },
    {
      "cell_type": "code",
      "metadata": {
        "id": "Oa5DcYBf82iD"
      },
      "source": [
        "# Iremos utilizar o pacote optim para definir um otimizador que irá atualizar os pesos do modelo para nós.\n",
        "# Aqui, utilizaremos SGD - Gradiente Descendente Estocástico.\n",
        "# O pacote optim contém muitos outros algoritmos de otimização, porém, em todos o primeiro parâmetro irá dizer para os\n",
        "# otimizadores quais tensores (com requires_grad=True) do nosso modelo ele deverá otimizar.\n",
        "import torch.optim as optim\n",
        "\n",
        "learning_rate = 1e-4\n",
        "optimizer = optim.SGD(model.parameters(), lr=learning_rate)"
      ],
      "execution_count": null,
      "outputs": []
    },
    {
      "cell_type": "markdown",
      "metadata": {
        "id": "JPQtOnNr-kAG"
      },
      "source": [
        "Abaixo teremos um loop de treinamento típico de PyTorch. Não precisa modificar em nada essa funçao, porém estude ela mesmo assim, já que usaremos esse fluxo como template para treinamento de outros modelos mais a frente no curso."
      ]
    },
    {
      "cell_type": "code",
      "metadata": {
        "id": "dsMFRIDv80I3",
        "colab": {
          "base_uri": "https://localhost:8080/"
        },
        "outputId": "797f3847-bb8b-4b30-e909-dd8457957f71"
      },
      "source": [
        "# Aqui iremos criar uma lista de loss para cada época\n",
        "loss_list = []\n",
        "\n",
        "# Iterando sobre as épocas\n",
        "n_epochs = 500\n",
        "for epoch in range(n_epochs):\n",
        "    preds = model(X)\n",
        "    loss = criterion(preds, y)\n",
        "\n",
        "    # Salvando a loss da iteração atual (para plots futuros)\n",
        "    loss_list.append(loss.item())\n",
        "\n",
        "    # Antes de fazermos o backward pass, iremos zerar o gradiente de todos os tensores\n",
        "    # atrelados ao otimizador utilizando a chamada de função .zero_grad() do nosso otimizador.\n",
        "    # Faremos isso pois os gradientes são acumulados, sempre que chamamos .backward(), em buffers nos\n",
        "    # tensores que representam os pesos dos nossos modelos, ou seja, não são sobrescritos.\n",
        "    # Para mais detalhes, você pode dar uma olhada na documentação do torch.autograd.backward\n",
        "    optimizer.zero_grad()\n",
        "\n",
        "    # Realizando o backward pass, ou seja, computando os gradientes da nossa função de perda\n",
        "    # com respeito aos parâmetros (pesos) do nosso modelo\n",
        "    loss.backward()\n",
        "\n",
        "    # Chamando a função .step() do nosso otimizador para realizar um \"passo\" na otimização.\n",
        "    # Nesse caso, o \"passo\" será realizar o cálculo que vimos do gradiente descendente\n",
        "    optimizer.step()\n",
        "\n",
        "    if (epoch + 1) % 10 == 0:\n",
        "        print(f'Epoch {epoch + 1}: loss = {loss.item():.5f}')"
      ],
      "execution_count": null,
      "outputs": [
        {
          "output_type": "stream",
          "name": "stdout",
          "text": [
            "Epoch 10: loss = 0.58007\n",
            "Epoch 20: loss = 0.53016\n",
            "Epoch 30: loss = 0.49990\n",
            "Epoch 40: loss = 0.47882\n",
            "Epoch 50: loss = 0.46258\n",
            "Epoch 60: loss = 0.45017\n",
            "Epoch 70: loss = 0.44060\n",
            "Epoch 80: loss = 0.43289\n",
            "Epoch 90: loss = 0.42641\n",
            "Epoch 100: loss = 0.42080\n",
            "Epoch 110: loss = 0.41578\n",
            "Epoch 120: loss = 0.41121\n",
            "Epoch 130: loss = 0.40697\n",
            "Epoch 140: loss = 0.40296\n",
            "Epoch 150: loss = 0.39911\n",
            "Epoch 160: loss = 0.39536\n",
            "Epoch 170: loss = 0.39161\n",
            "Epoch 180: loss = 0.38773\n",
            "Epoch 190: loss = 0.38345\n",
            "Epoch 200: loss = 0.37811\n",
            "Epoch 210: loss = 0.36946\n",
            "Epoch 220: loss = 0.35112\n",
            "Epoch 230: loss = 0.33808\n",
            "Epoch 240: loss = 0.33347\n",
            "Epoch 250: loss = 0.33068\n",
            "Epoch 260: loss = 0.32837\n",
            "Epoch 270: loss = 0.32627\n",
            "Epoch 280: loss = 0.32429\n",
            "Epoch 290: loss = 0.32238\n",
            "Epoch 300: loss = 0.32053\n",
            "Epoch 310: loss = 0.31871\n",
            "Epoch 320: loss = 0.31691\n",
            "Epoch 330: loss = 0.31512\n",
            "Epoch 340: loss = 0.31335\n",
            "Epoch 350: loss = 0.31162\n",
            "Epoch 360: loss = 0.30991\n",
            "Epoch 370: loss = 0.30822\n",
            "Epoch 380: loss = 0.30653\n",
            "Epoch 390: loss = 0.30485\n",
            "Epoch 400: loss = 0.30313\n",
            "Epoch 410: loss = 0.30132\n",
            "Epoch 420: loss = 0.29939\n",
            "Epoch 430: loss = 0.29735\n",
            "Epoch 440: loss = 0.29524\n",
            "Epoch 450: loss = 0.29307\n",
            "Epoch 460: loss = 0.29096\n",
            "Epoch 470: loss = 0.28890\n",
            "Epoch 480: loss = 0.28708\n",
            "Epoch 490: loss = 0.28520\n",
            "Epoch 500: loss = 0.28319\n"
          ]
        }
      ]
    },
    {
      "cell_type": "code",
      "metadata": {
        "id": "toQyqq98-68X",
        "colab": {
          "base_uri": "https://localhost:8080/",
          "height": 721
        },
        "outputId": "8f637efb-09dd-4287-b386-c90cef953de0"
      },
      "source": [
        "fig, ax = plt.subplots(1, 1, figsize=(10, 8))\n",
        "\n",
        "ax.set_title('Evolução da função de perda ao longo das épocas')\n",
        "ax.set_ylabel('Valor da função de perda')\n",
        "ax.set_xlabel('Épocas')\n",
        "ax.plot(np.asarray(loss_list))\n",
        "\n",
        "plt.show()"
      ],
      "execution_count": null,
      "outputs": [
        {
          "output_type": "display_data",
          "data": {
            "text/plain": [
              "<Figure size 1000x800 with 1 Axes>"
            ],
            "image/png": "[encoded data removed]"
          },
          "metadata": {}
        }
      ]
    },
    {
      "cell_type": "code",
      "source": [
        "# Sigmoid como camada\n",
        "sigmoid = nn.Sigmoid()\n",
        "sigmoid(torch.tensor([10]))"
      ],
      "metadata": {
        "colab": {
          "base_uri": "https://localhost:8080/"
        },
        "id": "hhb6FHwIq1Hl",
        "outputId": "b62274bc-2dfb-4297-de09-d936ce1cb17b"
      },
      "execution_count": null,
      "outputs": [
        {
          "output_type": "execute_result",
          "data": {
            "text/plain": [
              "tensor([1.0000])"
            ]
          },
          "metadata": {},
          "execution_count": 98
        }
      ]
    },
    {
      "cell_type": "code",
      "source": [
        "# Sigmoid como função\n",
        "y_pred = F.sigmoid(model(X))\n",
        "predictions = (y_pred > 0.5).int()  # predição das classes\n",
        "\n",
        "predictions[:10]"
      ],
      "metadata": {
        "colab": {
          "base_uri": "https://localhost:8080/"
        },
        "id": "pJQlgRcpoDxM",
        "outputId": "013a94f3-ffcb-42e9-80f3-0022b7af0556"
      },
      "execution_count": null,
      "outputs": [
        {
          "output_type": "execute_result",
          "data": {
            "text/plain": [
              "tensor([[0],\n",
              "        [0],\n",
              "        [0],\n",
              "        [0],\n",
              "        [0],\n",
              "        [0],\n",
              "        [0],\n",
              "        [0],\n",
              "        [0],\n",
              "        [0]], dtype=torch.int32)"
            ]
          },
          "metadata": {},
          "execution_count": 94
        }
      ]
    },
    {
      "cell_type": "markdown",
      "source": [
        "## Conjunto de Exercícios 2 - Implementação de uma MLP utilizando objetos\n",
        "\n",
        "- Aqui, iremos repetir o mesmo procedimento feito anteriormente. Porém, iremos adotar uma implementação baseada no paradigma de orientação à objetos, que será muito importante em módulos futuros para definir modelos mais complexos e manter o código organizado.\n",
        "\n",
        "    - Abaixo teremos um código onde a classe MLP receberá quantas `features` teremos de entrada e saída, qual o tamanho das camadas ocultas, e quantas camadas ocultas iremos ter. Uma assinatura diferente para o `__init__` que você pode optar é `__init__(self, in_features, out_features, hidden_sizes)`, onde `hidden_sizes` representa uma lista com o tamanho de cada camada oculta, definindo assim em uma só variável o número de camadas ocultas e suas dimensões. Sinta-se livre para modificar o código e experimentar com ambas opções."
      ],
      "metadata": {
        "id": "Bp5MeuJml3l1"
      }
    },
    {
      "cell_type": "code",
      "source": [
        "class Teste:\n",
        "    def __init__(self):\n",
        "        pass\n",
        "\n",
        "    def __call__(self):\n",
        "        print('Ola mundo')\n",
        "\n",
        "    def falar(self):\n",
        "        print('Ola mundo')\n",
        "\n",
        "t = Teste()\n",
        "t(), t.falar()"
      ],
      "metadata": {
        "colab": {
          "base_uri": "https://localhost:8080/"
        },
        "id": "xC3JYpRQs041",
        "outputId": "9cdf87be-0efd-456a-b626-9e54c043ee78"
      },
      "execution_count": null,
      "outputs": [
        {
          "output_type": "stream",
          "name": "stdout",
          "text": [
            "Ola mundo\n",
            "Ola mundo\n"
          ]
        },
        {
          "output_type": "execute_result",
          "data": {
            "text/plain": [
              "(None, None)"
            ]
          },
          "metadata": {},
          "execution_count": 101
        }
      ]
    },
    {
      "cell_type": "code",
      "source": [
        "num_layers = 3\n",
        "hidden_size = 50\n",
        "\n",
        "hidden_layers = []\n",
        "for i in range(num_layers - 1):\n",
        "    layer = nn.Linear(hidden_size, hidden_size)\n",
        "    hidden_layers.append(layer)\n",
        "    hidden_layers.append(nn.ReLU())\n",
        "\n",
        "hidden_layers"
      ],
      "metadata": {
        "colab": {
          "base_uri": "https://localhost:8080/"
        },
        "id": "IqViUhiBut6F",
        "outputId": "317240d8-8013-4332-b5cb-0614f7236d8e"
      },
      "execution_count": null,
      "outputs": [
        {
          "output_type": "execute_result",
          "data": {
            "text/plain": [
              "[Linear(in_features=50, out_features=50, bias=True),\n",
              " ReLU(),\n",
              " Linear(in_features=50, out_features=50, bias=True),\n",
              " ReLU()]"
            ]
          },
          "metadata": {},
          "execution_count": 119
        }
      ]
    },
    {
      "cell_type": "code",
      "source": [
        "class MLP(nn.Module):\n",
        "    def __init__(self, in_features, out_features, hidden_size, num_hidden_layers):\n",
        "        # Essa linha é obrigatória quando formos definir qualquer modelo em PyTorch dessa forma.\n",
        "        # Uma chamada equivalente é: super(self, MLP).__init__(), mas podemos omitir \"self\" e o nome da classe.\n",
        "        super().__init__()\n",
        "\n",
        "        # Implemente aqui o seu modelo (pode utilizar Sequential ou definir cada camada de forma separada)\n",
        "        hidden_layers = []\n",
        "        for i in range(num_hidden_layers - 1):\n",
        "            layer = nn.Linear(hidden_size, hidden_size)\n",
        "\n",
        "            # Inserindo na lista uma Linear + ReLU\n",
        "            hidden_layers.append(layer)\n",
        "            hidden_layers.append(nn.ReLU())\n",
        "\n",
        "        self.model = nn.Sequential(\n",
        "            nn.Linear(in_features, hidden_size), nn.ReLU(),\n",
        "            *hidden_layers,\n",
        "            nn.Linear(hidden_size, out_features)\n",
        "        )\n",
        "\n",
        "    # Devemos implementar a passagem do dado ao longo da nossa rede.\n",
        "    # Para isso, sobreescrevemos o método forward, definido pela classe herdada: nn.Module.\n",
        "    def forward(self, x):\n",
        "        return self.model(x)"
      ],
      "metadata": {
        "id": "4aU4-sp5abBh"
      },
      "execution_count": null,
      "outputs": []
    },
    {
      "cell_type": "code",
      "source": [
        "l = ['a', 'b', 'c']\n",
        "\n",
        "def f(x1, x2, x3):\n",
        "    print(x1, x2, x3)\n",
        "\n",
        "f(*l)"
      ],
      "metadata": {
        "colab": {
          "base_uri": "https://localhost:8080/"
        },
        "id": "Gsers2DCvJ0E",
        "outputId": "6c084709-c32d-4c8f-d091-898ece367feb"
      },
      "execution_count": null,
      "outputs": [
        {
          "output_type": "stream",
          "name": "stdout",
          "text": [
            "a b c\n"
          ]
        }
      ]
    },
    {
      "cell_type": "code",
      "source": [
        "in_features = 30\n",
        "out_features = 1\n",
        "\n",
        "# Instancie o seu modelo aqui\n",
        "model = MLP(in_features, out_features, hidden_size=64, num_hidden_layers=2)\n",
        "\n",
        "model = model.to(device)\n",
        "print(model)"
      ],
      "metadata": {
        "id": "yDJvdazdsgrk",
        "colab": {
          "base_uri": "https://localhost:8080/"
        },
        "outputId": "2fe15019-9d06-460a-da76-5dabb9264f12"
      },
      "execution_count": null,
      "outputs": [
        {
          "output_type": "stream",
          "name": "stdout",
          "text": [
            "MLP(\n",
            "  (model): Sequential(\n",
            "    (0): Linear(in_features=30, out_features=64, bias=True)\n",
            "    (1): ReLU()\n",
            "    (2): Linear(in_features=64, out_features=64, bias=True)\n",
            "    (3): ReLU()\n",
            "    (4): Linear(in_features=64, out_features=1, bias=True)\n",
            "  )\n",
            ")\n"
          ]
        }
      ]
    },
    {
      "cell_type": "markdown",
      "source": [
        "- Agora iremos treinar o modelo normalmente."
      ],
      "metadata": {
        "id": "jSiflErnuKfD"
      }
    },
    {
      "cell_type": "code",
      "source": [
        "nn.Sequential(\n",
        "    nn.Linear(10, 2),\n",
        "    nn.Linear(2, 10)\n",
        ")"
      ],
      "metadata": {
        "colab": {
          "base_uri": "https://localhost:8080/"
        },
        "id": "-lCAOzvMxh6b",
        "outputId": "fc527bed-43f6-4f40-b404-a1d6afbc7e60"
      },
      "execution_count": null,
      "outputs": [
        {
          "output_type": "execute_result",
          "data": {
            "text/plain": [
              "Sequential(\n",
              "  (0): Linear(in_features=10, out_features=2, bias=True)\n",
              "  (1): Linear(in_features=2, out_features=10, bias=True)\n",
              ")"
            ]
          },
          "metadata": {},
          "execution_count": 125
        }
      ]
    },
    {
      "cell_type": "code",
      "source": [
        "learning_rate = 1e-4\n",
        "criterion = nn.BCEWithLogitsLoss()\n",
        "optimizer = optim.SGD(model.parameters(), lr=learning_rate)\n",
        "\n",
        "# Aqui iremos criar uma lista de loss para cada época\n",
        "loss_list = []\n",
        "\n",
        "# Iterando sobre as épocas\n",
        "n_epochs = 500\n",
        "for epoch in range(n_epochs):\n",
        "    preds = model(X)\n",
        "    loss = criterion(preds, y)\n",
        "\n",
        "    # Salvando a loss da iteração atual (para plots futuros)\n",
        "    loss_list.append(loss.item())\n",
        "\n",
        "    # Antes de fazermos o backward pass, iremos zerar o gradiente de todos os tensores\n",
        "    # atrelados ao otimizador utilizando a chamada de função .zero_grad() do nosso otimizador.\n",
        "    # Faremos isso pois os gradientes são acumulados, sempre que chamamos .backward(), em buffers nos\n",
        "    # tensores que representam os pesos dos nossos modelos, ou seja, não são sobrescritos.\n",
        "    # Para mais detalhes, você pode dar uma olhada na documentação do torch.autograd.backward\n",
        "    optimizer.zero_grad()\n",
        "\n",
        "    # Realizando o backward pass, ou seja, computando os gradientes da nossa função de perda\n",
        "    # com respeito aos parâmetros (pesos) do nosso modelo\n",
        "    loss.backward()\n",
        "\n",
        "    # Chamando a função .step() do nosso otimizador para realizar um \"passo\" na otimização.\n",
        "    # Nesse caso, o \"passo\" será realizar o cálculo que vimos do gradiente descendente\n",
        "    optimizer.step()\n",
        "\n",
        "    if (epoch + 1) % 10 == 0:\n",
        "        print(f'Epoch {epoch + 1}: loss = {loss.item():.5f}')"
      ],
      "metadata": {
        "id": "Yr5ykcPwuH2D",
        "colab": {
          "base_uri": "https://localhost:8080/"
        },
        "outputId": "9bf6f493-80d7-44f7-ed46-4d78c67c1839"
      },
      "execution_count": null,
      "outputs": [
        {
          "output_type": "stream",
          "name": "stdout",
          "text": [
            "Epoch 10: loss = 1.42854\n",
            "Epoch 20: loss = 0.81419\n",
            "Epoch 30: loss = 0.60711\n",
            "Epoch 40: loss = 0.57126\n",
            "Epoch 50: loss = 0.48244\n",
            "Epoch 60: loss = 0.39965\n",
            "Epoch 70: loss = 0.34919\n",
            "Epoch 80: loss = 0.33036\n",
            "Epoch 90: loss = 0.32454\n",
            "Epoch 100: loss = 0.32123\n",
            "Epoch 110: loss = 0.31829\n",
            "Epoch 120: loss = 0.31552\n",
            "Epoch 130: loss = 0.31288\n",
            "Epoch 140: loss = 0.31034\n",
            "Epoch 150: loss = 0.30791\n",
            "Epoch 160: loss = 0.30560\n",
            "Epoch 170: loss = 0.30340\n",
            "Epoch 180: loss = 0.30129\n",
            "Epoch 190: loss = 0.29928\n",
            "Epoch 200: loss = 0.29736\n",
            "Epoch 210: loss = 0.29547\n",
            "Epoch 220: loss = 0.29364\n",
            "Epoch 230: loss = 0.29188\n",
            "Epoch 240: loss = 0.29015\n",
            "Epoch 250: loss = 0.28849\n",
            "Epoch 260: loss = 0.28689\n",
            "Epoch 270: loss = 0.28532\n",
            "Epoch 280: loss = 0.28380\n",
            "Epoch 290: loss = 0.28235\n",
            "Epoch 300: loss = 0.28095\n",
            "Epoch 310: loss = 0.27959\n",
            "Epoch 320: loss = 0.27828\n",
            "Epoch 330: loss = 0.27701\n",
            "Epoch 340: loss = 0.27578\n",
            "Epoch 350: loss = 0.27458\n",
            "Epoch 360: loss = 0.27341\n",
            "Epoch 370: loss = 0.27228\n",
            "Epoch 380: loss = 0.27117\n",
            "Epoch 390: loss = 0.27008\n",
            "Epoch 400: loss = 0.26904\n",
            "Epoch 410: loss = 0.26802\n",
            "Epoch 420: loss = 0.26704\n",
            "Epoch 430: loss = 0.26607\n",
            "Epoch 440: loss = 0.26512\n",
            "Epoch 450: loss = 0.26420\n",
            "Epoch 460: loss = 0.26329\n",
            "Epoch 470: loss = 0.26241\n",
            "Epoch 480: loss = 0.26154\n",
            "Epoch 490: loss = 0.26068\n",
            "Epoch 500: loss = 0.25984\n"
          ]
        }
      ]
    },
    {
      "cell_type": "code",
      "source": [
        "from torchsummary import summary\n",
        "\n",
        "model = nn.Sequential(\n",
        "    nn.Linear(784, 256), nn.ReLU(),\n",
        "    nn.Linear(256, 128), nn.ReLU(),\n",
        "    nn.Linear(128, 64), nn.ReLU(),\n",
        "    nn.Linear(64, 10)\n",
        ")\n",
        "\n",
        "summary(model, (784,))"
      ],
      "metadata": {
        "colab": {
          "base_uri": "https://localhost:8080/"
        },
        "id": "rgngl3g0tgOV",
        "outputId": "047fc216-1a32-4d4d-9dbf-5a03854d046c"
      },
      "execution_count": null,
      "outputs": [
        {
          "output_type": "stream",
          "name": "stdout",
          "text": [
            "----------------------------------------------------------------\n",
            "        Layer (type)               Output Shape         Param #\n",
            "================================================================\n",
            "            Linear-1                  [-1, 256]         200,960\n",
            "              ReLU-2                  [-1, 256]               0\n",
            "            Linear-3                  [-1, 128]          32,896\n",
            "              ReLU-4                  [-1, 128]               0\n",
            "            Linear-5                   [-1, 64]           8,256\n",
            "              ReLU-6                   [-1, 64]               0\n",
            "            Linear-7                   [-1, 10]             650\n",
            "================================================================\n",
            "Total params: 242,762\n",
            "Trainable params: 242,762\n",
            "Non-trainable params: 0\n",
            "----------------------------------------------------------------\n",
            "Input size (MB): 0.00\n",
            "Forward/backward pass size (MB): 0.01\n",
            "Params size (MB): 0.93\n",
            "Estimated Total Size (MB): 0.94\n",
            "----------------------------------------------------------------\n"
          ]
        }
      ]
    },
    {
      "cell_type": "code",
      "source": [],
      "metadata": {
        "id": "sgOkrzha3SE0"
      },
      "execution_count": null,
      "outputs": []
    }
  ]
}