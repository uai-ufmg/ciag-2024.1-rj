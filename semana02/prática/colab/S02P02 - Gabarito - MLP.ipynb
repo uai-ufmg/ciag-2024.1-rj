{
 "cells": [
  {
   "cell_type": "markdown",
   "metadata": {
    "id": "NG-mVsVuE0if"
   },
   "source": [
    "# Preâmbulo\n",
    "\n",
    "Imports, funções, downloads e instalação do Pytorch."
   ]
  },
  {
   "cell_type": "code",
   "execution_count": 1,
   "metadata": {
    "id": "fEHmMCjR4PJw"
   },
   "outputs": [],
   "source": [
    "import os\n",
    "import time\n",
    "import torch\n",
    "\n",
    "import numpy as np\n",
    "import torch.nn.functional as F\n",
    "import matplotlib.pyplot as plt\n",
    "\n",
    "from torch import nn\n",
    "from torch import optim\n",
    "from torch.utils import data\n",
    "from torch.backends import cudnn\n",
    "from torch.autograd import Variable\n",
    "from torch.utils.data import DataLoader\n",
    "\n",
    "from torchvision import models\n",
    "from torchvision import datasets\n",
    "from torchvision import transforms\n",
    "\n",
    "from skimage import io\n",
    "from sklearn import metrics\n",
    "\n",
    "%matplotlib inline\n",
    "cudnn.benchmark = True"
   ]
  },
  {
   "cell_type": "markdown",
   "metadata": {
    "id": "oQa4-lUw7Rmp"
   },
   "source": [
    "## Casting para o dispositivo correto\n",
    "\n",
    "Como usaremos processamento vetorial principalmente em GPUs para aprendizado profundo, primeiramente é possível verificar se há uma GPU disponível com o trecho de código abaixo, armazenando os tensores nos dispositivos apropriados."
   ]
  },
  {
   "cell_type": "code",
   "execution_count": 2,
   "metadata": {
    "colab": {
     "base_uri": "https://localhost:8080/"
    },
    "id": "yX0bBEM863sY",
    "outputId": "c463867a-014d-4f7f-d116-02cb3c53ec3e"
   },
   "outputs": [
    {
     "name": "stdout",
     "output_type": "stream",
     "text": [
      "cuda\n"
     ]
    }
   ],
   "source": [
    "# Verificando se temos GPU/CUDA\n",
    "has_cuda = torch.cuda.is_available()\n",
    "device = torch.device('cuda' if has_cuda else 'cpu')\n",
    "\n",
    "print(device)"
   ]
  },
  {
   "cell_type": "markdown",
   "metadata": {
    "id": "1x5UK0uib2tk"
   },
   "source": [
    "# Intro MLP\n",
    "\n",
    "## Neurônios e a camada `nn.Linear`\n",
    "\n",
    "A camada Linear do Pytorch ([nn.Linear](https://pytorch.org/docs/stable/nn.html#torch.nn.Linear)) é responsável por aplicar uma transformação linear no dado de entrada. Esta camada recebe como parâmetro a dimensão (número de *features*) da entrada e da saída (que na verdade, representa o número de neurônios dessa camada). Por padrão o bias já é incluído. **Um** perceptron pode ser facilmente representado como a seguir, desconsiderando a função de ativação:\n",
    "\n",
    "```\n",
    "linear = nn.Linear(in_dimension, 1)\n",
    "```\n",
    "Mas de uma forma geral, uma camada Linear com diversas *features* de entrada e diversas *features* de saída pode ser representada como:\n",
    "```\n",
    "nn.Linear(in_features, out_features)\n",
    "```\n",
    "![](./figs/nn_linear.png)"
   ]
  },
  {
   "cell_type": "code",
   "execution_count": 3,
   "metadata": {
    "colab": {
     "base_uri": "https://localhost:8080/"
    },
    "id": "OlQA_vtGg8bf",
    "outputId": "ce384aac-625c-415a-8d51-b37f78300d58"
   },
   "outputs": [
    {
     "name": "stdout",
     "output_type": "stream",
     "text": [
      "Linear(in_features=2, out_features=1, bias=True)\n"
     ]
    }
   ],
   "source": [
    "linear = nn.Linear(2, 1)\n",
    "print(linear)"
   ]
  },
  {
   "cell_type": "markdown",
   "metadata": {
    "id": "6AhNyLrLmFcT"
   },
   "source": [
    "Como é possível ver no código abaixo, o Pytorch já inicia os pesos da camada aleatoriamente."
   ]
  },
  {
   "cell_type": "code",
   "execution_count": 4,
   "metadata": {
    "colab": {
     "base_uri": "https://localhost:8080/"
    },
    "id": "fLOlOhQVmPuj",
    "outputId": "04d7d285-96bb-484a-8d8c-a687f32d8f4f"
   },
   "outputs": [
    {
     "name": "stdout",
     "output_type": "stream",
     "text": [
      "Parameter weight:\n",
      "  - tensor([[-0.2923, -0.6667]])\n",
      "\n",
      "Parameter bias:\n",
      "  - tensor([0.0371])\n",
      "\n"
     ]
    }
   ],
   "source": [
    "for name, param in linear.named_parameters():\n",
    "    print(f'Parameter {name}:')\n",
    "    print(f'  - {param.data}\\n')"
   ]
  },
  {
   "cell_type": "markdown",
   "metadata": {
    "id": "aAEaJGtDoZD7"
   },
   "source": [
    "O **forward** consiste em passar seu dado de entrada pela rede, gerando um resultado ao final. Considerando a camada linear instanciada anteriormente, o resultado do forward é o mesmo do somatório da multiplicação de seus pesos pelas respectivas entradas juntamente com o bias, ou seja:\n",
    "\n",
    "$$f_w(x) = w_0 + w_1x_1 + w_2x_2 + \\ldots + w_nx_n$$\n",
    "\n",
    "No Pytorch, realizamos o **forward** chamando o objeto onde nossa rede/modelo está instanciada, conforme exemplo abaixo."
   ]
  },
  {
   "cell_type": "code",
   "execution_count": 5,
   "metadata": {
    "colab": {
     "base_uri": "https://localhost:8080/"
    },
    "id": "Ibb8t7zpmpUI",
    "outputId": "a1bfdba2-2a32-42d4-83d1-40a967e8a5f5"
   },
   "outputs": [
    {
     "name": "stdout",
     "output_type": "stream",
     "text": [
      "Using Linear: tensor([-0.3873], grad_fn=<ViewBackward0>)\n",
      "Manual: tensor([-0.3873], grad_fn=<AddBackward0>)\n"
     ]
    }
   ],
   "source": [
    "linear = nn.Linear(2, 1)\n",
    "X = torch.tensor([2.0, 3.0])\n",
    "\n",
    "print('Using Linear:', linear(X))\n",
    "print('Manual:', torch.sum(X * linear.weight) + linear.bias)  # .weight e .bias permite acessarmos os pesos e bias deste modelo"
   ]
  },
  {
   "cell_type": "code",
   "execution_count": 6,
   "metadata": {
    "colab": {
     "base_uri": "https://localhost:8080/"
    },
    "id": "zwjZ4t_MIz58",
    "outputId": "dd7ac5a7-747b-44b2-ec9d-ec8beeff5f87"
   },
   "outputs": [
    {
     "name": "stdout",
     "output_type": "stream",
     "text": [
      "Forward com chamada implícita: tensor([-0.3873], grad_fn=<ViewBackward0>)\n",
      "Forward com chamada explícita: tensor([-0.3873], grad_fn=<ViewBackward0>)\n"
     ]
    }
   ],
   "source": [
    "# Ao fazermos linear(X), estamos fazendo implicitamente uma chamada na função forward da Linear\n",
    "print('Forward com chamada implícita:', linear(X))\n",
    "print('Forward com chamada explícita:', linear.forward(X))"
   ]
  },
  {
   "cell_type": "markdown",
   "metadata": {
    "id": "x8LMX6OMrEbw"
   },
   "source": [
    "## Exemplo de uma rede neural simples (1 camada)\n",
    "\n",
    "O código abaixo cria uma rede neural simples usando `nn.Linear` e implementa o fluxo de treinamento para essa rede, ou seja, faz o forward, calcula a loss, e otimiza seus pesos. Invista um pouco de tempo para entender a célula abaixo pois usaremos essa ideia para implementar a função de treino mais a frente."
   ]
  },
  {
   "cell_type": "code",
   "execution_count": 7,
   "metadata": {
    "id": "_uGksRlgJYNb"
   },
   "outputs": [],
   "source": [
    "# Iremos criar dados que seguem a função y = 2x + 3\n",
    "dataset = []\n",
    "for x in range(10):\n",
    "    dataset.append((x, 2*x + 3))  # tupla com (x, y)"
   ]
  },
  {
   "cell_type": "code",
   "execution_count": 8,
   "metadata": {
    "colab": {
     "base_uri": "https://localhost:8080/"
    },
    "id": "Q2MwrrGAmFMZ",
    "outputId": "17c1cb33-a465-411d-8e8e-a805d8e6576e"
   },
   "outputs": [
    {
     "data": {
      "text/plain": [
       "[(0, 3),\n",
       " (1, 5),\n",
       " (2, 7),\n",
       " (3, 9),\n",
       " (4, 11),\n",
       " (5, 13),\n",
       " (6, 15),\n",
       " (7, 17),\n",
       " (8, 19),\n",
       " (9, 21)]"
      ]
     },
     "execution_count": 8,
     "metadata": {},
     "output_type": "execute_result"
    }
   ],
   "source": [
    "dataset"
   ]
  },
  {
   "cell_type": "code",
   "execution_count": 9,
   "metadata": {
    "id": "UHRwAuyFJvUa"
   },
   "outputs": [],
   "source": [
    "# Definiremos uma loss (erro quadrático -> (y - y_hat)^2)\n",
    "def loss_fn(predict, label):\n",
    "    return torch.pow(label - predict, 2)"
   ]
  },
  {
   "cell_type": "code",
   "execution_count": 10,
   "metadata": {
    "colab": {
     "base_uri": "https://localhost:8080/"
    },
    "id": "YPJ9s5ckoA5T",
    "outputId": "f6619fca-ac8f-47a2-f687-c6038ff8fa70"
   },
   "outputs": [
    {
     "name": "stdout",
     "output_type": "stream",
     "text": [
      "Parâmetros iniciais: [Parameter containing:\n",
      "tensor([[0.6901]], device='cuda:0', requires_grad=True), Parameter containing:\n",
      "tensor([-0.8108], device='cuda:0', requires_grad=True)]\n",
      "\n",
      "Epoch 10 - loss: 11.59320362471044\n",
      "Epoch 20 - loss: 4.006508571561426\n",
      "Epoch 30 - loss: 1.3846109574660659\n",
      "Epoch 40 - loss: 0.4785120841115713\n",
      "Epoch 50 - loss: 0.16536879894556478\n",
      "Epoch 60 - loss: 0.05715047956618946\n",
      "Epoch 70 - loss: 0.019750833671423607\n",
      "Epoch 80 - loss: 0.006825874836067669\n",
      "Epoch 90 - loss: 0.0023589802731294185\n",
      "Epoch 100 - loss: 0.0008152398777383496\n",
      "\n",
      "Parâmetros finais:  [Parameter containing:\n",
      "tensor([[2.0017]], device='cuda:0', requires_grad=True), Parameter containing:\n",
      "tensor([2.9835], device='cuda:0', requires_grad=True)]\n"
     ]
    }
   ],
   "source": [
    "linear = nn.Linear(1, 1)  # camada linear com 1 feature de entrada (mais o bias) e uma de saída\n",
    "linear.to(device)  # casting do linear para GPU\n",
    "\n",
    "learning_rate = 0.01\n",
    "print(f'Parâmetros iniciais: {list(linear.parameters())}\\n')\n",
    "\n",
    "for epoch in range(100):\n",
    "    epoch_loss = 0\n",
    "\n",
    "    for X, y in dataset:\n",
    "        # Fazendo o casting dos dados para tensores na GPU\n",
    "        X = torch.FloatTensor([X]).to(device)\n",
    "        y = torch.FloatTensor([y]).to(device)\n",
    "\n",
    "        y_pred = linear(X)  # etapa de forward\n",
    "        loss = loss_fn(y_pred, y)  # calcula a loss\n",
    "        epoch_loss += loss.item()\n",
    "\n",
    "        # Etapa de backprop\n",
    "        loss.backward()\n",
    "        with torch.no_grad(): # não queremos fazer com que o pytorch anote as operações do backprop e acumule o gradiente\n",
    "            for param in linear.parameters():\n",
    "                param -= learning_rate * param.grad  # atualização dos parametros (pesos e bias) com base no gradiente\n",
    "                param.grad.zero_()  # resetando o gradiente\n",
    "\n",
    "    if (epoch + 1) % 10 == 0:\n",
    "        print(\"Epoch {} - loss: {}\".format(epoch + 1, epoch_loss))\n",
    "\n",
    "print('\\nParâmetros finais: ', list(linear.parameters()))"
   ]
  },
  {
   "cell_type": "code",
   "execution_count": 11,
   "metadata": {
    "colab": {
     "base_uri": "https://localhost:8080/"
    },
    "id": "e9uRk8mAwGIB",
    "outputId": "eca66d35-6d2d-40b4-f62b-e2cad64ac6d4"
   },
   "outputs": [
    {
     "name": "stdout",
     "output_type": "stream",
     "text": [
      "tensor([43.0184], device='cuda:0', grad_fn=<ViewBackward0>)\n"
     ]
    }
   ],
   "source": [
    "X = torch.FloatTensor([20]).to(device)\n",
    "print(linear(X))  # forward do valor 20 para conferir resultado, saida deve ser aproximadamente = 2x+3 = 2*20+3 = 43"
   ]
  },
  {
   "cell_type": "markdown",
   "metadata": {
    "id": "3f-q6bCNzEmx"
   },
   "source": [
    "## O módulo `nn.Sequential`\n",
    "\n",
    "Na prática, criaremos redes com diversas camadas. O bloco `nn.Sequential` permite agrupar as camadas de forma sequencial para que o forward seja realizado na ordem desejada. Veja um exemplo para um *Multilayer Perceptron (MLP)* abaixo."
   ]
  },
  {
   "cell_type": "code",
   "execution_count": 12,
   "metadata": {
    "colab": {
     "base_uri": "https://localhost:8080/"
    },
    "id": "LCK_OkqCzdUW",
    "outputId": "4f382c77-08ce-44c0-a9d4-0423fbd66873"
   },
   "outputs": [
    {
     "name": "stdout",
     "output_type": "stream",
     "text": [
      "Sequential(\n",
      "  (0): Linear(in_features=28, out_features=64, bias=True)\n",
      "  (1): ReLU()\n",
      "  (2): Linear(in_features=64, out_features=32, bias=True)\n",
      "  (3): ReLU()\n",
      "  (4): Linear(in_features=32, out_features=8, bias=True)\n",
      ")\n"
     ]
    }
   ],
   "source": [
    "in_features = 28\n",
    "out_features = 8\n",
    "\n",
    "first_hidden_size = 64\n",
    "second_hidden_size = 32\n",
    "\n",
    "MLP = nn.Sequential(\n",
    "    nn.Linear(in_features, first_hidden_size), nn.ReLU(),\n",
    "    nn.Linear(first_hidden_size, second_hidden_size), nn.ReLU(),\n",
    "    nn.Linear(second_hidden_size, out_features)\n",
    ")\n",
    "\n",
    "MLP = MLP.to(device)\n",
    "print(MLP)"
   ]
  },
  {
   "cell_type": "code",
   "execution_count": 13,
   "metadata": {
    "colab": {
     "base_uri": "https://localhost:8080/"
    },
    "id": "mkhjCepK0kjJ",
    "outputId": "7b1ac3c4-7db4-4a62-9f22-f81efadb0c43"
   },
   "outputs": [
    {
     "name": "stdout",
     "output_type": "stream",
     "text": [
      "torch.Size([10, 8])\n"
     ]
    }
   ],
   "source": [
    "test_data = torch.randn((10, 28)).to(device)  # 10 dados de input aleatórios com 28 features\n",
    "\n",
    "output = MLP(test_data)  # forward da rede\n",
    "print(output.size())"
   ]
  },
  {
   "cell_type": "markdown",
   "metadata": {
    "id": "dfb4zBjO0Lua"
   },
   "source": [
    "Informação sobre outras camadas lineares, como nn.Bilinear e nn.Identity, podem ser vistas na documentação: https://pytorch.org/docs/stable/nn.html#linear-layers"
   ]
  },
  {
   "cell_type": "markdown",
   "metadata": {
    "id": "E9LoXL0cUYMT"
   },
   "source": [
    "## Conjunto de Exercícios 1 - Implementação de uma MLP\n",
    "\n",
    "Vamos agora treinar um MLP simples no dataset de [Breast Cancer da UCI](https://archive.ics.uci.edu/ml/datasets/Breast+Cancer+Wisconsin+(Diagnostic)). A célula abaixo irá carregar os dados utilizando a biblioteca scikit-learn, que já possui o dataset pronto para utilizarmos.\n",
    "\n",
    "- Neste exercício, não estamos interessados em trabalhar com dados de treino/teste, mas sim apenas estudar como definir uma rede neural de múltiplas camadas em PyTorch e realizar o treinamento dos seus pesos e viéses."
   ]
  },
  {
   "cell_type": "code",
   "execution_count": 14,
   "metadata": {
    "colab": {
     "base_uri": "https://localhost:8080/"
    },
    "id": "Vi3Zh8fQ4X_3",
    "outputId": "c7b59e0b-7a70-4225-b3d1-a348371f0bb8"
   },
   "outputs": [
    {
     "name": "stdout",
     "output_type": "stream",
     "text": [
      "Tamanho de X: (569, 30)\n",
      "Dataype de X: <class 'numpy.ndarray'> float64\n",
      "\n",
      "Tamanho de y: (569,)\n",
      "Dataype de y: <class 'numpy.ndarray'> int64\n"
     ]
    }
   ],
   "source": [
    "from sklearn.datasets import load_breast_cancer\n",
    "\n",
    "X, y = load_breast_cancer(return_X_y=True)\n",
    "\n",
    "print('Tamanho de X:', X.shape)\n",
    "print('Dataype de X:', type(X), X.dtype)\n",
    "\n",
    "print('\\nTamanho de y:', y.shape)\n",
    "print('Dataype de y:', type(y), y.dtype)"
   ]
  },
  {
   "cell_type": "code",
   "execution_count": 15,
   "metadata": {
    "colab": {
     "base_uri": "https://localhost:8080/"
    },
    "id": "msF6TmtsnXr8",
    "outputId": "a00b9b41-82dc-4255-f87f-547285ec3cd1"
   },
   "outputs": [
    {
     "name": "stdout",
     "output_type": "stream",
     "text": [
      "Tamanho de X: torch.Size([569, 30])\n",
      "Dataype de X: <class 'torch.Tensor'> torch.float32\n",
      "\n",
      "Tamanho de y: torch.Size([569, 1])\n",
      "Dataype de y: <class 'torch.Tensor'> torch.float32\n"
     ]
    }
   ],
   "source": [
    "# Convertendo os dados para tensores PyTorch e fazendo o casting para o dispositivo apropriado\n",
    "X = torch.FloatTensor(X).to(device)\n",
    "y = torch.FloatTensor(y).to(device)\n",
    "\n",
    "# Modificando o shape das anotações para ser um vetor (n, 1) para não gerar erros no cálculo da função de perda\n",
    "# Isso é necessário pois os produtos internos feitos no PyTorch irá resultar em uma matriz (n, 1), ou seja, n-linhas\n",
    "# onde cada linha terá um valor binário (classe daquela observação)\n",
    "y = y.unsqueeze(dim=-1)  # dim=-1 representa a última dimensão do nosso vetor\n",
    "\n",
    "# Exibindo o tamanho dos tensores\n",
    "print('Tamanho de X:', X.shape)\n",
    "print('Dataype de X:', type(X), X.dtype)\n",
    "\n",
    "print('\\nTamanho de y:', y.shape)\n",
    "print('Dataype de y:', type(y), y.dtype)"
   ]
  },
  {
   "cell_type": "code",
   "execution_count": 16,
   "metadata": {
    "colab": {
     "base_uri": "https://localhost:8080/"
    },
    "id": "EjahTNqATUvu",
    "outputId": "863b79b6-838c-468c-8a77-7dee47de8481"
   },
   "outputs": [
    {
     "name": "stdout",
     "output_type": "stream",
     "text": [
      "Labels dos dados: tensor([0., 1.], device='cuda:0')\n"
     ]
    }
   ],
   "source": [
    "print('Labels dos dados:', torch.unique(y))"
   ]
  },
  {
   "cell_type": "markdown",
   "metadata": {
    "id": "ZMDN1viW-0Eg"
   },
   "source": [
    "1. Implemente na célula abaixo uma MLP, de nome **model**, utilizando o módulo `nn.Sequential`. A sua rede MLP deve possuir, pelo menos, uma camada oculta, usando uma ReLU como função de ativação entre as camadas.\n",
    "\n",
    "    - Note que o nosso problema é um problema de classificação binária. Iremos utilizar uma função de perda do PyTorch que recebe como entrada a saída \"crua\" (*logits*) da sua rede neural. Sendo assim, não se preocupe em aplicar alguma transformação na saída (como uma sigmóide) para converter os valores para uma probabilidade, por exemplo."
   ]
  },
  {
   "cell_type": "code",
   "execution_count": 17,
   "metadata": {
    "colab": {
     "base_uri": "https://localhost:8080/"
    },
    "id": "zYO7HWC29Ahy",
    "outputId": "2bec28f2-490c-49f5-9338-8d432dc14bb8"
   },
   "outputs": [
    {
     "name": "stdout",
     "output_type": "stream",
     "text": [
      "Sequential(\n",
      "  (0): Linear(in_features=28, out_features=64, bias=True)\n",
      "  (1): ReLU()\n",
      "  (2): Linear(in_features=64, out_features=32, bias=True)\n",
      "  (3): ReLU()\n",
      "  (4): Linear(in_features=32, out_features=8, bias=True)\n",
      ")\n"
     ]
    }
   ],
   "source": [
    "in_features = 30\n",
    "out_features = 1\n",
    "\n",
    "model = nn.Sequential(\n",
    "    nn.Linear(in_features, 64), nn.ReLU(),\n",
    "    nn.Linear(64, 64), nn.ReLU(),\n",
    "    nn.Linear(64, out_features),\n",
    ")\n",
    "\n",
    "model.to(device)  # sempre é necessario fazer o casting da rede para jogá-la para GPU\n",
    "print(MLP)"
   ]
  },
  {
   "cell_type": "markdown",
   "metadata": {
    "id": "BWrn_MUHBz7o"
   },
   "source": [
    "Abaixo, definimos uma loss e um otimizador usando o PyTorch. Não se preocupem como isso funciona agora, pois iremos ver em detalhes como definir e usar diferentes losses e otimizadores com o PyTorch."
   ]
  },
  {
   "cell_type": "code",
   "execution_count": 18,
   "metadata": {
    "id": "IgEeodMiSmuO"
   },
   "outputs": [],
   "source": [
    "# Iremos utilizar a entropia cruzada binária como função de perda para o nosso problema\n",
    "# Essa versão da BCE aceita como entrada a saída \"crua\" (logits) da sua rede neural.\n",
    "# Outras versões, como a BCELoss aceita como entrada uma saída probabilística da sua rede neural (sigmoid ou softmax),\n",
    "# sendo assim você deve colocar uma função de ativação depois do último nn.Linear do seu modelo.\n",
    "# A versão BCEWithLogitsLoss implementa uma versão mais numericamente estável da loss, podemos observar isso na própria\n",
    "# documentação do PyTorch: https://pytorch.org/docs/stable/generated/torch.nn.BCEWithLogitsLoss.html?highlight=bcewithlogitsloss#torch.nn.BCEWithLogitsLoss\n",
    "criterion = nn.BCEWithLogitsLoss()"
   ]
  },
  {
   "cell_type": "code",
   "execution_count": 19,
   "metadata": {
    "id": "Oa5DcYBf82iD"
   },
   "outputs": [],
   "source": [
    "# Iremos utilizar o pacote optim para definir um otimizador que irá atualizar os pesos do modelo para nós.\n",
    "# Aqui, utilizaremos SGD - Gradiente Descendente Estocástico.\n",
    "# O pacote optim contém muitos outros algoritmos de otimização, porém, em todos o primeiro parâmetro irá dizer para os\n",
    "# otimizadores quais tensores (com requires_grad=True) do nosso modelo ele deverá otimizar.\n",
    "import torch.optim as optim\n",
    "\n",
    "learning_rate = 1e-4\n",
    "optimizer = optim.SGD(model.parameters(), lr=learning_rate)"
   ]
  },
  {
   "cell_type": "markdown",
   "metadata": {
    "id": "JPQtOnNr-kAG"
   },
   "source": [
    "Abaixo teremos um loop de treinamento típico de PyTorch. Não precisa modificar em nada essa funçao, porém estude ela mesmo assim, já que usaremos esse fluxo como template para treinamento de outros modelos mais a frente no curso."
   ]
  },
  {
   "cell_type": "code",
   "execution_count": 20,
   "metadata": {
    "colab": {
     "base_uri": "https://localhost:8080/"
    },
    "id": "dsMFRIDv80I3",
    "outputId": "be21845b-e6f0-4c89-827d-8b7141a133f4"
   },
   "outputs": [
    {
     "name": "stdout",
     "output_type": "stream",
     "text": [
      "Epoch 10: loss = 0.70113\n",
      "Epoch 20: loss = 0.54429\n",
      "Epoch 30: loss = 0.34686\n",
      "Epoch 40: loss = 0.28678\n",
      "Epoch 50: loss = 0.28011\n",
      "Epoch 60: loss = 0.27699\n",
      "Epoch 70: loss = 0.27447\n",
      "Epoch 80: loss = 0.27211\n",
      "Epoch 90: loss = 0.26995\n",
      "Epoch 100: loss = 0.26792\n",
      "Epoch 110: loss = 0.26594\n",
      "Epoch 120: loss = 0.26423\n",
      "Epoch 130: loss = 0.26258\n",
      "Epoch 140: loss = 0.26101\n",
      "Epoch 150: loss = 0.25959\n",
      "Epoch 160: loss = 0.25807\n",
      "Epoch 170: loss = 0.25677\n",
      "Epoch 180: loss = 0.25547\n",
      "Epoch 190: loss = 0.25431\n",
      "Epoch 200: loss = 0.25318\n",
      "Epoch 210: loss = 0.25207\n",
      "Epoch 220: loss = 0.25103\n",
      "Epoch 230: loss = 0.25009\n",
      "Epoch 240: loss = 0.24896\n",
      "Epoch 250: loss = 0.24812\n",
      "Epoch 260: loss = 0.24716\n",
      "Epoch 270: loss = 0.24627\n",
      "Epoch 280: loss = 0.24533\n",
      "Epoch 290: loss = 0.24451\n",
      "Epoch 300: loss = 0.24369\n",
      "Epoch 310: loss = 0.24285\n",
      "Epoch 320: loss = 0.24200\n",
      "Epoch 330: loss = 0.24120\n",
      "Epoch 340: loss = 0.24053\n",
      "Epoch 350: loss = 0.23980\n",
      "Epoch 360: loss = 0.23911\n",
      "Epoch 370: loss = 0.23841\n",
      "Epoch 380: loss = 0.23769\n",
      "Epoch 390: loss = 0.23697\n",
      "Epoch 400: loss = 0.23638\n",
      "Epoch 410: loss = 0.23569\n",
      "Epoch 420: loss = 0.23500\n",
      "Epoch 430: loss = 0.23440\n",
      "Epoch 440: loss = 0.23377\n",
      "Epoch 450: loss = 0.23316\n",
      "Epoch 460: loss = 0.23264\n",
      "Epoch 470: loss = 0.23209\n",
      "Epoch 480: loss = 0.23149\n",
      "Epoch 490: loss = 0.23093\n",
      "Epoch 500: loss = 0.23037\n"
     ]
    }
   ],
   "source": [
    "# Aqui iremos criar uma lista de loss para cada época\n",
    "loss_list = []\n",
    "\n",
    "# Iterando sobre as épocas\n",
    "n_epochs = 500\n",
    "for epoch in range(n_epochs):\n",
    "    preds = model(X)\n",
    "    loss = criterion(preds, y)\n",
    "\n",
    "    # Salvando a loss da iteração atual (para plots futuros)\n",
    "    loss_list.append(loss.item())\n",
    "\n",
    "    # Antes de fazermos o backward pass, iremos zerar o gradiente de todos os tensores\n",
    "    # atrelados ao otimizador utilizando a chamada de função .zero_grad() do nosso otimizador.\n",
    "    # Faremos isso pois os gradientes são acumulados, sempre que chamamos .backward(), em buffers nos\n",
    "    # tensores que representam os pesos dos nossos modelos, ou seja, não são sobrescritos.\n",
    "    # Para mais detalhes, você pode dar uma olhada na documentação do torch.autograd.backward\n",
    "    optimizer.zero_grad()\n",
    "\n",
    "    # Realizando o backward pass, ou seja, computando os gradientes da nossa função de perda\n",
    "    # com respeito aos parâmetros (pesos) do nosso modelo\n",
    "    loss.backward()\n",
    "\n",
    "    # Chamando a função .step() do nosso otimizador para realizar um \"passo\" na otimização.\n",
    "    # Nesse caso, o \"passo\" será realizar o cálculo que vimos do gradiente descendente\n",
    "    optimizer.step()\n",
    "\n",
    "    if (epoch + 1) % 10 == 0:\n",
    "        print(f'Epoch {epoch + 1}: loss = {loss.item():.5f}')"
   ]
  },
  {
   "cell_type": "code",
   "execution_count": 21,
   "metadata": {
    "colab": {
     "base_uri": "https://localhost:8080/",
     "height": 721
    },
    "id": "toQyqq98-68X",
    "outputId": "087f7dd1-bff9-4bc1-d7ee-09471a75c1d1"
   },
   "outputs": [
    {
     "data": {
      "image/png": "[encoded data removed]",
      "text/plain": [
       "<Figure size 1000x800 with 1 Axes>"
      ]
     },
     "metadata": {},
     "output_type": "display_data"
    }
   ],
   "source": [
    "fig, ax = plt.subplots(1, 1, figsize=(10, 8))\n",
    "\n",
    "ax.set_title('Evolução da função de perda ao longo das épocas')\n",
    "ax.set_ylabel('Valor da função de perda')\n",
    "ax.set_xlabel('Épocas')\n",
    "ax.plot(np.asarray(loss_list))\n",
    "\n",
    "plt.show()"
   ]
  },
  {
   "cell_type": "markdown",
   "metadata": {
    "id": "Bp5MeuJml3l1"
   },
   "source": [
    "## Conjunto de Exercícios 2 - Implementação de uma MLP utilizando objetos\n",
    "\n",
    "- Aqui, iremos repetir o mesmo procedimento feito anteriormente. Porém, iremos adotar uma implementação baseada no paradigma de orientação à objetos, que será muito importante em módulos futuros para definir modelos mais complexos e manter o código organizado.\n",
    "\n",
    "    - Abaixo teremos um código onde a classe MLP receberá quantas `features` teremos de entrada e saída, qual o tamanho das camadas ocultas, e quantas camadas ocultas iremos ter. Uma assinatura diferente para o `__init__` que você pode optar é `__init__(self, in_features, out_features, hidden_sizes)`, onde `hidden_sizes` representa uma lista com o tamanho de cada camada oculta, definindo assim em uma só variável o número de camadas ocultas e suas dimensões. Sinta-se livre para modificar o código e experimentar com ambas opções."
   ]
  },
  {
   "cell_type": "code",
   "execution_count": 22,
   "metadata": {
    "id": "4aU4-sp5abBh"
   },
   "outputs": [],
   "source": [
    "class MLP(nn.Module):\n",
    "    def __init__(self, in_features, out_features, hidden_size, num_layers):\n",
    "        # Essa linha é obrigatória quando formos definir qualquer modelo em PyTorch dessa forma.\n",
    "        # Uma chamada equivalente é: super(self, MLP).__init__(), mas podemos omitir \"self\" e o nome da classe.\n",
    "        super().__init__()\n",
    "\n",
    "        # Implemente aqui o seu modelo (pode utilizar Sequential ou definir cada camada de forma separada)\n",
    "\n",
    "        hidden_layers = []\n",
    "        for _ in range(num_layers - 1):  # lembre-se que a primeira Linear já cria uma camada oculta\n",
    "            layer = nn.Linear(hidden_size, hidden_size)\n",
    "            hidden_layers.append(layer)\n",
    "            hidden_layers.append(nn.ReLU())\n",
    "\n",
    "        self.model = nn.Sequential(\n",
    "            nn.Linear(in_features, hidden_size), nn.ReLU(),\n",
    "            *hidden_layers,\n",
    "            nn.Linear(hidden_size, out_features)\n",
    "        )\n",
    "\n",
    "    # Devemos implementar a passagem do dado ao longo da nossa rede.\n",
    "    # Para isso, sobreescrevemos o método forward, definido pela classe herdada: nn.Module.\n",
    "    def forward(self, x):\n",
    "        output = self.model(x)\n",
    "        return output"
   ]
  },
  {
   "cell_type": "code",
   "execution_count": 23,
   "metadata": {
    "id": "19lv3SRICSlk"
   },
   "outputs": [],
   "source": [
    "class AlternativeMLP(nn.Module):\n",
    "    def __init__(self, in_features, out_features, hidden_sizes):\n",
    "        super().__init__()\n",
    "\n",
    "        self.relu = nn.ReLU()\n",
    "        self.input_layer = nn.Linear(in_features, hidden_sizes[0])\n",
    "        self.output_layer = nn.Linear(hidden_sizes[-1], out_features)\n",
    "\n",
    "        hidden_layers = []\n",
    "        for i in range(len(hidden_sizes) - 1):\n",
    "            layer = nn.Linear(hidden_sizes[i], hidden_sizes[i+1])\n",
    "            hidden_layers.append(layer)\n",
    "            hidden_layers.append(nn.ReLU())\n",
    "\n",
    "        self.hidden_layers = nn.Sequential(*hidden_layers)\n",
    "\n",
    "    def forward(self, x):\n",
    "        output = self.relu(self.input_layer(x))\n",
    "        output = self.hidden_layers(output)\n",
    "        output = self.output_layer(output)\n",
    "        return output"
   ]
  },
  {
   "cell_type": "code",
   "execution_count": 24,
   "metadata": {
    "colab": {
     "base_uri": "https://localhost:8080/"
    },
    "id": "yDJvdazdsgrk",
    "outputId": "5f7df7e2-a26a-4d73-a10b-32938bfc836e"
   },
   "outputs": [
    {
     "name": "stdout",
     "output_type": "stream",
     "text": [
      "<class '__main__.MLP'>\n"
     ]
    }
   ],
   "source": [
    "in_features = 30\n",
    "out_features = 1\n",
    "\n",
    "# Instancie o seu modelo aqui\n",
    "model = MLP(in_features, out_features, hidden_size=64, num_layers=2)\n",
    "\n",
    "model = model.to(device)\n",
    "print(MLP)"
   ]
  },
  {
   "cell_type": "markdown",
   "metadata": {
    "id": "jSiflErnuKfD"
   },
   "source": [
    "- Agora iremos treinar o modelo normalmente."
   ]
  },
  {
   "cell_type": "code",
   "execution_count": 25,
   "metadata": {
    "colab": {
     "base_uri": "https://localhost:8080/"
    },
    "id": "Yr5ykcPwuH2D",
    "outputId": "b168e947-9741-4dfd-aad4-b781346224e4"
   },
   "outputs": [
    {
     "name": "stdout",
     "output_type": "stream",
     "text": [
      "Epoch 10: loss = 1.90095\n",
      "Epoch 20: loss = 1.13622\n",
      "Epoch 30: loss = 1.76822\n",
      "Epoch 40: loss = 0.56265\n",
      "Epoch 50: loss = 1.39752\n",
      "Epoch 60: loss = 0.72677\n",
      "Epoch 70: loss = 0.87634\n",
      "Epoch 80: loss = 0.80999\n",
      "Epoch 90: loss = 0.72864\n",
      "Epoch 100: loss = 0.61107\n",
      "Epoch 110: loss = 0.49649\n",
      "Epoch 120: loss = 0.40386\n",
      "Epoch 130: loss = 0.35186\n",
      "Epoch 140: loss = 0.32797\n",
      "Epoch 150: loss = 0.31932\n",
      "Epoch 160: loss = 0.31682\n",
      "Epoch 170: loss = 0.31253\n",
      "Epoch 180: loss = 0.30392\n",
      "Epoch 190: loss = 0.29315\n",
      "Epoch 200: loss = 0.28584\n",
      "Epoch 210: loss = 0.27973\n",
      "Epoch 220: loss = 0.27356\n",
      "Epoch 230: loss = 0.26896\n",
      "Epoch 240: loss = 0.26464\n",
      "Epoch 250: loss = 0.26116\n",
      "Epoch 260: loss = 0.25863\n",
      "Epoch 270: loss = 0.25637\n",
      "Epoch 280: loss = 0.25452\n",
      "Epoch 290: loss = 0.25285\n",
      "Epoch 300: loss = 0.25113\n",
      "Epoch 310: loss = 0.24966\n",
      "Epoch 320: loss = 0.24816\n",
      "Epoch 330: loss = 0.24671\n",
      "Epoch 340: loss = 0.24537\n",
      "Epoch 350: loss = 0.24371\n",
      "Epoch 360: loss = 0.24208\n",
      "Epoch 370: loss = 0.24054\n",
      "Epoch 380: loss = 0.23925\n",
      "Epoch 390: loss = 0.23805\n",
      "Epoch 400: loss = 0.23690\n",
      "Epoch 410: loss = 0.23584\n",
      "Epoch 420: loss = 0.23471\n",
      "Epoch 430: loss = 0.23379\n",
      "Epoch 440: loss = 0.23275\n",
      "Epoch 450: loss = 0.23183\n",
      "Epoch 460: loss = 0.23082\n",
      "Epoch 470: loss = 0.22999\n",
      "Epoch 480: loss = 0.22909\n",
      "Epoch 490: loss = 0.22823\n",
      "Epoch 500: loss = 0.22722\n"
     ]
    }
   ],
   "source": [
    "learning_rate = 1e-4\n",
    "criterion = nn.BCEWithLogitsLoss()\n",
    "optimizer = optim.SGD(model.parameters(), lr=learning_rate)\n",
    "\n",
    "# Aqui iremos criar uma lista de loss para cada época\n",
    "loss_list = []\n",
    "\n",
    "# Iterando sobre as épocas\n",
    "n_epochs = 500\n",
    "for epoch in range(n_epochs):\n",
    "    preds = model(X)\n",
    "    loss = criterion(preds, y)\n",
    "\n",
    "    # Salvando a loss da iteração atual (para plots futuros)\n",
    "    loss_list.append(loss.item())\n",
    "\n",
    "    # Antes de fazermos o backward pass, iremos zerar o gradiente de todos os tensores\n",
    "    # atrelados ao otimizador utilizando a chamada de função .zero_grad() do nosso otimizador.\n",
    "    # Faremos isso pois os gradientes são acumulados, sempre que chamamos .backward(), em buffers nos\n",
    "    # tensores que representam os pesos dos nossos modelos, ou seja, não são sobrescritos.\n",
    "    # Para mais detalhes, você pode dar uma olhada na documentação do torch.autograd.backward\n",
    "    optimizer.zero_grad()\n",
    "\n",
    "    # Realizando o backward pass, ou seja, computando os gradientes da nossa função de perda\n",
    "    # com respeito aos parâmetros (pesos) do nosso modelo\n",
    "    loss.backward()\n",
    "\n",
    "    # Chamando a função .step() do nosso otimizador para realizar um \"passo\" na otimização.\n",
    "    # Nesse caso, o \"passo\" será realizar o cálculo que vimos do gradiente descendente\n",
    "    optimizer.step()\n",
    "\n",
    "    if (epoch + 1) % 10 == 0:\n",
    "        print(f'Epoch {epoch + 1}: loss = {loss.item():.5f}')"
   ]
  },
  {
   "cell_type": "code",
   "execution_count": 26,
   "metadata": {
    "colab": {
     "base_uri": "https://localhost:8080/",
     "height": 721
    },
    "id": "K6mVhcYRHpIN",
    "outputId": "f163a4e9-07ea-4e32-e91b-6ca02628ad96"
   },
   "outputs": [
    {
     "data": {
      "image/png": "[encoded data removed]",
      "text/plain": [
       "<Figure size 1000x800 with 1 Axes>"
      ]
     },
     "metadata": {},
     "output_type": "display_data"
    }
   ],
   "source": [
    "fig, ax = plt.subplots(1, 1, figsize=(10, 8))\n",
    "\n",
    "ax.set_title('Evolução da função de perda ao longo das épocas')\n",
    "ax.set_ylabel('Valor da função de perda')\n",
    "ax.set_xlabel('Épocas')\n",
    "ax.plot(np.asarray(loss_list))\n",
    "\n",
    "plt.show()"
   ]
  }
 ],
 "metadata": {
  "accelerator": "GPU",
  "colab": {
   "provenance": []
  },
  "gpuClass": "standard",
  "kernelspec": {
   "display_name": "Python 3 (ipykernel)",
   "language": "python",
   "name": "python3"
  },
  "language_info": {
   "codemirror_mode": {
    "name": "ipython",
    "version": 3
   },
   "file_extension": ".py",
   "mimetype": "text/x-python",
   "name": "python",
   "nbconvert_exporter": "python",
   "pygments_lexer": "ipython3",
   "version": "3.10.12"
  }
 },
 "nbformat": 4,
 "nbformat_minor": 4
}
