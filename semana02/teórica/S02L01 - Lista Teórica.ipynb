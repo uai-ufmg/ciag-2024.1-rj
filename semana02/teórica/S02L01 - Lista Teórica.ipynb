{
  "cells": [
    {
      "cell_type": "markdown",
      "metadata": {
        "id": "5qlyB-xPftva"
      },
      "source": [
        "# Lista Teórica 02-01 - Perceptron e Logistíca\n",
        "\n",
        "> - Perceptrons\n",
        "> - Funções de Ativação"
      ]
    },
    {
      "cell_type": "markdown",
      "metadata": {
        "id": "uLYfAseCgC5V"
      },
      "source": [
        "## Perceptron"
      ]
    },
    {
      "cell_type": "markdown",
      "metadata": {
        "id": "CC1-E6hVgEhs"
      },
      "source": [
        "### Exercício 1\n",
        "Considere um perceptron com duas features $x_1$ e $x_2$, onde $w_0 = 3$, $w_1 = 2$ e $w_2 = 1$.\n",
        "Qual a fórmula da reta que divide as duas classes? Qual o vetor normal à reta?"
      ]
    },
    {
      "cell_type": "markdown",
      "metadata": {
        "id": "R9SrICKkgJKj"
      },
      "source": [
        "_Responda Aqui_"
      ]
    },
    {
      "cell_type": "markdown",
      "metadata": {
        "id": "L0ZbHX7TgK_2"
      },
      "source": [
        "### Exercício 2\n",
        "\n",
        "Considere um perceptron com $w_0 = 0$, $w_1 = −1$, $w_2 = 1$, com os pontos mostrados no gráfico abaixo (círculos na classe 1, cruzes na classe 0). Esboce o gráfico da reta que separa as classes. Execute uma iteração do algoritmo do perceptron com m = 0.1, esboçando em seguida a nova reta."
      ]
    },
    {
      "cell_type": "markdown",
      "metadata": {
        "id": "LKyHYwkCgQKm"
      },
      "source": [
        "![image.png](data:image/png;base64,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)"
      ]
    },
    {
      "cell_type": "markdown",
      "metadata": {
        "id": "8D90CjYdgTnO"
      },
      "source": [
        "_Essa é mais fácil fazer no papel..._"
      ]
    },
    {
      "cell_type": "markdown",
      "metadata": {},
      "source": [
        "### Exercício 3\n",
        "\n",
        "Considere vetores $x$ de duas variáveis booleanas. Quais das seguintes funções o perceptron é capaz de aprender?\n",
        "\n",
        "(a) $f_1(x) = x_1 \\wedge x_2$\n",
        "\n",
        "(b) $f_2(x) = x_1 \\vee x_2$\n",
        "\n",
        "(c) $f_3(x) = x_1 \\oplus x_2$"
      ]
    },
    {
      "cell_type": "markdown",
      "metadata": {},
      "source": [
        "_Responda Aqui_"
      ]
    },
    {
      "cell_type": "markdown",
      "metadata": {},
      "source": [
        "### Exercício 4\n",
        "\n",
        "(a) Imagine dados quase linearmente separáveis. Como fazer um perceptron que aceita uma margem de erro?\n",
        "\n",
        "(b) Imagine dados linearmente separáveis. Como fazer um perceptron que força com que a reta separadora tenha uma distância mínima?"
      ]
    },
    {
      "cell_type": "markdown",
      "metadata": {},
      "source": [
        "_Responda Aqui_"
      ]
    },
    {
      "cell_type": "markdown",
      "metadata": {},
      "source": [
        "### Exercício 5\n",
        "\n",
        "É possível modelar o perceptron de modo que sua atualização seja da forma\n",
        "$$\n",
        "  w_{m+1} = w_m - \\alpha \\nabla_w (L) \\big|_{w_m},\n",
        "$$\n",
        "mas, conforme vimos, esta função $L$ não deve utilizar o resultado da função de ativação $\\sigma$, caso contrário este gradiente seria sempre nulo. \n",
        "\n",
        "Proponha uma função $L$ que toma como entrada os parâmetros da rede, é calculada utilizando apenas os valores de um ponto $(x,\\hat{y})$, e cuja descida gradiente com esta função acabe sendo exatamente o que o perceptron, como proposto originalmente, realiza."
      ]
    },
    {
      "cell_type": "markdown",
      "metadata": {},
      "source": [
        "_Responda Aqui_"
      ]
    },
    {
      "cell_type": "markdown",
      "metadata": {
        "id": "rKGFluOmgVWx"
      },
      "source": [
        "## Funções de Ativação"
      ]
    },
    {
      "cell_type": "markdown",
      "metadata": {
        "id": "4CmdvnZjgZpK"
      },
      "source": [
        "### Exercício 6\n",
        "\n",
        "Esboce os gráficos das funções Heaviside, sinal, ReLU, ELU, softplus, logística com c = 1, e tangente hiperbolica."
      ]
    },
    {
      "cell_type": "markdown",
      "metadata": {
        "id": "Ij7AuUE5gcA1"
      },
      "source": [
        "_Essa é mais fácil fazer no papel..._"
      ]
    },
    {
      "cell_type": "markdown",
      "metadata": {
        "id": "TWNVlVkrgtHK"
      },
      "source": [
        "### Exercício 7\n",
        "\n",
        "Na função logística com $σ_c(x)$, como o gráfico se altera quando variamos o c? Pense em como ficaria com c muito pequeno perto de 0, e também muito grande tendendo ao infinito. Você pode resolver essa questão plotando em um software."
      ]
    },
    {
      "cell_type": "markdown",
      "metadata": {
        "id": "y7kn5Mang0E_"
      },
      "source": [
        "_Responda Aqui_"
      ]
    },
    {
      "cell_type": "markdown",
      "metadata": {
        "id": "WUp3oOtRg1pd"
      },
      "source": [
        "### Exercício 8\n",
        "\n",
        "Mostre que $σ_c(x)' = cσ_c(x)(1-σ_c(x))$. Mostre também que $σ_c(-x) = 1-σ_c(x)$."
      ]
    },
    {
      "cell_type": "markdown",
      "metadata": {
        "id": "tGRD_KxBg5kW"
      },
      "source": [
        "_Responda Aqui_"
      ]
    },
    {
      "cell_type": "markdown",
      "metadata": {
        "id": "uqIx9FtKg8PR"
      },
      "source": [
        "### Exercício 9\n",
        "\n",
        "Considere a função $sp(x) = ln(1 + e^x)$. Mostre que $sp'(x) = σ(x)$."
      ]
    },
    {
      "cell_type": "markdown",
      "metadata": {
        "id": "1oRe-wA0g-7d"
      },
      "source": [
        "_Responda Aqui_"
      ]
    },
    {
      "cell_type": "markdown",
      "metadata": {
        "id": "kGsrpf7BhF31"
      },
      "source": [
        "### Exercício 10\n",
        "\n",
        "Seja $tanh(x) = (e^x - e^{-x}) / (e^x + e^{-x})$. Mostre que $tanh(x) = 2σ(2x) - 1$."
      ]
    },
    {
      "cell_type": "markdown",
      "metadata": {
        "id": "VD4zov7hhJY3"
      },
      "source": [
        "_Responda Aqui_"
      ]
    },
    {
      "cell_type": "markdown",
      "metadata": {},
      "source": [
        "### Exercício 11\n",
        "\n",
        "Sejam\n",
        "\t$$\n",
        "\t\tS(x) = \\begin{cases}\n",
        "\t\t\t1 & \\text{se } x \\geq 0  \\\\ -1 & \\text{caso contrário,} \n",
        "\t\t\\end{cases}\\qquad \\text{e} \\qquad H(x) = \\begin{cases}\n",
        "\t\t\t1 & \\text{se } x \\geq 0  \\\\ 0 & \\text{caso contrário,} \n",
        "\t\t\\end{cases}\n",
        "\t$$\n",
        "\te também\n",
        "\t$$\n",
        "\t\t\\textrm{ReLU}(x) = \\begin{cases}\n",
        "\t\t\tx & \\text{se } x \\geq 0  \\\\ 0 & \\text{caso contrário.} \n",
        "\t\t\\end{cases}\n",
        "\t$$\n",
        "Encontre três fórmulas simples que associem cada par dentre as três funções acima."
      ]
    },
    {
      "cell_type": "markdown",
      "metadata": {},
      "source": [
        "_Responda Aqui_"
      ]
    },
    {
      "cell_type": "markdown",
      "metadata": {},
      "source": [
        "### Exercício 12\n",
        "\n",
        "Suponha que temos uma sequencia de dados unidimensionais $(x_1,...,x_n)$ respectivamente classificados como $x_i \\to t_i$. Desejamos montar uma regressão logística, parametrizada por $w_0$ e pelo vetor unidimensional $w$. Ou seja, calculamos\n",
        "\t$$\n",
        "\t\tp(x^{(i)}) = \\frac{1}{1 + e^{-w_0 - w \\cdot x_i}}.\n",
        "\t$$\n",
        "\tEncontre uma expressão para a log-verossimilhança, e em seguida calcule o seu vetor gradiente com respeito a $w_0$ e a $w$."
      ]
    },
    {
      "cell_type": "markdown",
      "metadata": {},
      "source": [
        "_Responda Aqui_"
      ]
    },
    {
      "cell_type": "markdown",
      "metadata": {},
      "source": [
        "### Exercício 13\n",
        "\n",
        "Deseja-se agora executar a tarefa de classificação usando uma regressão logística. Lembre-se que $\\sigma(z) = (1+e^{-z})^{-1}$. Suponha que atualmente $w_1 = -1$, $w_2 = 1$, e $b = 0$. Suponha que recebe-se o par de dados descrito abaixo:\n",
        "\n",
        "|         | $x_1$ | $x_2$ | $\\hat{y}$ |\n",
        "|---------|-------|-------|-----------|\n",
        "| dado 1  | 1     | 2     | 0         |\n",
        "| dado 2  | 3     | 2     | 1         |\n",
        "\n",
        "Use a notação ${z}^{(k)} = b + \\texttt{w}^T \\texttt{x}^{(k)}$ para o valor de $z$ obtido no dado $k$. Atenção: não é para efetuar qualquer exponenciação nesta questão.\n",
        "\n",
        "1. **$L(\\texttt{w},b)$ é a função que calcula a verossimilhança nestes dados e com os parâmetros apresentados. Escreva abaixo uma expressão simplificada para $-\\log L(\\texttt{w},b)$.**\n",
        "\n",
        "2. **Quais as derivadas de $\\log(1-\\sigma(z))$ e de $\\log(\\sigma(z))$ com respeito a $z$?**\n",
        "\n",
        "3. **Será usado o método do gradiente descendente com $\\alpha = 0.1$ para otimizar a escolha dos parâmetros. Após uma iteração, qual será o novo valor de $b$?**\n",
        "\n"
      ]
    },
    {
      "cell_type": "markdown",
      "metadata": {},
      "source": [
        "_Responda Aqui_"
      ]
    },
    {
      "cell_type": "code",
      "execution_count": null,
      "metadata": {
        "id": "2BIsSE0Mf-w0"
      },
      "outputs": [],
      "source": []
    }
  ],
  "metadata": {
    "colab": {
      "provenance": []
    },
    "kernelspec": {
      "display_name": "Python 3",
      "name": "python3"
    },
    "language_info": {
      "name": "python"
    }
  },
  "nbformat": 4,
  "nbformat_minor": 0
}
