{
  "nbformat": 4,
  "nbformat_minor": 0,
  "metadata": {
    "colab": {
      "provenance": []
    },
    "kernelspec": {
      "name": "python3",
      "display_name": "Python 3"
    },
    "language_info": {
      "name": "python"
    }
  },
  "cells": [
    {
      "cell_type": "markdown",
      "source": [
        "# Lista Teórica 02-04: Otimização\n",
        "\n",
        "> - Método de Newton\n",
        "> - Gradiente Descendente"
      ],
      "metadata": {
        "id": "sjn5a0ZFkq_v"
      }
    },
    {
      "cell_type": "markdown",
      "source": [
        "### Exercício 1\n",
        "\n",
        "Aplique duas iterações do método de Newton para encontrar o ponto máximo da seguinte função:\n",
        "$$ f(x) = -(x - 3)^4 $ para $ x_0 = 1 $$"
      ],
      "metadata": {
        "id": "Yd2B5mAHk4iI"
      }
    },
    {
      "cell_type": "markdown",
      "source": [
        "_Responda Aqui_"
      ],
      "metadata": {
        "id": "bmFMCsjYlaPv"
      }
    },
    {
      "cell_type": "markdown",
      "source": [
        "### Exercício 2\n",
        "\n",
        "Utilizando a mesma função do exercício anterior, aplique o método do gradiente ascendente usando learning rate $ \\alpha = 0.01 $ e $ x_0 = 1 $. Compare os dois resultados."
      ],
      "metadata": {
        "id": "hiMgkQ2Ylbr6"
      }
    },
    {
      "cell_type": "markdown",
      "source": [
        "_Responda Aqui_"
      ],
      "metadata": {
        "id": "f0u3H1MiljWZ"
      }
    },
    {
      "cell_type": "code",
      "source": [],
      "metadata": {
        "id": "7y8o7HAilXzi"
      },
      "execution_count": null,
      "outputs": []
    }
  ]
}