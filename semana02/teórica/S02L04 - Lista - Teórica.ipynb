{
  "cells": [
    {
      "cell_type": "markdown",
      "metadata": {
        "id": "sjn5a0ZFkq_v"
      },
      "source": [
        "# Lista Teórica 02-04: Otimização\n",
        "\n",
        "> - Método de Newton\n",
        "> - Gradiente Descendente"
      ]
    },
    {
      "cell_type": "markdown",
      "metadata": {
        "id": "Yd2B5mAHk4iI"
      },
      "source": [
        "### Exercício 1\n",
        "\n",
        "Aplique duas iterações do método de Newton para encontrar o ponto máximo da seguinte função:\n",
        "\n",
        "$$ f(x) = -(x - 3)^4 $$\n",
        "para $ x_0 = 1 $."
      ]
    },
    {
      "cell_type": "markdown",
      "metadata": {
        "id": "bmFMCsjYlaPv"
      },
      "source": [
        "_Responda Aqui_"
      ]
    },
    {
      "cell_type": "markdown",
      "metadata": {
        "id": "hiMgkQ2Ylbr6"
      },
      "source": [
        "### Exercício 2\n",
        "\n",
        "Utilizando a mesma função do exercício anterior, aplique o método do gradiente ascendente usando learning rate $ \\alpha = 0.01 $ e $ x_0 = 1 $. Compare os dois resultados."
      ]
    },
    {
      "cell_type": "markdown",
      "metadata": {
        "id": "f0u3H1MiljWZ"
      },
      "source": [
        "_Responda Aqui_"
      ]
    },
    {
      "cell_type": "markdown",
      "metadata": {},
      "source": [
        "### Exercício 3\n",
        "Considere a função $y(x) = 3x^2$, e ponto inicial $x_0 = -2$. Lembre-se do método atenuado por momentum de descida gradiente:\n",
        "$$\n",
        "\tx^{(t+1)} = x^{(t)} - \\alpha \\left( (1-\\beta) \\nabla L(x^{(t)}) + \\beta  \\mathbf{V}^{(t-1)}\\right).\n",
        "$$\n",
        "\n",
        "(a) Esboce o gráfico da função duas vezes. Na primeira, esboce como funcionaria três iterações do método de descida gradiente com $\\alpha > 1/3$. Na segunda, esboce como funcionaria três iterações do método de descida gradiente com $\\alpha < 1/3$.\n",
        "\n",
        "(b) Agora, informe qual será o $x_1$ e o $x_2$ encontrados após a primeira e a segunda iterações do método atenuado por momentum de descida gradiente com parâmetros $\\alpha = 1/4$, e $\\beta = 1/3$.\n",
        "\n"
      ]
    },
    {
      "cell_type": "markdown",
      "metadata": {},
      "source": [
        "_Responda Aqui_"
      ]
    },
    {
      "cell_type": "markdown",
      "metadata": {},
      "source": [
        "### Exercício 4\n",
        "\n",
        "Mostre que se $n$ números são tais que a soma deles é $s$, então a soma dos seus quadrados é minimizada precisamente quando todos eles são iguais a $s/n$ ."
      ]
    },
    {
      "cell_type": "markdown",
      "metadata": {},
      "source": [
        "_Responda Aqui_"
      ]
    },
    {
      "cell_type": "markdown",
      "metadata": {},
      "source": [
        "### Exercício 5\n",
        "\n",
        "Considere a função quadrática $Q(x) = \\frac{1}{2} x^T Ax − bx$, com A uma matriz quadrada não singular de ordem $n$. \n",
        "\n",
        "(a) Encontre o gradiente $\\nabla Q$;\n",
        "\n",
        "(b) Escreva a iteração de descida do gradiente;\n",
        "\n",
        "(c) Encontre o $H_Q$ Hessiano;\n",
        "\n",
        "(d) Escreva a iteração dada pela fórmula de Newton e calcule seu limite."
      ]
    },
    {
      "cell_type": "markdown",
      "metadata": {},
      "source": [
        "_Responda Aqui_"
      ]
    },
    {
      "cell_type": "markdown",
      "metadata": {},
      "source": [
        "### Exercício 6\n",
        "\n",
        "Seja $A$ uma matriz quadrada não singular de ordem $n$ e $b \\in \\mathbb{R}^n$ um dado vetor. Considere o sistema linear $Ax = b$. A solução deste sistema pode ser aproximada usando os seguintes passos:\n",
        "\n",
        "(a) Associe a função de custo $C(x) = ||Ax−b||$. Encontre seu gradiente, $\\nabla C(x)$, e o e Hessiano, $H_C(x)$;\n",
        "\n",
        "(b) Escreva a iteração do algoritmo de descida de gradiente que converge para a\n",
        "solução do sistema $x$ com o valor inicial $x_0 = 0$;\n",
        "\n",
        "(c) Escreva a iteração de Newton que converge para a solução do sistema $x$ com o valor inicial $x_0 = 0.$"
      ]
    },
    {
      "cell_type": "markdown",
      "metadata": {},
      "source": [
        "_Responda Aqui_"
      ]
    },
    {
      "cell_type": "code",
      "execution_count": null,
      "metadata": {
        "id": "7y8o7HAilXzi"
      },
      "outputs": [],
      "source": []
    }
  ],
  "metadata": {
    "colab": {
      "provenance": []
    },
    "kernelspec": {
      "display_name": "Python 3",
      "name": "python3"
    },
    "language_info": {
      "name": "python"
    }
  },
  "nbformat": 4,
  "nbformat_minor": 0
}
