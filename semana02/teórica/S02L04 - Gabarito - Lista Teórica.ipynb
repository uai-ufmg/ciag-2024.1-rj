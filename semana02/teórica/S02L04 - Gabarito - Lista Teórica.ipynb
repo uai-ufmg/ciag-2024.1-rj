{
  "nbformat": 4,
  "nbformat_minor": 0,
  "metadata": {
    "colab": {
      "provenance": []
    },
    "kernelspec": {
      "name": "python3",
      "display_name": "Python 3"
    },
    "language_info": {
      "name": "python"
    }
  },
  "cells": [
    {
      "cell_type": "markdown",
      "source": [
        "# Lista Teórica 02-04: Otimização\n",
        "\n",
        "> - Método de Newton\n",
        "> - Gradiente Descendente"
      ],
      "metadata": {
        "id": "sjn5a0ZFkq_v"
      }
    },
    {
      "cell_type": "markdown",
      "source": [
        "### Exercício 1\n",
        "\n",
        "Aplique duas iterações do método de Newton para encontrar o ponto máximo da seguinte função:\n",
        "$$ f(x) = -(x - 3)^4 $$\n",
        "\n",
        "para $ x_0 = 1 $."
      ],
      "metadata": {
        "id": "Yd2B5mAHk4iI"
      }
    },
    {
      "cell_type": "markdown",
      "source": [
        "O método de Newton é dado pela fórmula:\n",
        "$$\n",
        "x_{n+1} = x_n - \\frac{f'(x_n)}{f''(x_n)},\n",
        "$$\n",
        "onde $ f'(x) $ e $f''(x)$ são, respectivamente, a primeira e a segunda derivadas de $f(x)$.\n",
        "\n",
        "Temos que:\n",
        "   $$\n",
        "   f'(x) = -4(x - 3)^3\n",
        "   $$\n",
        "\n",
        "   e\n",
        "\n",
        "   $$\n",
        "   f''(x) = -12(x - 3)^2\n",
        "   $$\n",
        "\n",
        "Agora, aplicamos duas iterações do método de Newton com $x_0 = 1$:\n",
        "\n",
        "1. Para $x_0 = 1$:\n",
        "   $$\n",
        "   f'(1) = -4(1 - 3)^3 = -4(-2)^3 = -4(-8) = 32,\n",
        "   $$\n",
        "\n",
        "   e\n",
        "\n",
        "   $$\n",
        "   f''(1) = -12(1 - 3)^2 = -12(-2)^2 = -12(4) = -48.\n",
        "   $$\n",
        "   Substituímos na fórmula de Newton:\n",
        "   $$\n",
        "   \\begin{align*}\n",
        "    x_1 &= x_0 - \\frac{f'(x_0)}{f''(x_0)} \\\\\n",
        "    &= 1 - \\frac{32}{-48} \\\\\n",
        "    &= 1 + \\frac{2}{3} \\\\\n",
        "    &= \\frac{5}{3} \\\\\n",
        "   \\end{align*}\n",
        "   $$\n",
        "\n",
        "2. Para $x_1 = \\frac{5}{3}$:\n",
        "   $$\n",
        "   f'\\left(\\frac{5}{3}\\right) = -4\\left(\\frac{5}{3} - 3\\right)^3 = -4\\left(-\\frac{4}{3}\\right)^3 = -4\\left(-\\frac{64}{27}\\right) = \\frac{256}{27},\n",
        "   $$\n",
        "\n",
        "   e\n",
        "\n",
        "   $$\n",
        "   f''\\left(\\frac{5}{3}\\right) = -12\\left(\\frac{5}{3} - 3\\right)^2 = -12\\left(-\\frac{4}{3}\\right)^2 = -12\\left(\\frac{16}{9}\\right) = -\\frac{192}{9} = -\\frac{64}{3}.\n",
        "   $$\n",
        "\n",
        "   Substituímos na fórmula:\n",
        "\n",
        "   $$\n",
        "  \\begin{align*}\n",
        "  x_2 &= x_1 - \\frac{f'(x_1)}{f''(x_1)} \\\\\n",
        "  &= \\frac{5}{3} - \\frac{\\frac{256}{27}}{-\\frac{64}{3}} \\\\\n",
        "  &= \\frac{5}{3} + \\frac{256}{576} \\\\\n",
        "  &= \\frac{5}{3} + \\frac{4}{9} \\\\\n",
        "  &= \\frac{19}{9}\n",
        "  \\end{align*}\n",
        "   $$\n",
        "\n",
        "Portanto, após duas iterações, $ x_2 = \\frac{19}{9} $."
      ],
      "metadata": {
        "id": "bmFMCsjYlaPv"
      }
    },
    {
      "cell_type": "markdown",
      "source": [
        "### Exercício 2\n",
        "\n",
        "Utilizando a mesma função do exercício anterior, aplique o método do gradiente ascendente usando learning rate $ \\alpha = 0.01 $ e $ x_0 = 1 $. Compare os dois resultados."
      ],
      "metadata": {
        "id": "hiMgkQ2Ylbr6"
      }
    },
    {
      "cell_type": "markdown",
      "source": [
        "No método do gradiente ascendente, a fórmula é:\n",
        "$$\n",
        "x_{n+1} = x_n + \\alpha f'(x_n).\n",
        "$$\n",
        "\n",
        "1. Para $x_0 = 1$:\n",
        "   $$\n",
        "   f'(1) = 32 \\quad \\text{(calculado anteriormente)},\n",
        "   $$\n",
        "   $$\n",
        "   x_1 = x_0 + \\alpha f'(x_0) = 1 + 0.01 \\cdot 32 = 1 + 0.32 = 1.32.\n",
        "   $$\n",
        "\n",
        "2. Para $x_1 = 1.32$:\n",
        "   $$\n",
        "   f'(1.32) = -4(1.32 - 3)^3 = -4(-1.68)^3 = -4(-4.75) = 19.04,\n",
        "   $$\n",
        "   $$\n",
        "   x_2 = x_1 + \\alpha f'(x_1) = 1.32 + 0.01 \\cdot 19.04 = 1.32 + 0.1904 = 1.5104.\n",
        "   $$\n",
        "\n",
        "Portanto, após duas iterações, $x_2 \\approx 1.5104$.\n",
        "\n",
        "**Comparação dos Resultados**\n",
        "\n",
        "- Pelo método de Newton, o ponto após duas iterações é $x_2 = \\frac{19}{9} \\approx 2.111$.\n",
        "- Pelo gradiente ascendente, o ponto após duas iterações é $x_2 \\approx 1.5104$.\n",
        "\n",
        "O método de Newton converge mais rapidamente para o máximo devido à utilização da segunda derivada para ajustar os passos.\n"
      ],
      "metadata": {
        "id": "f0u3H1MiljWZ"
      }
    },
    {
      "cell_type": "code",
      "source": [],
      "metadata": {
        "id": "7y8o7HAilXzi"
      },
      "execution_count": null,
      "outputs": []
    }
  ]
}