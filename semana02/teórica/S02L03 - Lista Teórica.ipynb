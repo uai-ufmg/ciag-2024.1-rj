{
  "nbformat": 4,
  "nbformat_minor": 0,
  "metadata": {
    "colab": {
      "provenance": []
    },
    "kernelspec": {
      "name": "python3",
      "display_name": "Python 3"
    },
    "language_info": {
      "name": "python"
    }
  },
  "cells": [
    {
      "cell_type": "markdown",
      "source": [
        "# Lista Teórica 02-03\n",
        "\n",
        "> - Otimização"
      ],
      "metadata": {
        "id": "eFV4xVhmdOB_"
      }
    },
    {
      "cell_type": "markdown",
      "source": [
        "### Exercício 1\n",
        "\n",
        "Explique o que é um erro de generalização. Explique brevemente o que cada método abaixo faz e por que, intuitivamente, ele pode ajudar a resolver um erro de generalização.\n",
        "\n",
        "- (a) Penalização com norma L2.\n",
        "- (b) Data augmentation.\n",
        "- (c) Early stopping."
      ],
      "metadata": {
        "id": "_wdnHeP1dYt3"
      }
    },
    {
      "cell_type": "markdown",
      "source": [
        "_Responda aqui_"
      ],
      "metadata": {
        "id": "mxPTktSYdvrV"
      }
    },
    {
      "cell_type": "markdown",
      "source": [
        "### Exercício 2\n",
        "\n",
        "Considere a seguinte função objetiva de mínimo quadrados regularizada L2 para uma regressão linear:\n",
        "\n",
        "$$f(w) = ||w”x − y|| + λ||w||2$$\n",
        "\n",
        "\n",
        "Como o λ afeta a reta estimada?"
      ],
      "metadata": {
        "id": "-tTLhXUvdy4f"
      }
    },
    {
      "cell_type": "markdown",
      "source": [
        "_Responda Aqui_"
      ],
      "metadata": {
        "id": "frjAIfW8eBwq"
      }
    },
    {
      "cell_type": "markdown",
      "source": [
        "### Exercício 3\n",
        "\n",
        "Suponha que você esteja treinando uma rede com dropout e a probabilidade de um nó ser mantido muda de 0.6 para 0.5.\n",
        "1. O que acontece com o efeito de regularização ao diminuir a probabilidade de um nó ser mantido na rede?\n",
        "2. Qual o impacto dessa mudança no erro calculado com o conjunto de treino?\n",
        "3. Durante o treinamento com dropout, a rede é modificada diversas vezes. Alguma modificação deve ser feita na rede em tempo de teste?"
      ],
      "metadata": {
        "id": "Z9uUhxnAeDhk"
      }
    },
    {
      "cell_type": "markdown",
      "source": [
        "_Responda Aqui_"
      ],
      "metadata": {
        "id": "XEYxiU2ZeWR1"
      }
    },
    {
      "cell_type": "code",
      "source": [],
      "metadata": {
        "id": "MHh4bk11dWXB"
      },
      "execution_count": null,
      "outputs": []
    }
  ]
}