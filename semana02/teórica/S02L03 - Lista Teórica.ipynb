{
  "cells": [
    {
      "cell_type": "markdown",
      "metadata": {
        "id": "eFV4xVhmdOB_"
      },
      "source": [
        "# Lista Teórica 02-03\n",
        "\n",
        "> - Otimização"
      ]
    },
    {
      "cell_type": "markdown",
      "metadata": {
        "id": "_wdnHeP1dYt3"
      },
      "source": [
        "### Exercício 1\n",
        "\n",
        "(a) Explique o que é um erro de generalização.\n",
        "\n",
        "(b) Explique brevemente o que cada método abaixo faz e por que, intuitivamente, ele pode ajudar a resolver um erro de generalização.\n",
        "\n",
        "1.  Penalização com norma L2.\n",
        "2.  Data augmentation.\n",
        "3.  Early stopping."
      ]
    },
    {
      "cell_type": "markdown",
      "metadata": {
        "id": "mxPTktSYdvrV"
      },
      "source": [
        "_Responda aqui_"
      ]
    },
    {
      "cell_type": "markdown",
      "metadata": {
        "id": "-tTLhXUvdy4f"
      },
      "source": [
        "### Exercício 2\n",
        "\n",
        "Considere a seguinte função objetiva de mínimos quadrados regularizada L2 para uma regressão linear:\n",
        "\n",
        "$$f(w) = ||w”x − y|| + λ||w||^2$$\n",
        "\n",
        "\n",
        "Como o λ afeta a reta estimada?"
      ]
    },
    {
      "cell_type": "markdown",
      "metadata": {
        "id": "frjAIfW8eBwq"
      },
      "source": [
        "_Responda Aqui_"
      ]
    },
    {
      "cell_type": "markdown",
      "metadata": {
        "id": "Z9uUhxnAeDhk"
      },
      "source": [
        "### Exercício 3\n",
        "\n",
        "Suponha que você esteja treinando uma rede com dropout e a probabilidade de um nó ser **mantido** muda de 0.6 para 0.5.\n",
        "1. O que acontece com o efeito de regularização ao diminuir a probabilidade de um nó ser mantido na rede?\n",
        "2. Qual o impacto dessa mudança no erro calculado com o conjunto de treino?\n",
        "3. Durante o treinamento com dropout, a rede é modificada diversas vezes. Alguma modificação deve ser feita na rede em tempo de teste?"
      ]
    },
    {
      "cell_type": "markdown",
      "metadata": {
        "id": "XEYxiU2ZeWR1"
      },
      "source": [
        "_Responda Aqui_"
      ]
    },
    {
      "cell_type": "markdown",
      "metadata": {},
      "source": [
        "### Exercício 4\n",
        "Considere um caso em que você tem quatro atributos $x_1,...,x_4$ e uma variável dependente $y = 2x_1$. Crie um dataset muito pequeno com 5 exemplos no qual uma regressão linear sem regularização terá um número infinito de soluções para os coeficientes com $w_1 = 0$. Como você acha que este modelo se sairia com novos dados para teste? Regularização ajudaria?"
      ]
    },
    {
      "cell_type": "markdown",
      "metadata": {},
      "source": [
        "_Responda Aqui_"
      ]
    },
    {
      "cell_type": "markdown",
      "metadata": {},
      "source": [
        "### Exercício 5\n",
        "\n",
        "Suponha que você tenha um modelo que fornece cerca de 80% de precisão no treinamento, bem como nos dados de teste fora da amostra. Você recomendaria aumentar a quantidade de dados ou ajustar o modelo para melhorar a precisão?"
      ]
    },
    {
      "cell_type": "markdown",
      "metadata": {},
      "source": [
        "_Reponda Aqui_"
      ]
    },
    {
      "cell_type": "markdown",
      "metadata": {},
      "source": [
        "### Exercício 6\n",
        "\n",
        "Flávio dividiu os dados de classificação rotulados em uma parte usada para construção do modelo e outra parte para validação. Flávio então testou 1000 arquiteturas de redes neurais aprendendo parâmetros (backprop) na parte de construção do modelo e testando sua precisão na parte de validação, escolhendo aquele que teve melhor desempenho. Discuta por que o modelo resultante provavelmente produzirá menor precisão nos dados de teste fora da amostra em comparação aos dados de validação, mesmo que os dados de validação não tenham sido usados ​​para aprender parâmetros. Você tem alguma recomendação para Flávio sobre o uso dos resultados de suas 1000 validações?"
      ]
    },
    {
      "cell_type": "markdown",
      "metadata": {},
      "source": [
        "_Responda Aqui_"
      ]
    },
    {
      "cell_type": "markdown",
      "metadata": {},
      "source": []
    },
    {
      "cell_type": "code",
      "execution_count": null,
      "metadata": {
        "id": "MHh4bk11dWXB"
      },
      "outputs": [],
      "source": []
    }
  ],
  "metadata": {
    "colab": {
      "provenance": []
    },
    "kernelspec": {
      "display_name": "Python 3",
      "name": "python3"
    },
    "language_info": {
      "name": "python"
    }
  },
  "nbformat": 4,
  "nbformat_minor": 0
}
