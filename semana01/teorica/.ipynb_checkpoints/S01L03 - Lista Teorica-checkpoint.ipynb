{
 "cells": [
  {
   "cell_type": "code",
   "execution_count": null,
   "metadata": {
    "id": "wErCVFvLC_rM"
   },
   "outputs": [],
   "source": []
  },
  {
   "cell_type": "markdown",
   "metadata": {
    "id": "5frFFEPqDCpE"
   },
   "source": [
    "# Lista Teórica 03 - Regressão Logística e SVM\n",
    "\n",
    "> - Regressão Logística\n",
    "> - SVM"
   ]
  },
  {
   "cell_type": "markdown",
   "metadata": {
    "id": "joe0cmXnED64"
   },
   "source": [
    "## Regressão Logística"
   ]
  },
  {
   "cell_type": "markdown",
   "metadata": {
    "id": "e3V3xThND-vT"
   },
   "source": [
    "### Exercício 1\n",
    "\n",
    "No modelo de regressão logística com um regressor apenas, a probabilidade é definida como:\n",
    "\n",
    "$$ P(Y_i = 1) = p(x_i) = \\frac{1}{1 + \\exp(-b - w_1 x_i)}. $$\n",
    "\n",
    "Deduza que a log-verossimilhança de $ \\theta = (b, w_1) $ no caso do modelo logístico com um único regressor é dada por:\n",
    "\n",
    "$$\n",
    "l(\\theta) = b \\sum_{i=1}^n y_i + w_1 \\sum_{i=1}^n x_i y_i - \\sum_{i=1}^n \\log(1 + e^{b + w_1 x_i}).\n",
    "$$\n"
   ]
  },
  {
   "cell_type": "markdown",
   "metadata": {
    "id": "6Z2AU_PrD_Wf"
   },
   "source": [
    "*Responda Aqui*"
   ]
  },
  {
   "cell_type": "markdown",
   "metadata": {
    "id": "eS0Zr9WbDOo9"
   },
   "source": [
    "\n",
    "### Exercício 2\n",
    "\n",
    "No modelo logístico com um regressor apenas, mostre que o vetor gradiente da log-verossimilhança $ l(\\theta) $ é dado por:\n",
    "\n",
    "$$\n",
    "\\nabla l(\\theta) =\n",
    "\\begin{bmatrix}\n",
    "\\frac{\\partial l}{\\partial b} \\\\\n",
    "\\frac{\\partial l}{\\partial w_1}\n",
    "\\end{bmatrix}\n",
    "=\n",
    "\\begin{bmatrix}\n",
    "\\sum_{i=1}^n y_i - p_i \\\\\n",
    "\\sum_{i=1}^n x_i y_i - p_i x_i\n",
    "\\end{bmatrix},\n",
    "$$\n",
    "\n",
    "onde $ p_i = p(x_i) $.\n",
    "\n"
   ]
  },
  {
   "cell_type": "markdown",
   "metadata": {
    "id": "ObR4njKFEGLQ"
   },
   "source": [
    "*Responda Aqui*"
   ]
  },
  {
   "cell_type": "markdown",
   "metadata": {
    "id": "9fWX3Q1gEErB"
   },
   "source": [
    "\n",
    "### Exercício 3\n",
    "\n",
    "Ainda no modelo logístico com um regressor apenas, mostre que a matriz Hessiana da log-verossimilhança $l(\\theta) $ é dada por:\n",
    "\n",
    "$$\n",
    "H(l(\\theta)) =\n",
    "- \\begin{bmatrix}\n",
    "\\frac{\\partial^2 l}{\\partial b^2} & \\frac{\\partial^2 l}{\\partial b \\partial w_1} \\\\\n",
    "\\frac{\\partial^2 l}{\\partial b \\partial w_1} & \\frac{\\partial^2 l}{\\partial w_1^2}\n",
    "\\end{bmatrix}\n",
    "=\n",
    "- \\begin{bmatrix}\n",
    "\\sum_{i=1}^n p_i (1 - p_i) & \\sum_{i=1}^n p_i (1 - p_i) x_i \\\\\n",
    "\\sum_{i=1}^n p_i (1 - p_i) x_i & \\sum_{i=1}^n p_i (1 - p_i) x_i^2\n",
    "\\end{bmatrix}.\n",
    "$$"
   ]
  },
  {
   "cell_type": "markdown",
   "metadata": {
    "id": "jay9wv8KEIAh"
   },
   "source": [
    "Responda Aqui"
   ]
  },
  {
   "cell_type": "markdown",
   "metadata": {
    "id": "aCtt0hDzHeZu"
   },
   "source": [
    "## SVM"
   ]
  },
  {
   "cell_type": "markdown",
   "metadata": {
    "id": "IZWEq2dzHrXS"
   },
   "source": [
    "### Exercício 4\n",
    "\n",
    "Quais as principais diferenças entre o SVM e uma Regressão Linear?"
   ]
  },
  {
   "cell_type": "markdown",
   "metadata": {
    "id": "FcWD4mkbH1Fg"
   },
   "source": [
    "*Responda Aqui*"
   ]
  },
  {
   "cell_type": "markdown",
   "metadata": {
    "id": "vGhdSRIkH4YY"
   },
   "source": [
    "### Exercício 5\n",
    "\n",
    "No SVM, quais são os tipos de kernels mais comuns? Em quais situações usamos cada um deles?"
   ]
  },
  {
   "cell_type": "markdown",
   "metadata": {
    "id": "cPs8t9oqIFYc"
   },
   "source": [
    "*Responda Aqui*"
   ]
  },
  {
   "cell_type": "markdown",
   "metadata": {
    "id": "KqOaEsJBIG85"
   },
   "source": [
    "### Exercício 6\n",
    "\n",
    "O que é uma *Soft Margin* em um SVM? Por que ela é usada nos SVMs?"
   ]
  },
  {
   "cell_type": "markdown",
   "metadata": {
    "id": "FWsQOd-7IXgH"
   },
   "source": [
    "*Responda Aqui*"
   ]
  },
  {
   "cell_type": "code",
   "execution_count": null,
   "metadata": {
    "id": "KY2BMdTkDON1"
   },
   "outputs": [],
   "source": []
  }
 ],
 "metadata": {
  "colab": {
   "provenance": []
  },
  "kernelspec": {
   "display_name": "Python 3 (ipykernel)",
   "language": "python",
   "name": "python3"
  },
  "language_info": {
   "codemirror_mode": {
    "name": "ipython",
    "version": 3
   },
   "file_extension": ".py",
   "mimetype": "text/x-python",
   "name": "python",
   "nbconvert_exporter": "python",
   "pygments_lexer": "ipython3",
   "version": "3.10.12"
  }
 },
 "nbformat": 4,
 "nbformat_minor": 4
}
