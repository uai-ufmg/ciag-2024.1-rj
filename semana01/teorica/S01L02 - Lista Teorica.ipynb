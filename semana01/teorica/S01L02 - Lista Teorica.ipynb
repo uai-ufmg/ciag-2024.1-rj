{
 "cells": [
  {
   "cell_type": "markdown",
   "metadata": {
    "id": "0RZ8AgHOEOem"
   },
   "source": [
    "# Lista Teórica 02 - Regressão Linear\n",
    "\n",
    "> Regressão Linear e seus possíveis problemas práticos.\n",
    ">\n",
    "> Algumas questões dessa lista são bastante desafiadoras! Não se desanime se não conseguir respondê-las.\n"
   ]
  },
  {
   "cell_type": "markdown",
   "metadata": {
    "id": "XStqD4U5EVpS"
   },
   "source": [
    "## 1. Suponha que temos alguns dados $x_1, \\ldots, x_n \\in \\mathbb{R}$. Nosso objetivo é encontrar uma constante $b$ tal que $\\sum_i (x_i - b)^2$ seja minimizada.\n",
    "\n",
    "   1. Encontre uma solução analítica para o valor ótimo de $b$.\n",
    "   2. Como este problema e sua solução se relacionam com a distribuição normal?\n",
    "   3. O que acontece se mudarmos a perda de $\\sum_i (x_i - b)^2$ para $\\sum_i |x_i - b|$? Você consegue encontrar a solução ótima para $b$?\n"
   ]
  },
  {
   "cell_type": "markdown",
   "metadata": {
    "id": "S9pfAy8AH4ip"
   },
   "source": [
    "_Escreva sua resposta aqui_"
   ]
  },
  {
   "cell_type": "markdown",
   "metadata": {
    "id": "x7KNggIsFNUg"
   },
   "source": [
    "## 2. Lembre-se de que uma das condições para que o problema de regressão linear seja solucionável é que a matriz de design $\\mathbf{X}^\\top \\mathbf{X}$ tenha posto completo.\n",
    "\n",
    "   1. O que acontece se isso não for o caso?\n",
    "   2. Como você poderia corrigir isso? O que acontece se você adicionar uma pequena quantidade de ruído Gaussiano independente, coordenada por coordenada, a todas as entradas de $\\mathbf{X}$?\n",
    "   3. Qual é o valor esperado da matriz de design $\\mathbf{X}^\\top \\mathbf{X}$ neste caso?\n",
    "   4. O que acontece com o gradiente estocástico descendente quando $\\mathbf{X}^\\top \\mathbf{X}$ não tem posto completo?\n"
   ]
  },
  {
   "cell_type": "markdown",
   "metadata": {
    "id": "P-ko9TMfH6rT"
   },
   "source": [
    "_Escreva sua resposta aqui_"
   ]
  },
  {
   "cell_type": "markdown",
   "metadata": {
    "id": "H6UZqDwgFnUQ"
   },
   "source": [
    "## 7. O que acontece se você quiser usar regressão para estimar realisticamente preços de casas ou ações?\n",
    "\n",
    "   1. Mostre que a suposição de ruído Gaussiano aditivo não é apropriada. Dica: podemos ter preços negativos? E quanto às flutuações?\n",
    "   2. Por que a regressão no logaritmo do preço seria muito melhor, isto é, $y = \\log(\\text{preço})$?\n",
    "   3. O que você precisa considerar ao lidar com penny stocks, isto é, ações com preços muito baixos? Dica: é possível negociar a todos os preços? Por que isso é um problema maior para ações baratas? Para mais informações, revise o famoso modelo de Black-Scholes para precificação de opções (Black and Scholes, 1973).\n"
   ]
  },
  {
   "cell_type": "markdown",
   "metadata": {
    "id": "gbqZ4wq_H86S"
   },
   "source": [
    "_Escreva sua resposta aqui_"
   ]
  },
  {
   "cell_type": "markdown",
   "metadata": {
    "id": "zWS6rIP5HtWx"
   },
   "source": [
    "## 8. Suponha que queremos usar regressão para estimar o número de maçãs vendidas em uma mercearia.\n",
    "\n",
    "   1. Quais são os problemas com um modelo de ruído aditivo Gaussiano? Dica: você está vendendo maçãs, não petróleo.\n",
    "   2. A **distribuição de Poisson** captura distribuições sobre contagens. Ela é dada por\n",
    "\n",
    "      $p(k \\mid \\lambda) = \\frac{\\lambda^k e^{-\\lambda}}{k!}$.\n",
    "\n",
    "      Aqui, $\\lambda$ é a taxa esperada, e $k$ é o número de eventos observados. Prove que $\\lambda$ é o valor esperado das contagens $k$.\n",
    "   3. Projete uma função de perda associada à distribuição de Poisson.\n",
    "   4. Projete uma função de perda para estimar $\\log \\lambda$ em vez de $\\lambda$.\n"
   ]
  },
  {
   "cell_type": "markdown",
   "metadata": {
    "id": "-g0E9UhYH-07"
   },
   "source": [
    "_Escreva sua resposta aqui_"
   ]
  },
  {
   "cell_type": "markdown",
   "metadata": {
    "id": "-H131qyWFVYG"
   },
   "source": [
    "Referências:\n",
    "\n",
    "https://d2l.ai/chapter_linear-regression/linear-regression.html"
   ]
  },
  {
   "cell_type": "code",
   "execution_count": null,
   "metadata": {
    "id": "iBZ-_egsELaH"
   },
   "outputs": [],
   "source": []
  }
 ],
 "metadata": {
  "colab": {
   "provenance": []
  },
  "kernelspec": {
   "display_name": "Python 3 (ipykernel)",
   "language": "python",
   "name": "python3"
  },
  "language_info": {
   "codemirror_mode": {
    "name": "ipython",
    "version": 3
   },
   "file_extension": ".py",
   "mimetype": "text/x-python",
   "name": "python",
   "nbconvert_exporter": "python",
   "pygments_lexer": "ipython3",
   "version": "3.10.12"
  }
 },
 "nbformat": 4,
 "nbformat_minor": 4
}
