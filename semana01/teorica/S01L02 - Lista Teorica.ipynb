{
  "nbformat": 4,
  "nbformat_minor": 0,
  "metadata": {
    "colab": {
      "provenance": []
    },
    "kernelspec": {
      "name": "python3",
      "display_name": "Python 3"
    },
    "language_info": {
      "name": "python"
    }
  },
  "cells": [
    {
      "cell_type": "markdown",
      "source": [
        "# Lista Teórica 02 - Regressão Linear\n",
        "\n",
        "> Regressão Linear e seus possíveis problemas práticos.\n",
        ">\n",
        "> Algumas questões dessa lista são bastante desafiadoras! Não se desanime se não conseguir respondê-las.\n"
      ],
      "metadata": {
        "id": "0RZ8AgHOEOem"
      }
    },
    {
      "cell_type": "markdown",
      "source": [
        "## 1. Suponha que temos alguns dados $x_1, \\ldots, x_n \\in \\mathbb{R}$. Nosso objetivo é encontrar uma constante $b$ tal que $\\sum_i (x_i - b)^2$ seja minimizada.\n",
        "\n",
        "   1. Encontre uma solução analítica para o valor ótimo de $b$.\n",
        "   2. Como este problema e sua solução se relacionam com a distribuição normal?\n",
        "   3. O que acontece se mudarmos a perda de $\\sum_i (x_i - b)^2$ para $\\sum_i |x_i - b|$? Você consegue encontrar a solução ótima para $b$?\n"
      ],
      "metadata": {
        "id": "XStqD4U5EVpS"
      }
    },
    {
      "cell_type": "markdown",
      "source": [
        "_Escreva sua resposta aqui_"
      ],
      "metadata": {
        "id": "S9pfAy8AH4ip"
      }
    },
    {
      "cell_type": "markdown",
      "source": [
        "## 2. Lembre-se de que uma das condições para que o problema de regressão linear seja solucionável é que a matriz de design $\\mathbf{X}^\\top \\mathbf{X}$ tenha posto completo.\n",
        "\n",
        "   1. O que acontece se isso não for o caso?\n",
        "   2. Como você poderia corrigir isso? O que acontece se você adicionar uma pequena quantidade de ruído Gaussiano independente, coordenada por coordenada, a todas as entradas de $\\mathbf{X}$?\n",
        "   3. Qual é o valor esperado da matriz de design $\\mathbf{X}^\\top \\mathbf{X}$ neste caso?\n",
        "   4. O que acontece com o gradiente estocástico descendente quando $\\mathbf{X}^\\top \\mathbf{X}$ não tem posto completo?\n"
      ],
      "metadata": {
        "id": "x7KNggIsFNUg"
      }
    },
    {
      "cell_type": "markdown",
      "source": [
        "_Escreva sua resposta aqui_"
      ],
      "metadata": {
        "id": "P-ko9TMfH6rT"
      }
    },
    {
      "cell_type": "markdown",
      "source": [
        "## 7. O que acontece se você quiser usar regressão para estimar realisticamente preços de casas ou ações?\n",
        "\n",
        "   1. Mostre que a suposição de ruído Gaussiano aditivo não é apropriada. Dica: podemos ter preços negativos? E quanto às flutuações?\n",
        "   2. Por que a regressão no logaritmo do preço seria muito melhor, isto é, $y = \\log(\\text{preço})$?\n",
        "   3. O que você precisa considerar ao lidar com penny stocks, isto é, ações com preços muito baixos? Dica: é possível negociar a todos os preços? Por que isso é um problema maior para ações baratas? Para mais informações, revise o famoso modelo de Black-Scholes para precificação de opções (Black and Scholes, 1973).\n"
      ],
      "metadata": {
        "id": "H6UZqDwgFnUQ"
      }
    },
    {
      "cell_type": "markdown",
      "source": [
        "_Escreva sua resposta aqui_"
      ],
      "metadata": {
        "id": "gbqZ4wq_H86S"
      }
    },
    {
      "cell_type": "markdown",
      "source": [
        "## 8. Suponha que queremos usar regressão para estimar o número de maçãs vendidas em uma mercearia.\n",
        "\n",
        "   1. Quais são os problemas com um modelo de ruído aditivo Gaussiano? Dica: você está vendendo maçãs, não petróleo.\n",
        "   2. A **distribuição de Poisson** captura distribuições sobre contagens. Ela é dada por\n",
        "\n",
        "      $p(k \\mid \\lambda) = \\frac{\\lambda^k e^{-\\lambda}}{k!}$.\n",
        "\n",
        "      Aqui, $\\lambda$ é a taxa esperada, e $k$ é o número de eventos observados. Prove que $\\lambda$ é o valor esperado das contagens $k$.\n",
        "   3. Projete uma função de perda associada à distribuição de Poisson.\n",
        "   4. Projete uma função de perda para estimar $\\log \\lambda$ em vez de $\\lambda$.\n"
      ],
      "metadata": {
        "id": "zWS6rIP5HtWx"
      }
    },
    {
      "cell_type": "markdown",
      "source": [
        "_Escreva sua resposta aqui_"
      ],
      "metadata": {
        "id": "-g0E9UhYH-07"
      }
    },
    {
      "cell_type": "markdown",
      "source": [
        "Referências:\n",
        "\n",
        "https://d2l.ai/chapter_linear-regression/linear-regression.html"
      ],
      "metadata": {
        "id": "-H131qyWFVYG"
      }
    },
    {
      "cell_type": "code",
      "execution_count": null,
      "metadata": {
        "id": "iBZ-_egsELaH"
      },
      "outputs": [],
      "source": []
    }
  ]
}