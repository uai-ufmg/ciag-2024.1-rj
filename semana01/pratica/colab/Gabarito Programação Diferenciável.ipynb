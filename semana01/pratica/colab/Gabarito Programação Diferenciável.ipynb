{
  "cells": [
    {
      "cell_type": "markdown",
      "id": "2728a6f2",
      "metadata": {
        "id": "2728a6f2"
      },
      "source": [
        "# Programação Diferenciável (Aprendizado Profundo - UFMG)\n",
        "\n",
        "## Preâmbulo\n",
        "\n",
        "O código abaixo consiste dos imports comuns. Além do mais, configuramos as imagens para ficar de um tamanho aceitável e criamos algumas funções auxiliares. No geral, você pode ignorar a próxima célula."
      ]
    },
    {
      "cell_type": "code",
      "execution_count": null,
      "id": "a2ef04d2",
      "metadata": {
        "id": "a2ef04d2"
      },
      "outputs": [],
      "source": [
        "# -*- coding: utf8\n",
        "\n",
        "import matplotlib.pyplot as plt"
      ]
    },
    {
      "cell_type": "code",
      "execution_count": null,
      "id": "7ee22830",
      "metadata": {
        "id": "7ee22830"
      },
      "outputs": [],
      "source": [
        "plt.rcParams['figure.figsize'] = (8, 5)\n",
        "\n",
        "plt.rcParams['axes.axisbelow'] = True\n",
        "plt.rcParams['axes.labelsize'] = 16\n",
        "plt.rcParams['axes.linewidth'] = 1\n",
        "plt.rcParams['axes.spines.bottom'] = True\n",
        "plt.rcParams['axes.spines.left'] = True\n",
        "plt.rcParams['axes.titlesize'] = 16\n",
        "plt.rcParams['axes.ymargin'] = 0.1\n",
        "\n",
        "plt.rcParams['font.family'] = 'serif'\n",
        "\n",
        "plt.rcParams['axes.grid'] = True\n",
        "plt.rcParams['grid.color'] = 'lightgrey'\n",
        "plt.rcParams['grid.linewidth'] = .1\n",
        "\n",
        "plt.rcParams['xtick.labelsize'] = 16\n",
        "plt.rcParams['xtick.bottom'] = True\n",
        "plt.rcParams['xtick.direction'] = 'out'\n",
        "plt.rcParams['xtick.major.size'] = 10\n",
        "plt.rcParams['xtick.major.width'] = 1\n",
        "plt.rcParams['xtick.minor.size'] = 3\n",
        "plt.rcParams['xtick.minor.width'] = .5\n",
        "plt.rcParams['xtick.minor.visible'] = True\n",
        "\n",
        "plt.rcParams['ytick.labelsize'] = 16\n",
        "plt.rcParams['ytick.left'] = True\n",
        "plt.rcParams['ytick.direction'] = 'out'\n",
        "plt.rcParams['ytick.major.size'] = 10\n",
        "plt.rcParams['ytick.major.width'] = 1\n",
        "plt.rcParams['ytick.minor.size'] = 3\n",
        "plt.rcParams['ytick.minor.width'] = .5\n",
        "plt.rcParams['ytick.minor.visible'] = True\n",
        "\n",
        "plt.rcParams['legend.fontsize'] = 16\n",
        "\n",
        "plt.rcParams['lines.linewidth'] = 4\n",
        "plt.rcParams['lines.markersize'] = 10"
      ]
    },
    {
      "cell_type": "code",
      "execution_count": null,
      "id": "2df6a530",
      "metadata": {
        "id": "2df6a530",
        "colab": {
          "base_uri": "https://localhost:8080/"
        },
        "outputId": "4b48098b-3bd7-41ce-9fa8-baf48f6ef7c4"
      },
      "outputs": [
        {
          "output_type": "execute_result",
          "data": {
            "text/plain": [
              "<matplotlib.pyplot._IonContext at 0x7faa56ce9490>"
            ]
          },
          "metadata": {},
          "execution_count": 3
        }
      ],
      "source": [
        "plt.style.use('tableau-colorblind10') # use um estilo colorblind!\n",
        "plt.ion()"
      ]
    },
    {
      "cell_type": "markdown",
      "id": "0648be06",
      "metadata": {
        "id": "0648be06"
      },
      "source": [
        "## 1. Tensores em Numpy\n",
        "\n",
        "O primeiro passo para usar numpy é importar a biblioteca.\n"
      ]
    },
    {
      "cell_type": "code",
      "execution_count": null,
      "id": "f7d132a0",
      "metadata": {
        "id": "f7d132a0"
      },
      "outputs": [],
      "source": [
        "import numpy as np"
      ]
    },
    {
      "cell_type": "markdown",
      "id": "d5dba789",
      "metadata": {
        "id": "d5dba789"
      },
      "source": [
        "Quando pensamos no lado prático do aprendizado profundo, um aspecto chave que ajuda na implementação de novos algoritmos é a chamada programação diferenciável. Na próxima aula vamos voltar na mesma. No momento, o importante é salientar que a programação diferenciável faz uso extensivo de Tensores."
      ]
    },
    {
      "cell_type": "markdown",
      "source": [
        "Um [Tensor](http://en.wikipedia.org/wiki/Tensor) é uma generalização de matrizes para mais dimensões. Quando falamos de tensores, temos três casos especiais e um genérico que engloba os outros três:\n",
        "\n",
        "\n",
        "1. **Escalar:** Um tensor de zero dimensões."
      ],
      "metadata": {
        "id": "40aqkx3bQLSl"
      },
      "id": "40aqkx3bQLSl"
    },
    {
      "cell_type": "code",
      "execution_count": null,
      "id": "8290c1a3",
      "metadata": {
        "id": "8290c1a3",
        "colab": {
          "base_uri": "https://localhost:8080/"
        },
        "outputId": "db1649ec-ef83-40ae-a6ac-f131087f8d66"
      },
      "outputs": [
        {
          "output_type": "execute_result",
          "data": {
            "text/plain": [
              "1"
            ]
          },
          "metadata": {},
          "execution_count": 5
        }
      ],
      "source": [
        "1"
      ]
    },
    {
      "cell_type": "markdown",
      "id": "d1c675fd",
      "metadata": {
        "id": "d1c675fd"
      },
      "source": [
        "2. **Vetor:** Um tensor de uma dimensão."
      ]
    },
    {
      "cell_type": "code",
      "execution_count": null,
      "id": "fcc9d3d7",
      "metadata": {
        "id": "fcc9d3d7",
        "colab": {
          "base_uri": "https://localhost:8080/"
        },
        "outputId": "d1425c37-11be-4158-89ed-eeaeac7a0791"
      },
      "outputs": [
        {
          "output_type": "execute_result",
          "data": {
            "text/plain": [
              "array([1, 2])"
            ]
          },
          "metadata": {},
          "execution_count": 6
        }
      ],
      "source": [
        "np.array([1, 2])"
      ]
    },
    {
      "cell_type": "markdown",
      "id": "59189d49",
      "metadata": {
        "id": "59189d49"
      },
      "source": [
        "3. **Matrizes:** Um tensor de duas dimensões."
      ]
    },
    {
      "cell_type": "code",
      "execution_count": null,
      "id": "8c649337",
      "metadata": {
        "id": "8c649337",
        "colab": {
          "base_uri": "https://localhost:8080/"
        },
        "outputId": "ebd7301d-92fd-41de-fc95-7133109e0a57"
      },
      "outputs": [
        {
          "output_type": "execute_result",
          "data": {
            "text/plain": [
              "array([[1, 2],\n",
              "       [3, 4]])"
            ]
          },
          "metadata": {},
          "execution_count": 7
        }
      ],
      "source": [
        "np.array([[1, 2], [3, 4]])"
      ]
    },
    {
      "cell_type": "markdown",
      "id": "be770aea",
      "metadata": {
        "id": "be770aea"
      },
      "source": [
        "4. **Tensores**. Caso geral, representam n-dimensões. Na figura temos um tensor 3x3x3.\n",
        "\n",
        "![tensor.png](data:image/png;base64,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)\n",
        "# ![](./figs/tensor.png)"
      ]
    },
    {
      "cell_type": "markdown",
      "source": [
        "No exemplo abaixo, temos um tensor de dimensão $3 \\times 2 \\times 2$."
      ],
      "metadata": {
        "id": "uPNvuQMrQ8Gx"
      },
      "id": "uPNvuQMrQ8Gx"
    },
    {
      "cell_type": "code",
      "execution_count": null,
      "id": "ce0624d4",
      "metadata": {
        "id": "ce0624d4",
        "colab": {
          "base_uri": "https://localhost:8080/"
        },
        "outputId": "00f594ff-eca9-4350-b076-e7e69b8bde53"
      },
      "outputs": [
        {
          "output_type": "execute_result",
          "data": {
            "text/plain": [
              "array([[[-0.06660965,  0.31547158],\n",
              "        [ 0.13452463,  0.55815581]],\n",
              "\n",
              "       [[-1.48999998, -1.61214135],\n",
              "        [-1.04124586,  0.67929137]],\n",
              "\n",
              "       [[-0.35691515, -1.11419325],\n",
              "        [-0.84432855,  2.15831105]]])"
            ]
          },
          "metadata": {},
          "execution_count": 8
        }
      ],
      "source": [
        "X = np.random.randn(3, 2, 2) # Gera números aleatórios de uma normal N(0, 1)\n",
        "X"
      ]
    },
    {
      "cell_type": "markdown",
      "source": [
        "Note que ao selecionar elementos da primeira dimensão ficamos com matrizes $2 \\times 2$."
      ],
      "metadata": {
        "id": "E1Ybc0pHRUNS"
      },
      "id": "E1Ybc0pHRUNS"
    },
    {
      "cell_type": "code",
      "execution_count": null,
      "id": "fd2a9a86",
      "metadata": {
        "id": "fd2a9a86",
        "colab": {
          "base_uri": "https://localhost:8080/"
        },
        "outputId": "9a3350c1-595d-4db8-c079-0a26ffeab686"
      },
      "outputs": [
        {
          "output_type": "execute_result",
          "data": {
            "text/plain": [
              "array([[-0.06660965,  0.31547158],\n",
              "       [ 0.13452463,  0.55815581]])"
            ]
          },
          "metadata": {},
          "execution_count": 9
        }
      ],
      "source": [
        "X[0]"
      ]
    },
    {
      "cell_type": "code",
      "execution_count": null,
      "id": "a9b07a30",
      "metadata": {
        "id": "a9b07a30",
        "colab": {
          "base_uri": "https://localhost:8080/"
        },
        "outputId": "552c09ce-1000-4bf6-96f2-e1a34e2e7bbb"
      },
      "outputs": [
        {
          "output_type": "execute_result",
          "data": {
            "text/plain": [
              "array([[-1.48999998, -1.61214135],\n",
              "       [-1.04124586,  0.67929137]])"
            ]
          },
          "metadata": {},
          "execution_count": 10
        }
      ],
      "source": [
        "X[1]"
      ]
    },
    {
      "cell_type": "code",
      "execution_count": null,
      "id": "26769cb9",
      "metadata": {
        "id": "26769cb9",
        "colab": {
          "base_uri": "https://localhost:8080/"
        },
        "outputId": "f8940eca-bf0f-4d12-d14e-807443cfb561"
      },
      "outputs": [
        {
          "output_type": "execute_result",
          "data": {
            "text/plain": [
              "array([[-0.35691515, -1.11419325],\n",
              "       [-0.84432855,  2.15831105]])"
            ]
          },
          "metadata": {},
          "execution_count": 11
        }
      ],
      "source": [
        "X[2]"
      ]
    },
    {
      "cell_type": "markdown",
      "id": "5d62c20e",
      "metadata": {
        "id": "5d62c20e"
      },
      "source": [
        "### 1.1) Indexando\n",
        "\n",
        "Sendo X uma matriz:"
      ]
    },
    {
      "cell_type": "code",
      "execution_count": null,
      "id": "4b7360f7",
      "metadata": {
        "id": "4b7360f7",
        "colab": {
          "base_uri": "https://localhost:8080/"
        },
        "outputId": "afc18d56-8906-405e-af76-942ed1df4caa"
      },
      "outputs": [
        {
          "output_type": "execute_result",
          "data": {
            "text/plain": [
              "array([[1, 2],\n",
              "       [3, 4]])"
            ]
          },
          "metadata": {},
          "execution_count": 12
        }
      ],
      "source": [
        "X = np.array([[1, 2], [3, 4]])\n",
        "X"
      ]
    },
    {
      "cell_type": "markdown",
      "id": "cc670b09",
      "metadata": {
        "id": "cc670b09"
      },
      "source": [
        "Podemos selecionar uma linha com a sintaxe `X[i]`, sendo `i` um inteiro."
      ]
    },
    {
      "cell_type": "code",
      "execution_count": null,
      "id": "35bfe57f",
      "metadata": {
        "id": "35bfe57f",
        "colab": {
          "base_uri": "https://localhost:8080/"
        },
        "outputId": "ca51acee-3c85-43bd-b1f7-4e6e2a61af92"
      },
      "outputs": [
        {
          "output_type": "execute_result",
          "data": {
            "text/plain": [
              "array([1, 2])"
            ]
          },
          "metadata": {},
          "execution_count": 13
        }
      ],
      "source": [
        "X[0] # pegando a primeira linha de X"
      ]
    },
    {
      "cell_type": "markdown",
      "id": "4a505a42",
      "metadata": {
        "id": "4a505a42"
      },
      "source": [
        "Podemos selecionar uma coluna com a sintaxe `X[:, j]`, sendo `j` um inteiro."
      ]
    },
    {
      "cell_type": "code",
      "execution_count": null,
      "id": "fd6b53ef",
      "metadata": {
        "id": "fd6b53ef",
        "colab": {
          "base_uri": "https://localhost:8080/"
        },
        "outputId": "643e661f-a3ca-4ead-d1f5-50f07cbd79b6"
      },
      "outputs": [
        {
          "output_type": "execute_result",
          "data": {
            "text/plain": [
              "array([2, 4])"
            ]
          },
          "metadata": {},
          "execution_count": 14
        }
      ],
      "source": [
        "X[:, 1] # pegando a segunda coluna de X"
      ]
    },
    {
      "cell_type": "markdown",
      "id": "84299746",
      "metadata": {
        "id": "84299746"
      },
      "source": [
        "Podemos selecionar mais de uma linha ou coluna utilizando a sintaxe `X[um_vetor]` ou `X[:, um_vetor]`, respectivamente."
      ]
    },
    {
      "cell_type": "code",
      "execution_count": null,
      "id": "ca8b6131",
      "metadata": {
        "id": "ca8b6131",
        "colab": {
          "base_uri": "https://localhost:8080/"
        },
        "outputId": "59cb1a6a-f340-4d0f-9153-1195fbe6bed6"
      },
      "outputs": [
        {
          "output_type": "execute_result",
          "data": {
            "text/plain": [
              "array([[1, 2, 3],\n",
              "       [4, 5, 6]])"
            ]
          },
          "metadata": {},
          "execution_count": 15
        }
      ],
      "source": [
        "X = np.array([[1, 2, 3], [4, 5, 6]])\n",
        "X"
      ]
    },
    {
      "cell_type": "code",
      "source": [
        "cols = [0, 1]\n",
        "X[:, cols] # iremos pegar a primeira e segunda colunas de X"
      ],
      "metadata": {
        "colab": {
          "base_uri": "https://localhost:8080/"
        },
        "id": "_CtY99AejnG1",
        "outputId": "236c90e7-68f6-4c0d-c8c7-8dfe7f014d23"
      },
      "id": "_CtY99AejnG1",
      "execution_count": null,
      "outputs": [
        {
          "output_type": "execute_result",
          "data": {
            "text/plain": [
              "array([[1, 2],\n",
              "       [4, 5]])"
            ]
          },
          "metadata": {},
          "execution_count": 16
        }
      ]
    },
    {
      "cell_type": "markdown",
      "id": "440b143a",
      "metadata": {
        "id": "440b143a"
      },
      "source": [
        "Podemos selecionar linhas e colunas também indexando o tensor através de um vetor booleano.\n",
        "\n",
        "A sintaxe `X[vetor_booleano]` retorna as linhas (ou colunas quando `X[:, vetor_booleano]`) onde o vetor é `True`."
      ]
    },
    {
      "cell_type": "code",
      "execution_count": null,
      "id": "e666700b",
      "metadata": {
        "id": "e666700b",
        "colab": {
          "base_uri": "https://localhost:8080/"
        },
        "outputId": "3bff35e1-60c5-44f1-c31e-6a2e574c239c"
      },
      "outputs": [
        {
          "output_type": "execute_result",
          "data": {
            "text/plain": [
              "array([[1, 2, 3]])"
            ]
          },
          "metadata": {},
          "execution_count": 17
        }
      ],
      "source": [
        "X[[True, False]] # selecionamos apenas a primeira linha"
      ]
    },
    {
      "cell_type": "code",
      "execution_count": null,
      "id": "fd88174a",
      "metadata": {
        "id": "fd88174a",
        "colab": {
          "base_uri": "https://localhost:8080/"
        },
        "outputId": "4ec8a791-04c3-4331-97c5-9d87395a2bf2"
      },
      "outputs": [
        {
          "output_type": "execute_result",
          "data": {
            "text/plain": [
              "array([[1, 3],\n",
              "       [4, 6]])"
            ]
          },
          "metadata": {},
          "execution_count": 18
        }
      ],
      "source": [
        "X[:, [True, False, True]] # selecionamos apenas a primeira e última coluna"
      ]
    },
    {
      "cell_type": "markdown",
      "id": "f953c649",
      "metadata": {
        "id": "f953c649"
      },
      "source": [
        "### 1.2) Shape, Reshape e Ravel\n",
        "\n",
        "Todo vetor, matriz e tensor pode ser redimensionado.\n",
        "\n",
        "Observe como no tensor abaixo temos `3x2x2=12` elementos. Podemos redimensionar os mesmos para outros tensores com 12 elementos."
      ]
    },
    {
      "cell_type": "code",
      "execution_count": null,
      "id": "9bb1cce1",
      "metadata": {
        "id": "9bb1cce1",
        "colab": {
          "base_uri": "https://localhost:8080/"
        },
        "outputId": "70fc5215-172f-42d9-c168-9653fcd90716"
      },
      "outputs": [
        {
          "output_type": "execute_result",
          "data": {
            "text/plain": [
              "(3, 2, 2)"
            ]
          },
          "metadata": {},
          "execution_count": 19
        }
      ],
      "source": [
        "X = np.random.rand(3, 2, 2)\n",
        "X.shape"
      ]
    },
    {
      "cell_type": "markdown",
      "id": "c80f667a",
      "metadata": {
        "id": "c80f667a"
      },
      "source": [
        "Podemos redimensionar os elementos como uma matriz $2 \\times 6$:"
      ]
    },
    {
      "cell_type": "code",
      "execution_count": null,
      "id": "e8f8bc0c",
      "metadata": {
        "id": "e8f8bc0c",
        "colab": {
          "base_uri": "https://localhost:8080/"
        },
        "outputId": "cf3ee33b-5104-4767-9b28-0fcca52be68f"
      },
      "outputs": [
        {
          "output_type": "execute_result",
          "data": {
            "text/plain": [
              "(2, 6)"
            ]
          },
          "metadata": {},
          "execution_count": 20
        }
      ],
      "source": [
        "X_matrix = X.reshape((2, 6))\n",
        "X_matrix.shape"
      ]
    },
    {
      "cell_type": "markdown",
      "source": [
        "Em Numpy (e PyTorch), podemos fazer com que a biblioteca infira uma dimensão utilizando `-1`:"
      ],
      "metadata": {
        "id": "ZWT0OKyqTQHG"
      },
      "id": "ZWT0OKyqTQHG"
    },
    {
      "cell_type": "code",
      "execution_count": null,
      "id": "d535c1f4",
      "metadata": {
        "id": "d535c1f4",
        "colab": {
          "base_uri": "https://localhost:8080/"
        },
        "outputId": "aa0611fc-744c-4407-def8-841a5fec9d44"
      },
      "outputs": [
        {
          "output_type": "execute_result",
          "data": {
            "text/plain": [
              "(2, 6)"
            ]
          },
          "metadata": {},
          "execution_count": 21
        }
      ],
      "source": [
        "X_matrix = X.reshape((2, -1))\n",
        "X_matrix.shape # Note que também temos uma matriz de dimensão: 2x6"
      ]
    },
    {
      "cell_type": "markdown",
      "id": "caf67b53",
      "metadata": {
        "id": "caf67b53"
      },
      "source": [
        "Podemos redimensionar os elementos para um outro tensor:"
      ]
    },
    {
      "cell_type": "code",
      "execution_count": null,
      "id": "f7904f56",
      "metadata": {
        "id": "f7904f56",
        "colab": {
          "base_uri": "https://localhost:8080/"
        },
        "outputId": "3742a7a8-524c-4176-b6e9-0f7cbe71f3c1"
      },
      "outputs": [
        {
          "output_type": "execute_result",
          "data": {
            "text/plain": [
              "(6, 2, 1)"
            ]
          },
          "metadata": {},
          "execution_count": 22
        }
      ],
      "source": [
        "X_tensor = X.reshape((6, 2, 1))\n",
        "X_tensor.shape"
      ]
    },
    {
      "cell_type": "markdown",
      "id": "dbf5211c",
      "metadata": {
        "id": "dbf5211c"
      },
      "source": [
        "E, por fim, podemos redimensionar os elementos como um vetor, realizando uma operação de `flattening`:"
      ]
    },
    {
      "cell_type": "code",
      "execution_count": null,
      "id": "0a9829bc",
      "metadata": {
        "id": "0a9829bc",
        "colab": {
          "base_uri": "https://localhost:8080/"
        },
        "outputId": "29511aa2-282e-4e4c-a931-de830028f8d4"
      },
      "outputs": [
        {
          "output_type": "execute_result",
          "data": {
            "text/plain": [
              "(12,)"
            ]
          },
          "metadata": {},
          "execution_count": 23
        }
      ],
      "source": [
        "X_vetor = X.flatten()\n",
        "X_vetor.shape"
      ]
    },
    {
      "cell_type": "markdown",
      "source": [
        "**Observação:** Podemos redimensionar os elementos como um vetor de 3 formas principais:\n",
        "1. Através da função `flatten`, como visto acima;\n",
        "2. Através da função `ravel` (presente tanto em Numpy quanto em PyTorch);\n",
        "3. Através de um `.reshape`, passando como parâmetro o número dos elementos (ou -1).\n",
        "\n",
        "Os 3 métodos possuem algumas sutilezas que diferenciam um dos outros. Para mais informações consulte o seguinte [link](https://www.techentice.com/numpy-difference-between-reshape-flatten/#:~:text=Use%20flatten()%20when%20you,create%20only%201-D%20array.)."
      ],
      "metadata": {
        "id": "4iWl-PbBUN8D"
      },
      "id": "4iWl-PbBUN8D"
    },
    {
      "cell_type": "markdown",
      "id": "01da6073",
      "metadata": {
        "id": "01da6073"
      },
      "source": [
        "## 2. Tensores em PyTorch\n",
        "\n",
        "PyTorch é o arcabouço que vamos usar para as nossas tarefas. Assim como o NumPy, o Pytorch é uma biblioteca de processamento vetorial/matricial/tensorial. Operações sobre os tensores do Pytorch possuem sintaxe consideravelmente parecida com operações sobre tensores do NumPy.\n",
        "\n",
        "O mesmo faz uso de tensores bem similares ao NumPy. Porém, com PyTorch conseguimos fazer uso da GPU."
      ]
    },
    {
      "cell_type": "code",
      "execution_count": null,
      "id": "bb86fa6c",
      "metadata": {
        "id": "bb86fa6c"
      },
      "outputs": [],
      "source": [
        "import torch"
      ]
    },
    {
      "cell_type": "markdown",
      "id": "eef55b0f",
      "metadata": {
        "id": "eef55b0f"
      },
      "source": [
        "### 2.1) Casting para o dispositivo correto\n",
        "\n",
        "Como usaremos processamento vetorial principalmente em GPUs para aprendizado profundo, primeiramente é possível verificar se há uma GPU disponível com o trecho de código abaixo, armazenando os tensores nos dispositivos apropriados."
      ]
    },
    {
      "cell_type": "code",
      "execution_count": null,
      "id": "77e07616",
      "metadata": {
        "id": "77e07616",
        "colab": {
          "base_uri": "https://localhost:8080/"
        },
        "outputId": "bf60343d-dfcf-4802-c775-988386ce5ddd"
      },
      "outputs": [
        {
          "output_type": "stream",
          "name": "stdout",
          "text": [
            "cpu\n"
          ]
        }
      ],
      "source": [
        "if torch.cuda.is_available():\n",
        "    device = torch.device('cuda')\n",
        "else:\n",
        "    device = torch.device('cpu')\n",
        "\n",
        "print(device)"
      ]
    },
    {
      "cell_type": "markdown",
      "source": [
        "Podemos também realizar essa verificação em uma linha de código (+ pytônico)"
      ],
      "metadata": {
        "id": "e-U9ClDLWA9O"
      },
      "id": "e-U9ClDLWA9O"
    },
    {
      "cell_type": "code",
      "source": [
        "device = torch.device('cuda' if torch.cuda.is_available() else 'cpu')\n",
        "print(device)"
      ],
      "metadata": {
        "colab": {
          "base_uri": "https://localhost:8080/"
        },
        "id": "upFrmCUhV3eu",
        "outputId": "1a0632d8-824b-4885-ccd2-caac0ab7ad93"
      },
      "id": "upFrmCUhV3eu",
      "execution_count": null,
      "outputs": [
        {
          "output_type": "stream",
          "name": "stdout",
          "text": [
            "cpu\n"
          ]
        }
      ]
    },
    {
      "cell_type": "markdown",
      "id": "0fa1fb4b",
      "metadata": {
        "id": "0fa1fb4b"
      },
      "source": [
        "### 2.2.) Tensores no Pytorch"
      ]
    },
    {
      "cell_type": "markdown",
      "id": "fe7618b5",
      "metadata": {
        "id": "fe7618b5"
      },
      "source": [
        "Para criar tensores novos, podemos utilizar a função `torch.tensor`, similar à função `numpy.array` da biblioteca Numpy:"
      ]
    },
    {
      "cell_type": "code",
      "execution_count": null,
      "id": "2835208e",
      "metadata": {
        "id": "2835208e",
        "colab": {
          "base_uri": "https://localhost:8080/"
        },
        "outputId": "f0a1820a-eaa6-4f78-c4d0-20f28705ac37"
      },
      "outputs": [
        {
          "output_type": "stream",
          "name": "stdout",
          "text": [
            "tensor([1, 2, 3, 4, 5, 6])\n"
          ]
        }
      ],
      "source": [
        "tns = torch.tensor([1, 2, 3, 4, 5, 6])\n",
        "print(tns)"
      ]
    },
    {
      "cell_type": "markdown",
      "id": "09edf473",
      "metadata": {
        "id": "09edf473"
      },
      "source": [
        "Podemos redimensionar os tensores de maneira similar ao que vimos em Numpy através da função `view`:"
      ]
    },
    {
      "cell_type": "code",
      "execution_count": null,
      "id": "657b44b4",
      "metadata": {
        "id": "657b44b4",
        "colab": {
          "base_uri": "https://localhost:8080/"
        },
        "outputId": "136bff38-b745-43bd-8063-96d92238a215"
      },
      "outputs": [
        {
          "output_type": "stream",
          "name": "stdout",
          "text": [
            "tensor([[1, 2, 3],\n",
            "        [4, 5, 6]])\n"
          ]
        }
      ],
      "source": [
        "print(tns.view(2, 3))"
      ]
    },
    {
      "cell_type": "markdown",
      "source": [
        "Assim como mencionado em Numpy, podemos utilizar `-1` para fazer com que a biblioteca faça uma inferência no formato necessário de acordo com os elementos restantes:"
      ],
      "metadata": {
        "id": "mxMi2Up9WwbL"
      },
      "id": "mxMi2Up9WwbL"
    },
    {
      "cell_type": "code",
      "source": [
        "# Note que obtemos o mesmo tensor anterior\n",
        "print(tns.view(2, -1))"
      ],
      "metadata": {
        "colab": {
          "base_uri": "https://localhost:8080/"
        },
        "id": "SubQAAGRna8P",
        "outputId": "d30fde26-99dd-4d2f-ffd2-f6e848f64860"
      },
      "id": "SubQAAGRna8P",
      "execution_count": null,
      "outputs": [
        {
          "output_type": "stream",
          "name": "stdout",
          "text": [
            "tensor([[1, 2, 3],\n",
            "        [4, 5, 6]])\n"
          ]
        }
      ]
    },
    {
      "cell_type": "markdown",
      "source": [
        "**Observação:** Em PyTorch, além de possuirmos a função `view`, também possuímos a função `reshape`. Ambas possuem algumas diferenças sutis. Caso queira obter mais informações sobre tais diferenças, acesse o seguinte [link](https://stackoverflow.com/questions/49643225/whats-the-difference-between-reshape-and-view-in-pytorch). Porém, no geral, iremos trabalhar mais com a função `view` ao desenvolver códigos utilizando PyTorch."
      ],
      "metadata": {
        "id": "VpQDTi7NW9vN"
      },
      "id": "VpQDTi7NW9vN"
    },
    {
      "cell_type": "markdown",
      "id": "aa018512",
      "metadata": {
        "id": "aa018512"
      },
      "source": [
        "Podemos criar tensores previamente preenchidos por elementos, como 0s através da função `torch.zeros` e 1s através da função `torch.ones`:"
      ]
    },
    {
      "cell_type": "code",
      "execution_count": null,
      "id": "25be82ea",
      "metadata": {
        "id": "25be82ea",
        "colab": {
          "base_uri": "https://localhost:8080/"
        },
        "outputId": "f43b4add-68ea-44b8-b4fb-1a8d1671d760"
      },
      "outputs": [
        {
          "output_type": "stream",
          "name": "stdout",
          "text": [
            "tensor([[0., 0., 0.],\n",
            "        [0., 0., 0.]])\n",
            "tensor([[1., 1., 1.],\n",
            "        [1., 1., 1.]])\n"
          ]
        }
      ],
      "source": [
        "tns_0 = torch.zeros(2, 3) # iniciando um tensor com 0s\n",
        "tns_1 = torch.ones(2, 3) # iniciando um tensor com 1s\n",
        "\n",
        "print(tns_0)\n",
        "print(tns_1)"
      ]
    },
    {
      "cell_type": "markdown",
      "id": "cda70838",
      "metadata": {
        "id": "cda70838"
      },
      "source": [
        "Similar à funções do Numpy, podemos iniciar tensores com valores aleatórios:"
      ]
    },
    {
      "cell_type": "code",
      "execution_count": null,
      "id": "a907a653",
      "metadata": {
        "id": "a907a653",
        "colab": {
          "base_uri": "https://localhost:8080/"
        },
        "outputId": "17847f5a-e855-4908-e894-aff974884597"
      },
      "outputs": [
        {
          "output_type": "stream",
          "name": "stdout",
          "text": [
            "tensor([[0.5401, 0.9377, 0.0047],\n",
            "        [0.6100, 0.8337, 0.6879]])\n",
            "tensor([[-1.4032e+00, -5.6653e-01, -1.2894e-03],\n",
            "        [ 2.1798e-02,  1.0908e-01,  5.7875e-01]])\n",
            "tensor([5, 1, 2, 3, 4, 0])\n"
          ]
        }
      ],
      "source": [
        "tns_u = torch.rand(2, 3) # valores que seguem uma distribuição uniforme\n",
        "print(tns_u)\n",
        "\n",
        "tns_n = torch.randn(2, 3) # valores que seguem uma distribuição normal\n",
        "print(tns_n)\n",
        "\n",
        "tns_perm = torch.randperm(6) # valores que são uma permutação aleatória no intervalo [0, 5]\n",
        "print(tns_perm)"
      ]
    },
    {
      "cell_type": "markdown",
      "id": "960deb73",
      "metadata": {
        "id": "960deb73"
      },
      "source": [
        "Similar à Numpy, podemos realizar operações de soma, multiplicação, entre outras, com tensores:"
      ]
    },
    {
      "cell_type": "code",
      "execution_count": null,
      "id": "20c406a0",
      "metadata": {
        "id": "20c406a0",
        "colab": {
          "base_uri": "https://localhost:8080/"
        },
        "outputId": "3464126c-b739-4d2f-ab11-0be387ff3304"
      },
      "outputs": [
        {
          "output_type": "stream",
          "name": "stdout",
          "text": [
            "tensor([[0.5401, 0.9377, 0.0047],\n",
            "        [0.6100, 0.8337, 0.6879]])\n",
            "tensor([[-1.4032e+00, -5.6653e-01, -1.2894e-03],\n",
            "        [ 2.1798e-02,  1.0908e-01,  5.7875e-01]])\n",
            "tensor([[-0.8631,  0.3712,  0.0034],\n",
            "        [ 0.6318,  0.9428,  1.2667]])\n"
          ]
        }
      ],
      "source": [
        "print(tns_u)\n",
        "print(tns_n)\n",
        "\n",
        "tns_sum = tns_u + tns_n\n",
        "print(tns_sum)"
      ]
    },
    {
      "cell_type": "markdown",
      "id": "3fda5520",
      "metadata": {
        "id": "3fda5520"
      },
      "source": [
        "Similar à Numpy, podemos indexar os tensores da mesma forma apresentada anteriormente:"
      ]
    },
    {
      "cell_type": "code",
      "execution_count": null,
      "id": "1875ca00",
      "metadata": {
        "id": "1875ca00",
        "colab": {
          "base_uri": "https://localhost:8080/"
        },
        "outputId": "251660d2-379f-4259-de7c-7f69993b21b2"
      },
      "outputs": [
        {
          "output_type": "stream",
          "name": "stdout",
          "text": [
            "tensor(0.9428)\n",
            "tensor([-0.8631,  0.3712,  0.0034])\n",
            "tensor([0.3712, 0.9428])\n"
          ]
        }
      ],
      "source": [
        "print(tns_sum[1, 1]) # Indexando um elemento\n",
        "print(tns_sum[0, :]) # Indexando uma linha (pode também ser tns_sum[0])\n",
        "print(tns_sum[:, 1]) # Indexando uma coluna"
      ]
    },
    {
      "cell_type": "markdown",
      "id": "b6911ae8",
      "metadata": {
        "id": "b6911ae8"
      },
      "source": [
        "Podemos utilizar a função `torch.from_numpy` para converter um tensor de Numpy para PyTorch; ou a função `.numpy()` para converter um tensor de PyTorch para Numpy:"
      ]
    },
    {
      "cell_type": "code",
      "execution_count": null,
      "id": "6ca112e7",
      "metadata": {
        "id": "6ca112e7",
        "colab": {
          "base_uri": "https://localhost:8080/"
        },
        "outputId": "b7cda352-4076-42d3-f5fc-fa7ac447f908"
      },
      "outputs": [
        {
          "output_type": "stream",
          "name": "stdout",
          "text": [
            "[[ 0.09579046  0.50616887 -0.34923084]\n",
            " [ 0.69487476 -1.18931518  0.04173277]] float64\n",
            "tensor([[ 0.0958,  0.5062, -0.3492],\n",
            "        [ 0.6949, -1.1893,  0.0417]], dtype=torch.float64)\n",
            "[[ 0.09579046  0.50616887 -0.34923084]\n",
            " [ 0.69487476 -1.18931518  0.04173277]]\n"
          ]
        }
      ],
      "source": [
        "np_arr = np.random.randn(2, 3)\n",
        "print(np_arr, np_arr.dtype)\n",
        "\n",
        "torch_tns = torch.from_numpy(np_arr)\n",
        "print(torch_tns)\n",
        "\n",
        "arr = torch_tns.numpy()\n",
        "print(arr)"
      ]
    },
    {
      "cell_type": "markdown",
      "id": "bddafbb4",
      "metadata": {
        "id": "bddafbb4"
      },
      "source": [
        "Por fim, podemos concatenar dois, ou mais, tensores com a função `torch.cat`:\n",
        "- O parâmetro `dim` em PyTorch é análogo ao parâmetro `axis` do Numpy. Nele, iremos informar sobre qual dimensão queremos que uma certa operação seja feita. No caso abaixo, ao informarmos a primeira dimensão (0), estamos dizendo para o PyTorch efetuar uma concatenação dos dois tensores a partir da sua primeira dimensão, ou seja, \"colando\" os tensores verticalmente (no sentido das linhas)."
      ]
    },
    {
      "cell_type": "code",
      "execution_count": null,
      "id": "01f1dc76",
      "metadata": {
        "id": "01f1dc76",
        "colab": {
          "base_uri": "https://localhost:8080/"
        },
        "outputId": "8aca18cb-6468-4352-b313-c2e7db4b0e92"
      },
      "outputs": [
        {
          "output_type": "stream",
          "name": "stdout",
          "text": [
            "tensor([[0., 0., 0.],\n",
            "        [0., 0., 0.],\n",
            "        [1., 1., 1.],\n",
            "        [1., 1., 1.]])\n"
          ]
        }
      ],
      "source": [
        "tns_cat = torch.cat((tns_0, tns_1), dim=0)\n",
        "print(tns_cat)"
      ]
    },
    {
      "cell_type": "markdown",
      "id": "af99b899",
      "metadata": {
        "id": "af99b899"
      },
      "source": [
        "Várias outras operações sobre tensores do Pytorch podem ser vistas nos seguintes tutoriais:\n",
        "1.   https://jhui.github.io/2018/02/09/PyTorch-Basic-operations/\n",
        "2.   https://pytorch.org/tutorials/beginner/pytorch_with_examples.html"
      ]
    },
    {
      "cell_type": "markdown",
      "id": "82afff56",
      "metadata": {
        "id": "82afff56"
      },
      "source": [
        "## Conjunto de Problemas 1: Vetorização"
      ]
    },
    {
      "cell_type": "markdown",
      "id": "23f98d71",
      "metadata": {
        "id": "23f98d71"
      },
      "source": [
        "Antes de continuar, vamos importar algumas funções que serão utilizadas para testar o resultado dos seus algoritmos.\n",
        "\n",
        "Estas, vão vir do módulo `testing` do numpy."
      ]
    },
    {
      "cell_type": "code",
      "execution_count": null,
      "id": "cae67b57",
      "metadata": {
        "id": "cae67b57"
      },
      "outputs": [],
      "source": [
        "from numpy.testing import assert_equal\n",
        "from numpy.testing import assert_almost_equal\n",
        "from numpy.testing import assert_array_almost_equal"
      ]
    },
    {
      "cell_type": "markdown",
      "id": "74e733c8",
      "metadata": {
        "id": "74e733c8"
      },
      "source": [
        "Seu objetivo é medir a velocidade das operações de álgebra linear para diferentes níveis de vetorização.\n",
        "\n",
        "1. Construa duas matrizes $ A $ e $ B $ com entradas aleatórias Gaussianas de tamanho $ 128 \\times 256 $.\n",
        "**Dica:** Use o módulo time para mensurar o tempo da operação."
      ]
    },
    {
      "cell_type": "code",
      "execution_count": null,
      "id": "aa6d230e",
      "metadata": {
        "id": "aa6d230e"
      },
      "outputs": [],
      "source": [
        "# Implemente a sua solução aqui\n",
        "A = torch.randn(128, 256)\n",
        "B = torch.randn(128, 256)"
      ]
    },
    {
      "cell_type": "code",
      "execution_count": null,
      "id": "b704bc02",
      "metadata": {
        "id": "b704bc02"
      },
      "outputs": [],
      "source": [
        "# testes, não apague as linhas!!\n",
        "assert_equal((128, 256), A.shape)\n",
        "assert_equal((128, 256), B.shape)\n",
        "\n",
        "# A chamada .numpy() converte os vetores em vetores numpy. Útil para testes!\n",
        "Anp = A.numpy()\n",
        "Bnp = A.numpy()\n",
        "\n",
        "# testando média e desvio padrão\n",
        "assert_almost_equal(Anp.mean(), 0, decimal=2)\n",
        "assert_almost_equal(Anp.std(ddof=1), 1, decimal=2)\n",
        "\n",
        "assert_almost_equal(Bnp.mean(), 0, decimal=2)\n",
        "assert_almost_equal(Bnp.std(ddof=1), 1, decimal=2)"
      ]
    },
    {
      "cell_type": "markdown",
      "id": "000d92ec",
      "metadata": {
        "id": "000d92ec"
      },
      "source": [
        "2. Calcule $C = AB^T$, tratando $ A $ como uma matriz, mas computando o resultado para cada coluna de $ B $. Em outras palavras, realize um produto matricial utilizando um laço `for`! Pare realizar este código, é importante entender o conceito de broadcasting.\n",
        "\n",
        "Em código numpy e torch, a operação de broadcasting replica linhas e colunas de tensores para realizar operações. Para entender melhor, leia o [documento](https://docs.scipy.org/doc/numpy/user/basics.broadcasting.html). A figura abaixo exemplifica broadcasting. No geral, as dimensões de arrays casam, as operações são realizadas (primeira linha da figura). Mesmo quando as dimensões não casem, se a última dimensão for compatível é feito a replicação (broadcasting), ver a segunda linha da figura. Por fim, mesmo quando as dimensões não casam mas uma delas é 1 (4x1 + 1x3 na linha 3), é feito broadcasting.\n",
        "\n",
        "#![](./figs/broadcasting.png)\n",
        "\n",
        "![broadcasting.png](data:image/png;base64,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)\n",
        "\n"
      ]
    },
    {
      "cell_type": "markdown",
      "source": [
        "**Dica:** Você deverá fazer o código em uma linha apenas. Para isso, você vai focar no caso da linha 2 da figura. Multiplique uma linha de A por B. Depois disso, use `.sum(axis=...)` para realizar a soma na dimensão correta."
      ],
      "metadata": {
        "id": "Af0Fc_LDcAnl"
      },
      "id": "Af0Fc_LDcAnl"
    },
    {
      "cell_type": "code",
      "execution_count": null,
      "id": "fc16b00a",
      "metadata": {
        "id": "fc16b00a",
        "colab": {
          "base_uri": "https://localhost:8080/"
        },
        "outputId": "93de05c5-221e-4bd5-f73b-59963726edf8"
      },
      "outputs": [
        {
          "output_type": "stream",
          "name": "stdout",
          "text": [
            "CPU times: user 7.41 ms, sys: 895 µs, total: 8.31 ms\n",
            "Wall time: 9.92 ms\n"
          ]
        }
      ],
      "source": [
        "%%time\n",
        "\n",
        "C = np.zeros((128, 128))\n",
        "for linha in range(A.shape[0]):\n",
        "    # implemente aqui a sua solução\n",
        "    C[linha] = (A[linha] * B).sum(dim=1)"
      ]
    },
    {
      "cell_type": "code",
      "execution_count": null,
      "id": "ab8a4750",
      "metadata": {
        "id": "ab8a4750"
      },
      "outputs": [],
      "source": [
        "# testes, não apague as linhas!!\n",
        "Cteste = np.matmul(A, B.T)  # faz a leitura, realiza operação\n",
        "assert_array_almost_equal(Cteste, C, decimal=3)"
      ]
    },
    {
      "cell_type": "markdown",
      "id": "66b51a8f",
      "metadata": {
        "id": "66b51a8f"
      },
      "source": [
        "3. Calcule $ C = AB^t $ usando operações matriciais. Ou seja, sem usar nenhum laço. Ao mensurar o tempo, ficou mais rápido?"
      ]
    },
    {
      "cell_type": "code",
      "execution_count": null,
      "id": "4b5e6529",
      "metadata": {
        "id": "4b5e6529",
        "colab": {
          "base_uri": "https://localhost:8080/"
        },
        "outputId": "f7daddfd-bc88-497a-f04c-8d5f170804f8"
      },
      "outputs": [
        {
          "output_type": "stream",
          "name": "stdout",
          "text": [
            "CPU times: user 773 µs, sys: 0 ns, total: 773 µs\n",
            "Wall time: 785 µs\n"
          ]
        }
      ],
      "source": [
        "%%time\n",
        "\n",
        "# Implemente aqui a sua solução\n",
        "C = torch.mm(A, B.T)"
      ]
    },
    {
      "cell_type": "code",
      "execution_count": null,
      "id": "95dc9237",
      "metadata": {
        "id": "95dc9237"
      },
      "outputs": [],
      "source": [
        "# testes, não apague as linhas!!\n",
        "Cteste = np.matmul(A, B.T)  # faz a leitura, realiza operação\n",
        "assert_array_almost_equal(Cteste, C, decimal=3)"
      ]
    },
    {
      "cell_type": "markdown",
      "source": [
        "- Observando o tempo gasto nas duas formas de calcular $C = AB^T$, podemos perceber que ao utilizarmos funções nativas da biblioteca (como `np.matmul` e `torch.mm`), temos uma redução significativa do tempo se compararmos à utilização de um laço `for`."
      ],
      "metadata": {
        "id": "6qrAitJhAVcq"
      },
      "id": "6qrAitJhAVcq"
    },
    {
      "cell_type": "markdown",
      "id": "f347bdc4",
      "metadata": {
        "id": "f347bdc4"
      },
      "source": [
        "## Conjunto de Problemas 2: Computação eficiente de memória\n",
        "\n",
        "Crie duas matrizes aleatórias de tamanho $4096 \\times 4096$. Chame as mesmas de $A$ e $B$ novamente.\n",
        "\n"
      ]
    },
    {
      "cell_type": "code",
      "execution_count": null,
      "id": "7756d932",
      "metadata": {
        "id": "7756d932"
      },
      "outputs": [],
      "source": [
        "# Implemente aqui a sua solução\n",
        "A = torch.randn(4096, 4096)\n",
        "B = torch.randn(4096, 4096)"
      ]
    },
    {
      "cell_type": "markdown",
      "source": [
        "5. Crie uma função que recebe as matrizes $A$, $B$ e $C$, e um número de iterações para atualizar $C$, de forma que $C = AB^T + C$. Essa função deve, primeiro, calcular a multiplicação de matrizes entre $A$ e $B$ e depois adicionar o valor à $C$, de acordo com o número de iterações. A mesma deve atualizar $C$ sem alocar memória nova para essa variável."
      ],
      "metadata": {
        "id": "ysUoOzLOBJ0e"
      },
      "id": "ysUoOzLOBJ0e"
    },
    {
      "cell_type": "code",
      "execution_count": null,
      "id": "34a9bc94",
      "metadata": {
        "id": "34a9bc94"
      },
      "outputs": [],
      "source": [
        "def update_c(C, A, B, n_iter=2):\n",
        "    matrix_product = torch.mm(A, B.T)\n",
        "    for _ in range(n_iter):\n",
        "        C += matrix_product\n",
        "\n",
        "    return C"
      ]
    },
    {
      "cell_type": "code",
      "execution_count": null,
      "id": "37eb815e",
      "metadata": {
        "id": "37eb815e"
      },
      "outputs": [],
      "source": [
        "# testes não apague!\n",
        "Ct = torch.zeros(A.shape)\n",
        "Cteste = (Ct + np.matmul(A, B.T))\n",
        "Cteste = (Cteste + np.matmul(A, B.T))\n",
        "\n",
        "C = torch.zeros(A.shape)\n",
        "update_c(C, A, B, 2)\n",
        "assert_array_almost_equal(Cteste, C.numpy(), decimal=3)"
      ]
    },
    {
      "cell_type": "markdown",
      "id": "e87c26d4",
      "metadata": {
        "id": "e87c26d4"
      },
      "source": [
        "## Conjunto de Problemas 3: Programação Diferenciável\n",
        "\n",
        "Agora vamos aprender um dos pontos chaves de fazer uso de bibliotecas como pytorch/tensorflow/etc, a programação diferenciável. Diferente do exercício que vocês fizeram na mão, usando a biblioteca conseguimos derivar de forma automágica. Portanto, observe como o código abaixo deriva a função seno."
      ]
    },
    {
      "cell_type": "code",
      "execution_count": null,
      "id": "5e88cfa6",
      "metadata": {
        "id": "5e88cfa6",
        "colab": {
          "base_uri": "https://localhost:8080/",
          "height": 350
        },
        "outputId": "5c2e6feb-1d71-4c99-dcfb-f32863996d98"
      },
      "outputs": [
        {
          "output_type": "execute_result",
          "data": {
            "text/plain": [
              "[<matplotlib.lines.Line2D at 0x7fa9a8697490>]"
            ]
          },
          "metadata": {},
          "execution_count": 46
        },
        {
          "output_type": "display_data",
          "data": {
            "text/plain": [
              "<Figure size 576x360 with 1 Axes>"
            ],
            "image/png": "[encoded data removed]"
          },
          "metadata": {
            "needs_background": "light"
          }
        }
      ],
      "source": [
        "x = np.linspace(-10, 10, 1000)\n",
        "x_torch = torch.tensor(x, requires_grad=True)\n",
        "\n",
        "y = torch.sin(x_torch)  # seno original\n",
        "\n",
        "# Devido ao fato de que o y final não é um escalar precisamos passar o vetor v tal que v é a jacobiana\n",
        "# pela qual vamos multiplicar as jacobianas da variavel node (neste caso, x) conforme descrito em\n",
        "# https://pytorch.org/tutorials/beginner/blitz/autograd_tutorial.html\n",
        "# veremos mais sobre o processo de backprogation, jacobiano, etc no futuro\n",
        "v = torch.ones(x_torch.shape, dtype=torch.double)\n",
        "\n",
        "# Como aqui x da origem a y diretamente, nosso v sera apenas um vetor de 1's com a mesma dimensao de x\n",
        "y.backward(v)\n",
        "\n",
        "plt.plot(x_torch.detach().numpy(), y.detach().numpy(), 'g', label='sin(x)')\n",
        "plt.plot(x_torch.detach().numpy(), x_torch.grad.numpy(), 'b', label='sin\\'(x)')"
      ]
    },
    {
      "cell_type": "markdown",
      "id": "6f1894fc",
      "metadata": {
        "id": "6f1894fc"
      },
      "source": [
        "O resultado é a mesma curva da função cosseno! Para entender melhor o autograd, leia a seção respectiva do [pyTorch Blitz](https://pytorch.org/tutorials/beginner/blitz/autograd_tutorial.html)."
      ]
    },
    {
      "cell_type": "code",
      "execution_count": null,
      "id": "03ce34b9",
      "metadata": {
        "id": "03ce34b9",
        "colab": {
          "base_uri": "https://localhost:8080/",
          "height": 350
        },
        "outputId": "102c903d-38e2-4aac-8255-4d88c7184750"
      },
      "outputs": [
        {
          "output_type": "execute_result",
          "data": {
            "text/plain": [
              "[<matplotlib.lines.Line2D at 0x7fa9a851f640>]"
            ]
          },
          "metadata": {},
          "execution_count": 47
        },
        {
          "output_type": "display_data",
          "data": {
            "text/plain": [
              "<Figure size 576x360 with 1 Axes>"
            ],
            "image/png": "[encoded data removed]"
          },
          "metadata": {
            "needs_background": "light"
          }
        }
      ],
      "source": [
        "plt.plot(x_torch.detach().numpy(), x_torch.grad.numpy(), 'g', label='sin\\'(x)')\n",
        "plt.plot(x_torch.detach().numpy(), torch.cos(x_torch).detach().numpy(), 'b', label='cos(x)')"
      ]
    },
    {
      "cell_type": "markdown",
      "metadata": {
        "id": "u92eQeXdeNOT"
      },
      "source": [
        "6. Derive a função logística usando pytorch.\n",
        "\n",
        "$$f(x) = \\frac{1}{1 + e^{-x}}$$"
      ],
      "id": "u92eQeXdeNOT"
    },
    {
      "cell_type": "code",
      "execution_count": null,
      "metadata": {
        "id": "b4d299bd"
      },
      "outputs": [],
      "source": [
        "x = np.linspace(-10, 10, 1000) # Não mude o valor de x!\n",
        "x_torch = torch.from_numpy(x)\n",
        "\n",
        "# implemente\n",
        "x_torch.requires_grad_(True)\n",
        "f = 1 / (1 + torch.exp(-x_torch))\n",
        "v = torch.ones(x_torch.shape, dtype=torch.double)\n",
        "f.backward(v)"
      ],
      "id": "b4d299bd"
    },
    {
      "cell_type": "code",
      "execution_count": null,
      "metadata": {
        "id": "Vd2DxHxbeNOU"
      },
      "outputs": [],
      "source": [
        "# testes, não apagar\n",
        "y_test = 1.0/(1 + np.exp(-x))\n",
        "derivada_teste = y_test * (1 - y_test)\n",
        "assert_array_almost_equal(derivada_teste, x_torch.grad.numpy(), decimal=3)"
      ],
      "id": "Vd2DxHxbeNOU"
    },
    {
      "cell_type": "markdown",
      "metadata": {
        "id": "nOkegnX_eNOU"
      },
      "source": [
        "A operação *detach* permite quebrar a computação em várias partes. Em particular, isto é útil para aplicar a regra da cadeia. Suponha que $u = f(x)$ e $z = g(u)$, pela regra da cadeia, temos $\\frac{dz}{dx}$ = $\\frac{dz}{du}\\frac{du}{dx}$. Para calcular $\\frac{dz}{du}$, podemos primeiro separar $u$ da computação e, em seguida, chamar `z.backward()` para calcular o primeiro termo.\n",
        "\n",
        "Observe no caso abaixo como derivamos $u = x^2$. A resposta deve ser $2x$ para cada termo `[0, 1, 2, 3]`."
      ],
      "id": "nOkegnX_eNOU"
    },
    {
      "cell_type": "code",
      "execution_count": null,
      "metadata": {
        "id": "pOBoYtmseNOU",
        "colab": {
          "base_uri": "https://localhost:8080/"
        },
        "outputId": "7bc182b5-19f4-4d29-f93b-447556dd0fde"
      },
      "outputs": [
        {
          "output_type": "execute_result",
          "data": {
            "text/plain": [
              "tensor([0., 2., 4., 6.])"
            ]
          },
          "metadata": {},
          "execution_count": 50
        }
      ],
      "source": [
        "x = torch.arange(4, dtype =torch.float)\n",
        "x.requires_grad_(True)\n",
        "\n",
        "u = x * x\n",
        "jacobX = torch.ones(x.shape)\n",
        "u.backward(jacobX)\n",
        "x.grad"
      ],
      "id": "pOBoYtmseNOU"
    },
    {
      "cell_type": "markdown",
      "metadata": {
        "id": "fqrzNdjpeNOV"
      },
      "source": [
        "Agora vamos fazer $z = u^3$ e computar as derivadas intermediarias."
      ],
      "id": "fqrzNdjpeNOV"
    },
    {
      "cell_type": "code",
      "execution_count": null,
      "metadata": {
        "id": "e1QHvjsieNOV",
        "colab": {
          "base_uri": "https://localhost:8080/"
        },
        "outputId": "bfc2c387-fac7-421f-d214-2f90d4b1dd46"
      },
      "outputs": [
        {
          "output_type": "stream",
          "name": "stdout",
          "text": [
            "tensor([  0.,   1.,  64., 729.], grad_fn=<MulBackward0>)\n"
          ]
        },
        {
          "output_type": "execute_result",
          "data": {
            "text/plain": [
              "tensor([0., 2., 4., 6.])"
            ]
          },
          "metadata": {},
          "execution_count": 51
        }
      ],
      "source": [
        "x = torch.arange(4, dtype = torch.float)\n",
        "x.requires_grad_(True)\n",
        "\n",
        "u = x * x\n",
        "v = u.detach()  # u still keeps the computation graph\n",
        "v.requires_grad_(True)\n",
        "z = v * v * v\n",
        "\n",
        "print(z)\n",
        "\n",
        "jacobX = torch.ones(x.shape)\n",
        "u.backward(jacobX)\n",
        "x.grad"
      ],
      "id": "e1QHvjsieNOV"
    },
    {
      "cell_type": "markdown",
      "metadata": {
        "id": "hFkdndNZeNOV"
      },
      "source": [
        "Acima temos a derivada de $x^2$. Abaixo temos a derivada de $g(x^2)$."
      ],
      "id": "hFkdndNZeNOV"
    },
    {
      "cell_type": "code",
      "execution_count": null,
      "metadata": {
        "id": "r8lr0dy7eNOW",
        "colab": {
          "base_uri": "https://localhost:8080/"
        },
        "outputId": "af729048-a24c-4697-bbda-d584b485a5e3"
      },
      "outputs": [
        {
          "output_type": "execute_result",
          "data": {
            "text/plain": [
              "tensor([  0.,   3.,  48., 243.])"
            ]
          },
          "metadata": {},
          "execution_count": 52
        }
      ],
      "source": [
        "jacobV = torch.ones(v.shape)\n",
        "z.backward(jacobV)\n",
        "v.grad"
      ],
      "id": "r8lr0dy7eNOW"
    },
    {
      "cell_type": "markdown",
      "metadata": {
        "id": "HN0-MnYSeNOW"
      },
      "source": [
        "7. Agora, sendo $f(x) = 1 + x^2$ e $g(x) = 1 + 7  f(x)^4$. Vamos aplicar a regra da cadeia em pytorch"
      ],
      "id": "HN0-MnYSeNOW"
    },
    {
      "cell_type": "code",
      "execution_count": null,
      "metadata": {
        "id": "ysFCKFD_eNOX"
      },
      "outputs": [],
      "source": [
        "x = torch.arange(4, dtype = torch.float)\n",
        "\n",
        "# implemente a derivada de f(x) em função de x\n",
        "x.requires_grad_(True)\n",
        "jacobX = torch.ones(x.shape)\n",
        "\n",
        "f = 1 + x * x\n",
        "f.backward(jacobX)"
      ],
      "id": "ysFCKFD_eNOX"
    },
    {
      "cell_type": "code",
      "execution_count": null,
      "metadata": {
        "id": "PxBQ8YZ6eNOX"
      },
      "outputs": [],
      "source": [
        "# teste para x\n",
        "# Aqui pode ser meio confuso, mas o gradiente referente à derivada de\n",
        "# f(x) com relação a x, por exemplo, fica armazenada no tensor x, mais especificamente em x.grad\n",
        "assert_array_almost_equal([0, 2, 4, 6], x.grad.numpy())"
      ],
      "id": "PxBQ8YZ6eNOX"
    },
    {
      "cell_type": "code",
      "execution_count": null,
      "metadata": {
        "id": "spFaaW1yeNOX",
        "colab": {
          "base_uri": "https://localhost:8080/"
        },
        "outputId": "ed089458-3ef7-4fca-b06a-a1098c397e9e"
      },
      "outputs": [
        {
          "output_type": "execute_result",
          "data": {
            "text/plain": [
              "tensor([   28.,   224.,  3500., 28000.])"
            ]
          },
          "metadata": {},
          "execution_count": 55
        }
      ],
      "source": [
        "# implemente a derivada de g(x) em função de f(x)\n",
        "u = f.detach()\n",
        "u.requires_grad_(True)\n",
        "jacobU = torch.ones(u.shape)\n",
        "\n",
        "g = 1 + 7 * torch.pow(u, 4)\n",
        "g.backward(jacobU)\n",
        "\n",
        "u.grad"
      ],
      "id": "spFaaW1yeNOX"
    },
    {
      "cell_type": "code",
      "source": [
        "# Testando a sua solução (caso seja necessário, modifique o nome da sua variável auxiliar para 'u')\n",
        "# Note que agora o gradiente referente à derivada está presente na variável 'u', e não mais em 'x'\n",
        "assert_array_almost_equal([28, 224, 3500, 28000], u.grad.numpy())"
      ],
      "metadata": {
        "id": "-u7iI63SFKzU"
      },
      "id": "-u7iI63SFKzU",
      "execution_count": null,
      "outputs": []
    },
    {
      "cell_type": "markdown",
      "metadata": {
        "id": "My7R1U38eNOX"
      },
      "source": [
        "### Conjunto de Problemas 4: Mais Derivadas"
      ],
      "id": "My7R1U38eNOX"
    },
    {
      "cell_type": "markdown",
      "metadata": {
        "id": "oynEDx7zeNOY"
      },
      "source": [
        "Vamos brincar um pouco de derivadas dentro de funções. Dado dois números $x$ e $y$, implemente a função `log_exp`, que retorna:\n",
        "\n",
        "$$ f(x,y) = -\\log\\left(\\frac{e^x}{e^x+e^y}\\right)$$"
      ],
      "id": "oynEDx7zeNOY"
    },
    {
      "cell_type": "code",
      "execution_count": null,
      "metadata": {
        "id": "DfXmkIc7eNOY"
      },
      "outputs": [],
      "source": [
        "def log_exp(x, y):\n",
        "    # implemente aqui a sua solução\n",
        "    return -1 * torch.log(torch.exp(x) / (torch.exp(x) + torch.exp(y)))"
      ],
      "id": "DfXmkIc7eNOY"
    },
    {
      "cell_type": "markdown",
      "metadata": {
        "id": "5oDhz-apeNOY"
      },
      "source": [
        "1. Abaixo vamos testar o seu código com algumas entradas simples."
      ],
      "id": "5oDhz-apeNOY"
    },
    {
      "cell_type": "code",
      "execution_count": null,
      "metadata": {
        "id": "1RNk8XUHeNOY",
        "colab": {
          "base_uri": "https://localhost:8080/"
        },
        "outputId": "2c8c2c9c-d976-4196-b234-55125932a645"
      },
      "outputs": [
        {
          "output_type": "execute_result",
          "data": {
            "text/plain": [
              "tensor([1.3133])"
            ]
          },
          "metadata": {},
          "execution_count": 58
        }
      ],
      "source": [
        "x, y = torch.tensor([2.0]), torch.tensor([3.0])\n",
        "z = log_exp(x, y)\n",
        "z"
      ],
      "id": "1RNk8XUHeNOY"
    },
    {
      "cell_type": "code",
      "execution_count": null,
      "metadata": {
        "id": "txUIVOQeeNOY"
      },
      "outputs": [],
      "source": [
        "# Teste. Não apague\n",
        "assert_almost_equal(1.31326175, z.numpy())"
      ],
      "id": "txUIVOQeeNOY"
    },
    {
      "cell_type": "markdown",
      "metadata": {
        "id": "8s88vTx0eNOZ"
      },
      "source": [
        "2. A função a seguir computa $\\partial z/\\partial x$ e $\\partial z/\\partial y$ usando `autograd`."
      ],
      "id": "8s88vTx0eNOZ"
    },
    {
      "cell_type": "code",
      "execution_count": null,
      "metadata": {
        "id": "yu3HcNAKeNOZ"
      },
      "outputs": [],
      "source": [
        "# O argumento funcao_forward é uma função python. Será a sua log_exp.\n",
        "# A ideia aqui é deixar claro a ideia de forward e backward propagation, depois\n",
        "# de avaliar a função chamamos backward e temos as derivadas.\n",
        "def grad(funcao_forward, x, y):\n",
        "    x.requires_grad_(True)\n",
        "    y.requires_grad_(True)\n",
        "    z = funcao_forward(x, y)\n",
        "    z.backward()\n",
        "    return x.grad, y.grad"
      ],
      "id": "yu3HcNAKeNOZ"
    },
    {
      "cell_type": "markdown",
      "metadata": {
        "id": "zVqaKoq6eNOZ"
      },
      "source": [
        "Testando"
      ],
      "id": "zVqaKoq6eNOZ"
    },
    {
      "cell_type": "code",
      "execution_count": null,
      "metadata": {
        "id": "izUZIoBueNOZ"
      },
      "outputs": [],
      "source": [
        "x, y = torch.tensor([2.0], dtype = torch.double) ,torch.tensor([3.0], dtype = torch.double)\n",
        "dx, dy = grad(log_exp, x, y)"
      ],
      "id": "izUZIoBueNOZ"
    },
    {
      "cell_type": "code",
      "execution_count": null,
      "metadata": {
        "id": "2kiIdjZMeNOa"
      },
      "outputs": [],
      "source": [
        "assert_almost_equal(-0.7310586, dx.numpy())\n",
        "assert_almost_equal(0.7310586, dy.numpy())"
      ],
      "id": "2kiIdjZMeNOa"
    },
    {
      "cell_type": "markdown",
      "metadata": {
        "id": "9b-NWlkpeNOa"
      },
      "source": [
        "4. Agora teste com números maiores, algum problema?"
      ],
      "id": "9b-NWlkpeNOa"
    },
    {
      "cell_type": "code",
      "execution_count": null,
      "metadata": {
        "id": "lBKMNLureNOa",
        "colab": {
          "base_uri": "https://localhost:8080/"
        },
        "outputId": "7cc1f24d-a8b0-4583-be20-36d61def4beb"
      },
      "outputs": [
        {
          "output_type": "execute_result",
          "data": {
            "text/plain": [
              "(tensor([nan], dtype=torch.float64), tensor([nan], dtype=torch.float64))"
            ]
          },
          "metadata": {},
          "execution_count": 63
        }
      ],
      "source": [
        "x, y = torch.tensor([400.0]).double() ,torch.tensor([800.0]).double()\n",
        "grad(log_exp, x, y)"
      ],
      "id": "lBKMNLureNOa"
    },
    {
      "cell_type": "markdown",
      "metadata": {
        "id": "qOG2yCPceNOa"
      },
      "source": [
        "5. Pense um pouco sobre o motivo do erro acima. Usando as propriedade de logaritmos, é possível fazer uma função mais estável. Abaixo segue a implementação da mesma. O problema aqui é que o exponencial \"explode\" quando $x$ ou $y$ são muito grandes. Este [link](http://www.wolframalpha.com/input/?i=log[e%5Ex+%2F+[e%5Ex+%2B+e%5Ey]]) pode ajudar."
      ],
      "id": "qOG2yCPceNOa"
    },
    {
      "cell_type": "code",
      "execution_count": null,
      "metadata": {
        "id": "gnas2cVQeNOa"
      },
      "outputs": [],
      "source": [
        "x, y = torch.tensor([400.0], dtype = torch.double), torch.tensor([800.0], dtype = torch.double)\n",
        "def stable_log_exp(x, y):\n",
        "    return torch.log(1 + torch.exp(y-x))\n",
        "\n",
        "dx, dy = grad(stable_log_exp, x, y)"
      ],
      "id": "gnas2cVQeNOa"
    },
    {
      "cell_type": "code",
      "execution_count": null,
      "metadata": {
        "colab": {
          "base_uri": "https://localhost:8080/"
        },
        "id": "omq3r5Z5eNOa",
        "outputId": "b1a14c03-3d01-43e3-9a6e-9f5c2c4ab9f6"
      },
      "outputs": [
        {
          "output_type": "execute_result",
          "data": {
            "text/plain": [
              "tensor([400.], dtype=torch.float64, grad_fn=<LogBackward0>)"
            ]
          },
          "metadata": {},
          "execution_count": 65
        }
      ],
      "source": [
        "stable_log_exp(x, y)"
      ],
      "id": "omq3r5Z5eNOa"
    },
    {
      "cell_type": "code",
      "execution_count": null,
      "metadata": {
        "id": "pdzogMVCeNOa"
      },
      "outputs": [],
      "source": [
        "# Teste. Não apague\n",
        "assert_equal(-1, dx.numpy())\n",
        "assert_equal(1, dy.numpy())"
      ],
      "id": "pdzogMVCeNOa"
    },
    {
      "cell_type": "markdown",
      "metadata": {
        "id": "P2G3bY0deNOa"
      },
      "source": [
        "O exemplo acima mostra um pouco de problemas de estabilidade númerica. Às vezes é melhor usar versões alternativas de funções. Isto vai ocorrer quando você ver vários `nans` na sua frente :-) Claro, estamos assumindo que existe uma outra função equivalente que é mais estável para o computador."
      ],
      "id": "P2G3bY0deNOa"
    }
  ],
  "metadata": {
    "colab": {
      "provenance": []
    },
    "kernelspec": {
      "display_name": "Python 3 (ipykernel)",
      "language": "python",
      "name": "python3"
    },
    "language_info": {
      "codemirror_mode": {
        "name": "ipython",
        "version": 3
      },
      "file_extension": ".py",
      "mimetype": "text/x-python",
      "name": "python",
      "nbconvert_exporter": "python",
      "pygments_lexer": "ipython3",
      "version": "3.10.2"
    }
  },
  "nbformat": 4,
  "nbformat_minor": 5
}