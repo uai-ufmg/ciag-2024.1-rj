{
  "cells": [
    {
      "cell_type": "markdown",
      "metadata": {
        "id": "zi5WAN9NSQ8H"
      },
      "source": [
        "## Colocando os Conhecimentos em Prática"
      ]
    },
    {
      "cell_type": "markdown",
      "metadata": {
        "id": "UOETNJnnSci4"
      },
      "source": [
        "Na aula de hoje, nós aplicaremos tudo o que foi visto ao longo dessa semana em uma tarefa real (e difícil): a classificação da litologia de um poço. Aqui, deixaremos todo o código para ser feito por vocês, desde o processamento dos dados, até a avaliação do modelo implementado."
      ]
    },
    {
      "cell_type": "markdown",
      "metadata": {
        "id": "1o00xIZLAzNC"
      },
      "source": [
        "Abaixo, estamos apenas baixando a base de dados que utilizaremos: a Force.\n",
        "\n",
        "A base de dados FORCE (Forum for Reservoir Characterization and Evaluation) é um repositório aberto e colaborativo que contém dados de poços sísmicos, frequentemente utilizados para pesquisas em geociências, aprendizado de máquina e exploração de recursos naturais. A base inclui informações como logs de poços, interpretções sísmicas, mapas estruturais, além de dados associados a formações geológicas. É amplamente empregada em tarefas como segmentação, detecção de falhas e análise de reservatórios.\n",
        "\n",
        "Acesse a base FORCE através do link: https://github.com/bolgebrygg/Force-2020-Machine-Learning-competition"
      ]
    },
    {
      "cell_type": "code",
      "execution_count": 1,
      "metadata": {
        "colab": {
          "base_uri": "https://localhost:8080/"
        },
        "id": "eZqVONrgSXjZ",
        "outputId": "cd97125d-0954-4bb9-fa1c-edd54ed561b8"
      },
      "outputs": [
        {
          "name": "stdout",
          "output_type": "stream",
          "text": [
            "--2025-01-02 16:22:37--  https://raw.githubusercontent.com/bolgebrygg/Force-2020-Machine-Learning-competition/refs/heads/master/lithology_competition/data/hidden_test.csv\n",
            "Resolving raw.githubusercontent.com (raw.githubusercontent.com)... 185.199.108.133, 185.199.109.133, 185.199.110.133, ...\n",
            "Connecting to raw.githubusercontent.com (raw.githubusercontent.com)|185.199.108.133|:443... connected.\n",
            "HTTP request sent, awaiting response... 200 OK\n",
            "Length: 30292497 (29M) [text/plain]\n",
            "Saving to: ‘hidden_test.csv’\n",
            "\n",
            "hidden_test.csv     100%[===================>]  28.89M   148MB/s    in 0.2s    \n",
            "\n",
            "2025-01-02 16:22:38 (148 MB/s) - ‘hidden_test.csv’ saved [30292497/30292497]\n",
            "\n",
            "--2025-01-02 16:22:38--  https://raw.githubusercontent.com/bolgebrygg/Force-2020-Machine-Learning-competition/refs/heads/master/lithology_competition/data/leaderboard_test_features.csv\n",
            "Resolving raw.githubusercontent.com (raw.githubusercontent.com)... 185.199.111.133, 185.199.108.133, 185.199.110.133, ...\n",
            "Connecting to raw.githubusercontent.com (raw.githubusercontent.com)|185.199.111.133|:443... connected.\n",
            "HTTP request sent, awaiting response... 200 OK\n",
            "Length: 31688732 (30M) [text/plain]\n",
            "Saving to: ‘leaderboard_test_features.csv’\n",
            "\n",
            "leaderboard_test_fe 100%[===================>]  30.22M  83.6MB/s    in 0.4s    \n",
            "\n",
            "2025-01-02 16:22:40 (83.6 MB/s) - ‘leaderboard_test_features.csv’ saved [31688732/31688732]\n",
            "\n",
            "--2025-01-02 16:22:40--  https://raw.githubusercontent.com/bolgebrygg/Force-2020-Machine-Learning-competition/refs/heads/master/lithology_competition/data/leaderboard_test_target.csv\n",
            "Resolving raw.githubusercontent.com (raw.githubusercontent.com)... 185.199.111.133, 185.199.108.133, 185.199.110.133, ...\n",
            "Connecting to raw.githubusercontent.com (raw.githubusercontent.com)|185.199.111.133|:443... connected.\n",
            "HTTP request sent, awaiting response... 200 OK\n",
            "Length: 3694123 (3.5M) [text/plain]\n",
            "Saving to: ‘leaderboard_test_target.csv’\n",
            "\n",
            "leaderboard_test_ta 100%[===================>]   3.52M  --.-KB/s    in 0.06s   \n",
            "\n",
            "2025-01-02 16:22:40 (61.3 MB/s) - ‘leaderboard_test_target.csv’ saved [3694123/3694123]\n",
            "\n",
            "--2025-01-02 16:22:40--  https://raw.githubusercontent.com/bolgebrygg/Force-2020-Machine-Learning-competition/refs/heads/master/lithology_competition/data/train.zip\n",
            "Resolving raw.githubusercontent.com (raw.githubusercontent.com)... 185.199.108.133, 185.199.109.133, 185.199.110.133, ...\n",
            "Connecting to raw.githubusercontent.com (raw.githubusercontent.com)|185.199.108.133|:443... connected.\n",
            "HTTP request sent, awaiting response... 200 OK\n",
            "Length: 91653972 (87M) [application/zip]\n",
            "Saving to: ‘train.zip’\n",
            "\n",
            "train.zip           100%[===================>]  87.41M   105MB/s    in 0.8s    \n",
            "\n",
            "2025-01-02 16:22:44 (105 MB/s) - ‘train.zip’ saved [91653972/91653972]\n",
            "\n"
          ]
        }
      ],
      "source": [
        "!wget -nc https://raw.githubusercontent.com/bolgebrygg/Force-2020-Machine-Learning-competition/refs/heads/master/lithology_competition/data/hidden_test.csv\n",
        "!wget -nc https://raw.githubusercontent.com/bolgebrygg/Force-2020-Machine-Learning-competition/refs/heads/master/lithology_competition/data/leaderboard_test_features.csv\n",
        "!wget -nc https://raw.githubusercontent.com/bolgebrygg/Force-2020-Machine-Learning-competition/refs/heads/master/lithology_competition/data/leaderboard_test_target.csv\n",
        "!wget -nc https://raw.githubusercontent.com/bolgebrygg/Force-2020-Machine-Learning-competition/refs/heads/master/lithology_competition/data/train.zip"
      ]
    },
    {
      "cell_type": "code",
      "execution_count": 2,
      "metadata": {
        "colab": {
          "base_uri": "https://localhost:8080/"
        },
        "id": "B3s9TyBUVHLb",
        "outputId": "a8fdd0ff-0fb6-44c3-e306-f3fef52cd835"
      },
      "outputs": [
        {
          "name": "stdout",
          "output_type": "stream",
          "text": [
            "Archive:  train.zip\n",
            "  inflating: train.csv               \n"
          ]
        }
      ],
      "source": [
        "!unzip -o train.zip"
      ]
    },
    {
      "cell_type": "markdown",
      "metadata": {
        "id": "RB1VI4iaBiPN"
      },
      "source": [
        "Agora é com você! Construa uma Support Vector Machine, usando pytorch, para mapear cada ponto do poço para a litologia correta.\n",
        "\n",
        "> Dica: Considere fazer suas predições em uma janela deslizante.\n",
        "\n",
        "Abaixo está um passo a passo do que deve ser feito.\n",
        "\n",
        "1. Leia os dados baixados e extraídos\n",
        "> Dica: use a biblioteca pandas. Exemplo: pd.read_csv(\"train.csv\", sep=';')\n",
        "2. Divida os poços em janelas da profundidade que quiser.\n",
        "3. Construa sua base de treino e teste, bem como o dataloder para elas.\n",
        "4. Construa seu SVM usando pytorch.\n",
        "5. Treine o modelo.\n",
        "6. Extraia as previsões em seu dado de teste para cada janela, em junte-as para formar a segmentação completa do poço.\n",
        "7. Meça a qualidade de seu algoritmo com métricas a sua escolha.\n",
        "\n",
        "\n",
        "Não se preocupe se os resultados não forem muito bons. Dentro de algumas semanas você verá técnicas novas e mais modernas que serão muito melhores para esse problema!"
      ]
    }
  ],
  "metadata": {
    "colab": {
      "provenance": []
    },
    "kernelspec": {
      "display_name": "Python 3",
      "name": "python3"
    },
    "language_info": {
      "name": "python"
    }
  },
  "nbformat": 4,
  "nbformat_minor": 0
}
